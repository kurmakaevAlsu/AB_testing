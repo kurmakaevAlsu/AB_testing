{
 "cells": [
  {
   "cell_type": "code",
   "execution_count": 1,
   "id": "ac14b3a4-f9a8-4e66-a381-ffc08096fc04",
   "metadata": {},
   "outputs": [
    {
     "name": "stderr",
     "output_type": "stream",
     "text": [
      "/Users/alsukurmakaeva/miniconda3/lib/python3.9/site-packages/pandas/core/arrays/masked.py:60: UserWarning: Pandas requires version '1.3.6' or newer of 'bottleneck' (version '1.3.5' currently installed).\n",
      "  from pandas.core import (\n"
     ]
    }
   ],
   "source": [
    "import numpy as np\n",
    "import scipy\n",
    "from tqdm import tqdm_notebook as tqdm\n",
    "\n",
    "import scipy.stats as stats\n",
    "import statsmodels\n",
    "import statsmodels.sandbox.stats.multicomp\n",
    "import pandas as pd\n",
    "from statsmodels.stats.weightstats import ztest\n",
    "from scipy.stats import kstest, mannwhitneyu, ttest_ind, uniform\n",
    "\n",
    "import matplotlib.pyplot as plt\n",
    "import seaborn as sns\n",
    "\n",
    "import hashlib\n",
    "from base64 import b64encode\n",
    "import collections\n",
    "\n",
    "\n",
    "import warnings\n",
    "warnings.filterwarnings('ignore')"
   ]
  },
  {
   "cell_type": "code",
   "execution_count": 2,
   "id": "e9080e78-6571-4a48-aadc-f59b547fac3d",
   "metadata": {},
   "outputs": [],
   "source": [
    "alpha = 0.05\n",
    "n_iter = 1000 "
   ]
  },
  {
   "cell_type": "markdown",
   "id": "3911b585-410d-45fb-9ad8-baa0ec6e35f7",
   "metadata": {
    "tags": []
   },
   "source": [
    "# Fuctions"
   ]
  },
  {
   "cell_type": "code",
   "execution_count": 3,
   "id": "7f53411d-1d19-46f5-96cf-b918f80674c4",
   "metadata": {},
   "outputs": [],
   "source": [
    "def salt_generator(salt=None):\n",
    "    import os\n",
    "    from base64 import b64encode # кодирует байтоподобный объект с помощью Base64 и возвращает закодированную байтовую строку.\n",
    "    salt = os.urandom(8)\n",
    "\n",
    "    return b64encode(salt).decode('ascii')\n",
    "\n",
    "def groups_splitter(df, columns, user_salt=None):\n",
    "\n",
    "    if user_salt == None:\n",
    "        salt = salt_generator()\n",
    "    else:\n",
    "        salt = user_salt\n",
    "\n",
    "    df['hash'] = ((df['user_id'].astype(str)) + '#' + salt).apply(lambda x: hashlib.sha256(x.encode('utf-8')).hexdigest())\n",
    "\n",
    "    df['group'] = ((df['hash'].str.slice(start=-6).apply(int, base=16) % 2).map(lambda x: 'A' if x == 0 else 'B'))\n",
    "\n",
    "    return df[columns].drop_duplicates()"
   ]
  },
  {
   "cell_type": "code",
   "execution_count": 4,
   "id": "c1d4d90d-7fd5-46cb-a37e-4222a5fd0eeb",
   "metadata": {},
   "outputs": [],
   "source": [
    "def calc_iteration(df, test_type='ttest', effect=0.0, value_column='cart_added_cnt', log_transformed = False,):\n",
    "    new_df = groups_splitter(df.copy(), columns=['user_id', 'group', value_column])\n",
    "\n",
    "    group_a = new_df[new_df['group'] == 'A'][value_column].values\n",
    "    group_b = new_df[new_df['group'] == 'B'][value_column].values\n",
    "\n",
    "    if log_transformed and effect != 0:\n",
    "        group_b += np.log1p(effect)\n",
    "    else:\n",
    "        group_b = group_b * (1. + effect)\n",
    "\n",
    "    if test_type == 'ttest':\n",
    "        return ttest_ind(group_a, group_b).pvalue\n",
    "\n",
    "    elif test_type == 'mannwhitneyu':\n",
    "        return mannwhitneyu(group_a, group_b).pvalue\n"
   ]
  },
  {
   "cell_type": "code",
   "execution_count": 5,
   "id": "bd530d7d-b5fc-4125-a217-a0237297ebb3",
   "metadata": {},
   "outputs": [],
   "source": [
    "def calc_correctness(df, test_type='ttest', value_column='cart_added_cnt',n_iters=n_iter):\n",
    "    results = []\n",
    "\n",
    "    for i in tqdm(range(n_iters), desc='Оценка корректности'):\n",
    "        result = calc_iteration(df, test_type, 0.0, value_column, False)  \n",
    "        results.append(result < alpha)\n",
    "\n",
    "    test_correctness = collections.Counter(results)\n",
    "\n",
    "    return (1 - test_correctness[1] / (test_correctness[1] + test_correctness[0])) * 100\n",
    "\n",
    "\n",
    "\n",
    "def calc_power(df, test_type='ttest', effect=0.005, value_column='cart_added_cnt', n_iters=n_iter, log_transformed=False):\n",
    "    results = []\n",
    "\n",
    "    for i in tqdm(range(n_iters), desc='Оценка мощности'):\n",
    "        result = calc_iteration(df, test_type, effect, value_column, log_transformed) \n",
    "        results.append(result < alpha)\n",
    "\n",
    "    results = collections.Counter(results)\n",
    "\n",
    "    return results[1] / (results[1] + results[0]) * 100\n",
    "\n"
   ]
  },
  {
   "cell_type": "code",
   "execution_count": 6,
   "id": "99b40f8e-5cc5-4241-b5b4-62bb8b5f2806",
   "metadata": {},
   "outputs": [],
   "source": [
    "def run_statistical_tests(df, test_type, effect=0.005, value_column='cart_added_cnt', n_iters=n_iter, log_transformed=False):\n",
    "    correctness = calc_correctness(df, test_type, value_column, n_iters)\n",
    "    print(f'Корректность теста: {correctness:.2f}%')\n",
    "\n",
    "    power = calc_power(df, test_type, effect, value_column, n_iters, log_transformed)\n",
    "    print(f'Мощность теста для {100 * effect:.1f}% эффекта: {power:.2f}%')\n",
    "\n",
    "    p_values = []\n",
    "    for i in tqdm(range(n_iters), desc='Оценка распределения p-value'):\n",
    "        p_value = calc_iteration(df, test_type, 0.0, value_column)\n",
    "        p_values.append(p_value)\n",
    "    \n",
    "    _, p_value = kstest(p_values, uniform(loc=0.0, scale=1.0).cdf)\n",
    "\n",
    "    if p_value < 0.05:\n",
    "        print(f'p_value = {p_value:.2f} - неравномерное распределение p-value у теста {test_type}')\n",
    "    else:\n",
    "        print(f'p_value = {p_value:.2f} - равномерное распределение p-value у теста {test_type}')\n",
    "\n",
    "    sns.histplot(p_values, bins=10, color='purple', kde=True)\n",
    "\n"
   ]
  },
  {
   "cell_type": "code",
   "execution_count": null,
   "id": "9c2643e2-8079-4378-9021-d0aec830ab55",
   "metadata": {},
   "outputs": [],
   "source": []
  },
  {
   "cell_type": "markdown",
   "id": "2b1f71e9-0cb2-4bd8-a985-f670fc043dcf",
   "metadata": {
    "tags": []
   },
   "source": [
    "# Подготовка данных"
   ]
  },
  {
   "cell_type": "code",
   "execution_count": 7,
   "id": "5a3ea5b8-857a-4892-a3a7-6e4c8f8add71",
   "metadata": {},
   "outputs": [],
   "source": [
    "shop_metrics_new = pd.read_csv('shop_df_metrics_dec.csv').drop(columns='Unnamed: 0')\n",
    "shop_metrics_old = pd.read_csv('shop_df_metrics_sept.csv').drop(columns='Unnamed: 0')\n",
    "shop_users_info = pd.read_csv('shop_df_users.csv').drop(columns='Unnamed: 0')"
   ]
  },
  {
   "cell_type": "markdown",
   "id": "9eca0e0d-e990-4af4-b0ee-3ab562549172",
   "metadata": {},
   "source": [
    "Метрики:\n",
    "   - is_viewed - айтем товара просмотрен\n",
    "   - products_viewed_cnt - количество уникальных просмотренных айтемов\n",
    "   - price_sum - суммарная цена товаров\n",
    "   - is_cart_added - товар добавлен в корзину\n",
    "   - is_purchased - товар куплен\n",
    "   - cart_added_cnt - количество товаров, добавленных в корзину\n",
    "   - purchased_cnt - количество купленных товаров"
   ]
  },
  {
   "cell_type": "code",
   "execution_count": 8,
   "id": "47da1e7c-248c-4ef6-a7b0-fb6ccd015370",
   "metadata": {},
   "outputs": [
    {
     "data": {
      "text/plain": [
       "<Axes: xlabel='cart_added_cnt', ylabel='Count'>"
      ]
     },
     "execution_count": 8,
     "metadata": {},
     "output_type": "execute_result"
    },
    {
     "data": {
      "image/png": "[encoded data removed]",
      "text/plain": [
       "<Figure size 640x480 with 1 Axes>"
      ]
     },
     "metadata": {},
     "output_type": "display_data"
    }
   ],
   "source": [
    "sns.histplot(data=shop_metrics_new, x='cart_added_cnt', bins=100, color='green')"
   ]
  },
  {
   "cell_type": "markdown",
   "id": "2ce57c88-ac7e-4fff-9d9d-c03fafde48cb",
   "metadata": {},
   "source": [
    "**Выводы**\n",
    "\n",
    "- Исходя из графика распределения значений метрики cart_added_cnt мы видим, что есть сильный перекос в сторону нулевых значений"
   ]
  },
  {
   "cell_type": "code",
   "execution_count": 9,
   "id": "36fda24b-2e71-4f46-b15f-92da4c6a6296",
   "metadata": {},
   "outputs": [
    {
     "data": {
      "text/html": [
       "<div>\n",
       "<style scoped>\n",
       "    .dataframe tbody tr th:only-of-type {\n",
       "        vertical-align: middle;\n",
       "    }\n",
       "\n",
       "    .dataframe tbody tr th {\n",
       "        vertical-align: top;\n",
       "    }\n",
       "\n",
       "    .dataframe thead th {\n",
       "        text-align: right;\n",
       "    }\n",
       "</style>\n",
       "<table border=\"1\" class=\"dataframe\">\n",
       "  <thead>\n",
       "    <tr style=\"text-align: right;\">\n",
       "      <th></th>\n",
       "      <th>count</th>\n",
       "      <th>mean</th>\n",
       "      <th>std</th>\n",
       "      <th>min</th>\n",
       "      <th>25%</th>\n",
       "      <th>50%</th>\n",
       "      <th>75%</th>\n",
       "      <th>max</th>\n",
       "    </tr>\n",
       "    <tr>\n",
       "      <th>group</th>\n",
       "      <th></th>\n",
       "      <th></th>\n",
       "      <th></th>\n",
       "      <th></th>\n",
       "      <th></th>\n",
       "      <th></th>\n",
       "      <th></th>\n",
       "      <th></th>\n",
       "    </tr>\n",
       "  </thead>\n",
       "  <tbody>\n",
       "    <tr>\n",
       "      <th>A</th>\n",
       "      <td>111321.0</td>\n",
       "      <td>0.135042</td>\n",
       "      <td>0.616917</td>\n",
       "      <td>0.0</td>\n",
       "      <td>0.0</td>\n",
       "      <td>0.0</td>\n",
       "      <td>0.0</td>\n",
       "      <td>61.0</td>\n",
       "    </tr>\n",
       "    <tr>\n",
       "      <th>B</th>\n",
       "      <td>111200.0</td>\n",
       "      <td>0.138552</td>\n",
       "      <td>0.651705</td>\n",
       "      <td>0.0</td>\n",
       "      <td>0.0</td>\n",
       "      <td>0.0</td>\n",
       "      <td>0.0</td>\n",
       "      <td>75.0</td>\n",
       "    </tr>\n",
       "  </tbody>\n",
       "</table>\n",
       "</div>"
      ],
      "text/plain": [
       "          count      mean       std  min  25%  50%  75%   max\n",
       "group                                                        \n",
       "A      111321.0  0.135042  0.616917  0.0  0.0  0.0  0.0  61.0\n",
       "B      111200.0  0.138552  0.651705  0.0  0.0  0.0  0.0  75.0"
      ]
     },
     "execution_count": 9,
     "metadata": {},
     "output_type": "execute_result"
    }
   ],
   "source": [
    "shop_metrics_new.groupby('group')['cart_added_cnt'].describe()"
   ]
  },
  {
   "cell_type": "code",
   "execution_count": 10,
   "id": "9d4ab8a2-cfce-4731-840f-14c97385eaef",
   "metadata": {},
   "outputs": [
    {
     "data": {
      "text/plain": [
       "6.0"
      ]
     },
     "execution_count": 10,
     "metadata": {},
     "output_type": "execute_result"
    }
   ],
   "source": [
    "np.percentile(shop_metrics_new['cart_added_cnt'], 99.9)"
   ]
  },
  {
   "cell_type": "code",
   "execution_count": 11,
   "id": "24ef46ac-ff07-46cd-a9a5-cafe5be85921",
   "metadata": {},
   "outputs": [
    {
     "data": {
      "text/plain": [
       "22445"
      ]
     },
     "execution_count": 11,
     "metadata": {},
     "output_type": "execute_result"
    }
   ],
   "source": [
    "shop_metrics_new[shop_metrics_new['cart_added_cnt'] > 0]['user_id'].count()"
   ]
  },
  {
   "cell_type": "markdown",
   "id": "2a13df56-5036-43b6-b6a2-5bca3f95564e",
   "metadata": {},
   "source": [
    "## 1. Применить ранговую трансформацию (потом t-test) и сравнить с результатами по Манну-Уитни на:\n",
    "- метрике cart_added_cnt (5 баллов)"
   ]
  },
  {
   "cell_type": "code",
   "execution_count": 12,
   "id": "ae6c90ac-9676-42e9-9ab0-7232478d78d5",
   "metadata": {},
   "outputs": [
    {
     "name": "stdout",
     "output_type": "stream",
     "text": [
      "t-тест метрике cart_added_cnt\n"
     ]
    },
    {
     "data": {
      "application/vnd.jupyter.widget-view+json": {
       "model_id": "3ca03f49df1f478190149720a988ee9d",
       "version_major": 2,
       "version_minor": 0
      },
      "text/plain": [
       "Оценка корректности:   0%|          | 0/1000 [00:00<?, ?it/s]"
      ]
     },
     "metadata": {},
     "output_type": "display_data"
    },
    {
     "name": "stdout",
     "output_type": "stream",
     "text": [
      "Корректность теста: 95.30%\n"
     ]
    },
    {
     "data": {
      "application/vnd.jupyter.widget-view+json": {
       "model_id": "88b58732275c4d499a5df2c9031051ee",
       "version_major": 2,
       "version_minor": 0
      },
      "text/plain": [
       "Оценка мощности:   0%|          | 0/1000 [00:00<?, ?it/s]"
      ]
     },
     "metadata": {},
     "output_type": "display_data"
    },
    {
     "name": "stdout",
     "output_type": "stream",
     "text": [
      "Мощность теста для 0.5% эффекта: 4.70%\n"
     ]
    },
    {
     "data": {
      "application/vnd.jupyter.widget-view+json": {
       "model_id": "e77adaccc5e144ef9f70ba51d72ed70c",
       "version_major": 2,
       "version_minor": 0
      },
      "text/plain": [
       "Оценка распределения p-value:   0%|          | 0/1000 [00:00<?, ?it/s]"
      ]
     },
     "metadata": {},
     "output_type": "display_data"
    },
    {
     "name": "stdout",
     "output_type": "stream",
     "text": [
      "p_value = 0.11 - равномерное распределение p-value у теста ttest\n"
     ]
    },
    {
     "data": {
      "image/png": "[encoded data removed]",
      "text/plain": [
       "<Figure size 640x480 with 1 Axes>"
      ]
     },
     "metadata": {},
     "output_type": "display_data"
    }
   ],
   "source": [
    "print('t-тест метрике cart_added_cnt')\n",
    "run_statistical_tests(shop_metrics_new, test_type='ttest', value_column='cart_added_cnt')\n",
    "\n"
   ]
  },
  {
   "cell_type": "code",
   "execution_count": 13,
   "id": "9af09d5f-3d55-48b0-adcf-64023b94e598",
   "metadata": {},
   "outputs": [
    {
     "name": "stdout",
     "output_type": "stream",
     "text": [
      "Тест Манна-Уитни на обычной метрике cart_added_cnt:\n"
     ]
    },
    {
     "data": {
      "application/vnd.jupyter.widget-view+json": {
       "model_id": "31cbeca985724f948061f58efca9a366",
       "version_major": 2,
       "version_minor": 0
      },
      "text/plain": [
       "Оценка корректности:   0%|          | 0/1000 [00:00<?, ?it/s]"
      ]
     },
     "metadata": {},
     "output_type": "display_data"
    },
    {
     "name": "stdout",
     "output_type": "stream",
     "text": [
      "Корректность теста: 94.90%\n"
     ]
    },
    {
     "data": {
      "application/vnd.jupyter.widget-view+json": {
       "model_id": "756fdceb4577405b81cd7f1f2833821c",
       "version_major": 2,
       "version_minor": 0
      },
      "text/plain": [
       "Оценка мощности:   0%|          | 0/1000 [00:00<?, ?it/s]"
      ]
     },
     "metadata": {},
     "output_type": "display_data"
    },
    {
     "name": "stdout",
     "output_type": "stream",
     "text": [
      "Мощность теста для 0.5% эффекта: 100.00%\n"
     ]
    },
    {
     "data": {
      "application/vnd.jupyter.widget-view+json": {
       "model_id": "f64558e9a6044f64b96bc2ca2f9a782f",
       "version_major": 2,
       "version_minor": 0
      },
      "text/plain": [
       "Оценка распределения p-value:   0%|          | 0/1000 [00:00<?, ?it/s]"
      ]
     },
     "metadata": {},
     "output_type": "display_data"
    },
    {
     "name": "stdout",
     "output_type": "stream",
     "text": [
      "p_value = 0.33 - равномерное распределение p-value у теста mannwhitneyu\n"
     ]
    },
    {
     "data": {
      "image/png": "[encoded data removed]",
      "text/plain": [
       "<Figure size 640x480 with 1 Axes>"
      ]
     },
     "metadata": {},
     "output_type": "display_data"
    }
   ],
   "source": [
    "print('Тест Манна-Уитни на обычной метрике cart_added_cnt:')\n",
    "run_statistical_tests(shop_metrics_new, test_type='mannwhitneyu', value_column='cart_added_cnt')\n",
    "\n"
   ]
  },
  {
   "cell_type": "code",
   "execution_count": 14,
   "id": "3c9632d2-8dfe-4fe7-982c-2924bdc16428",
   "metadata": {},
   "outputs": [],
   "source": [
    "def rank_transformation(df, metric):\n",
    "    df = df.copy()\n",
    "    df['rank'] = df[metric].rank()\n",
    "    return df\n"
   ]
  },
  {
   "cell_type": "code",
   "execution_count": 15,
   "id": "79683c93-5076-42f4-ac3f-434cca019b6a",
   "metadata": {},
   "outputs": [
    {
     "data": {
      "text/html": [
       "<div>\n",
       "<style scoped>\n",
       "    .dataframe tbody tr th:only-of-type {\n",
       "        vertical-align: middle;\n",
       "    }\n",
       "\n",
       "    .dataframe tbody tr th {\n",
       "        vertical-align: top;\n",
       "    }\n",
       "\n",
       "    .dataframe thead th {\n",
       "        text-align: right;\n",
       "    }\n",
       "</style>\n",
       "<table border=\"1\" class=\"dataframe\">\n",
       "  <thead>\n",
       "    <tr style=\"text-align: right;\">\n",
       "      <th></th>\n",
       "      <th>user_id</th>\n",
       "      <th>group</th>\n",
       "      <th>is_viewed</th>\n",
       "      <th>products_viewed_cnt</th>\n",
       "      <th>price_sum</th>\n",
       "      <th>is_cart_added</th>\n",
       "      <th>is_purchased</th>\n",
       "      <th>cart_added_cnt</th>\n",
       "      <th>purchased_cnt</th>\n",
       "      <th>rank</th>\n",
       "    </tr>\n",
       "  </thead>\n",
       "  <tbody>\n",
       "    <tr>\n",
       "      <th>0</th>\n",
       "      <td>1515915625353230683</td>\n",
       "      <td>A</td>\n",
       "      <td>1</td>\n",
       "      <td>1</td>\n",
       "      <td>339.79</td>\n",
       "      <td>0.0</td>\n",
       "      <td>0.0</td>\n",
       "      <td>0</td>\n",
       "      <td>0</td>\n",
       "      <td>100038.5</td>\n",
       "    </tr>\n",
       "    <tr>\n",
       "      <th>1</th>\n",
       "      <td>1515915625353234047</td>\n",
       "      <td>A</td>\n",
       "      <td>1</td>\n",
       "      <td>9</td>\n",
       "      <td>861.86</td>\n",
       "      <td>0.0</td>\n",
       "      <td>0.0</td>\n",
       "      <td>0</td>\n",
       "      <td>0</td>\n",
       "      <td>100038.5</td>\n",
       "    </tr>\n",
       "    <tr>\n",
       "      <th>2</th>\n",
       "      <td>1515915625353236157</td>\n",
       "      <td>A</td>\n",
       "      <td>1</td>\n",
       "      <td>4</td>\n",
       "      <td>179.60</td>\n",
       "      <td>0.0</td>\n",
       "      <td>0.0</td>\n",
       "      <td>0</td>\n",
       "      <td>0</td>\n",
       "      <td>100038.5</td>\n",
       "    </tr>\n",
       "    <tr>\n",
       "      <th>3</th>\n",
       "      <td>1515915625353294441</td>\n",
       "      <td>B</td>\n",
       "      <td>1</td>\n",
       "      <td>28</td>\n",
       "      <td>4283.04</td>\n",
       "      <td>0.0</td>\n",
       "      <td>0.0</td>\n",
       "      <td>0</td>\n",
       "      <td>0</td>\n",
       "      <td>100038.5</td>\n",
       "    </tr>\n",
       "    <tr>\n",
       "      <th>4</th>\n",
       "      <td>1515915625353386199</td>\n",
       "      <td>B</td>\n",
       "      <td>1</td>\n",
       "      <td>1</td>\n",
       "      <td>20.98</td>\n",
       "      <td>0.0</td>\n",
       "      <td>0.0</td>\n",
       "      <td>0</td>\n",
       "      <td>0</td>\n",
       "      <td>100038.5</td>\n",
       "    </tr>\n",
       "    <tr>\n",
       "      <th>...</th>\n",
       "      <td>...</td>\n",
       "      <td>...</td>\n",
       "      <td>...</td>\n",
       "      <td>...</td>\n",
       "      <td>...</td>\n",
       "      <td>...</td>\n",
       "      <td>...</td>\n",
       "      <td>...</td>\n",
       "      <td>...</td>\n",
       "      <td>...</td>\n",
       "    </tr>\n",
       "    <tr>\n",
       "      <th>222516</th>\n",
       "      <td>1515915625611023671</td>\n",
       "      <td>B</td>\n",
       "      <td>1</td>\n",
       "      <td>1</td>\n",
       "      <td>32.22</td>\n",
       "      <td>0.0</td>\n",
       "      <td>0.0</td>\n",
       "      <td>0</td>\n",
       "      <td>0</td>\n",
       "      <td>100038.5</td>\n",
       "    </tr>\n",
       "    <tr>\n",
       "      <th>222517</th>\n",
       "      <td>1515915625611023730</td>\n",
       "      <td>B</td>\n",
       "      <td>1</td>\n",
       "      <td>1</td>\n",
       "      <td>219.94</td>\n",
       "      <td>0.0</td>\n",
       "      <td>0.0</td>\n",
       "      <td>0</td>\n",
       "      <td>0</td>\n",
       "      <td>100038.5</td>\n",
       "    </tr>\n",
       "    <tr>\n",
       "      <th>222518</th>\n",
       "      <td>1515915625611024014</td>\n",
       "      <td>B</td>\n",
       "      <td>1</td>\n",
       "      <td>1</td>\n",
       "      <td>80.03</td>\n",
       "      <td>0.0</td>\n",
       "      <td>0.0</td>\n",
       "      <td>0</td>\n",
       "      <td>0</td>\n",
       "      <td>100038.5</td>\n",
       "    </tr>\n",
       "    <tr>\n",
       "      <th>222519</th>\n",
       "      <td>1515915625611024020</td>\n",
       "      <td>B</td>\n",
       "      <td>1</td>\n",
       "      <td>1</td>\n",
       "      <td>64.92</td>\n",
       "      <td>0.0</td>\n",
       "      <td>0.0</td>\n",
       "      <td>0</td>\n",
       "      <td>0</td>\n",
       "      <td>100038.5</td>\n",
       "    </tr>\n",
       "    <tr>\n",
       "      <th>222520</th>\n",
       "      <td>1515915625611024030</td>\n",
       "      <td>B</td>\n",
       "      <td>1</td>\n",
       "      <td>1</td>\n",
       "      <td>10.16</td>\n",
       "      <td>0.0</td>\n",
       "      <td>0.0</td>\n",
       "      <td>0</td>\n",
       "      <td>0</td>\n",
       "      <td>100038.5</td>\n",
       "    </tr>\n",
       "  </tbody>\n",
       "</table>\n",
       "<p>222521 rows × 10 columns</p>\n",
       "</div>"
      ],
      "text/plain": [
       "                    user_id group  is_viewed  products_viewed_cnt  price_sum  \\\n",
       "0       1515915625353230683     A          1                    1     339.79   \n",
       "1       1515915625353234047     A          1                    9     861.86   \n",
       "2       1515915625353236157     A          1                    4     179.60   \n",
       "3       1515915625353294441     B          1                   28    4283.04   \n",
       "4       1515915625353386199     B          1                    1      20.98   \n",
       "...                     ...   ...        ...                  ...        ...   \n",
       "222516  1515915625611023671     B          1                    1      32.22   \n",
       "222517  1515915625611023730     B          1                    1     219.94   \n",
       "222518  1515915625611024014     B          1                    1      80.03   \n",
       "222519  1515915625611024020     B          1                    1      64.92   \n",
       "222520  1515915625611024030     B          1                    1      10.16   \n",
       "\n",
       "        is_cart_added  is_purchased  cart_added_cnt  purchased_cnt      rank  \n",
       "0                 0.0           0.0               0              0  100038.5  \n",
       "1                 0.0           0.0               0              0  100038.5  \n",
       "2                 0.0           0.0               0              0  100038.5  \n",
       "3                 0.0           0.0               0              0  100038.5  \n",
       "4                 0.0           0.0               0              0  100038.5  \n",
       "...               ...           ...             ...            ...       ...  \n",
       "222516            0.0           0.0               0              0  100038.5  \n",
       "222517            0.0           0.0               0              0  100038.5  \n",
       "222518            0.0           0.0               0              0  100038.5  \n",
       "222519            0.0           0.0               0              0  100038.5  \n",
       "222520            0.0           0.0               0              0  100038.5  \n",
       "\n",
       "[222521 rows x 10 columns]"
      ]
     },
     "execution_count": 15,
     "metadata": {},
     "output_type": "execute_result"
    }
   ],
   "source": [
    "ranked = rank_transformation(shop_metrics_new, metric='cart_added_cnt')\n",
    "ranked"
   ]
  },
  {
   "cell_type": "code",
   "execution_count": 16,
   "id": "03d93350-7963-4957-9e02-00a324157781",
   "metadata": {},
   "outputs": [
    {
     "data": {
      "text/plain": [
       "(22445, 10)"
      ]
     },
     "execution_count": 16,
     "metadata": {},
     "output_type": "execute_result"
    }
   ],
   "source": [
    "ranked[ranked['cart_added_cnt'] > 0].shape"
   ]
  },
  {
   "cell_type": "code",
   "execution_count": 17,
   "id": "c2db0cb6-39d9-4cdc-8082-13f070322c5c",
   "metadata": {},
   "outputs": [
    {
     "name": "stdout",
     "output_type": "stream",
     "text": [
      "Средний ранг в группе A 111170.45633348604\n",
      "Средний ранг в группе B 111351.6421897482\n",
      "% изменения средних рангов в группе B и A: 0.16298022175842064\n"
     ]
    }
   ],
   "source": [
    "print('Средний ранг в группе A', ranked[ranked.group == 'A']['rank'].mean())\n",
    "print('Средний ранг в группе B', ranked[ranked.group == 'B']['rank'].mean())\n",
    "print('% изменения средних рангов в группе B и A:',\n",
    "    (ranked[ranked.group == 'B']['rank'].mean() - ranked[ranked.group == 'A']['rank'].mean())\n",
    "    / ranked[ranked.group == 'A']['rank'].mean()* 100)\n",
    "\n"
   ]
  },
  {
   "cell_type": "code",
   "execution_count": 18,
   "id": "37fede5d-94e9-47d3-b32a-4076597d88e8",
   "metadata": {},
   "outputs": [
    {
     "data": {
      "text/plain": [
       "TtestResult(statistic=-1.2743727811526857, pvalue=0.20253266477504916, df=222519.0)"
      ]
     },
     "execution_count": 18,
     "metadata": {},
     "output_type": "execute_result"
    }
   ],
   "source": [
    "stats.ttest_ind(ranked[ranked.group == 'A']['rank'], ranked[ranked.group == 'B']['rank'])"
   ]
  },
  {
   "cell_type": "code",
   "execution_count": 19,
   "id": "5c65d85e-1b50-408c-9165-0ea273b5fc93",
   "metadata": {},
   "outputs": [
    {
     "name": "stdout",
     "output_type": "stream",
     "text": [
      "t-тест на ранге метрики cart_added_cnt\n"
     ]
    },
    {
     "data": {
      "application/vnd.jupyter.widget-view+json": {
       "model_id": "937a5b4b69ff461cb6bcb6116d3d3782",
       "version_major": 2,
       "version_minor": 0
      },
      "text/plain": [
       "Оценка корректности:   0%|          | 0/1000 [00:00<?, ?it/s]"
      ]
     },
     "metadata": {},
     "output_type": "display_data"
    },
    {
     "name": "stdout",
     "output_type": "stream",
     "text": [
      "Корректность теста: 95.30%\n"
     ]
    },
    {
     "data": {
      "application/vnd.jupyter.widget-view+json": {
       "model_id": "68dedd5ebdff4e32b5937eff5a60dfe8",
       "version_major": 2,
       "version_minor": 0
      },
      "text/plain": [
       "Оценка мощности:   0%|          | 0/1000 [00:00<?, ?it/s]"
      ]
     },
     "metadata": {},
     "output_type": "display_data"
    },
    {
     "name": "stdout",
     "output_type": "stream",
     "text": [
      "Мощность теста для 0.5% эффекта: 97.20%\n"
     ]
    },
    {
     "data": {
      "application/vnd.jupyter.widget-view+json": {
       "model_id": "a5569ff4590f432a8c17b97438f112cc",
       "version_major": 2,
       "version_minor": 0
      },
      "text/plain": [
       "Оценка распределения p-value:   0%|          | 0/1000 [00:00<?, ?it/s]"
      ]
     },
     "metadata": {},
     "output_type": "display_data"
    },
    {
     "name": "stdout",
     "output_type": "stream",
     "text": [
      "p_value = 0.36 - равномерное распределение p-value у теста ttest\n"
     ]
    },
    {
     "data": {
      "image/png": "[encoded data removed]",
      "text/plain": [
       "<Figure size 640x480 with 1 Axes>"
      ]
     },
     "metadata": {},
     "output_type": "display_data"
    }
   ],
   "source": [
    "print('t-тест на ранге метрики cart_added_cnt')\n",
    "run_statistical_tests(ranked, test_type='ttest', value_column='rank')\n",
    "\n"
   ]
  },
  {
   "cell_type": "code",
   "execution_count": 20,
   "id": "5a369031-fc4b-4ed0-a6ea-685df6eaa9ff",
   "metadata": {},
   "outputs": [
    {
     "name": "stdout",
     "output_type": "stream",
     "text": [
      "Тест Манна-Уитни на ранге метрики cart_added_cnt\n"
     ]
    },
    {
     "data": {
      "application/vnd.jupyter.widget-view+json": {
       "model_id": "0a631e9075574fa1983a049cc8e9592a",
       "version_major": 2,
       "version_minor": 0
      },
      "text/plain": [
       "Оценка корректности:   0%|          | 0/1000 [00:00<?, ?it/s]"
      ]
     },
     "metadata": {},
     "output_type": "display_data"
    },
    {
     "name": "stdout",
     "output_type": "stream",
     "text": [
      "Корректность теста: 94.20%\n"
     ]
    },
    {
     "data": {
      "application/vnd.jupyter.widget-view+json": {
       "model_id": "12d7e8608a4144ac8ee3b944a4a17f2e",
       "version_major": 2,
       "version_minor": 0
      },
      "text/plain": [
       "Оценка мощности:   0%|          | 0/1000 [00:00<?, ?it/s]"
      ]
     },
     "metadata": {},
     "output_type": "display_data"
    },
    {
     "name": "stdout",
     "output_type": "stream",
     "text": [
      "Мощность теста для 0.5% эффекта: 100.00%\n"
     ]
    },
    {
     "data": {
      "application/vnd.jupyter.widget-view+json": {
       "model_id": "1628481394934730ac790a80d484429c",
       "version_major": 2,
       "version_minor": 0
      },
      "text/plain": [
       "Оценка распределения p-value:   0%|          | 0/1000 [00:00<?, ?it/s]"
      ]
     },
     "metadata": {},
     "output_type": "display_data"
    },
    {
     "name": "stdout",
     "output_type": "stream",
     "text": [
      "p_value = 0.30 - равномерное распределение p-value у теста mannwhitneyu\n"
     ]
    },
    {
     "data": {
      "image/png": "[encoded data removed]",
      "text/plain": [
       "<Figure size 640x480 with 1 Axes>"
      ]
     },
     "metadata": {},
     "output_type": "display_data"
    }
   ],
   "source": [
    "print('Тест Манна-Уитни на ранге метрики cart_added_cnt')\n",
    "run_statistical_tests(ranked, test_type='mannwhitneyu', value_column='rank')"
   ]
  },
  {
   "cell_type": "markdown",
   "id": "1a038e2b-0e08-4cf5-aa9e-09be9b9d2f32",
   "metadata": {},
   "source": [
    "### Вывод\n",
    "\n",
    "- исходя из значений мощности на t-test для исходной метрики = 4.70% и для метрики после рангового преобразования = 97.20%, видно, что ранговое преобразование сильно повлияло на этот тест\n",
    "- для критерия Манна-Уитни ранговое преобразование не сильно повлияло на мощность (= 100.00% в обоих случаях)"
   ]
  },
  {
   "cell_type": "code",
   "execution_count": null,
   "id": "e3c59822-98aa-47f3-91e2-923d99cd5435",
   "metadata": {},
   "outputs": [],
   "source": []
  },
  {
   "cell_type": "markdown",
   "id": "fa6f40e0-541f-4d6b-b172-49923cd32b50",
   "metadata": {},
   "source": [
    "# 2. Реализовать cuped-трансформацию и сравнить мощность t-критерия на:\n",
    "- обычной метрике cart_added_cnt (5 баллов)\n",
    "- логарфимированной метрике cart_added_cnt (5 баллов)\n",
    "- метрике cart_added_cnt (а после подвергнуть ранговому преобразованию) (5 баллов)"
   ]
  },
  {
   "cell_type": "markdown",
   "id": "0ef8ca05-86cd-4743-9056-cbfcdd828383",
   "metadata": {
    "tags": []
   },
   "source": [
    "## обычная метрика cart_added_cnt"
   ]
  },
  {
   "cell_type": "code",
   "execution_count": 21,
   "id": "739d731f-292d-40df-a176-4b38db446527",
   "metadata": {},
   "outputs": [],
   "source": [
    "def cuped_transform(df, metrics):\n",
    "\n",
    "    new_columns = [str(m+'_cuped') for m in metrics]\n",
    "    df[new_columns] = pd.DataFrame([[0] * len(new_columns)], index=df.index)\n",
    "\n",
    "    df_mini = df.fillna(0)\n",
    "    for m in metrics:\n",
    "        covariate_column = str(m+'_covariate')\n",
    "        cuped_column = str(m+'_cuped')\n",
    "        mean_covariate = df_mini[covariate_column].mean()\n",
    "\n",
    "        theta = (df_mini[m].cov(df_mini[covariate_column]))/(df_mini.loc[:,covariate_column].var())\n",
    "        df_mini[cuped_column] = df_mini[m] - (df_mini[covariate_column] - mean_covariate) * theta\n",
    "\n",
    "    df.update(df_mini)\n",
    "\n",
    "    return df.drop_duplicates()"
   ]
  },
  {
   "cell_type": "code",
   "execution_count": 22,
   "id": "7ee50a51-1e0d-4753-85f7-ab583408d13a",
   "metadata": {},
   "outputs": [],
   "source": [
    "shop_metrics_all = pd.merge(shop_metrics_new, shop_metrics_old[['user_id', 'cart_added_cnt']], on=['user_id'], how='left')\n",
    "shop_metrics_all = shop_metrics_all.rename(columns={\n",
    "        'cart_added_cnt_x': 'cart_added_cnt',\n",
    "        'cart_added_cnt_y': 'cart_added_cnt_covariate'})\n",
    "\n"
   ]
  },
  {
   "cell_type": "code",
   "execution_count": 23,
   "id": "0df2b295-cea0-4227-800c-20b3e255c9f5",
   "metadata": {},
   "outputs": [
    {
     "data": {
      "text/html": [
       "<div>\n",
       "<style scoped>\n",
       "    .dataframe tbody tr th:only-of-type {\n",
       "        vertical-align: middle;\n",
       "    }\n",
       "\n",
       "    .dataframe tbody tr th {\n",
       "        vertical-align: top;\n",
       "    }\n",
       "\n",
       "    .dataframe thead th {\n",
       "        text-align: right;\n",
       "    }\n",
       "</style>\n",
       "<table border=\"1\" class=\"dataframe\">\n",
       "  <thead>\n",
       "    <tr style=\"text-align: right;\">\n",
       "      <th></th>\n",
       "      <th>user_id</th>\n",
       "      <th>group</th>\n",
       "      <th>is_viewed</th>\n",
       "      <th>products_viewed_cnt</th>\n",
       "      <th>price_sum</th>\n",
       "      <th>is_cart_added</th>\n",
       "      <th>is_purchased</th>\n",
       "      <th>cart_added_cnt</th>\n",
       "      <th>purchased_cnt</th>\n",
       "      <th>cart_added_cnt_covariate</th>\n",
       "    </tr>\n",
       "  </thead>\n",
       "  <tbody>\n",
       "    <tr>\n",
       "      <th>0</th>\n",
       "      <td>1515915625353230683</td>\n",
       "      <td>A</td>\n",
       "      <td>1</td>\n",
       "      <td>1</td>\n",
       "      <td>339.79</td>\n",
       "      <td>0.0</td>\n",
       "      <td>0.0</td>\n",
       "      <td>0</td>\n",
       "      <td>0</td>\n",
       "      <td>0</td>\n",
       "    </tr>\n",
       "    <tr>\n",
       "      <th>1</th>\n",
       "      <td>1515915625353234047</td>\n",
       "      <td>A</td>\n",
       "      <td>1</td>\n",
       "      <td>9</td>\n",
       "      <td>861.86</td>\n",
       "      <td>0.0</td>\n",
       "      <td>0.0</td>\n",
       "      <td>0</td>\n",
       "      <td>0</td>\n",
       "      <td>0</td>\n",
       "    </tr>\n",
       "    <tr>\n",
       "      <th>2</th>\n",
       "      <td>1515915625353236157</td>\n",
       "      <td>A</td>\n",
       "      <td>1</td>\n",
       "      <td>4</td>\n",
       "      <td>179.60</td>\n",
       "      <td>0.0</td>\n",
       "      <td>0.0</td>\n",
       "      <td>0</td>\n",
       "      <td>0</td>\n",
       "      <td>0</td>\n",
       "    </tr>\n",
       "    <tr>\n",
       "      <th>3</th>\n",
       "      <td>1515915625353294441</td>\n",
       "      <td>B</td>\n",
       "      <td>1</td>\n",
       "      <td>28</td>\n",
       "      <td>4283.04</td>\n",
       "      <td>0.0</td>\n",
       "      <td>0.0</td>\n",
       "      <td>0</td>\n",
       "      <td>0</td>\n",
       "      <td>0</td>\n",
       "    </tr>\n",
       "    <tr>\n",
       "      <th>4</th>\n",
       "      <td>1515915625353386199</td>\n",
       "      <td>B</td>\n",
       "      <td>1</td>\n",
       "      <td>1</td>\n",
       "      <td>20.98</td>\n",
       "      <td>0.0</td>\n",
       "      <td>0.0</td>\n",
       "      <td>0</td>\n",
       "      <td>0</td>\n",
       "      <td>0</td>\n",
       "    </tr>\n",
       "  </tbody>\n",
       "</table>\n",
       "</div>"
      ],
      "text/plain": [
       "               user_id group  is_viewed  products_viewed_cnt  price_sum  \\\n",
       "0  1515915625353230683     A          1                    1     339.79   \n",
       "1  1515915625353234047     A          1                    9     861.86   \n",
       "2  1515915625353236157     A          1                    4     179.60   \n",
       "3  1515915625353294441     B          1                   28    4283.04   \n",
       "4  1515915625353386199     B          1                    1      20.98   \n",
       "\n",
       "   is_cart_added  is_purchased  cart_added_cnt  purchased_cnt  \\\n",
       "0            0.0           0.0               0              0   \n",
       "1            0.0           0.0               0              0   \n",
       "2            0.0           0.0               0              0   \n",
       "3            0.0           0.0               0              0   \n",
       "4            0.0           0.0               0              0   \n",
       "\n",
       "   cart_added_cnt_covariate  \n",
       "0                         0  \n",
       "1                         0  \n",
       "2                         0  \n",
       "3                         0  \n",
       "4                         0  "
      ]
     },
     "execution_count": 23,
     "metadata": {},
     "output_type": "execute_result"
    }
   ],
   "source": [
    "shop_metrics_all.head()"
   ]
  },
  {
   "cell_type": "code",
   "execution_count": 24,
   "id": "4934692f-f0ab-482c-83b3-6816574270ca",
   "metadata": {},
   "outputs": [],
   "source": [
    "shop_metrics_all_cuped = cuped_transform(shop_metrics_all.copy(), ['cart_added_cnt'])"
   ]
  },
  {
   "cell_type": "code",
   "execution_count": 25,
   "id": "0ab26a43-5ef8-4d4d-b643-0701f76c75d6",
   "metadata": {
    "tags": []
   },
   "outputs": [
    {
     "data": {
      "text/html": [
       "<div>\n",
       "<style scoped>\n",
       "    .dataframe tbody tr th:only-of-type {\n",
       "        vertical-align: middle;\n",
       "    }\n",
       "\n",
       "    .dataframe tbody tr th {\n",
       "        vertical-align: top;\n",
       "    }\n",
       "\n",
       "    .dataframe thead th {\n",
       "        text-align: right;\n",
       "    }\n",
       "</style>\n",
       "<table border=\"1\" class=\"dataframe\">\n",
       "  <thead>\n",
       "    <tr style=\"text-align: right;\">\n",
       "      <th></th>\n",
       "      <th>user_id</th>\n",
       "      <th>group</th>\n",
       "      <th>is_viewed</th>\n",
       "      <th>products_viewed_cnt</th>\n",
       "      <th>price_sum</th>\n",
       "      <th>is_cart_added</th>\n",
       "      <th>is_purchased</th>\n",
       "      <th>cart_added_cnt</th>\n",
       "      <th>purchased_cnt</th>\n",
       "      <th>cart_added_cnt_covariate</th>\n",
       "      <th>cart_added_cnt_cuped</th>\n",
       "    </tr>\n",
       "  </thead>\n",
       "  <tbody>\n",
       "    <tr>\n",
       "      <th>0</th>\n",
       "      <td>1515915625353230683</td>\n",
       "      <td>A</td>\n",
       "      <td>1</td>\n",
       "      <td>1</td>\n",
       "      <td>339.79</td>\n",
       "      <td>0.0</td>\n",
       "      <td>0.0</td>\n",
       "      <td>0</td>\n",
       "      <td>0</td>\n",
       "      <td>0</td>\n",
       "      <td>0.132761</td>\n",
       "    </tr>\n",
       "    <tr>\n",
       "      <th>1</th>\n",
       "      <td>1515915625353234047</td>\n",
       "      <td>A</td>\n",
       "      <td>1</td>\n",
       "      <td>9</td>\n",
       "      <td>861.86</td>\n",
       "      <td>0.0</td>\n",
       "      <td>0.0</td>\n",
       "      <td>0</td>\n",
       "      <td>0</td>\n",
       "      <td>0</td>\n",
       "      <td>0.132761</td>\n",
       "    </tr>\n",
       "    <tr>\n",
       "      <th>2</th>\n",
       "      <td>1515915625353236157</td>\n",
       "      <td>A</td>\n",
       "      <td>1</td>\n",
       "      <td>4</td>\n",
       "      <td>179.60</td>\n",
       "      <td>0.0</td>\n",
       "      <td>0.0</td>\n",
       "      <td>0</td>\n",
       "      <td>0</td>\n",
       "      <td>0</td>\n",
       "      <td>0.132761</td>\n",
       "    </tr>\n",
       "    <tr>\n",
       "      <th>3</th>\n",
       "      <td>1515915625353294441</td>\n",
       "      <td>B</td>\n",
       "      <td>1</td>\n",
       "      <td>28</td>\n",
       "      <td>4283.04</td>\n",
       "      <td>0.0</td>\n",
       "      <td>0.0</td>\n",
       "      <td>0</td>\n",
       "      <td>0</td>\n",
       "      <td>0</td>\n",
       "      <td>0.132761</td>\n",
       "    </tr>\n",
       "    <tr>\n",
       "      <th>4</th>\n",
       "      <td>1515915625353386199</td>\n",
       "      <td>B</td>\n",
       "      <td>1</td>\n",
       "      <td>1</td>\n",
       "      <td>20.98</td>\n",
       "      <td>0.0</td>\n",
       "      <td>0.0</td>\n",
       "      <td>0</td>\n",
       "      <td>0</td>\n",
       "      <td>0</td>\n",
       "      <td>0.132761</td>\n",
       "    </tr>\n",
       "  </tbody>\n",
       "</table>\n",
       "</div>"
      ],
      "text/plain": [
       "               user_id group  is_viewed  products_viewed_cnt  price_sum  \\\n",
       "0  1515915625353230683     A          1                    1     339.79   \n",
       "1  1515915625353234047     A          1                    9     861.86   \n",
       "2  1515915625353236157     A          1                    4     179.60   \n",
       "3  1515915625353294441     B          1                   28    4283.04   \n",
       "4  1515915625353386199     B          1                    1      20.98   \n",
       "\n",
       "   is_cart_added  is_purchased  cart_added_cnt  purchased_cnt  \\\n",
       "0            0.0           0.0               0              0   \n",
       "1            0.0           0.0               0              0   \n",
       "2            0.0           0.0               0              0   \n",
       "3            0.0           0.0               0              0   \n",
       "4            0.0           0.0               0              0   \n",
       "\n",
       "   cart_added_cnt_covariate  cart_added_cnt_cuped  \n",
       "0                         0              0.132761  \n",
       "1                         0              0.132761  \n",
       "2                         0              0.132761  \n",
       "3                         0              0.132761  \n",
       "4                         0              0.132761  "
      ]
     },
     "execution_count": 25,
     "metadata": {},
     "output_type": "execute_result"
    }
   ],
   "source": [
    "shop_metrics_all_cuped.head()"
   ]
  },
  {
   "cell_type": "markdown",
   "id": "37f61865-daea-49d6-b3ec-5b83f6697b85",
   "metadata": {},
   "source": [
    "Проверим, как на измененной метрике покажет себя t-test:"
   ]
  },
  {
   "cell_type": "code",
   "execution_count": 26,
   "id": "90a9684a-3f84-464f-a037-74ae42ce9354",
   "metadata": {
    "tags": []
   },
   "outputs": [
    {
     "name": "stdout",
     "output_type": "stream",
     "text": [
      "t-тест на cuped-метрике cart_added_cnt\n"
     ]
    },
    {
     "data": {
      "application/vnd.jupyter.widget-view+json": {
       "model_id": "ff515530bc014d5488ee8727e6d06cc8",
       "version_major": 2,
       "version_minor": 0
      },
      "text/plain": [
       "Оценка корректности:   0%|          | 0/1000 [00:00<?, ?it/s]"
      ]
     },
     "metadata": {},
     "output_type": "display_data"
    },
    {
     "name": "stdout",
     "output_type": "stream",
     "text": [
      "Корректность теста: 93.90%\n"
     ]
    },
    {
     "data": {
      "application/vnd.jupyter.widget-view+json": {
       "model_id": "156407cb28d6472d821fe9afd7d222ce",
       "version_major": 2,
       "version_minor": 0
      },
      "text/plain": [
       "Оценка мощности:   0%|          | 0/1000 [00:00<?, ?it/s]"
      ]
     },
     "metadata": {},
     "output_type": "display_data"
    },
    {
     "name": "stdout",
     "output_type": "stream",
     "text": [
      "Мощность теста для 0.5% эффекта: 22.60%\n"
     ]
    },
    {
     "data": {
      "application/vnd.jupyter.widget-view+json": {
       "model_id": "94d0d84dbd1049fe8fce0ce5628c0d11",
       "version_major": 2,
       "version_minor": 0
      },
      "text/plain": [
       "Оценка распределения p-value:   0%|          | 0/1000 [00:00<?, ?it/s]"
      ]
     },
     "metadata": {},
     "output_type": "display_data"
    },
    {
     "name": "stdout",
     "output_type": "stream",
     "text": [
      "p_value = 0.03 - неравномерное распределение p-value у теста ttest\n"
     ]
    },
    {
     "data": {
      "image/png": "[encoded data removed]",
      "text/plain": [
       "<Figure size 640x480 with 1 Axes>"
      ]
     },
     "metadata": {},
     "output_type": "display_data"
    }
   ],
   "source": [
    "print('t-тест на cuped-метрике cart_added_cnt')\n",
    "run_statistical_tests(shop_metrics_all_cuped, test_type='ttest', value_column='cart_added_cnt_cuped')\n",
    "\n"
   ]
  },
  {
   "cell_type": "markdown",
   "id": "783562d3-6341-457d-953b-28386e18691c",
   "metadata": {},
   "source": [
    "Сравним средние в измененной метрике и дисперсии:"
   ]
  },
  {
   "cell_type": "code",
   "execution_count": 27,
   "id": "c70e689d-6b7f-4a8c-af4a-8c14126d8cda",
   "metadata": {},
   "outputs": [
    {
     "name": "stdout",
     "output_type": "stream",
     "text": [
      "метрика_cuped A: 0.13638231572657297,         метрика_cuped B: 0.13721028984714181\n",
      "метрика без cuped A: 0.1350419058398685,         метрика без cuped B: 0.1385521582733813\n"
     ]
    }
   ],
   "source": [
    "print(f'метрика_cuped A: {shop_metrics_all_cuped[shop_metrics_all_cuped.group == \"A\"][\"cart_added_cnt_cuped\"].mean()}, \\\n",
    "        метрика_cuped B: {shop_metrics_all_cuped[shop_metrics_all_cuped.group == \"B\"][\"cart_added_cnt_cuped\"].mean()}')\n",
    "print(f'метрика без cuped A: {shop_metrics_all_cuped[shop_metrics_all_cuped.group == \"A\"][\"cart_added_cnt\"].mean()}, \\\n",
    "        метрика без cuped B: {shop_metrics_all_cuped[shop_metrics_all_cuped.group == \"B\"][\"cart_added_cnt\"].mean()}')"
   ]
  },
  {
   "cell_type": "code",
   "execution_count": 28,
   "id": "0a0f44d4-bb83-425a-8acc-6db521d248c4",
   "metadata": {},
   "outputs": [
    {
     "name": "stdout",
     "output_type": "stream",
     "text": [
      "метрика_cuped A: 0.01823518359964533,         метрика_cuped B: 0.021495363455396536\n",
      "метрика без cuped A: 0.3805867322090304,         метрика без cuped B: 0.4247189893567569\n"
     ]
    }
   ],
   "source": [
    "print(f'метрика_cuped A: {shop_metrics_all_cuped[shop_metrics_all_cuped.group == \"A\"][\"cart_added_cnt_cuped\"].var()}, \\\n",
    "        метрика_cuped B: {shop_metrics_all_cuped[shop_metrics_all_cuped.group == \"B\"][\"cart_added_cnt_cuped\"].var()}')\n",
    "print(f'метрика без cuped A: {shop_metrics_all_cuped[shop_metrics_all_cuped.group == \"A\"][\"cart_added_cnt\"].var()}, \\\n",
    "        метрика без cuped B: {shop_metrics_all_cuped[shop_metrics_all_cuped.group == \"B\"][\"cart_added_cnt\"].var()}')"
   ]
  },
  {
   "cell_type": "markdown",
   "id": "a0c98d51-5d24-484b-bc91-dee0656f1422",
   "metadata": {},
   "source": [
    "**Выводы**\n",
    "- p-value для cuped преобразованной метрики снизился\n",
    "- однако все хорошо: средние сохранились, а дисперсии изменились => понимаем, почему снизился p-value\n",
    "- значение мощности выросло с 4.70% до 22.60%"
   ]
  },
  {
   "cell_type": "markdown",
   "id": "ff2c6c23-7528-442b-9313-2c496ec1de92",
   "metadata": {
    "tags": []
   },
   "source": [
    "## логарифмированная метрика cart_added_cnt"
   ]
  },
  {
   "cell_type": "code",
   "execution_count": 29,
   "id": "4ed457dc-922b-4e41-b300-88ca40d9bb37",
   "metadata": {},
   "outputs": [],
   "source": [
    "shop_metrics_all['cart_added_cnt_log'] = np.log(shop_metrics_all['cart_added_cnt'] + 1)\n",
    "shop_metrics_all['cart_added_cnt_log_covariate'] = np.log(shop_metrics_all['cart_added_cnt_covariate'] + 1)\n",
    "\n",
    "shop_metrics_all_cuped_ln = cuped_transform(shop_metrics_all, ['cart_added_cnt_log'])"
   ]
  },
  {
   "cell_type": "code",
   "execution_count": 30,
   "id": "4baf8c83-5778-472c-a3e7-ba4f58c6a306",
   "metadata": {},
   "outputs": [
    {
     "data": {
      "text/html": [
       "<div>\n",
       "<style scoped>\n",
       "    .dataframe tbody tr th:only-of-type {\n",
       "        vertical-align: middle;\n",
       "    }\n",
       "\n",
       "    .dataframe tbody tr th {\n",
       "        vertical-align: top;\n",
       "    }\n",
       "\n",
       "    .dataframe thead th {\n",
       "        text-align: right;\n",
       "    }\n",
       "</style>\n",
       "<table border=\"1\" class=\"dataframe\">\n",
       "  <thead>\n",
       "    <tr style=\"text-align: right;\">\n",
       "      <th></th>\n",
       "      <th>user_id</th>\n",
       "      <th>group</th>\n",
       "      <th>is_viewed</th>\n",
       "      <th>products_viewed_cnt</th>\n",
       "      <th>price_sum</th>\n",
       "      <th>is_cart_added</th>\n",
       "      <th>is_purchased</th>\n",
       "      <th>cart_added_cnt</th>\n",
       "      <th>purchased_cnt</th>\n",
       "      <th>cart_added_cnt_covariate</th>\n",
       "      <th>cart_added_cnt_log</th>\n",
       "      <th>cart_added_cnt_log_covariate</th>\n",
       "      <th>cart_added_cnt_log_cuped</th>\n",
       "    </tr>\n",
       "  </thead>\n",
       "  <tbody>\n",
       "    <tr>\n",
       "      <th>0</th>\n",
       "      <td>1515915625353230683</td>\n",
       "      <td>A</td>\n",
       "      <td>1</td>\n",
       "      <td>1</td>\n",
       "      <td>339.79</td>\n",
       "      <td>0.0</td>\n",
       "      <td>0.0</td>\n",
       "      <td>0</td>\n",
       "      <td>0</td>\n",
       "      <td>0</td>\n",
       "      <td>0.0</td>\n",
       "      <td>0.0</td>\n",
       "      <td>0.080004</td>\n",
       "    </tr>\n",
       "    <tr>\n",
       "      <th>1</th>\n",
       "      <td>1515915625353234047</td>\n",
       "      <td>A</td>\n",
       "      <td>1</td>\n",
       "      <td>9</td>\n",
       "      <td>861.86</td>\n",
       "      <td>0.0</td>\n",
       "      <td>0.0</td>\n",
       "      <td>0</td>\n",
       "      <td>0</td>\n",
       "      <td>0</td>\n",
       "      <td>0.0</td>\n",
       "      <td>0.0</td>\n",
       "      <td>0.080004</td>\n",
       "    </tr>\n",
       "    <tr>\n",
       "      <th>2</th>\n",
       "      <td>1515915625353236157</td>\n",
       "      <td>A</td>\n",
       "      <td>1</td>\n",
       "      <td>4</td>\n",
       "      <td>179.60</td>\n",
       "      <td>0.0</td>\n",
       "      <td>0.0</td>\n",
       "      <td>0</td>\n",
       "      <td>0</td>\n",
       "      <td>0</td>\n",
       "      <td>0.0</td>\n",
       "      <td>0.0</td>\n",
       "      <td>0.080004</td>\n",
       "    </tr>\n",
       "    <tr>\n",
       "      <th>3</th>\n",
       "      <td>1515915625353294441</td>\n",
       "      <td>B</td>\n",
       "      <td>1</td>\n",
       "      <td>28</td>\n",
       "      <td>4283.04</td>\n",
       "      <td>0.0</td>\n",
       "      <td>0.0</td>\n",
       "      <td>0</td>\n",
       "      <td>0</td>\n",
       "      <td>0</td>\n",
       "      <td>0.0</td>\n",
       "      <td>0.0</td>\n",
       "      <td>0.080004</td>\n",
       "    </tr>\n",
       "    <tr>\n",
       "      <th>4</th>\n",
       "      <td>1515915625353386199</td>\n",
       "      <td>B</td>\n",
       "      <td>1</td>\n",
       "      <td>1</td>\n",
       "      <td>20.98</td>\n",
       "      <td>0.0</td>\n",
       "      <td>0.0</td>\n",
       "      <td>0</td>\n",
       "      <td>0</td>\n",
       "      <td>0</td>\n",
       "      <td>0.0</td>\n",
       "      <td>0.0</td>\n",
       "      <td>0.080004</td>\n",
       "    </tr>\n",
       "  </tbody>\n",
       "</table>\n",
       "</div>"
      ],
      "text/plain": [
       "               user_id group  is_viewed  products_viewed_cnt  price_sum  \\\n",
       "0  1515915625353230683     A          1                    1     339.79   \n",
       "1  1515915625353234047     A          1                    9     861.86   \n",
       "2  1515915625353236157     A          1                    4     179.60   \n",
       "3  1515915625353294441     B          1                   28    4283.04   \n",
       "4  1515915625353386199     B          1                    1      20.98   \n",
       "\n",
       "   is_cart_added  is_purchased  cart_added_cnt  purchased_cnt  \\\n",
       "0            0.0           0.0               0              0   \n",
       "1            0.0           0.0               0              0   \n",
       "2            0.0           0.0               0              0   \n",
       "3            0.0           0.0               0              0   \n",
       "4            0.0           0.0               0              0   \n",
       "\n",
       "   cart_added_cnt_covariate  cart_added_cnt_log  cart_added_cnt_log_covariate  \\\n",
       "0                         0                 0.0                           0.0   \n",
       "1                         0                 0.0                           0.0   \n",
       "2                         0                 0.0                           0.0   \n",
       "3                         0                 0.0                           0.0   \n",
       "4                         0                 0.0                           0.0   \n",
       "\n",
       "   cart_added_cnt_log_cuped  \n",
       "0                  0.080004  \n",
       "1                  0.080004  \n",
       "2                  0.080004  \n",
       "3                  0.080004  \n",
       "4                  0.080004  "
      ]
     },
     "execution_count": 30,
     "metadata": {},
     "output_type": "execute_result"
    }
   ],
   "source": [
    "shop_metrics_all_cuped_ln.head()"
   ]
  },
  {
   "cell_type": "code",
   "execution_count": 31,
   "id": "5982b409-4665-42a5-83bf-e84b397a1cfb",
   "metadata": {},
   "outputs": [
    {
     "name": "stdout",
     "output_type": "stream",
     "text": [
      "t-тест на cuped-метрике cart_added_cnt_log\n"
     ]
    },
    {
     "data": {
      "application/vnd.jupyter.widget-view+json": {
       "model_id": "09953d103bed465f88625c3060861249",
       "version_major": 2,
       "version_minor": 0
      },
      "text/plain": [
       "Оценка корректности:   0%|          | 0/1000 [00:00<?, ?it/s]"
      ]
     },
     "metadata": {},
     "output_type": "display_data"
    },
    {
     "name": "stdout",
     "output_type": "stream",
     "text": [
      "Корректность теста: 93.50%\n"
     ]
    },
    {
     "data": {
      "application/vnd.jupyter.widget-view+json": {
       "model_id": "6ec9c574bcce492cbbe04a2895d51381",
       "version_major": 2,
       "version_minor": 0
      },
      "text/plain": [
       "Оценка мощности:   0%|          | 0/1000 [00:00<?, ?it/s]"
      ]
     },
     "metadata": {},
     "output_type": "display_data"
    },
    {
     "name": "stdout",
     "output_type": "stream",
     "text": [
      "Мощность теста для 0.5% эффекта: 58.70%\n"
     ]
    },
    {
     "data": {
      "application/vnd.jupyter.widget-view+json": {
       "model_id": "bfdac1364eef4036900313dde9791cef",
       "version_major": 2,
       "version_minor": 0
      },
      "text/plain": [
       "Оценка распределения p-value:   0%|          | 0/1000 [00:00<?, ?it/s]"
      ]
     },
     "metadata": {},
     "output_type": "display_data"
    },
    {
     "name": "stdout",
     "output_type": "stream",
     "text": [
      "p_value = 0.44 - равномерное распределение p-value у теста ttest\n"
     ]
    },
    {
     "data": {
      "image/png": "[encoded data removed]",
      "text/plain": [
       "<Figure size 640x480 with 1 Axes>"
      ]
     },
     "metadata": {},
     "output_type": "display_data"
    }
   ],
   "source": [
    "print('t-тест на cuped-метрике cart_added_cnt_log')\n",
    "run_statistical_tests(shop_metrics_all_cuped_ln, test_type='ttest', value_column='cart_added_cnt_log_cuped')\n"
   ]
  },
  {
   "cell_type": "markdown",
   "id": "6a090a4a-d976-499b-a9f2-559af92490e0",
   "metadata": {},
   "source": [
    "Сравним средние в измененной метрике и дисперсии:"
   ]
  },
  {
   "cell_type": "code",
   "execution_count": 32,
   "id": "9531733c-8fbe-45f7-af15-11460118a61b",
   "metadata": {},
   "outputs": [
    {
     "name": "stdout",
     "output_type": "stream",
     "text": [
      "метрика_cuped A: 0.08034157852348374,         метрика_cuped B: 0.08072086382541542\n",
      "метрика без cuped A: 0.07974289062640032,         метрика без cuped B: 0.08132020317245879\n"
     ]
    }
   ],
   "source": [
    "print(f'метрика_cuped A: {shop_metrics_all_cuped_ln[shop_metrics_all_cuped_ln.group == \"A\"][\"cart_added_cnt_log_cuped\"].mean()}, \\\n",
    "        метрика_cuped B: {shop_metrics_all_cuped_ln[shop_metrics_all_cuped_ln.group == \"B\"][\"cart_added_cnt_log_cuped\"].mean()}')\n",
    "print(f'метрика без cuped A: {shop_metrics_all_cuped_ln[shop_metrics_all_cuped_ln.group == \"A\"][\"cart_added_cnt_log\"].mean()}, \\\n",
    "        метрика без cuped B: {shop_metrics_all_cuped_ln[shop_metrics_all_cuped_ln.group == \"B\"][\"cart_added_cnt_log\"].mean()}')"
   ]
  },
  {
   "cell_type": "code",
   "execution_count": 33,
   "id": "dff32b42-b58f-47ba-94e2-1436a312a305",
   "metadata": {},
   "outputs": [
    {
     "name": "stdout",
     "output_type": "stream",
     "text": [
      "метрика_cuped A: 0.002055014378642917,         метрика_cuped B: 0.0017558187333519078\n",
      "метрика без cuped A: 0.06466232955752058,         метрика без cuped B: 0.06628259108478471\n"
     ]
    }
   ],
   "source": [
    "print(f'метрика_cuped A: {shop_metrics_all_cuped_ln[shop_metrics_all_cuped_ln.group == \"A\"][\"cart_added_cnt_log_cuped\"].var()}, \\\n",
    "        метрика_cuped B: {shop_metrics_all_cuped_ln[shop_metrics_all_cuped_ln.group == \"B\"][\"cart_added_cnt_log_cuped\"].var()}')\n",
    "print(f'метрика без cuped A: {shop_metrics_all_cuped_ln[shop_metrics_all_cuped_ln.group == \"A\"][\"cart_added_cnt_log\"].var()}, \\\n",
    "        метрика без cuped B: {shop_metrics_all_cuped_ln[shop_metrics_all_cuped_ln.group == \"B\"][\"cart_added_cnt_log\"].var()}')"
   ]
  },
  {
   "cell_type": "markdown",
   "id": "aca14863-da8c-4cfc-9680-204b56d242b1",
   "metadata": {},
   "source": [
    "**Выводы**\n",
    "- аналогично p-value для cuped преобразованной метрики = 0.44\n",
    "- при этом также средние сохранились, а дисперсии изменились => понимаем, почему снизился p-value\n",
    "- значение мощности = 58.70%"
   ]
  },
  {
   "cell_type": "markdown",
   "id": "95032049-3ef0-44fe-873f-48e2e03fd33b",
   "metadata": {},
   "source": [
    "## метрика cart_added_cnt после рангового преобразования"
   ]
  },
  {
   "cell_type": "code",
   "execution_count": 34,
   "id": "9ee9c7f0-5578-45ef-b4f2-0c3ee8a7a9b6",
   "metadata": {},
   "outputs": [],
   "source": [
    "shop_metrics_all = rank_transformation(shop_metrics_all, 'cart_added_cnt')"
   ]
  },
  {
   "cell_type": "code",
   "execution_count": 35,
   "id": "24c0289f-119e-45cc-b564-d42b71053cf7",
   "metadata": {},
   "outputs": [
    {
     "data": {
      "text/html": [
       "<div>\n",
       "<style scoped>\n",
       "    .dataframe tbody tr th:only-of-type {\n",
       "        vertical-align: middle;\n",
       "    }\n",
       "\n",
       "    .dataframe tbody tr th {\n",
       "        vertical-align: top;\n",
       "    }\n",
       "\n",
       "    .dataframe thead th {\n",
       "        text-align: right;\n",
       "    }\n",
       "</style>\n",
       "<table border=\"1\" class=\"dataframe\">\n",
       "  <thead>\n",
       "    <tr style=\"text-align: right;\">\n",
       "      <th></th>\n",
       "      <th>user_id</th>\n",
       "      <th>group</th>\n",
       "      <th>is_viewed</th>\n",
       "      <th>products_viewed_cnt</th>\n",
       "      <th>price_sum</th>\n",
       "      <th>is_cart_added</th>\n",
       "      <th>is_purchased</th>\n",
       "      <th>cart_added_cnt</th>\n",
       "      <th>purchased_cnt</th>\n",
       "      <th>cart_added_cnt_covariate</th>\n",
       "      <th>cart_added_cnt_log</th>\n",
       "      <th>cart_added_cnt_log_covariate</th>\n",
       "      <th>cart_added_cnt_log_cuped</th>\n",
       "      <th>rank</th>\n",
       "    </tr>\n",
       "  </thead>\n",
       "  <tbody>\n",
       "    <tr>\n",
       "      <th>0</th>\n",
       "      <td>1515915625353230683</td>\n",
       "      <td>A</td>\n",
       "      <td>1</td>\n",
       "      <td>1</td>\n",
       "      <td>339.79</td>\n",
       "      <td>0.0</td>\n",
       "      <td>0.0</td>\n",
       "      <td>0</td>\n",
       "      <td>0</td>\n",
       "      <td>0</td>\n",
       "      <td>0.0</td>\n",
       "      <td>0.0</td>\n",
       "      <td>0.080004</td>\n",
       "      <td>100038.5</td>\n",
       "    </tr>\n",
       "    <tr>\n",
       "      <th>1</th>\n",
       "      <td>1515915625353234047</td>\n",
       "      <td>A</td>\n",
       "      <td>1</td>\n",
       "      <td>9</td>\n",
       "      <td>861.86</td>\n",
       "      <td>0.0</td>\n",
       "      <td>0.0</td>\n",
       "      <td>0</td>\n",
       "      <td>0</td>\n",
       "      <td>0</td>\n",
       "      <td>0.0</td>\n",
       "      <td>0.0</td>\n",
       "      <td>0.080004</td>\n",
       "      <td>100038.5</td>\n",
       "    </tr>\n",
       "    <tr>\n",
       "      <th>2</th>\n",
       "      <td>1515915625353236157</td>\n",
       "      <td>A</td>\n",
       "      <td>1</td>\n",
       "      <td>4</td>\n",
       "      <td>179.60</td>\n",
       "      <td>0.0</td>\n",
       "      <td>0.0</td>\n",
       "      <td>0</td>\n",
       "      <td>0</td>\n",
       "      <td>0</td>\n",
       "      <td>0.0</td>\n",
       "      <td>0.0</td>\n",
       "      <td>0.080004</td>\n",
       "      <td>100038.5</td>\n",
       "    </tr>\n",
       "    <tr>\n",
       "      <th>3</th>\n",
       "      <td>1515915625353294441</td>\n",
       "      <td>B</td>\n",
       "      <td>1</td>\n",
       "      <td>28</td>\n",
       "      <td>4283.04</td>\n",
       "      <td>0.0</td>\n",
       "      <td>0.0</td>\n",
       "      <td>0</td>\n",
       "      <td>0</td>\n",
       "      <td>0</td>\n",
       "      <td>0.0</td>\n",
       "      <td>0.0</td>\n",
       "      <td>0.080004</td>\n",
       "      <td>100038.5</td>\n",
       "    </tr>\n",
       "    <tr>\n",
       "      <th>4</th>\n",
       "      <td>1515915625353386199</td>\n",
       "      <td>B</td>\n",
       "      <td>1</td>\n",
       "      <td>1</td>\n",
       "      <td>20.98</td>\n",
       "      <td>0.0</td>\n",
       "      <td>0.0</td>\n",
       "      <td>0</td>\n",
       "      <td>0</td>\n",
       "      <td>0</td>\n",
       "      <td>0.0</td>\n",
       "      <td>0.0</td>\n",
       "      <td>0.080004</td>\n",
       "      <td>100038.5</td>\n",
       "    </tr>\n",
       "  </tbody>\n",
       "</table>\n",
       "</div>"
      ],
      "text/plain": [
       "               user_id group  is_viewed  products_viewed_cnt  price_sum  \\\n",
       "0  1515915625353230683     A          1                    1     339.79   \n",
       "1  1515915625353234047     A          1                    9     861.86   \n",
       "2  1515915625353236157     A          1                    4     179.60   \n",
       "3  1515915625353294441     B          1                   28    4283.04   \n",
       "4  1515915625353386199     B          1                    1      20.98   \n",
       "\n",
       "   is_cart_added  is_purchased  cart_added_cnt  purchased_cnt  \\\n",
       "0            0.0           0.0               0              0   \n",
       "1            0.0           0.0               0              0   \n",
       "2            0.0           0.0               0              0   \n",
       "3            0.0           0.0               0              0   \n",
       "4            0.0           0.0               0              0   \n",
       "\n",
       "   cart_added_cnt_covariate  cart_added_cnt_log  cart_added_cnt_log_covariate  \\\n",
       "0                         0                 0.0                           0.0   \n",
       "1                         0                 0.0                           0.0   \n",
       "2                         0                 0.0                           0.0   \n",
       "3                         0                 0.0                           0.0   \n",
       "4                         0                 0.0                           0.0   \n",
       "\n",
       "   cart_added_cnt_log_cuped      rank  \n",
       "0                  0.080004  100038.5  \n",
       "1                  0.080004  100038.5  \n",
       "2                  0.080004  100038.5  \n",
       "3                  0.080004  100038.5  \n",
       "4                  0.080004  100038.5  "
      ]
     },
     "execution_count": 35,
     "metadata": {},
     "output_type": "execute_result"
    }
   ],
   "source": [
    "shop_metrics_all.head()"
   ]
  },
  {
   "cell_type": "code",
   "execution_count": 36,
   "id": "af707247-f9b5-4add-9244-8786654f234a",
   "metadata": {},
   "outputs": [],
   "source": [
    "shop_metrics_all['rank_covariate'] = shop_metrics_all[shop_metrics_all['group'] == 'B']['rank']"
   ]
  },
  {
   "cell_type": "code",
   "execution_count": 37,
   "id": "2eeaafd0-4e48-428a-91bf-5ef53c5ae7c5",
   "metadata": {},
   "outputs": [
    {
     "data": {
      "text/html": [
       "<div>\n",
       "<style scoped>\n",
       "    .dataframe tbody tr th:only-of-type {\n",
       "        vertical-align: middle;\n",
       "    }\n",
       "\n",
       "    .dataframe tbody tr th {\n",
       "        vertical-align: top;\n",
       "    }\n",
       "\n",
       "    .dataframe thead th {\n",
       "        text-align: right;\n",
       "    }\n",
       "</style>\n",
       "<table border=\"1\" class=\"dataframe\">\n",
       "  <thead>\n",
       "    <tr style=\"text-align: right;\">\n",
       "      <th></th>\n",
       "      <th>user_id</th>\n",
       "      <th>group</th>\n",
       "      <th>is_viewed</th>\n",
       "      <th>products_viewed_cnt</th>\n",
       "      <th>price_sum</th>\n",
       "      <th>is_cart_added</th>\n",
       "      <th>is_purchased</th>\n",
       "      <th>cart_added_cnt</th>\n",
       "      <th>purchased_cnt</th>\n",
       "      <th>cart_added_cnt_covariate</th>\n",
       "      <th>cart_added_cnt_log</th>\n",
       "      <th>cart_added_cnt_log_covariate</th>\n",
       "      <th>cart_added_cnt_log_cuped</th>\n",
       "      <th>rank</th>\n",
       "      <th>rank_covariate</th>\n",
       "    </tr>\n",
       "  </thead>\n",
       "  <tbody>\n",
       "    <tr>\n",
       "      <th>0</th>\n",
       "      <td>1515915625353230683</td>\n",
       "      <td>A</td>\n",
       "      <td>1</td>\n",
       "      <td>1</td>\n",
       "      <td>339.79</td>\n",
       "      <td>0.0</td>\n",
       "      <td>0.0</td>\n",
       "      <td>0</td>\n",
       "      <td>0</td>\n",
       "      <td>0</td>\n",
       "      <td>0.0</td>\n",
       "      <td>0.0</td>\n",
       "      <td>0.080004</td>\n",
       "      <td>100038.5</td>\n",
       "      <td>NaN</td>\n",
       "    </tr>\n",
       "    <tr>\n",
       "      <th>1</th>\n",
       "      <td>1515915625353234047</td>\n",
       "      <td>A</td>\n",
       "      <td>1</td>\n",
       "      <td>9</td>\n",
       "      <td>861.86</td>\n",
       "      <td>0.0</td>\n",
       "      <td>0.0</td>\n",
       "      <td>0</td>\n",
       "      <td>0</td>\n",
       "      <td>0</td>\n",
       "      <td>0.0</td>\n",
       "      <td>0.0</td>\n",
       "      <td>0.080004</td>\n",
       "      <td>100038.5</td>\n",
       "      <td>NaN</td>\n",
       "    </tr>\n",
       "    <tr>\n",
       "      <th>2</th>\n",
       "      <td>1515915625353236157</td>\n",
       "      <td>A</td>\n",
       "      <td>1</td>\n",
       "      <td>4</td>\n",
       "      <td>179.60</td>\n",
       "      <td>0.0</td>\n",
       "      <td>0.0</td>\n",
       "      <td>0</td>\n",
       "      <td>0</td>\n",
       "      <td>0</td>\n",
       "      <td>0.0</td>\n",
       "      <td>0.0</td>\n",
       "      <td>0.080004</td>\n",
       "      <td>100038.5</td>\n",
       "      <td>NaN</td>\n",
       "    </tr>\n",
       "    <tr>\n",
       "      <th>3</th>\n",
       "      <td>1515915625353294441</td>\n",
       "      <td>B</td>\n",
       "      <td>1</td>\n",
       "      <td>28</td>\n",
       "      <td>4283.04</td>\n",
       "      <td>0.0</td>\n",
       "      <td>0.0</td>\n",
       "      <td>0</td>\n",
       "      <td>0</td>\n",
       "      <td>0</td>\n",
       "      <td>0.0</td>\n",
       "      <td>0.0</td>\n",
       "      <td>0.080004</td>\n",
       "      <td>100038.5</td>\n",
       "      <td>100038.5</td>\n",
       "    </tr>\n",
       "    <tr>\n",
       "      <th>4</th>\n",
       "      <td>1515915625353386199</td>\n",
       "      <td>B</td>\n",
       "      <td>1</td>\n",
       "      <td>1</td>\n",
       "      <td>20.98</td>\n",
       "      <td>0.0</td>\n",
       "      <td>0.0</td>\n",
       "      <td>0</td>\n",
       "      <td>0</td>\n",
       "      <td>0</td>\n",
       "      <td>0.0</td>\n",
       "      <td>0.0</td>\n",
       "      <td>0.080004</td>\n",
       "      <td>100038.5</td>\n",
       "      <td>100038.5</td>\n",
       "    </tr>\n",
       "  </tbody>\n",
       "</table>\n",
       "</div>"
      ],
      "text/plain": [
       "               user_id group  is_viewed  products_viewed_cnt  price_sum  \\\n",
       "0  1515915625353230683     A          1                    1     339.79   \n",
       "1  1515915625353234047     A          1                    9     861.86   \n",
       "2  1515915625353236157     A          1                    4     179.60   \n",
       "3  1515915625353294441     B          1                   28    4283.04   \n",
       "4  1515915625353386199     B          1                    1      20.98   \n",
       "\n",
       "   is_cart_added  is_purchased  cart_added_cnt  purchased_cnt  \\\n",
       "0            0.0           0.0               0              0   \n",
       "1            0.0           0.0               0              0   \n",
       "2            0.0           0.0               0              0   \n",
       "3            0.0           0.0               0              0   \n",
       "4            0.0           0.0               0              0   \n",
       "\n",
       "   cart_added_cnt_covariate  cart_added_cnt_log  cart_added_cnt_log_covariate  \\\n",
       "0                         0                 0.0                           0.0   \n",
       "1                         0                 0.0                           0.0   \n",
       "2                         0                 0.0                           0.0   \n",
       "3                         0                 0.0                           0.0   \n",
       "4                         0                 0.0                           0.0   \n",
       "\n",
       "   cart_added_cnt_log_cuped      rank  rank_covariate  \n",
       "0                  0.080004  100038.5             NaN  \n",
       "1                  0.080004  100038.5             NaN  \n",
       "2                  0.080004  100038.5             NaN  \n",
       "3                  0.080004  100038.5        100038.5  \n",
       "4                  0.080004  100038.5        100038.5  "
      ]
     },
     "execution_count": 37,
     "metadata": {},
     "output_type": "execute_result"
    }
   ],
   "source": [
    "shop_metrics_all.head()"
   ]
  },
  {
   "cell_type": "code",
   "execution_count": 38,
   "id": "ae469451-09a4-41e5-a726-d2d1e9ec5885",
   "metadata": {},
   "outputs": [],
   "source": [
    "shop_metrics_all_rank_cuped = cuped_transform(shop_metrics_all, ['rank'])"
   ]
  },
  {
   "cell_type": "code",
   "execution_count": 39,
   "id": "4c3e3d78-f082-4e26-9c62-fddcfcbb70c3",
   "metadata": {},
   "outputs": [
    {
     "name": "stdout",
     "output_type": "stream",
     "text": [
      "t-тест на cuped-метрике rank_cuped\n"
     ]
    },
    {
     "data": {
      "application/vnd.jupyter.widget-view+json": {
       "model_id": "36bb0399544242698bb29b1b6601250c",
       "version_major": 2,
       "version_minor": 0
      },
      "text/plain": [
       "Оценка корректности:   0%|          | 0/1000 [00:00<?, ?it/s]"
      ]
     },
     "metadata": {},
     "output_type": "display_data"
    },
    {
     "name": "stdout",
     "output_type": "stream",
     "text": [
      "Корректность теста: 96.10%\n"
     ]
    },
    {
     "data": {
      "application/vnd.jupyter.widget-view+json": {
       "model_id": "e0879c7d444d438eae15fce65c473a9a",
       "version_major": 2,
       "version_minor": 0
      },
      "text/plain": [
       "Оценка мощности:   0%|          | 0/1000 [00:00<?, ?it/s]"
      ]
     },
     "metadata": {},
     "output_type": "display_data"
    },
    {
     "name": "stdout",
     "output_type": "stream",
     "text": [
      "Мощность теста для 0.5% эффекта: 98.90%\n"
     ]
    },
    {
     "data": {
      "application/vnd.jupyter.widget-view+json": {
       "model_id": "2d83eaf13e504c05998c37cc0fa408f6",
       "version_major": 2,
       "version_minor": 0
      },
      "text/plain": [
       "Оценка распределения p-value:   0%|          | 0/1000 [00:00<?, ?it/s]"
      ]
     },
     "metadata": {},
     "output_type": "display_data"
    },
    {
     "name": "stdout",
     "output_type": "stream",
     "text": [
      "p_value = 0.28 - равномерное распределение p-value у теста ttest\n"
     ]
    },
    {
     "data": {
      "image/png": "[encoded data removed]",
      "text/plain": [
       "<Figure size 640x480 with 1 Axes>"
      ]
     },
     "metadata": {},
     "output_type": "display_data"
    }
   ],
   "source": [
    "print('t-тест на cuped-метрике rank_cuped')\n",
    "run_statistical_tests(shop_metrics_all_rank_cuped, test_type='ttest', value_column='rank_cuped')"
   ]
  },
  {
   "cell_type": "code",
   "execution_count": 40,
   "id": "66ed9ec8-3c9d-4a94-bf9d-c110380e1947",
   "metadata": {},
   "outputs": [
    {
     "name": "stdout",
     "output_type": "stream",
     "text": [
      "метрика_cuped A: 119840.69886251065,         метрика_cuped B: 102671.9653140868\n",
      "метрика без cuped A: 111170.45633348604,         метрика без cuped B: 111351.6421897482\n"
     ]
    }
   ],
   "source": [
    "print(f'метрика_cuped A: {shop_metrics_all_rank_cuped[shop_metrics_all_rank_cuped.group == \"A\"][\"rank_cuped\"].mean()}, \\\n",
    "        метрика_cuped B: {shop_metrics_all_rank_cuped[shop_metrics_all_rank_cuped.group == \"B\"][\"rank_cuped\"].mean()}')\n",
    "print(f'метрика без cuped A: {shop_metrics_all_rank_cuped[shop_metrics_all_rank_cuped.group == \"A\"][\"rank\"].mean()}, \\\n",
    "        метрика без cuped B: {shop_metrics_all_rank_cuped[shop_metrics_all_rank_cuped.group == \"B\"][\"rank\"].mean()}')"
   ]
  },
  {
   "cell_type": "code",
   "execution_count": 41,
   "id": "8c78b8dc-b102-428f-a70c-8b1a8de2ee89",
   "metadata": {},
   "outputs": [
    {
     "name": "stdout",
     "output_type": "stream",
     "text": [
      "метрика_cuped A: 1116108735.2907896,         метрика_cuped B: 807391318.2497903\n",
      "метрика без cuped A: 1116108735.2907896,         метрика без cuped B: 1132936846.743577\n"
     ]
    }
   ],
   "source": [
    "print(f'метрика_cuped A: {shop_metrics_all_rank_cuped[shop_metrics_all_rank_cuped.group == \"A\"][\"rank_cuped\"].var()}, \\\n",
    "        метрика_cuped B: {shop_metrics_all_rank_cuped[shop_metrics_all_rank_cuped.group == \"B\"][\"rank_cuped\"].var()}')\n",
    "print(f'метрика без cuped A: {shop_metrics_all_rank_cuped[shop_metrics_all_rank_cuped.group == \"A\"][\"rank\"].var()}, \\\n",
    "        метрика без cuped B: {shop_metrics_all_rank_cuped[shop_metrics_all_rank_cuped.group == \"B\"][\"rank\"].var()}')"
   ]
  },
  {
   "cell_type": "markdown",
   "id": "fd249ce2-8efa-4066-8d64-c4a1a9c2e36c",
   "metadata": {},
   "source": [
    "**Выводы**\n",
    "- аналогично p-value для cuped преобразованной метрики немного снизился\n",
    "- при этом средние изменились, а дисперсии сильно выросли \n",
    "- значение мощности выросло с 97.20% до 98.90%"
   ]
  },
  {
   "cell_type": "markdown",
   "id": "68b56edc-919e-4ab7-8db3-d39e1aac1818",
   "metadata": {},
   "source": [
    "### Вывод\n",
    "\n",
    "- cuped преобразование снижает p-value и повышает мощность\n"
   ]
  },
  {
   "cell_type": "markdown",
   "id": "83363ff5-35eb-4895-91d4-71f782cfc0b0",
   "metadata": {
    "tags": []
   },
   "source": [
    "# 3. Реализовать разбивку на бакеты, оценить t-критерием и сравнить с результатом без бакетирования:\n",
    "- на логнормальном распределении (сгенерированные данные) (5 баллов)\n",
    "- на метрике cart_added_cnt (5 баллов)"
   ]
  },
  {
   "cell_type": "markdown",
   "id": "91bd0ef7-b804-46dc-ae2c-0a440d11b4e3",
   "metadata": {},
   "source": [
    "## на логнормальном распределении (сгенерированные данные) "
   ]
  },
  {
   "cell_type": "code",
   "execution_count": 42,
   "id": "b7c874dc-ebcd-4bbf-be57-2bf078066e51",
   "metadata": {},
   "outputs": [],
   "source": [
    "log_norm_data = np.random.lognormal(mean=2., sigma=1., size=1000)\n",
    "df_lognorm = pd.DataFrame({'user_id': range(1000), 'metric': log_norm_data})"
   ]
  },
  {
   "cell_type": "code",
   "execution_count": 43,
   "id": "bd72c4a9-323c-4181-ae80-aa609e80abf9",
   "metadata": {},
   "outputs": [
    {
     "data": {
      "text/html": [
       "<div>\n",
       "<style scoped>\n",
       "    .dataframe tbody tr th:only-of-type {\n",
       "        vertical-align: middle;\n",
       "    }\n",
       "\n",
       "    .dataframe tbody tr th {\n",
       "        vertical-align: top;\n",
       "    }\n",
       "\n",
       "    .dataframe thead th {\n",
       "        text-align: right;\n",
       "    }\n",
       "</style>\n",
       "<table border=\"1\" class=\"dataframe\">\n",
       "  <thead>\n",
       "    <tr style=\"text-align: right;\">\n",
       "      <th></th>\n",
       "      <th>user_id</th>\n",
       "      <th>metric</th>\n",
       "    </tr>\n",
       "  </thead>\n",
       "  <tbody>\n",
       "    <tr>\n",
       "      <th>0</th>\n",
       "      <td>0</td>\n",
       "      <td>140.292426</td>\n",
       "    </tr>\n",
       "    <tr>\n",
       "      <th>1</th>\n",
       "      <td>1</td>\n",
       "      <td>41.448917</td>\n",
       "    </tr>\n",
       "    <tr>\n",
       "      <th>2</th>\n",
       "      <td>2</td>\n",
       "      <td>1.401390</td>\n",
       "    </tr>\n",
       "    <tr>\n",
       "      <th>3</th>\n",
       "      <td>3</td>\n",
       "      <td>6.625859</td>\n",
       "    </tr>\n",
       "    <tr>\n",
       "      <th>4</th>\n",
       "      <td>4</td>\n",
       "      <td>3.457010</td>\n",
       "    </tr>\n",
       "  </tbody>\n",
       "</table>\n",
       "</div>"
      ],
      "text/plain": [
       "   user_id      metric\n",
       "0        0  140.292426\n",
       "1        1   41.448917\n",
       "2        2    1.401390\n",
       "3        3    6.625859\n",
       "4        4    3.457010"
      ]
     },
     "execution_count": 43,
     "metadata": {},
     "output_type": "execute_result"
    }
   ],
   "source": [
    "df_lognorm.head()"
   ]
  },
  {
   "cell_type": "code",
   "execution_count": 44,
   "id": "3137b921-12af-4583-93b4-78cbf5460f64",
   "metadata": {},
   "outputs": [
    {
     "data": {
      "text/plain": [
       "<Axes: xlabel='metric', ylabel='Count'>"
      ]
     },
     "execution_count": 44,
     "metadata": {},
     "output_type": "execute_result"
    },
    {
     "data": {
      "image/png": "[encoded data removed]",
      "text/plain": [
       "<Figure size 470x427 with 1 Axes>"
      ]
     },
     "metadata": {},
     "output_type": "display_data"
    }
   ],
   "source": [
    "sns.set(rc={'figure.figsize':(4.7,4.27)})\n",
    "sns.histplot(data=df_lognorm['metric'], bins=10, color='purple', kde=True)"
   ]
  },
  {
   "cell_type": "code",
   "execution_count": 45,
   "id": "fdb8ab3d-2750-4223-8d1d-6ede90e23565",
   "metadata": {},
   "outputs": [
    {
     "name": "stdout",
     "output_type": "stream",
     "text": [
      "t-тест без бакетирования на логнормальной выборке\n"
     ]
    },
    {
     "data": {
      "application/vnd.jupyter.widget-view+json": {
       "model_id": "61d6aec22b544198a229f4a125f98389",
       "version_major": 2,
       "version_minor": 0
      },
      "text/plain": [
       "Оценка корректности:   0%|          | 0/1000 [00:00<?, ?it/s]"
      ]
     },
     "metadata": {},
     "output_type": "display_data"
    },
    {
     "name": "stdout",
     "output_type": "stream",
     "text": [
      "Корректность теста: 94.70%\n"
     ]
    },
    {
     "data": {
      "application/vnd.jupyter.widget-view+json": {
       "model_id": "a12b76fb737c454d9fba72407e148a7e",
       "version_major": 2,
       "version_minor": 0
      },
      "text/plain": [
       "Оценка мощности:   0%|          | 0/1000 [00:00<?, ?it/s]"
      ]
     },
     "metadata": {},
     "output_type": "display_data"
    },
    {
     "name": "stdout",
     "output_type": "stream",
     "text": [
      "Мощность теста для 0.5% эффекта: 6.30%\n"
     ]
    },
    {
     "data": {
      "application/vnd.jupyter.widget-view+json": {
       "model_id": "0f94cda551c24401a4225f67d5089440",
       "version_major": 2,
       "version_minor": 0
      },
      "text/plain": [
       "Оценка распределения p-value:   0%|          | 0/1000 [00:00<?, ?it/s]"
      ]
     },
     "metadata": {},
     "output_type": "display_data"
    },
    {
     "name": "stdout",
     "output_type": "stream",
     "text": [
      "p_value = 0.64 - равномерное распределение p-value у теста ttest\n"
     ]
    },
    {
     "data": {
      "image/png": "[encoded data removed]",
      "text/plain": [
       "<Figure size 470x427 with 1 Axes>"
      ]
     },
     "metadata": {},
     "output_type": "display_data"
    }
   ],
   "source": [
    "print('t-тест без бакетирования на логнормальной выборке')\n",
    "run_statistical_tests(df_lognorm, test_type='ttest', value_column='metric')"
   ]
  },
  {
   "cell_type": "code",
   "execution_count": 46,
   "id": "d7abaee9-0fc2-4633-869b-63b5ad8a4c38",
   "metadata": {},
   "outputs": [],
   "source": [
    "def groups_splitter_buckets(df, columns, n_buckets):\n",
    "    chunks = np.array_split(df, n_buckets)\n",
    "    \n",
    "    chunks[0]['backet'] = 0\n",
    "    res_df = groups_splitter(chunks[0], columns)\n",
    "    \n",
    "    for n in range(1, len(chunks)):\n",
    "        chunks[n]['backet'] = n\n",
    "        part_df = groups_splitter(chunks[n], columns)\n",
    "        res_df= res_df._append(part_df)\n",
    "        \n",
    "    return res_df"
   ]
  },
  {
   "cell_type": "code",
   "execution_count": 47,
   "id": "dd30d932-4332-42f0-9091-42f1e13f270c",
   "metadata": {},
   "outputs": [],
   "source": [
    "df_lognorm_backet = groups_splitter_buckets(df_lognorm, ['user_id', 'metric', 'backet', 'group'], 100)"
   ]
  },
  {
   "cell_type": "code",
   "execution_count": 48,
   "id": "6116929c-69e3-44bc-8bdf-a34963b28f45",
   "metadata": {},
   "outputs": [
    {
     "data": {
      "text/html": [
       "<div>\n",
       "<style scoped>\n",
       "    .dataframe tbody tr th:only-of-type {\n",
       "        vertical-align: middle;\n",
       "    }\n",
       "\n",
       "    .dataframe tbody tr th {\n",
       "        vertical-align: top;\n",
       "    }\n",
       "\n",
       "    .dataframe thead th {\n",
       "        text-align: right;\n",
       "    }\n",
       "</style>\n",
       "<table border=\"1\" class=\"dataframe\">\n",
       "  <thead>\n",
       "    <tr style=\"text-align: right;\">\n",
       "      <th></th>\n",
       "      <th>user_id</th>\n",
       "    </tr>\n",
       "    <tr>\n",
       "      <th>group</th>\n",
       "      <th></th>\n",
       "    </tr>\n",
       "  </thead>\n",
       "  <tbody>\n",
       "    <tr>\n",
       "      <th>A</th>\n",
       "      <td>494</td>\n",
       "    </tr>\n",
       "    <tr>\n",
       "      <th>B</th>\n",
       "      <td>506</td>\n",
       "    </tr>\n",
       "  </tbody>\n",
       "</table>\n",
       "</div>"
      ],
      "text/plain": [
       "       user_id\n",
       "group         \n",
       "A          494\n",
       "B          506"
      ]
     },
     "execution_count": 48,
     "metadata": {},
     "output_type": "execute_result"
    }
   ],
   "source": [
    "df_lognorm_backet.groupby('group')[['user_id']].count()"
   ]
  },
  {
   "cell_type": "code",
   "execution_count": 49,
   "id": "0f99470f-fafa-4bfc-9fbe-5e744cd64cde",
   "metadata": {},
   "outputs": [
    {
     "data": {
      "text/html": [
       "<div>\n",
       "<style scoped>\n",
       "    .dataframe tbody tr th:only-of-type {\n",
       "        vertical-align: middle;\n",
       "    }\n",
       "\n",
       "    .dataframe tbody tr th {\n",
       "        vertical-align: top;\n",
       "    }\n",
       "\n",
       "    .dataframe thead th {\n",
       "        text-align: right;\n",
       "    }\n",
       "</style>\n",
       "<table border=\"1\" class=\"dataframe\">\n",
       "  <thead>\n",
       "    <tr style=\"text-align: right;\">\n",
       "      <th></th>\n",
       "      <th></th>\n",
       "      <th>user_id</th>\n",
       "    </tr>\n",
       "    <tr>\n",
       "      <th>group</th>\n",
       "      <th>backet</th>\n",
       "      <th></th>\n",
       "    </tr>\n",
       "  </thead>\n",
       "  <tbody>\n",
       "    <tr>\n",
       "      <th rowspan=\"5\" valign=\"top\">A</th>\n",
       "      <th>0</th>\n",
       "      <td>3</td>\n",
       "    </tr>\n",
       "    <tr>\n",
       "      <th>1</th>\n",
       "      <td>6</td>\n",
       "    </tr>\n",
       "    <tr>\n",
       "      <th>2</th>\n",
       "      <td>7</td>\n",
       "    </tr>\n",
       "    <tr>\n",
       "      <th>3</th>\n",
       "      <td>5</td>\n",
       "    </tr>\n",
       "    <tr>\n",
       "      <th>4</th>\n",
       "      <td>3</td>\n",
       "    </tr>\n",
       "    <tr>\n",
       "      <th>...</th>\n",
       "      <th>...</th>\n",
       "      <td>...</td>\n",
       "    </tr>\n",
       "    <tr>\n",
       "      <th rowspan=\"5\" valign=\"top\">B</th>\n",
       "      <th>95</th>\n",
       "      <td>3</td>\n",
       "    </tr>\n",
       "    <tr>\n",
       "      <th>96</th>\n",
       "      <td>6</td>\n",
       "    </tr>\n",
       "    <tr>\n",
       "      <th>97</th>\n",
       "      <td>7</td>\n",
       "    </tr>\n",
       "    <tr>\n",
       "      <th>98</th>\n",
       "      <td>5</td>\n",
       "    </tr>\n",
       "    <tr>\n",
       "      <th>99</th>\n",
       "      <td>6</td>\n",
       "    </tr>\n",
       "  </tbody>\n",
       "</table>\n",
       "<p>200 rows × 1 columns</p>\n",
       "</div>"
      ],
      "text/plain": [
       "              user_id\n",
       "group backet         \n",
       "A     0             3\n",
       "      1             6\n",
       "      2             7\n",
       "      3             5\n",
       "      4             3\n",
       "...               ...\n",
       "B     95            3\n",
       "      96            6\n",
       "      97            7\n",
       "      98            5\n",
       "      99            6\n",
       "\n",
       "[200 rows x 1 columns]"
      ]
     },
     "execution_count": 49,
     "metadata": {},
     "output_type": "execute_result"
    }
   ],
   "source": [
    "df_lognorm_backet.groupby(['group', 'backet'])[['user_id']].count()"
   ]
  },
  {
   "cell_type": "code",
   "execution_count": 50,
   "id": "fb7dd6bc-68d7-4d24-b49f-a66a87d0efd5",
   "metadata": {},
   "outputs": [
    {
     "name": "stdout",
     "output_type": "stream",
     "text": [
      "t-тест с бакетированием на логнормальной выборке\n"
     ]
    },
    {
     "data": {
      "application/vnd.jupyter.widget-view+json": {
       "model_id": "22131a5ac9bf4ba88c4cff6e1439e117",
       "version_major": 2,
       "version_minor": 0
      },
      "text/plain": [
       "Оценка корректности:   0%|          | 0/1000 [00:00<?, ?it/s]"
      ]
     },
     "metadata": {},
     "output_type": "display_data"
    },
    {
     "name": "stdout",
     "output_type": "stream",
     "text": [
      "Корректность теста: 94.90%\n"
     ]
    },
    {
     "data": {
      "application/vnd.jupyter.widget-view+json": {
       "model_id": "016401c1437842ef9558e7df03b0e413",
       "version_major": 2,
       "version_minor": 0
      },
      "text/plain": [
       "Оценка мощности:   0%|          | 0/1000 [00:00<?, ?it/s]"
      ]
     },
     "metadata": {},
     "output_type": "display_data"
    },
    {
     "name": "stdout",
     "output_type": "stream",
     "text": [
      "Мощность теста для 0.5% эффекта: 3.90%\n"
     ]
    },
    {
     "data": {
      "application/vnd.jupyter.widget-view+json": {
       "model_id": "32d0013e188d4c49b4ae14a7dc1c1099",
       "version_major": 2,
       "version_minor": 0
      },
      "text/plain": [
       "Оценка распределения p-value:   0%|          | 0/1000 [00:00<?, ?it/s]"
      ]
     },
     "metadata": {},
     "output_type": "display_data"
    },
    {
     "name": "stdout",
     "output_type": "stream",
     "text": [
      "p_value = 0.29 - равномерное распределение p-value у теста ttest\n"
     ]
    },
    {
     "data": {
      "image/png": "[encoded data removed]",
      "text/plain": [
       "<Figure size 470x427 with 1 Axes>"
      ]
     },
     "metadata": {},
     "output_type": "display_data"
    }
   ],
   "source": [
    "print('t-тест с бакетированием на логнормальной выборке')\n",
    "run_statistical_tests(df_lognorm_backet, test_type='ttest', value_column='metric')"
   ]
  },
  {
   "cell_type": "markdown",
   "id": "92e923e9-3ae5-41be-b47f-3a309243a6f9",
   "metadata": {},
   "source": []
  },
  {
   "cell_type": "markdown",
   "id": "84a0aac0-50a7-4ed8-b1ca-48ec118c4fd6",
   "metadata": {
    "tags": []
   },
   "source": [
    "## на метрике cart_added_cnt"
   ]
  },
  {
   "cell_type": "code",
   "execution_count": 51,
   "id": "c49c5fc9-78eb-41b5-9f2d-120d65b9157f",
   "metadata": {},
   "outputs": [],
   "source": [
    "shop_metrics_new_backet = groups_splitter_buckets(shop_metrics_new, columns=['user_id', 'cart_added_cnt', 'backet', 'group'], n_buckets=100)"
   ]
  },
  {
   "cell_type": "code",
   "execution_count": 52,
   "id": "6c6423cf-cae0-47a5-afb5-1b9c3956770c",
   "metadata": {},
   "outputs": [
    {
     "data": {
      "text/html": [
       "<div>\n",
       "<style scoped>\n",
       "    .dataframe tbody tr th:only-of-type {\n",
       "        vertical-align: middle;\n",
       "    }\n",
       "\n",
       "    .dataframe tbody tr th {\n",
       "        vertical-align: top;\n",
       "    }\n",
       "\n",
       "    .dataframe thead th {\n",
       "        text-align: right;\n",
       "    }\n",
       "</style>\n",
       "<table border=\"1\" class=\"dataframe\">\n",
       "  <thead>\n",
       "    <tr style=\"text-align: right;\">\n",
       "      <th></th>\n",
       "      <th>user_id</th>\n",
       "      <th>cart_added_cnt</th>\n",
       "      <th>backet</th>\n",
       "      <th>group</th>\n",
       "    </tr>\n",
       "  </thead>\n",
       "  <tbody>\n",
       "    <tr>\n",
       "      <th>0</th>\n",
       "      <td>1515915625353230683</td>\n",
       "      <td>0</td>\n",
       "      <td>0</td>\n",
       "      <td>B</td>\n",
       "    </tr>\n",
       "    <tr>\n",
       "      <th>1</th>\n",
       "      <td>1515915625353234047</td>\n",
       "      <td>0</td>\n",
       "      <td>0</td>\n",
       "      <td>A</td>\n",
       "    </tr>\n",
       "    <tr>\n",
       "      <th>2</th>\n",
       "      <td>1515915625353236157</td>\n",
       "      <td>0</td>\n",
       "      <td>0</td>\n",
       "      <td>A</td>\n",
       "    </tr>\n",
       "    <tr>\n",
       "      <th>3</th>\n",
       "      <td>1515915625353294441</td>\n",
       "      <td>0</td>\n",
       "      <td>0</td>\n",
       "      <td>A</td>\n",
       "    </tr>\n",
       "    <tr>\n",
       "      <th>4</th>\n",
       "      <td>1515915625353386199</td>\n",
       "      <td>0</td>\n",
       "      <td>0</td>\n",
       "      <td>B</td>\n",
       "    </tr>\n",
       "  </tbody>\n",
       "</table>\n",
       "</div>"
      ],
      "text/plain": [
       "               user_id  cart_added_cnt  backet group\n",
       "0  1515915625353230683               0       0     B\n",
       "1  1515915625353234047               0       0     A\n",
       "2  1515915625353236157               0       0     A\n",
       "3  1515915625353294441               0       0     A\n",
       "4  1515915625353386199               0       0     B"
      ]
     },
     "execution_count": 52,
     "metadata": {},
     "output_type": "execute_result"
    }
   ],
   "source": [
    "shop_metrics_new_backet.head()"
   ]
  },
  {
   "cell_type": "code",
   "execution_count": 53,
   "id": "a0dd3faf-1e69-45bc-84c4-1f8a8e672d7f",
   "metadata": {},
   "outputs": [
    {
     "data": {
      "text/html": [
       "<div>\n",
       "<style scoped>\n",
       "    .dataframe tbody tr th:only-of-type {\n",
       "        vertical-align: middle;\n",
       "    }\n",
       "\n",
       "    .dataframe tbody tr th {\n",
       "        vertical-align: top;\n",
       "    }\n",
       "\n",
       "    .dataframe thead th {\n",
       "        text-align: right;\n",
       "    }\n",
       "</style>\n",
       "<table border=\"1\" class=\"dataframe\">\n",
       "  <thead>\n",
       "    <tr style=\"text-align: right;\">\n",
       "      <th></th>\n",
       "      <th>user_id</th>\n",
       "    </tr>\n",
       "    <tr>\n",
       "      <th>group</th>\n",
       "      <th></th>\n",
       "    </tr>\n",
       "  </thead>\n",
       "  <tbody>\n",
       "    <tr>\n",
       "      <th>A</th>\n",
       "      <td>111352</td>\n",
       "    </tr>\n",
       "    <tr>\n",
       "      <th>B</th>\n",
       "      <td>111169</td>\n",
       "    </tr>\n",
       "  </tbody>\n",
       "</table>\n",
       "</div>"
      ],
      "text/plain": [
       "       user_id\n",
       "group         \n",
       "A       111352\n",
       "B       111169"
      ]
     },
     "execution_count": 53,
     "metadata": {},
     "output_type": "execute_result"
    }
   ],
   "source": [
    "shop_metrics_new_backet.groupby('group')[['user_id']].count()"
   ]
  },
  {
   "cell_type": "code",
   "execution_count": 54,
   "id": "dd7c7e70-3306-4f9d-851f-8a1d7e6d9e56",
   "metadata": {},
   "outputs": [
    {
     "name": "stdout",
     "output_type": "stream",
     "text": [
      "t-тест с бакетированием на метрике cart_added_cnt\n"
     ]
    },
    {
     "data": {
      "application/vnd.jupyter.widget-view+json": {
       "model_id": "08f0478b10ab4928bee67b18edb24a45",
       "version_major": 2,
       "version_minor": 0
      },
      "text/plain": [
       "Оценка корректности:   0%|          | 0/1000 [00:00<?, ?it/s]"
      ]
     },
     "metadata": {},
     "output_type": "display_data"
    },
    {
     "name": "stdout",
     "output_type": "stream",
     "text": [
      "Корректность теста: 93.30%\n"
     ]
    },
    {
     "data": {
      "application/vnd.jupyter.widget-view+json": {
       "model_id": "4206f8275aa8448e94e7927a4ecc3f41",
       "version_major": 2,
       "version_minor": 0
      },
      "text/plain": [
       "Оценка мощности:   0%|          | 0/1000 [00:00<?, ?it/s]"
      ]
     },
     "metadata": {},
     "output_type": "display_data"
    },
    {
     "name": "stdout",
     "output_type": "stream",
     "text": [
      "Мощность теста для 0.5% эффекта: 6.30%\n"
     ]
    },
    {
     "data": {
      "application/vnd.jupyter.widget-view+json": {
       "model_id": "f526875698144508b2c932aa59a89c5d",
       "version_major": 2,
       "version_minor": 0
      },
      "text/plain": [
       "Оценка распределения p-value:   0%|          | 0/1000 [00:00<?, ?it/s]"
      ]
     },
     "metadata": {},
     "output_type": "display_data"
    },
    {
     "name": "stdout",
     "output_type": "stream",
     "text": [
      "p_value = 0.30 - равномерное распределение p-value у теста ttest\n"
     ]
    },
    {
     "data": {
      "image/png": "[encoded data removed]",
      "text/plain": [
       "<Figure size 470x427 with 1 Axes>"
      ]
     },
     "metadata": {},
     "output_type": "display_data"
    }
   ],
   "source": [
    "print('t-тест с бакетированием на метрике cart_added_cnt')\n",
    "run_statistical_tests(shop_metrics_new_backet, test_type='ttest', value_column='cart_added_cnt')"
   ]
  },
  {
   "cell_type": "markdown",
   "id": "4551b7cd-6381-4afa-9336-c4903db7d69b",
   "metadata": {},
   "source": [
    "t-тест метрике cart_added_cnt\n",
    "- Корректность теста: 95.30%\n",
    "- Мощность теста для 0.5% эффекта: 4.70%\n",
    "- p_value = 0.11 - равномерное распределение p-value у теста ttest\n",
    "\n",
    "\n",
    "t-тест с бакетированием на метрике cart_added_cnt\n",
    "- Корректность теста: 93.30%\n",
    "- Мощность теста для 0.5% эффекта: 6.30%\n",
    "- p_value = 0.30 - равномерное распределение p-value у теста ttest"
   ]
  },
  {
   "cell_type": "markdown",
   "id": "f0e73480-615b-4ab2-bbfa-ea34cd68a160",
   "metadata": {},
   "source": [
    "t-тест без бакетирования на логнормальной выборке\n",
    "- Корректность теста: 94.70%\n",
    "- Мощность теста для 0.5% эффекта: 6.30%\n",
    "- p_value = 0.64 - равномерное распределение p-value у теста ttest\n",
    "\n",
    "t-тест с бакетированием на логнормальной выборке\n",
    "- Корректность теста: 94.90%\n",
    "- Мощность теста для 0.5% эффекта: 3.90%\n",
    "- p_value = 0.29 - равномерное распределение p-value у теста ttest"
   ]
  },
  {
   "cell_type": "markdown",
   "id": "f816d3ec-d194-4e2a-b53b-47d5eb73d9a8",
   "metadata": {},
   "source": [
    "### Вывод\n",
    "\n",
    "- бакетирование неоднозначно повлияло на p_value, при этом мощности не сильно изменились\n",
    "\n"
   ]
  },
  {
   "cell_type": "markdown",
   "id": "ce25969b-b6a5-4e50-a186-6a129d71d682",
   "metadata": {
    "tags": []
   },
   "source": [
    "# 4. Реализовать постстратификацию на данных shop_metrics_old для метрики cart_added_cnt:\n",
    "- на сочетании пола и возраста (возраст разбить на подгруппы: 18-24, 25-45, 46-60, 61-75, 76+) (5 баллов)\n",
    "подсчитать результаты для случая без постстратификации и с постстратификацией\n",
    "- проверить мощность и корректность t-критерия для постстратифицированного случая (5 баллов)"
   ]
  },
  {
   "cell_type": "code",
   "execution_count": 55,
   "id": "82edc1be-df3e-474d-aae6-414cc4ad8027",
   "metadata": {},
   "outputs": [
    {
     "data": {
      "text/html": [
       "<div>\n",
       "<style scoped>\n",
       "    .dataframe tbody tr th:only-of-type {\n",
       "        vertical-align: middle;\n",
       "    }\n",
       "\n",
       "    .dataframe tbody tr th {\n",
       "        vertical-align: top;\n",
       "    }\n",
       "\n",
       "    .dataframe thead th {\n",
       "        text-align: right;\n",
       "    }\n",
       "</style>\n",
       "<table border=\"1\" class=\"dataframe\">\n",
       "  <thead>\n",
       "    <tr style=\"text-align: right;\">\n",
       "      <th></th>\n",
       "      <th>user_id</th>\n",
       "      <th>user_age</th>\n",
       "      <th>user_sex</th>\n",
       "    </tr>\n",
       "  </thead>\n",
       "  <tbody>\n",
       "    <tr>\n",
       "      <th>0</th>\n",
       "      <td>1515915625519388267</td>\n",
       "      <td>41</td>\n",
       "      <td>f</td>\n",
       "    </tr>\n",
       "    <tr>\n",
       "      <th>1</th>\n",
       "      <td>1515915625519380411</td>\n",
       "      <td>84</td>\n",
       "      <td>m</td>\n",
       "    </tr>\n",
       "    <tr>\n",
       "      <th>2</th>\n",
       "      <td>1515915625513238515</td>\n",
       "      <td>41</td>\n",
       "      <td>m</td>\n",
       "    </tr>\n",
       "    <tr>\n",
       "      <th>3</th>\n",
       "      <td>1515915625519014356</td>\n",
       "      <td>25</td>\n",
       "      <td>m</td>\n",
       "    </tr>\n",
       "    <tr>\n",
       "      <th>4</th>\n",
       "      <td>1515915625510743344</td>\n",
       "      <td>42</td>\n",
       "      <td>m</td>\n",
       "    </tr>\n",
       "  </tbody>\n",
       "</table>\n",
       "</div>"
      ],
      "text/plain": [
       "               user_id  user_age user_sex\n",
       "0  1515915625519388267        41        f\n",
       "1  1515915625519380411        84        m\n",
       "2  1515915625513238515        41        m\n",
       "3  1515915625519014356        25        m\n",
       "4  1515915625510743344        42        m"
      ]
     },
     "execution_count": 55,
     "metadata": {},
     "output_type": "execute_result"
    }
   ],
   "source": [
    "shop_users_info.head()"
   ]
  },
  {
   "cell_type": "code",
   "execution_count": 56,
   "id": "44fdebb8-1e93-4514-9360-033a2aa98b27",
   "metadata": {},
   "outputs": [],
   "source": [
    "shop_metrics_new = shop_metrics_new.merge(shop_users_info, how='left')\n",
    "shop_metrics_old = shop_metrics_old.merge(shop_users_info, how='left')"
   ]
  },
  {
   "cell_type": "code",
   "execution_count": 57,
   "id": "dca59fbd-1b78-454a-b1a8-55a71bfb463e",
   "metadata": {},
   "outputs": [],
   "source": [
    "age_bins = [17, 24, 45, 60, 75, np.inf]\n",
    "age_labels = ['18_24', '25_45', '46_60', '61_75', '76+']\n",
    "\n",
    "shop_metrics_old['age_group'] = pd.cut(shop_metrics_old['user_age'], bins=age_bins, labels=age_labels)"
   ]
  },
  {
   "cell_type": "code",
   "execution_count": 58,
   "id": "78009c53-1f4b-4620-8b66-01060cf6ca37",
   "metadata": {},
   "outputs": [
    {
     "data": {
      "text/html": [
       "<div>\n",
       "<style scoped>\n",
       "    .dataframe tbody tr th:only-of-type {\n",
       "        vertical-align: middle;\n",
       "    }\n",
       "\n",
       "    .dataframe tbody tr th {\n",
       "        vertical-align: top;\n",
       "    }\n",
       "\n",
       "    .dataframe thead th {\n",
       "        text-align: right;\n",
       "    }\n",
       "</style>\n",
       "<table border=\"1\" class=\"dataframe\">\n",
       "  <thead>\n",
       "    <tr style=\"text-align: right;\">\n",
       "      <th></th>\n",
       "      <th>user_id</th>\n",
       "      <th>group</th>\n",
       "      <th>is_viewed</th>\n",
       "      <th>products_viewed_cnt</th>\n",
       "      <th>price_sum</th>\n",
       "      <th>is_cart_added</th>\n",
       "      <th>is_purchased</th>\n",
       "      <th>cart_added_cnt</th>\n",
       "      <th>purchased_cnt</th>\n",
       "      <th>user_age</th>\n",
       "      <th>user_sex</th>\n",
       "      <th>age_group</th>\n",
       "    </tr>\n",
       "  </thead>\n",
       "  <tbody>\n",
       "    <tr>\n",
       "      <th>0</th>\n",
       "      <td>1515915625353226922</td>\n",
       "      <td>B</td>\n",
       "      <td>1</td>\n",
       "      <td>1</td>\n",
       "      <td>76.48</td>\n",
       "      <td>0.0</td>\n",
       "      <td>0.0</td>\n",
       "      <td>0</td>\n",
       "      <td>0</td>\n",
       "      <td>55</td>\n",
       "      <td>f</td>\n",
       "      <td>46_60</td>\n",
       "    </tr>\n",
       "    <tr>\n",
       "      <th>1</th>\n",
       "      <td>1515915625353230067</td>\n",
       "      <td>A</td>\n",
       "      <td>1</td>\n",
       "      <td>1</td>\n",
       "      <td>28.98</td>\n",
       "      <td>0.0</td>\n",
       "      <td>0.0</td>\n",
       "      <td>0</td>\n",
       "      <td>0</td>\n",
       "      <td>58</td>\n",
       "      <td>m</td>\n",
       "      <td>46_60</td>\n",
       "    </tr>\n",
       "    <tr>\n",
       "      <th>2</th>\n",
       "      <td>1515915625353230683</td>\n",
       "      <td>A</td>\n",
       "      <td>1</td>\n",
       "      <td>10</td>\n",
       "      <td>592.21</td>\n",
       "      <td>0.0</td>\n",
       "      <td>0.0</td>\n",
       "      <td>0</td>\n",
       "      <td>0</td>\n",
       "      <td>23</td>\n",
       "      <td>f</td>\n",
       "      <td>18_24</td>\n",
       "    </tr>\n",
       "    <tr>\n",
       "      <th>3</th>\n",
       "      <td>1515915625353230922</td>\n",
       "      <td>A</td>\n",
       "      <td>1</td>\n",
       "      <td>1</td>\n",
       "      <td>274.40</td>\n",
       "      <td>0.0</td>\n",
       "      <td>0.0</td>\n",
       "      <td>0</td>\n",
       "      <td>0</td>\n",
       "      <td>33</td>\n",
       "      <td>m</td>\n",
       "      <td>25_45</td>\n",
       "    </tr>\n",
       "    <tr>\n",
       "      <th>4</th>\n",
       "      <td>1515915625353234047</td>\n",
       "      <td>A</td>\n",
       "      <td>1</td>\n",
       "      <td>14</td>\n",
       "      <td>1857.94</td>\n",
       "      <td>0.0</td>\n",
       "      <td>0.0</td>\n",
       "      <td>0</td>\n",
       "      <td>0</td>\n",
       "      <td>26</td>\n",
       "      <td>f</td>\n",
       "      <td>25_45</td>\n",
       "    </tr>\n",
       "  </tbody>\n",
       "</table>\n",
       "</div>"
      ],
      "text/plain": [
       "               user_id group  is_viewed  products_viewed_cnt  price_sum  \\\n",
       "0  1515915625353226922     B          1                    1      76.48   \n",
       "1  1515915625353230067     A          1                    1      28.98   \n",
       "2  1515915625353230683     A          1                   10     592.21   \n",
       "3  1515915625353230922     A          1                    1     274.40   \n",
       "4  1515915625353234047     A          1                   14    1857.94   \n",
       "\n",
       "   is_cart_added  is_purchased  cart_added_cnt  purchased_cnt  user_age  \\\n",
       "0            0.0           0.0               0              0        55   \n",
       "1            0.0           0.0               0              0        58   \n",
       "2            0.0           0.0               0              0        23   \n",
       "3            0.0           0.0               0              0        33   \n",
       "4            0.0           0.0               0              0        26   \n",
       "\n",
       "  user_sex age_group  \n",
       "0        f     46_60  \n",
       "1        m     46_60  \n",
       "2        f     18_24  \n",
       "3        m     25_45  \n",
       "4        f     25_45  "
      ]
     },
     "execution_count": 58,
     "metadata": {},
     "output_type": "execute_result"
    }
   ],
   "source": [
    "shop_metrics_old.head()"
   ]
  },
  {
   "cell_type": "code",
   "execution_count": 59,
   "id": "9278aca0-706e-424e-99ce-1b8327617543",
   "metadata": {},
   "outputs": [],
   "source": [
    "shop_metrics_old['strats'] = (shop_metrics_old['user_sex'].astype(str) + '_' + shop_metrics_old['age_group'].astype(str))\n",
    "\n",
    "shop_metrics_all = pd.merge(shop_metrics_new, shop_metrics_old[['user_id', 'strats']], on='user_id', how='left')"
   ]
  },
  {
   "cell_type": "code",
   "execution_count": 60,
   "id": "40f8ce52-276c-467c-80ca-6e931201e656",
   "metadata": {},
   "outputs": [
    {
     "data": {
      "text/html": [
       "<div>\n",
       "<style scoped>\n",
       "    .dataframe tbody tr th:only-of-type {\n",
       "        vertical-align: middle;\n",
       "    }\n",
       "\n",
       "    .dataframe tbody tr th {\n",
       "        vertical-align: top;\n",
       "    }\n",
       "\n",
       "    .dataframe thead th {\n",
       "        text-align: right;\n",
       "    }\n",
       "</style>\n",
       "<table border=\"1\" class=\"dataframe\">\n",
       "  <thead>\n",
       "    <tr style=\"text-align: right;\">\n",
       "      <th></th>\n",
       "      <th>user_id</th>\n",
       "    </tr>\n",
       "    <tr>\n",
       "      <th>group</th>\n",
       "      <th></th>\n",
       "    </tr>\n",
       "  </thead>\n",
       "  <tbody>\n",
       "    <tr>\n",
       "      <th>A</th>\n",
       "      <td>111321</td>\n",
       "    </tr>\n",
       "    <tr>\n",
       "      <th>B</th>\n",
       "      <td>111200</td>\n",
       "    </tr>\n",
       "  </tbody>\n",
       "</table>\n",
       "</div>"
      ],
      "text/plain": [
       "       user_id\n",
       "group         \n",
       "A       111321\n",
       "B       111200"
      ]
     },
     "execution_count": 60,
     "metadata": {},
     "output_type": "execute_result"
    }
   ],
   "source": [
    "shop_metrics_all.groupby('group')[['user_id']].count()"
   ]
  },
  {
   "cell_type": "code",
   "execution_count": 61,
   "id": "53d22050-9e3d-4c5b-8f3d-e40d2a2615f6",
   "metadata": {},
   "outputs": [
    {
     "data": {
      "text/html": [
       "<div>\n",
       "<style scoped>\n",
       "    .dataframe tbody tr th:only-of-type {\n",
       "        vertical-align: middle;\n",
       "    }\n",
       "\n",
       "    .dataframe tbody tr th {\n",
       "        vertical-align: top;\n",
       "    }\n",
       "\n",
       "    .dataframe thead th {\n",
       "        text-align: right;\n",
       "    }\n",
       "</style>\n",
       "<table border=\"1\" class=\"dataframe\">\n",
       "  <thead>\n",
       "    <tr style=\"text-align: right;\">\n",
       "      <th></th>\n",
       "      <th>user_id</th>\n",
       "    </tr>\n",
       "    <tr>\n",
       "      <th>group</th>\n",
       "      <th></th>\n",
       "    </tr>\n",
       "  </thead>\n",
       "  <tbody>\n",
       "    <tr>\n",
       "      <th>A</th>\n",
       "      <td>111260</td>\n",
       "    </tr>\n",
       "    <tr>\n",
       "      <th>B</th>\n",
       "      <td>111261</td>\n",
       "    </tr>\n",
       "  </tbody>\n",
       "</table>\n",
       "</div>"
      ],
      "text/plain": [
       "       user_id\n",
       "group         \n",
       "A       111260\n",
       "B       111261"
      ]
     },
     "execution_count": 61,
     "metadata": {},
     "output_type": "execute_result"
    }
   ],
   "source": [
    "n = 0\n",
    "columns = ['user_id', 'cart_added_cnt', 'strats', 'group']\n",
    "\n",
    "for strat in shop_metrics_all.strats.unique():\n",
    "    if n == 0:\n",
    "        prom_df = shop_metrics_all[shop_metrics_all.strats == strat]\n",
    "        prom_df.reset_index(drop=True, inplace=True)\n",
    "        res_df = groups_splitter(prom_df, columns)\n",
    "    else:\n",
    "        prom_df = shop_metrics_all[shop_metrics_all.strats == strat]\n",
    "        prom_df.reset_index(drop=True, inplace=True)\n",
    "        prom_df = groups_splitter(prom_df, columns)\n",
    "        res_df = res_df._append(prom_df)\n",
    "    n += 1\n",
    "    \n",
    "res_df.groupby('group')[['user_id']].count()"
   ]
  },
  {
   "cell_type": "code",
   "execution_count": 62,
   "id": "adb868a1-18b5-410e-8b5c-7b458b21ff4a",
   "metadata": {},
   "outputs": [
    {
     "data": {
      "text/html": [
       "<div>\n",
       "<style scoped>\n",
       "    .dataframe tbody tr th:only-of-type {\n",
       "        vertical-align: middle;\n",
       "    }\n",
       "\n",
       "    .dataframe tbody tr th {\n",
       "        vertical-align: top;\n",
       "    }\n",
       "\n",
       "    .dataframe thead th {\n",
       "        text-align: right;\n",
       "    }\n",
       "</style>\n",
       "<table border=\"1\" class=\"dataframe\">\n",
       "  <thead>\n",
       "    <tr style=\"text-align: right;\">\n",
       "      <th></th>\n",
       "      <th>user_id</th>\n",
       "      <th>cart_added_cnt</th>\n",
       "      <th>strats</th>\n",
       "      <th>group</th>\n",
       "    </tr>\n",
       "  </thead>\n",
       "  <tbody>\n",
       "    <tr>\n",
       "      <th>0</th>\n",
       "      <td>1515915625353230683</td>\n",
       "      <td>0</td>\n",
       "      <td>f_18_24</td>\n",
       "      <td>A</td>\n",
       "    </tr>\n",
       "    <tr>\n",
       "      <th>1</th>\n",
       "      <td>1515915625355805313</td>\n",
       "      <td>1</td>\n",
       "      <td>f_18_24</td>\n",
       "      <td>B</td>\n",
       "    </tr>\n",
       "    <tr>\n",
       "      <th>2</th>\n",
       "      <td>1515915625358008624</td>\n",
       "      <td>0</td>\n",
       "      <td>f_18_24</td>\n",
       "      <td>A</td>\n",
       "    </tr>\n",
       "    <tr>\n",
       "      <th>3</th>\n",
       "      <td>1515915625367976920</td>\n",
       "      <td>1</td>\n",
       "      <td>f_18_24</td>\n",
       "      <td>A</td>\n",
       "    </tr>\n",
       "    <tr>\n",
       "      <th>4</th>\n",
       "      <td>1515915625369372234</td>\n",
       "      <td>0</td>\n",
       "      <td>f_18_24</td>\n",
       "      <td>A</td>\n",
       "    </tr>\n",
       "  </tbody>\n",
       "</table>\n",
       "</div>"
      ],
      "text/plain": [
       "               user_id  cart_added_cnt   strats group\n",
       "0  1515915625353230683               0  f_18_24     A\n",
       "1  1515915625355805313               1  f_18_24     B\n",
       "2  1515915625358008624               0  f_18_24     A\n",
       "3  1515915625367976920               1  f_18_24     A\n",
       "4  1515915625369372234               0  f_18_24     A"
      ]
     },
     "execution_count": 62,
     "metadata": {},
     "output_type": "execute_result"
    }
   ],
   "source": [
    "res_df.head()"
   ]
  },
  {
   "cell_type": "code",
   "execution_count": 63,
   "id": "68069e06-ccf1-41ee-8d5e-d56d12690056",
   "metadata": {},
   "outputs": [
    {
     "name": "stdout",
     "output_type": "stream",
     "text": [
      "t-тест с постстратификацией на метрике cart_added_cnt\n"
     ]
    },
    {
     "data": {
      "application/vnd.jupyter.widget-view+json": {
       "model_id": "c2175c766efb4aafad14a4573b99ad68",
       "version_major": 2,
       "version_minor": 0
      },
      "text/plain": [
       "Оценка корректности:   0%|          | 0/1000 [00:00<?, ?it/s]"
      ]
     },
     "metadata": {},
     "output_type": "display_data"
    },
    {
     "name": "stdout",
     "output_type": "stream",
     "text": [
      "Корректность теста: 94.90%\n"
     ]
    },
    {
     "data": {
      "application/vnd.jupyter.widget-view+json": {
       "model_id": "92ff3713be5e48ce99889305af1a412f",
       "version_major": 2,
       "version_minor": 0
      },
      "text/plain": [
       "Оценка мощности:   0%|          | 0/1000 [00:00<?, ?it/s]"
      ]
     },
     "metadata": {},
     "output_type": "display_data"
    },
    {
     "name": "stdout",
     "output_type": "stream",
     "text": [
      "Мощность теста для 0.5% эффекта: 4.70%\n"
     ]
    },
    {
     "data": {
      "application/vnd.jupyter.widget-view+json": {
       "model_id": "e954f6af961848c7abb19da2bf20420b",
       "version_major": 2,
       "version_minor": 0
      },
      "text/plain": [
       "Оценка распределения p-value:   0%|          | 0/1000 [00:00<?, ?it/s]"
      ]
     },
     "metadata": {},
     "output_type": "display_data"
    },
    {
     "name": "stdout",
     "output_type": "stream",
     "text": [
      "p_value = 0.43 - равномерное распределение p-value у теста ttest\n"
     ]
    },
    {
     "data": {
      "image/png": "[encoded data removed]",
      "text/plain": [
       "<Figure size 470x427 with 1 Axes>"
      ]
     },
     "metadata": {},
     "output_type": "display_data"
    }
   ],
   "source": [
    "print('t-тест с постстратификацией на метрике cart_added_cnt')\n",
    "run_statistical_tests(res_df, test_type='ttest', value_column='cart_added_cnt')\n"
   ]
  },
  {
   "cell_type": "code",
   "execution_count": 67,
   "id": "b8fbb245-994d-46b4-a8e3-b378330f7d18",
   "metadata": {},
   "outputs": [
    {
     "data": {
      "text/html": [
       "<div>\n",
       "<style scoped>\n",
       "    .dataframe tbody tr th:only-of-type {\n",
       "        vertical-align: middle;\n",
       "    }\n",
       "\n",
       "    .dataframe tbody tr th {\n",
       "        vertical-align: top;\n",
       "    }\n",
       "\n",
       "    .dataframe thead th {\n",
       "        text-align: right;\n",
       "    }\n",
       "</style>\n",
       "<table border=\"1\" class=\"dataframe\">\n",
       "  <thead>\n",
       "    <tr style=\"text-align: right;\">\n",
       "      <th></th>\n",
       "      <th>user_id</th>\n",
       "      <th>cart_added_cnt</th>\n",
       "      <th>strats</th>\n",
       "      <th>group</th>\n",
       "    </tr>\n",
       "  </thead>\n",
       "  <tbody>\n",
       "    <tr>\n",
       "      <th>0</th>\n",
       "      <td>1515915625353230683</td>\n",
       "      <td>0</td>\n",
       "      <td>f_18_24</td>\n",
       "      <td>A</td>\n",
       "    </tr>\n",
       "    <tr>\n",
       "      <th>1</th>\n",
       "      <td>1515915625355805313</td>\n",
       "      <td>1</td>\n",
       "      <td>f_18_24</td>\n",
       "      <td>B</td>\n",
       "    </tr>\n",
       "    <tr>\n",
       "      <th>2</th>\n",
       "      <td>1515915625358008624</td>\n",
       "      <td>0</td>\n",
       "      <td>f_18_24</td>\n",
       "      <td>A</td>\n",
       "    </tr>\n",
       "    <tr>\n",
       "      <th>3</th>\n",
       "      <td>1515915625367976920</td>\n",
       "      <td>1</td>\n",
       "      <td>f_18_24</td>\n",
       "      <td>A</td>\n",
       "    </tr>\n",
       "    <tr>\n",
       "      <th>4</th>\n",
       "      <td>1515915625369372234</td>\n",
       "      <td>0</td>\n",
       "      <td>f_18_24</td>\n",
       "      <td>A</td>\n",
       "    </tr>\n",
       "  </tbody>\n",
       "</table>\n",
       "</div>"
      ],
      "text/plain": [
       "               user_id  cart_added_cnt   strats group\n",
       "0  1515915625353230683               0  f_18_24     A\n",
       "1  1515915625355805313               1  f_18_24     B\n",
       "2  1515915625358008624               0  f_18_24     A\n",
       "3  1515915625367976920               1  f_18_24     A\n",
       "4  1515915625369372234               0  f_18_24     A"
      ]
     },
     "execution_count": 67,
     "metadata": {},
     "output_type": "execute_result"
    }
   ],
   "source": [
    "res_df.head()"
   ]
  },
  {
   "cell_type": "code",
   "execution_count": null,
   "id": "6ec95e22-8a0a-4ac5-9fee-1fce2bc16f3a",
   "metadata": {},
   "outputs": [],
   "source": []
  },
  {
   "cell_type": "markdown",
   "id": "058d7911-2e3c-4548-9267-f82fb417812e",
   "metadata": {},
   "source": [
    "### Вывод\n",
    "\n",
    "- стратификация также не повлияла на мощности\n",
    "\n"
   ]
  }
 ],
 "metadata": {
  "kernelspec": {
   "display_name": "Python 3 (ipykernel)",
   "language": "python",
   "name": "python3"
  },
  "language_info": {
   "codemirror_mode": {
    "name": "ipython",
    "version": 3
   },
   "file_extension": ".py",
   "mimetype": "text/x-python",
   "name": "python",
   "nbconvert_exporter": "python",
   "pygments_lexer": "ipython3",
   "version": "3.9.13"
  }
 },
 "nbformat": 4,
 "nbformat_minor": 5
}
