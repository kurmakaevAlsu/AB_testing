{
 "cells": [
  {
   "cell_type": "code",
   "execution_count": 2,
   "metadata": {
    "executionInfo": {
     "elapsed": 30348,
     "status": "ok",
     "timestamp": 1735063732322,
     "user": {
      "displayName": "Алсу Курмакаева",
      "userId": "11275952572532953359"
     },
     "user_tz": -180
    },
    "id": "3SgwrMcHBAoR"
   },
   "outputs": [
    {
     "name": "stderr",
     "output_type": "stream",
     "text": [
      "/Users/alsukurmakaeva/miniconda3/lib/python3.9/site-packages/pandas/core/arrays/masked.py:60: UserWarning: Pandas requires version '1.3.6' or newer of 'bottleneck' (version '1.3.5' currently installed).\n",
      "  from pandas.core import (\n"
     ]
    }
   ],
   "source": [
    "import os\n",
    "import requests\n",
    "import warnings\n",
    "import zipfile\n",
    "from tqdm import tqdm_notebook as tqdm\n",
    "\n",
    "import numpy as np\n",
    "import pandas as pd\n",
    "import datetime\n",
    "\n",
    "from base64 import b64encode\n",
    "from collections import Counter\n",
    "from concurrent.futures import ThreadPoolExecutor\n",
    "from typing import Callable, List, Tuple\n",
    "\n",
    "import cudf\n",
    "import cupy as cp\n",
    "\n",
    "import scipy.stats\n",
    "import scipy\n",
    "import scipy.stats as stats\n",
    "from scipy.stats import norm\n",
    "from scipy.stats import mannwhitneyu\n",
    "import statsmodels\n",
    "import statsmodels.sandbox.stats.multicomp\n",
    "from statsmodels.stats.weightstats import ztest\n",
    "\n",
    "import matplotlib.pyplot as plt\n",
    "import seaborn as sns\n",
    "\n",
    "from sklearn.utils import shuffle\n",
    "import hashlib\n",
    "from base64 import b64encode\n",
    "import collections\n",
    "\n",
    "warnings.filterwarnings('ignore')"
   ]
  },
  {
   "cell_type": "code",
   "execution_count": 2,
   "metadata": {
    "colab": {
     "base_uri": "https://localhost:8080/"
    },
    "executionInfo": {
     "elapsed": 254,
     "status": "ok",
     "timestamp": 1735063732568,
     "user": {
      "displayName": "Алсу Курмакаева",
      "userId": "11275952572532953359"
     },
     "user_tz": -180
    },
    "id": "lkNj6xWgFOic",
    "outputId": "cda02118-f82e-41a7-855b-a29e0f36ba26"
   },
   "outputs": [
    {
     "name": "stdout",
     "output_type": "stream",
     "text": [
      "Tue Dec 24 18:08:52 2024       \n",
      "+---------------------------------------------------------------------------------------+\n",
      "| NVIDIA-SMI 535.104.05             Driver Version: 535.104.05   CUDA Version: 12.2     |\n",
      "|-----------------------------------------+----------------------+----------------------+\n",
      "| GPU  Name                 Persistence-M | Bus-Id        Disp.A | Volatile Uncorr. ECC |\n",
      "| Fan  Temp   Perf          Pwr:Usage/Cap |         Memory-Usage | GPU-Util  Compute M. |\n",
      "|                                         |                      |               MIG M. |\n",
      "|=========================================+======================+======================|\n",
      "|   0  Tesla T4                       Off | 00000000:00:04.0 Off |                    0 |\n",
      "| N/A   49C    P8              10W /  70W |      3MiB / 15360MiB |      0%      Default |\n",
      "|                                         |                      |                  N/A |\n",
      "+-----------------------------------------+----------------------+----------------------+\n",
      "                                                                                         \n",
      "+---------------------------------------------------------------------------------------+\n",
      "| Processes:                                                                            |\n",
      "|  GPU   GI   CI        PID   Type   Process name                            GPU Memory |\n",
      "|        ID   ID                                                             Usage      |\n",
      "|=======================================================================================|\n",
      "|  No running processes found                                                           |\n",
      "+---------------------------------------------------------------------------------------+\n"
     ]
    }
   ],
   "source": [
    "!nvidia-smi"
   ]
  },
  {
   "cell_type": "code",
   "execution_count": 3,
   "metadata": {
    "colab": {
     "base_uri": "https://localhost:8080/"
    },
    "executionInfo": {
     "elapsed": 225802,
     "status": "ok",
     "timestamp": 1735063958368,
     "user": {
      "displayName": "Алсу Курмакаева",
      "userId": "11275952572532953359"
     },
     "user_tz": -180
    },
    "id": "1fJ8KRiNL6sn",
    "outputId": "6c2dddc7-c846-4534-8337-ae41dffc461a"
   },
   "outputs": [
    {
     "name": "stdout",
     "output_type": "stream",
     "text": [
      "\u001b[2K     \u001b[90m━━━━━━━━━━━━━━━━━━━━━━━━━━━━━━━━━━━━━━━━\u001b[0m \u001b[32m26.9/26.9 MB\u001b[0m \u001b[31m32.7 MB/s\u001b[0m eta \u001b[36m0:00:00\u001b[0m\n",
      "\u001b[2K     \u001b[90m━━━━━━━━━━━━━━━━━━━━━━━━━━━━━━━━━━━━━━━━\u001b[0m \u001b[32m67.2/67.2 kB\u001b[0m \u001b[31m4.8 MB/s\u001b[0m eta \u001b[36m0:00:00\u001b[0m\n",
      "\u001b[2K     \u001b[90m━━━━━━━━━━━━━━━━━━━━━━━━━━━━━━━━━━━━━━━━\u001b[0m \u001b[32m548.0/548.0 MB\u001b[0m \u001b[31m3.2 MB/s\u001b[0m eta \u001b[36m0:00:00\u001b[0m\n",
      "\u001b[2K     \u001b[90m━━━━━━━━━━━━━━━━━━━━━━━━━━━━━━━━━━━━━━━━\u001b[0m \u001b[32m920.1/920.1 MB\u001b[0m \u001b[31m1.7 MB/s\u001b[0m eta \u001b[36m0:00:00\u001b[0m\n",
      "\u001b[2K     \u001b[90m━━━━━━━━━━━━━━━━━━━━━━━━━━━━━━━━━━━━━━━━\u001b[0m \u001b[32m152.0/152.0 kB\u001b[0m \u001b[31m14.6 MB/s\u001b[0m eta \u001b[36m0:00:00\u001b[0m\n",
      "\u001b[2K     \u001b[90m━━━━━━━━━━━━━━━━━━━━━━━━━━━━━━━━━━━━━━━━\u001b[0m \u001b[32m5.0/5.0 MB\u001b[0m \u001b[31m102.0 MB/s\u001b[0m eta \u001b[36m0:00:00\u001b[0m\n",
      "\u001b[2K     \u001b[90m━━━━━━━━━━━━━━━━━━━━━━━━━━━━━━━━━━━━━━━━\u001b[0m \u001b[32m915.5/915.5 kB\u001b[0m \u001b[31m53.2 MB/s\u001b[0m eta \u001b[36m0:00:00\u001b[0m\n",
      "\u001b[2K     \u001b[90m━━━━━━━━━━━━━━━━━━━━━━━━━━━━━━━━━━━━━━━━\u001b[0m \u001b[32m83.6/83.6 kB\u001b[0m \u001b[31m6.4 MB/s\u001b[0m eta \u001b[36m0:00:00\u001b[0m\n",
      "\u001b[2K     \u001b[90m━━━━━━━━━━━━━━━━━━━━━━━━━━━━━━━━━━━━━━━━\u001b[0m \u001b[32m5.6/5.6 MB\u001b[0m \u001b[31m100.8 MB/s\u001b[0m eta \u001b[36m0:00:00\u001b[0m\n",
      "\u001b[2K     \u001b[90m━━━━━━━━━━━━━━━━━━━━━━━━━━━━━━━━━━━━━━━━\u001b[0m \u001b[32m11.8/11.8 MB\u001b[0m \u001b[31m105.7 MB/s\u001b[0m eta \u001b[36m0:00:00\u001b[0m\n",
      "\u001b[2K     \u001b[90m━━━━━━━━━━━━━━━━━━━━━━━━━━━━━━━━━━━━━━━━\u001b[0m \u001b[32m196.9/196.9 MB\u001b[0m \u001b[31m5.9 MB/s\u001b[0m eta \u001b[36m0:00:00\u001b[0m\n",
      "\u001b[2K     \u001b[90m━━━━━━━━━━━━━━━━━━━━━━━━━━━━━━━━━━━━━━━━\u001b[0m \u001b[32m849.7/849.7 MB\u001b[0m \u001b[31m1.8 MB/s\u001b[0m eta \u001b[36m0:00:00\u001b[0m\n",
      "\u001b[2K     \u001b[90m━━━━━━━━━━━━━━━━━━━━━━━━━━━━━━━━━━━━━━━━\u001b[0m \u001b[32m457.8/457.8 MB\u001b[0m \u001b[31m3.5 MB/s\u001b[0m eta \u001b[36m0:00:00\u001b[0m\n",
      "\u001b[2K     \u001b[90m━━━━━━━━━━━━━━━━━━━━━━━━━━━━━━━━━━━━━━━━\u001b[0m \u001b[32m37.3/37.3 MB\u001b[0m \u001b[31m19.9 MB/s\u001b[0m eta \u001b[36m0:00:00\u001b[0m\n",
      "\u001b[2K     \u001b[90m━━━━━━━━━━━━━━━━━━━━━━━━━━━━━━━━━━━━━━━━\u001b[0m \u001b[32m2.0/2.0 MB\u001b[0m \u001b[31m48.1 MB/s\u001b[0m eta \u001b[36m0:00:00\u001b[0m\n",
      "\u001b[2K     \u001b[90m━━━━━━━━━━━━━━━━━━━━━━━━━━━━━━━━━━━━━━━━\u001b[0m \u001b[32m134.4/134.4 kB\u001b[0m \u001b[31m10.4 MB/s\u001b[0m eta \u001b[36m0:00:00\u001b[0m\n",
      "\u001b[2K     \u001b[90m━━━━━━━━━━━━━━━━━━━━━━━━━━━━━━━━━━━━━━━━\u001b[0m \u001b[32m921.4/921.4 MB\u001b[0m \u001b[31m1.0 MB/s\u001b[0m eta \u001b[36m0:00:00\u001b[0m\n",
      "\u001b[2K     \u001b[90m━━━━━━━━━━━━━━━━━━━━━━━━━━━━━━━━━━━━━━━━\u001b[0m \u001b[32m2.1/2.1 MB\u001b[0m \u001b[31m62.6 MB/s\u001b[0m eta \u001b[36m0:00:00\u001b[0m\n",
      "\u001b[2K     \u001b[90m━━━━━━━━━━━━━━━━━━━━━━━━━━━━━━━━━━━━━━━━\u001b[0m \u001b[32m17.7/17.7 MB\u001b[0m \u001b[31m67.6 MB/s\u001b[0m eta \u001b[36m0:00:00\u001b[0m\n",
      "\u001b[2K     \u001b[90m━━━━━━━━━━━━━━━━━━━━━━━━━━━━━━━━━━━━━━━━\u001b[0m \u001b[32m841.7/841.7 kB\u001b[0m \u001b[31m43.0 MB/s\u001b[0m eta \u001b[36m0:00:00\u001b[0m\n",
      "\u001b[2K     \u001b[90m━━━━━━━━━━━━━━━━━━━━━━━━━━━━━━━━━━━━━━━━\u001b[0m \u001b[32m2.0/2.0 MB\u001b[0m \u001b[31m82.8 MB/s\u001b[0m eta \u001b[36m0:00:00\u001b[0m\n",
      "\u001b[2K     \u001b[90m━━━━━━━━━━━━━━━━━━━━━━━━━━━━━━━━━━━━━━━━\u001b[0m \u001b[32m28.9/28.9 MB\u001b[0m \u001b[31m20.0 MB/s\u001b[0m eta \u001b[36m0:00:00\u001b[0m\n",
      "\u001b[2K     \u001b[90m━━━━━━━━━━━━━━━━━━━━━━━━━━━━━━━━━━━━━━━━\u001b[0m \u001b[32m513.3/513.3 kB\u001b[0m \u001b[31m35.1 MB/s\u001b[0m eta \u001b[36m0:00:00\u001b[0m\n",
      "\u001b[2K   \u001b[90m━━━━━━━━━━━━━━━━━━━━━━━━━━━━━━━━━━━━━━━━\u001b[0m \u001b[32m916.0/916.0 kB\u001b[0m \u001b[31m24.4 MB/s\u001b[0m eta \u001b[36m0:00:00\u001b[0m\n",
      "\u001b[2K   \u001b[90m━━━━━━━━━━━━━━━━━━━━━━━━━━━━━━━━━━━━━━━━\u001b[0m \u001b[32m1.3/1.3 MB\u001b[0m \u001b[31m65.3 MB/s\u001b[0m eta \u001b[36m0:00:00\u001b[0m\n",
      "\u001b[2K   \u001b[90m━━━━━━━━━━━━━━━━━━━━━━━━━━━━━━━━━━━━━━━━\u001b[0m \u001b[32m244.5/244.5 kB\u001b[0m \u001b[31m23.2 MB/s\u001b[0m eta \u001b[36m0:00:00\u001b[0m\n",
      "\u001b[2K   \u001b[90m━━━━━━━━━━━━━━━━━━━━━━━━━━━━━━━━━━━━━━━━\u001b[0m \u001b[32m1.0/1.0 MB\u001b[0m \u001b[31m57.4 MB/s\u001b[0m eta \u001b[36m0:00:00\u001b[0m\n",
      "\u001b[2K   \u001b[90m━━━━━━━━━━━━━━━━━━━━━━━━━━━━━━━━━━━━━━━━\u001b[0m \u001b[32m18.3/18.3 MB\u001b[0m \u001b[31m97.0 MB/s\u001b[0m eta \u001b[36m0:00:00\u001b[0m\n",
      "\u001b[2K   \u001b[90m━━━━━━━━━━━━━━━━━━━━━━━━━━━━━━━━━━━━━━━━\u001b[0m \u001b[32m424.7/424.7 kB\u001b[0m \u001b[31m32.0 MB/s\u001b[0m eta \u001b[36m0:00:00\u001b[0m\n",
      "\u001b[2K   \u001b[90m━━━━━━━━━━━━━━━━━━━━━━━━━━━━━━━━━━━━━━━━\u001b[0m \u001b[32m47.0/47.0 kB\u001b[0m \u001b[31m4.3 MB/s\u001b[0m eta \u001b[36m0:00:00\u001b[0m\n",
      "\u001b[2K   \u001b[90m━━━━━━━━━━━━━━━━━━━━━━━━━━━━━━━━━━━━━━━━\u001b[0m \u001b[32m14.9/14.9 MB\u001b[0m \u001b[31m104.1 MB/s\u001b[0m eta \u001b[36m0:00:00\u001b[0m\n",
      "\u001b[2K   \u001b[90m━━━━━━━━━━━━━━━━━━━━━━━━━━━━━━━━━━━━━━━━\u001b[0m \u001b[32m26.9/26.9 MB\u001b[0m \u001b[31m19.1 MB/s\u001b[0m eta \u001b[36m0:00:00\u001b[0m\n",
      "\u001b[2K   \u001b[90m━━━━━━━━━━━━━━━━━━━━━━━━━━━━━━━━━━━━━━━━\u001b[0m \u001b[32m43.3/43.3 kB\u001b[0m \u001b[31m3.6 MB/s\u001b[0m eta \u001b[36m0:00:00\u001b[0m\n",
      "\u001b[?25h"
     ]
    }
   ],
   "source": [
    "%pip install -q \\\n",
    "    --extra-index-url=https://pypi.nvidia.com \\\n",
    "    \"cudf-cu12==24.12.*\" \"dask-cudf-cu12==24.12.*\" \"cuml-cu12==24.12.*\" \\\n",
    "    \"cugraph-cu12==24.12.*\" \"nx-cugraph-cu12==24.12.*\" \"cuspatial-cu12==24.12.*\" \\\n",
    "    \"cuproj-cu12==24.12.*\" \"cuxfilter-cu12==24.12.*\" \"cucim-cu12==24.12.*\" \\\n",
    "    \"pylibraft-cu12==24.12.*\" \"raft-dask-cu12==24.12.*\" \"cuvs-cu12==24.12.*\" \\\n",
    "    \"nx-cugraph-cu12==24.12.*\"\n",
    "%pip install -q cupy-cuda12x"
   ]
  },
  {
   "cell_type": "markdown",
   "metadata": {
    "id": "pfAu1rJ_G2fT",
    "tags": []
   },
   "source": [
    "# Скачиваем данные"
   ]
  },
  {
   "cell_type": "code",
   "execution_count": 4,
   "metadata": {
    "colab": {
     "base_uri": "https://localhost:8080/",
     "height": 69,
     "referenced_widgets": [
      "edbdedd3e19848b0b550a046f333bea6",
      "9c9d3052536947fdbcc7cdd4a032d7ec",
      "c9c9ed1fdc7943c5a4e5a30af117bc70",
      "57c01e512f6040cc91ca05706c913466",
      "038427e60d1245bdae0470abfc4750ce",
      "906176ae2a4943a1a45fbafd5e41be6f",
      "f475bba13d9540a7b0b6982795ded3b5",
      "5fda42b5633746758f1309a0cff7ee88",
      "10a4d680f9c242e092657c7a306f6288",
      "7f47e29df53242b898763b65275e7b55",
      "eeee9950e076451197295cbbbd78756d"
     ]
    },
    "executionInfo": {
     "elapsed": 1946,
     "status": "ok",
     "timestamp": 1735063960304,
     "user": {
      "displayName": "Алсу Курмакаева",
      "userId": "11275952572532953359"
     },
     "user_tz": -180
    },
    "id": "IYA1LRI7BQv5",
    "outputId": "c2a394b9-8cfb-42a2-a1b9-b4fad73b7bd7"
   },
   "outputs": [
    {
     "data": {
      "application/vnd.jupyter.widget-view+json": {
       "model_id": "edbdedd3e19848b0b550a046f333bea6",
       "version_major": 2,
       "version_minor": 0
      },
      "text/plain": [
       "kion dataset download:   0%|          | 0.00/78.8M [00:00<?, ?iB/s]"
      ]
     },
     "metadata": {},
     "output_type": "display_data"
    }
   ],
   "source": [
    "# download dataset by chunks\n",
    "url = \"https://github.com/sharthZ23/your-second-recsys/raw/master/data_kion.zip\"\n",
    "\n",
    "req = requests.get(url, stream=True)\n",
    "\n",
    "with open('data_kion.zip', \"wb\") as fd:\n",
    "    total_size_in_bytes = int(req.headers.get('Content-Length', 0))\n",
    "    progress_bar = tqdm(desc='kion dataset download', total=total_size_in_bytes, unit='iB', unit_scale=True)\n",
    "    for chunk in req.iter_content(chunk_size=2 ** 20):\n",
    "        progress_bar.update(len(chunk))\n",
    "        fd.write(chunk)"
   ]
  },
  {
   "cell_type": "code",
   "execution_count": 5,
   "metadata": {
    "executionInfo": {
     "elapsed": 2537,
     "status": "ok",
     "timestamp": 1735063962837,
     "user": {
      "displayName": "Алсу Курмакаева",
      "userId": "11275952572532953359"
     },
     "user_tz": -180
    },
    "id": "nuxie3GRBYHf"
   },
   "outputs": [],
   "source": [
    "# Распаковываем архив из 3 файлов\n",
    "with zipfile.ZipFile('data_kion.zip', 'r') as zip_ref:\n",
    "    zip_ref.extractall()"
   ]
  },
  {
   "cell_type": "code",
   "execution_count": 3,
   "metadata": {
    "executionInfo": {
     "elapsed": 9871,
     "status": "ok",
     "timestamp": 1735063972706,
     "user": {
      "displayName": "Алсу Курмакаева",
      "userId": "11275952572532953359"
     },
     "user_tz": -180
    },
    "id": "PQzy0nZQBCOL"
   },
   "outputs": [],
   "source": [
    "interactions = pd.read_csv('../data_kion/interactions_df.csv')\n",
    "users = pd.read_csv('../data_kion/users.csv')\n",
    "items = pd.read_csv('../data_kion/items.csv')"
   ]
  },
  {
   "cell_type": "code",
   "execution_count": 4,
   "metadata": {
    "colab": {
     "base_uri": "https://localhost:8080/",
     "height": 238
    },
    "executionInfo": {
     "elapsed": 17,
     "status": "ok",
     "timestamp": 1735063972707,
     "user": {
      "displayName": "Алсу Курмакаева",
      "userId": "11275952572532953359"
     },
     "user_tz": -180
    },
    "id": "vN_yCn_uBRDS",
    "outputId": "98d070ba-127d-41b4-b894-1cc01eac96a7"
   },
   "outputs": [
    {
     "name": "stdout",
     "output_type": "stream",
     "text": [
      "объем таблицы - (5476251, 5)\n"
     ]
    },
    {
     "data": {
      "text/html": [
       "<div>\n",
       "<style scoped>\n",
       "    .dataframe tbody tr th:only-of-type {\n",
       "        vertical-align: middle;\n",
       "    }\n",
       "\n",
       "    .dataframe tbody tr th {\n",
       "        vertical-align: top;\n",
       "    }\n",
       "\n",
       "    .dataframe thead th {\n",
       "        text-align: right;\n",
       "    }\n",
       "</style>\n",
       "<table border=\"1\" class=\"dataframe\">\n",
       "  <thead>\n",
       "    <tr style=\"text-align: right;\">\n",
       "      <th></th>\n",
       "      <th>user_id</th>\n",
       "      <th>item_id</th>\n",
       "      <th>last_watch_dt</th>\n",
       "      <th>total_dur</th>\n",
       "      <th>watched_pct</th>\n",
       "    </tr>\n",
       "  </thead>\n",
       "  <tbody>\n",
       "    <tr>\n",
       "      <th>0</th>\n",
       "      <td>176549</td>\n",
       "      <td>9506</td>\n",
       "      <td>2021-05-11</td>\n",
       "      <td>4250</td>\n",
       "      <td>72.0</td>\n",
       "    </tr>\n",
       "    <tr>\n",
       "      <th>1</th>\n",
       "      <td>699317</td>\n",
       "      <td>1659</td>\n",
       "      <td>2021-05-29</td>\n",
       "      <td>8317</td>\n",
       "      <td>100.0</td>\n",
       "    </tr>\n",
       "    <tr>\n",
       "      <th>2</th>\n",
       "      <td>656683</td>\n",
       "      <td>7107</td>\n",
       "      <td>2021-05-09</td>\n",
       "      <td>10</td>\n",
       "      <td>0.0</td>\n",
       "    </tr>\n",
       "    <tr>\n",
       "      <th>3</th>\n",
       "      <td>864613</td>\n",
       "      <td>7638</td>\n",
       "      <td>2021-07-05</td>\n",
       "      <td>14483</td>\n",
       "      <td>100.0</td>\n",
       "    </tr>\n",
       "    <tr>\n",
       "      <th>4</th>\n",
       "      <td>964868</td>\n",
       "      <td>9506</td>\n",
       "      <td>2021-04-30</td>\n",
       "      <td>6725</td>\n",
       "      <td>100.0</td>\n",
       "    </tr>\n",
       "  </tbody>\n",
       "</table>\n",
       "</div>"
      ],
      "text/plain": [
       "   user_id  item_id last_watch_dt  total_dur  watched_pct\n",
       "0   176549     9506    2021-05-11       4250         72.0\n",
       "1   699317     1659    2021-05-29       8317        100.0\n",
       "2   656683     7107    2021-05-09         10          0.0\n",
       "3   864613     7638    2021-07-05      14483        100.0\n",
       "4   964868     9506    2021-04-30       6725        100.0"
      ]
     },
     "execution_count": 4,
     "metadata": {},
     "output_type": "execute_result"
    }
   ],
   "source": [
    "print(f'объем таблицы - {interactions.shape}')\n",
    "interactions.head()"
   ]
  },
  {
   "cell_type": "code",
   "execution_count": 5,
   "metadata": {
    "colab": {
     "base_uri": "https://localhost:8080/",
     "height": 238
    },
    "executionInfo": {
     "elapsed": 13,
     "status": "ok",
     "timestamp": 1735063972707,
     "user": {
      "displayName": "Алсу Курмакаева",
      "userId": "11275952572532953359"
     },
     "user_tz": -180
    },
    "id": "1KxsuTgQCNeZ",
    "outputId": "1bde75bc-e721-4031-9ed5-d8f25773d765"
   },
   "outputs": [
    {
     "name": "stdout",
     "output_type": "stream",
     "text": [
      "объем таблицы - (840197, 5)\n"
     ]
    },
    {
     "data": {
      "text/html": [
       "<div>\n",
       "<style scoped>\n",
       "    .dataframe tbody tr th:only-of-type {\n",
       "        vertical-align: middle;\n",
       "    }\n",
       "\n",
       "    .dataframe tbody tr th {\n",
       "        vertical-align: top;\n",
       "    }\n",
       "\n",
       "    .dataframe thead th {\n",
       "        text-align: right;\n",
       "    }\n",
       "</style>\n",
       "<table border=\"1\" class=\"dataframe\">\n",
       "  <thead>\n",
       "    <tr style=\"text-align: right;\">\n",
       "      <th></th>\n",
       "      <th>user_id</th>\n",
       "      <th>age</th>\n",
       "      <th>income</th>\n",
       "      <th>sex</th>\n",
       "      <th>kids_flg</th>\n",
       "    </tr>\n",
       "  </thead>\n",
       "  <tbody>\n",
       "    <tr>\n",
       "      <th>0</th>\n",
       "      <td>973171</td>\n",
       "      <td>age_25_34</td>\n",
       "      <td>income_60_90</td>\n",
       "      <td>М</td>\n",
       "      <td>1</td>\n",
       "    </tr>\n",
       "    <tr>\n",
       "      <th>1</th>\n",
       "      <td>962099</td>\n",
       "      <td>age_18_24</td>\n",
       "      <td>income_20_40</td>\n",
       "      <td>М</td>\n",
       "      <td>0</td>\n",
       "    </tr>\n",
       "    <tr>\n",
       "      <th>2</th>\n",
       "      <td>1047345</td>\n",
       "      <td>age_45_54</td>\n",
       "      <td>income_40_60</td>\n",
       "      <td>Ж</td>\n",
       "      <td>0</td>\n",
       "    </tr>\n",
       "    <tr>\n",
       "      <th>3</th>\n",
       "      <td>721985</td>\n",
       "      <td>age_45_54</td>\n",
       "      <td>income_20_40</td>\n",
       "      <td>Ж</td>\n",
       "      <td>0</td>\n",
       "    </tr>\n",
       "    <tr>\n",
       "      <th>4</th>\n",
       "      <td>704055</td>\n",
       "      <td>age_35_44</td>\n",
       "      <td>income_60_90</td>\n",
       "      <td>Ж</td>\n",
       "      <td>0</td>\n",
       "    </tr>\n",
       "  </tbody>\n",
       "</table>\n",
       "</div>"
      ],
      "text/plain": [
       "   user_id        age        income sex  kids_flg\n",
       "0   973171  age_25_34  income_60_90   М         1\n",
       "1   962099  age_18_24  income_20_40   М         0\n",
       "2  1047345  age_45_54  income_40_60   Ж         0\n",
       "3   721985  age_45_54  income_20_40   Ж         0\n",
       "4   704055  age_35_44  income_60_90   Ж         0"
      ]
     },
     "execution_count": 5,
     "metadata": {},
     "output_type": "execute_result"
    }
   ],
   "source": [
    "print(f'объем таблицы - {users.shape}')\n",
    "users.head()"
   ]
  },
  {
   "cell_type": "code",
   "execution_count": 6,
   "metadata": {
    "colab": {
     "base_uri": "https://localhost:8080/",
     "height": 425
    },
    "executionInfo": {
     "elapsed": 624,
     "status": "ok",
     "timestamp": 1735063973321,
     "user": {
      "displayName": "Алсу Курмакаева",
      "userId": "11275952572532953359"
     },
     "user_tz": -180
    },
    "id": "CcbvQIHQCPeJ",
    "outputId": "01cb1f4a-aa18-40e2-a882-a6b4a62a58d8"
   },
   "outputs": [
    {
     "name": "stdout",
     "output_type": "stream",
     "text": [
      "объем таблицы - (15963, 14)\n"
     ]
    },
    {
     "data": {
      "text/html": [
       "<div>\n",
       "<style scoped>\n",
       "    .dataframe tbody tr th:only-of-type {\n",
       "        vertical-align: middle;\n",
       "    }\n",
       "\n",
       "    .dataframe tbody tr th {\n",
       "        vertical-align: top;\n",
       "    }\n",
       "\n",
       "    .dataframe thead th {\n",
       "        text-align: right;\n",
       "    }\n",
       "</style>\n",
       "<table border=\"1\" class=\"dataframe\">\n",
       "  <thead>\n",
       "    <tr style=\"text-align: right;\">\n",
       "      <th></th>\n",
       "      <th>item_id</th>\n",
       "      <th>content_type</th>\n",
       "      <th>title</th>\n",
       "      <th>title_orig</th>\n",
       "      <th>release_year</th>\n",
       "      <th>genres</th>\n",
       "      <th>countries</th>\n",
       "      <th>for_kids</th>\n",
       "      <th>age_rating</th>\n",
       "      <th>studios</th>\n",
       "      <th>directors</th>\n",
       "      <th>actors</th>\n",
       "      <th>description</th>\n",
       "      <th>keywords</th>\n",
       "    </tr>\n",
       "  </thead>\n",
       "  <tbody>\n",
       "    <tr>\n",
       "      <th>0</th>\n",
       "      <td>10711</td>\n",
       "      <td>film</td>\n",
       "      <td>Поговори с ней</td>\n",
       "      <td>Hable con ella</td>\n",
       "      <td>2002.0</td>\n",
       "      <td>драмы, зарубежные, детективы, мелодрамы</td>\n",
       "      <td>Испания</td>\n",
       "      <td>NaN</td>\n",
       "      <td>16.0</td>\n",
       "      <td>NaN</td>\n",
       "      <td>Педро Альмодовар</td>\n",
       "      <td>Адольфо Фернандес, Ана Фернандес, Дарио Гранди...</td>\n",
       "      <td>Мелодрама легендарного Педро Альмодовара «Пого...</td>\n",
       "      <td>Поговори, ней, 2002, Испания, друзья, любовь, ...</td>\n",
       "    </tr>\n",
       "    <tr>\n",
       "      <th>1</th>\n",
       "      <td>2508</td>\n",
       "      <td>film</td>\n",
       "      <td>Голые перцы</td>\n",
       "      <td>Search Party</td>\n",
       "      <td>2014.0</td>\n",
       "      <td>зарубежные, приключения, комедии</td>\n",
       "      <td>США</td>\n",
       "      <td>NaN</td>\n",
       "      <td>16.0</td>\n",
       "      <td>NaN</td>\n",
       "      <td>Скот Армстронг</td>\n",
       "      <td>Адам Палли, Брайан Хаски, Дж.Б. Смув, Джейсон ...</td>\n",
       "      <td>Уморительная современная комедия на популярную...</td>\n",
       "      <td>Голые, перцы, 2014, США, друзья, свадьбы, прео...</td>\n",
       "    </tr>\n",
       "    <tr>\n",
       "      <th>2</th>\n",
       "      <td>10716</td>\n",
       "      <td>film</td>\n",
       "      <td>Тактическая сила</td>\n",
       "      <td>Tactical Force</td>\n",
       "      <td>2011.0</td>\n",
       "      <td>криминал, зарубежные, триллеры, боевики, комедии</td>\n",
       "      <td>Канада</td>\n",
       "      <td>NaN</td>\n",
       "      <td>16.0</td>\n",
       "      <td>NaN</td>\n",
       "      <td>Адам П. Калтраро</td>\n",
       "      <td>Адриан Холмс, Даррен Шалави, Джерри Вассерман,...</td>\n",
       "      <td>Профессиональный рестлер Стив Остин («Все или ...</td>\n",
       "      <td>Тактическая, сила, 2011, Канада, бандиты, ганг...</td>\n",
       "    </tr>\n",
       "  </tbody>\n",
       "</table>\n",
       "</div>"
      ],
      "text/plain": [
       "   item_id content_type             title      title_orig  release_year  \\\n",
       "0    10711         film    Поговори с ней  Hable con ella        2002.0   \n",
       "1     2508         film       Голые перцы    Search Party        2014.0   \n",
       "2    10716         film  Тактическая сила  Tactical Force        2011.0   \n",
       "\n",
       "                                             genres countries  for_kids  \\\n",
       "0           драмы, зарубежные, детективы, мелодрамы   Испания       NaN   \n",
       "1                  зарубежные, приключения, комедии       США       NaN   \n",
       "2  криминал, зарубежные, триллеры, боевики, комедии    Канада       NaN   \n",
       "\n",
       "   age_rating studios         directors  \\\n",
       "0        16.0     NaN  Педро Альмодовар   \n",
       "1        16.0     NaN    Скот Армстронг   \n",
       "2        16.0     NaN  Адам П. Калтраро   \n",
       "\n",
       "                                              actors  \\\n",
       "0  Адольфо Фернандес, Ана Фернандес, Дарио Гранди...   \n",
       "1  Адам Палли, Брайан Хаски, Дж.Б. Смув, Джейсон ...   \n",
       "2  Адриан Холмс, Даррен Шалави, Джерри Вассерман,...   \n",
       "\n",
       "                                         description  \\\n",
       "0  Мелодрама легендарного Педро Альмодовара «Пого...   \n",
       "1  Уморительная современная комедия на популярную...   \n",
       "2  Профессиональный рестлер Стив Остин («Все или ...   \n",
       "\n",
       "                                            keywords  \n",
       "0  Поговори, ней, 2002, Испания, друзья, любовь, ...  \n",
       "1  Голые, перцы, 2014, США, друзья, свадьбы, прео...  \n",
       "2  Тактическая, сила, 2011, Канада, бандиты, ганг...  "
      ]
     },
     "execution_count": 6,
     "metadata": {},
     "output_type": "execute_result"
    }
   ],
   "source": [
    "print(f'объем таблицы - {items.shape}')\n",
    "items.head(3)"
   ]
  },
  {
   "cell_type": "markdown",
   "metadata": {
    "id": "S6CPDmqJHLJ_"
   },
   "source": [
    "## Обработка данных"
   ]
  },
  {
   "cell_type": "code",
   "execution_count": 7,
   "metadata": {
    "colab": {
     "base_uri": "https://localhost:8080/",
     "height": 252
    },
    "executionInfo": {
     "elapsed": 238,
     "status": "ok",
     "timestamp": 1735063973557,
     "user": {
      "displayName": "Алсу Курмакаева",
      "userId": "11275952572532953359"
     },
     "user_tz": -180
    },
    "id": "XEtSvD_VCR57",
    "outputId": "6f96e562-a03f-4b6c-ffbd-f7f457684b0f"
   },
   "outputs": [
    {
     "data": {
      "text/html": [
       "<div>\n",
       "<style scoped>\n",
       "    .dataframe tbody tr th:only-of-type {\n",
       "        vertical-align: middle;\n",
       "    }\n",
       "\n",
       "    .dataframe tbody tr th {\n",
       "        vertical-align: top;\n",
       "    }\n",
       "\n",
       "    .dataframe thead th {\n",
       "        text-align: right;\n",
       "    }\n",
       "</style>\n",
       "<table border=\"1\" class=\"dataframe\">\n",
       "  <thead>\n",
       "    <tr style=\"text-align: right;\">\n",
       "      <th></th>\n",
       "      <th>age</th>\n",
       "      <th>user_id</th>\n",
       "    </tr>\n",
       "  </thead>\n",
       "  <tbody>\n",
       "    <tr>\n",
       "      <th>0</th>\n",
       "      <td>age_18_24</td>\n",
       "      <td>127672</td>\n",
       "    </tr>\n",
       "    <tr>\n",
       "      <th>1</th>\n",
       "      <td>age_25_34</td>\n",
       "      <td>233926</td>\n",
       "    </tr>\n",
       "    <tr>\n",
       "      <th>2</th>\n",
       "      <td>age_35_44</td>\n",
       "      <td>207043</td>\n",
       "    </tr>\n",
       "    <tr>\n",
       "      <th>3</th>\n",
       "      <td>age_45_54</td>\n",
       "      <td>135925</td>\n",
       "    </tr>\n",
       "    <tr>\n",
       "      <th>4</th>\n",
       "      <td>age_55_64</td>\n",
       "      <td>75265</td>\n",
       "    </tr>\n",
       "    <tr>\n",
       "      <th>5</th>\n",
       "      <td>age_65_inf</td>\n",
       "      <td>46271</td>\n",
       "    </tr>\n",
       "  </tbody>\n",
       "</table>\n",
       "</div>"
      ],
      "text/plain": [
       "          age  user_id\n",
       "0   age_18_24   127672\n",
       "1   age_25_34   233926\n",
       "2   age_35_44   207043\n",
       "3   age_45_54   135925\n",
       "4   age_55_64    75265\n",
       "5  age_65_inf    46271"
      ]
     },
     "execution_count": 7,
     "metadata": {},
     "output_type": "execute_result"
    }
   ],
   "source": [
    "users.groupby('age', as_index=False).count()[['age', 'user_id']]"
   ]
  },
  {
   "cell_type": "code",
   "execution_count": 8,
   "metadata": {
    "colab": {
     "base_uri": "https://localhost:8080/",
     "height": 130
    },
    "executionInfo": {
     "elapsed": 4,
     "status": "ok",
     "timestamp": 1735063973557,
     "user": {
      "displayName": "Алсу Курмакаева",
      "userId": "11275952572532953359"
     },
     "user_tz": -180
    },
    "id": "oCRx86_yC1rt",
    "outputId": "4bde68ef-ee82-47d8-8a61-7425e817b173"
   },
   "outputs": [
    {
     "data": {
      "text/html": [
       "<div>\n",
       "<style scoped>\n",
       "    .dataframe tbody tr th:only-of-type {\n",
       "        vertical-align: middle;\n",
       "    }\n",
       "\n",
       "    .dataframe tbody tr th {\n",
       "        vertical-align: top;\n",
       "    }\n",
       "\n",
       "    .dataframe thead th {\n",
       "        text-align: right;\n",
       "    }\n",
       "</style>\n",
       "<table border=\"1\" class=\"dataframe\">\n",
       "  <thead>\n",
       "    <tr style=\"text-align: right;\">\n",
       "      <th></th>\n",
       "      <th>content_type</th>\n",
       "      <th>item_id</th>\n",
       "    </tr>\n",
       "  </thead>\n",
       "  <tbody>\n",
       "    <tr>\n",
       "      <th>0</th>\n",
       "      <td>film</td>\n",
       "      <td>12002</td>\n",
       "    </tr>\n",
       "    <tr>\n",
       "      <th>1</th>\n",
       "      <td>series</td>\n",
       "      <td>3961</td>\n",
       "    </tr>\n",
       "  </tbody>\n",
       "</table>\n",
       "</div>"
      ],
      "text/plain": [
       "  content_type  item_id\n",
       "0         film    12002\n",
       "1       series     3961"
      ]
     },
     "execution_count": 8,
     "metadata": {},
     "output_type": "execute_result"
    }
   ],
   "source": [
    "items.groupby('content_type', as_index=False).count()[['content_type', 'item_id']]"
   ]
  },
  {
   "cell_type": "code",
   "execution_count": 9,
   "metadata": {
    "colab": {
     "base_uri": "https://localhost:8080/",
     "height": 71
    },
    "executionInfo": {
     "elapsed": 20365,
     "status": "ok",
     "timestamp": 1735063993920,
     "user": {
      "displayName": "Алсу Курмакаева",
      "userId": "11275952572532953359"
     },
     "user_tz": -180
    },
    "id": "HYHdaYAtC8YA",
    "outputId": "5a80969b-a8c0-4423-9435-ed3688b9d0d4"
   },
   "outputs": [
    {
     "name": "stdout",
     "output_type": "stream",
     "text": [
      "Уникальных юзеров в interactions: 962_179\n",
      "Уникальных айтемов в interactions: 15_706\n"
     ]
    }
   ],
   "source": [
    "# предобработка данных\n",
    "interactions['last_watch_dt'] = pd.to_datetime(interactions['last_watch_dt']).map(lambda x: x.date())\n",
    "interactions['user_id'] = interactions['user_id'].astype(str)\n",
    "\n",
    "print(f\"Уникальных юзеров в interactions: {interactions['user_id'].nunique():_}\")\n",
    "print(f\"Уникальных айтемов в interactions: {interactions['item_id'].nunique():_}\")"
   ]
  },
  {
   "cell_type": "markdown",
   "metadata": {
    "id": "RaziU1H7DD63"
   },
   "source": [
    "Оценим сколько у нас пользователей за 1 и 2 недели"
   ]
  },
  {
   "cell_type": "code",
   "execution_count": 10,
   "metadata": {
    "colab": {
     "base_uri": "https://localhost:8080/"
    },
    "executionInfo": {
     "elapsed": 842,
     "status": "ok",
     "timestamp": 1735063994754,
     "user": {
      "displayName": "Алсу Курмакаева",
      "userId": "11275952572532953359"
     },
     "user_tz": -180
    },
    "id": "XDUAOStXC_xO",
    "outputId": "69b4cec8-6208-4ff7-f77a-bd5e2c9c6236"
   },
   "outputs": [
    {
     "name": "stdout",
     "output_type": "stream",
     "text": [
      "2021-03-13 2021-08-22\n"
     ]
    }
   ],
   "source": [
    "max_date = interactions['last_watch_dt'].max()\n",
    "min_date = interactions['last_watch_dt'].min()\n",
    "print(min_date, max_date)"
   ]
  },
  {
   "cell_type": "code",
   "execution_count": 11,
   "metadata": {
    "executionInfo": {
     "elapsed": 2668,
     "status": "ok",
     "timestamp": 1735063997419,
     "user": {
      "displayName": "Алсу Курмакаева",
      "userId": "11275952572532953359"
     },
     "user_tz": -180
    },
    "id": "cPOSDIWlDggM"
   },
   "outputs": [],
   "source": [
    "# выделим данные за одну (последнюю) неделю\n",
    "week = interactions[interactions['last_watch_dt'] >= max_date - datetime.timedelta(days=14)]\n",
    "week = week.groupby('user_id', as_index=False).agg({'total_dur': sum})"
   ]
  },
  {
   "cell_type": "code",
   "execution_count": 17,
   "metadata": {},
   "outputs": [
    {
     "data": {
      "text/plain": [
       "<Axes: >"
      ]
     },
     "execution_count": 17,
     "metadata": {},
     "output_type": "execute_result"
    },
    {
     "data": {
      "image/png": "[encoded data removed]",
      "text/plain": [
       "<Figure size 640x480 with 1 Axes>"
      ]
     },
     "metadata": {},
     "output_type": "display_data"
    }
   ],
   "source": [
    "sns.boxplot(week['total_dur'].values, fliersize=3)"
   ]
  },
  {
   "cell_type": "markdown",
   "metadata": {},
   "source": [
    "удалим выбросы"
   ]
  },
  {
   "cell_type": "code",
   "execution_count": 18,
   "metadata": {},
   "outputs": [
    {
     "name": "stdout",
     "output_type": "stream",
     "text": [
      "(279129, 2)\n",
      "(275616, 2)\n"
     ]
    }
   ],
   "source": [
    "print(week.shape)\n",
    "week = week[(week['total_dur'] < week['total_dur'].std() * 3)]\n",
    "print(week.shape)"
   ]
  },
  {
   "cell_type": "code",
   "execution_count": 19,
   "metadata": {
    "colab": {
     "base_uri": "https://localhost:8080/",
     "height": 644
    },
    "executionInfo": {
     "elapsed": 11,
     "status": "ok",
     "timestamp": 1735063997419,
     "user": {
      "displayName": "Алсу Курмакаева",
      "userId": "11275952572532953359"
     },
     "user_tz": -180
    },
    "id": "9X2zvT25FMPd",
    "outputId": "336352eb-8b55-42fe-df2e-061f9fdeeb79"
   },
   "outputs": [
    {
     "data": {
      "image/png": "[encoded data removed]",
      "text/plain": [
       "<Figure size 700x700 with 1 Axes>"
      ]
     },
     "metadata": {},
     "output_type": "display_data"
    }
   ],
   "source": [
    "week['total_dur'].hist(bins=100, figsize=(7,7))\n",
    "plt.ylim([0, 10000])\n",
    "plt.grid(False)"
   ]
  },
  {
   "cell_type": "markdown",
   "metadata": {
    "id": "an55nDj12q2l"
   },
   "source": [
    "Исходя из графика распределения значений исходной метрики 'total_dur' можно сказать, что она распределена не нормально. Что сразу ограничивает наш выбор теста"
   ]
  },
  {
   "cell_type": "markdown",
   "metadata": {
    "id": "5nTP56HRHU2y",
    "jp-MarkdownHeadingCollapsed": true,
    "tags": []
   },
   "source": [
    "## бутстрап"
   ]
  },
  {
   "cell_type": "code",
   "execution_count": 17,
   "metadata": {
    "executionInfo": {
     "elapsed": 9,
     "status": "ok",
     "timestamp": 1735063997419,
     "user": {
      "displayName": "Алсу Курмакаева",
      "userId": "11275952572532953359"
     },
     "user_tz": -180
    },
    "id": "xh3gpxu-L8R1"
   },
   "outputs": [],
   "source": [
    "def salt_generator(salt=None):\n",
    "    salt = os.urandom(8)\n",
    "    return b64encode(salt).decode('ascii')\n"
   ]
  },
  {
   "cell_type": "code",
   "execution_count": 22,
   "metadata": {
    "executionInfo": {
     "elapsed": 240,
     "status": "ok",
     "timestamp": 1735064117288,
     "user": {
      "displayName": "Алсу Курмакаева",
      "userId": "11275952572532953359"
     },
     "user_tz": -180
    },
    "id": "g7ybeMa54VX5"
   },
   "outputs": [],
   "source": [
    "bootstrap_kernel = cp.RawKernel(r'''\n",
    "#include <curand_kernel.h>\n",
    "\n",
    "extern \"C\" __global__\n",
    "void bootstrap_mean(const float* arr, const int n, const int size,\n",
    "                   float* output, unsigned long long seed) {\n",
    "    int tid = blockDim.x * blockIdx.x + threadIdx.x;\n",
    "    if (tid < size) {\n",
    "        curandState state;\n",
    "        curand_init(seed, tid, 0, &state);\n",
    "\n",
    "        float sum = 0.0f;\n",
    "        for (int i = 0; i < n; i++) {\n",
    "            int idx = round(curand_uniform(&state) * n);\n",
    "            sum += arr[idx];\n",
    "        }\n",
    "        output[tid] = sum / n;\n",
    "    }\n",
    "}\n",
    "''', 'bootstrap_mean')\n",
    "\n",
    "def get_bootstrap_array_gpu(arr, size=1000):\n",
    "    n = arr.shape[0]\n",
    "    output = cp.zeros(size, dtype=cp.float32)\n",
    "\n",
    "    threads_per_block = 256\n",
    "    blocks_per_grid = (size + threads_per_block - 1) // threads_per_block\n",
    "\n",
    "    seed = cp.random.randint(0, 2**32, dtype=cp.uint64)\n",
    "\n",
    "    bootstrap_kernel(\n",
    "        (blocks_per_grid,),\n",
    "        (threads_per_block,),\n",
    "        (arr, n, size, output, seed)\n",
    "    )\n",
    "\n",
    "    return output\n",
    "\n",
    "statistics_kernel = cp.RawKernel(r'''\n",
    "extern \"C\" __global__\n",
    "void calc_statistics(const float* sample_a, const float* sample_b,\n",
    "                    const int size, float* mean_diff) {\n",
    "    int tid = blockDim.x * blockIdx.x + threadIdx.x;\n",
    "    if (tid < size) {\n",
    "        mean_diff[tid] = sample_a[tid] - sample_b[tid];\n",
    "    }\n",
    "}\n",
    "''', 'calc_statistics')\n",
    "\n",
    "def process_iteration_gpu(\n",
    "        new_df: cudf.DataFrame,\n",
    "        size: int,\n",
    "        effect: float = 0) -> Tuple[float, float]:\n",
    "\n",
    "    vec_a = cp.asarray(new_df.loc[new_df['group'] == 0, 'total_dur'], dtype=cp.float32)\n",
    "    vec_b = cp.asarray(new_df.loc[new_df['group'] == 1, 'total_dur'], dtype=cp.float32)\n",
    "    vec_b *= (1 + effect)\n",
    "\n",
    "    sample_a_mean = get_bootstrap_array_gpu(vec_a, size)\n",
    "    sample_b_mean = get_bootstrap_array_gpu(vec_b, size)\n",
    "\n",
    "    mean_diff = cp.zeros(size, dtype=cp.float32)\n",
    "\n",
    "    threads_per_block = 256\n",
    "    blocks_per_grid = (size + threads_per_block - 1) // threads_per_block\n",
    "\n",
    "    statistics_kernel(\n",
    "        (blocks_per_grid,),\n",
    "        (threads_per_block,),\n",
    "        (sample_a_mean, sample_b_mean, size, mean_diff)\n",
    "    )\n",
    "\n",
    "    left_side, right_side = cp.percentile(mean_diff, [2.5, 97.5])\n",
    "    statistic = not (left_side <= 0 <= right_side)\n",
    "\n",
    "    return statistic, mean_diff"
   ]
  },
  {
   "cell_type": "code",
   "execution_count": 25,
   "metadata": {
    "executionInfo": {
     "elapsed": 205,
     "status": "ok",
     "timestamp": 1735064245473,
     "user": {
      "displayName": "Алсу Курмакаева",
      "userId": "11275952572532953359"
     },
     "user_tz": -180
    },
    "id": "yo0EDOQm4YEQ"
   },
   "outputs": [],
   "source": [
    "import numpy as np\n",
    "import scipy.stats\n",
    "\n",
    "def get_p_value(dist):\n",
    "    x = (dist > 0).mean()\n",
    "    pvalue = min(x, 1 - x) * 2\n",
    "    return pvalue\n",
    "\n",
    "def groups_splitter(df, columns, user_salt=None):\n",
    "    if user_salt is None:\n",
    "        salt = salt_generator()\n",
    "    else:\n",
    "        salt = user_salt\n",
    "\n",
    "    df['user_id_str'] = df['user_id'].astype(str)\n",
    "    df['salt'] = salt\n",
    "    df['combined_data'] = df['user_id_str'].str.cat(df['salt'], sep='#')\n",
    "\n",
    "    hash_column = cudf.Series(df['combined_data']).hash_values(method='sha256')\n",
    "\n",
    "    df['hash_int'] = hash_column.str.hex_to_int()\n",
    "    df['group'] = (df['hash_int'] % 2)\n",
    "    return df[columns]\n",
    "\n",
    "def create_new_df(args):\n",
    "    init_data, salt_generator = args\n",
    "    new_df = groups_splitter(\n",
    "            init_data,\n",
    "            columns=['user_id', 'total_dur', 'group'],\n",
    "            user_salt=salt_generator()\n",
    "        )\n",
    "    return new_df\n",
    "\n",
    "\n",
    "def bootstrapping_correctness(\n",
    "        group_cudf: cudf.DataFrame,\n",
    "        iterations: int,\n",
    "        size: int,\n",
    "        effect: float,\n",
    "        salt_generator: Callable = salt_generator) -> Tuple[float, List[float]]:\n",
    "    anticorrectness = []\n",
    "    values = []\n",
    "    for _ in tqdm(range(iterations)):\n",
    "        anticorr, mean_diff = process_iteration_gpu(create_new_df((group_cudf, salt_generator)), size, effect)\n",
    "        anticorrectness.append(anticorr)\n",
    "        values.append(mean_diff)\n",
    "\n",
    "    test_anticorrect = Counter(anticorrectness)\n",
    "    correctness = (test_anticorrect[0] / sum(test_anticorrect.values()))\n",
    "    p_values = [get_p_value(dist).item() for dist in values]\n",
    "    return correctness, np.array(p_values)"
   ]
  },
  {
   "cell_type": "code",
   "execution_count": 20,
   "metadata": {
    "executionInfo": {
     "elapsed": 763,
     "status": "ok",
     "timestamp": 1735063998174,
     "user": {
      "displayName": "Алсу Курмакаева",
      "userId": "11275952572532953359"
     },
     "user_tz": -180
    },
    "id": "zVMC9YI7Pk0h"
   },
   "outputs": [],
   "source": [
    "week_cudf = cudf.DataFrame(week)\n",
    "week_cudf['total_dur'] = week_cudf['total_dur'].astype('int32')"
   ]
  },
  {
   "cell_type": "code",
   "execution_count": 26,
   "metadata": {
    "colab": {
     "base_uri": "https://localhost:8080/",
     "height": 69,
     "referenced_widgets": [
      "e92e302039be4633a027ba89d80eb2af",
      "2a146b5ba82f4933ac5c46e64f56b65e",
      "47240390476d4a3daa85859d5767354d",
      "3d71de00fd5a4208b2b526211b3329d8",
      "f9899b003a7747ca9bb94443864f3091",
      "a08c24f0461e4bcd9fb1e07ea798a3b2",
      "d95d4508c86a4adf9bf80211aa045242",
      "878e5fc512c04d92afad9937e6f54a21",
      "00a3b878928240d5bfc8900ea01ddeca",
      "e63f422d6c8841d5913d7d71dcc9af1e",
      "7e7d7ebb9e95446dbf6c2f69a8e5e2f0"
     ]
    },
    "collapsed": true,
    "executionInfo": {
     "elapsed": 80392,
     "status": "ok",
     "timestamp": 1735064329493,
     "user": {
      "displayName": "Алсу Курмакаева",
      "userId": "11275952572532953359"
     },
     "user_tz": -180
    },
    "id": "aNe-t4S3P2-B",
    "jupyter": {
     "outputs_hidden": true
    },
    "outputId": "e9770278-d1d5-4395-da40-e7f074ba58c4"
   },
   "outputs": [
    {
     "data": {
      "application/vnd.jupyter.widget-view+json": {
       "model_id": "e92e302039be4633a027ba89d80eb2af",
       "version_major": 2,
       "version_minor": 0
      },
      "text/plain": [
       "  0%|          | 0/1000 [00:00<?, ?it/s]"
      ]
     },
     "metadata": {},
     "output_type": "display_data"
    }
   ],
   "source": [
    "correctness, p_values = bootstrapping_correctness(week_cudf, iterations=1000, size=1000, effect=0)"
   ]
  },
  {
   "cell_type": "code",
   "execution_count": 27,
   "metadata": {
    "colab": {
     "base_uri": "https://localhost:8080/",
     "height": 467
    },
    "executionInfo": {
     "elapsed": 17,
     "status": "ok",
     "timestamp": 1735064329494,
     "user": {
      "displayName": "Алсу Курмакаева",
      "userId": "11275952572532953359"
     },
     "user_tz": -180
    },
    "id": "6VJ7kfU4LEMV",
    "outputId": "54ee0b42-ac21-4abb-f63a-35dd40bf8fb6"
   },
   "outputs": [
    {
     "name": "stdout",
     "output_type": "stream",
     "text": [
      "Correctness: 94.60%, significance: 5.40%\n"
     ]
    },
    {
     "data": {
      "image/png": "[encoded data removed]",
      "text/plain": [
       "<Figure size 640x480 with 1 Axes>"
      ]
     },
     "metadata": {},
     "output_type": "display_data"
    }
   ],
   "source": [
    "print(f'Correctness: {correctness:.2%}, significance: {1 - correctness:.2%}')\n",
    "plt.hist(p_values, bins=10)\n",
    "plt.show()"
   ]
  },
  {
   "cell_type": "markdown",
   "metadata": {
    "id": "5Zgh7Lr52q2n"
   },
   "source": [
    "### Вывод\n",
    "\n",
    "- Исходя из этого графика можно сделать вывод, что распределение p-value - равномерное, что говорит о применимости данного метода.\n",
    "- Также отметим, что бутсрап не требует нормальность распределения исходной метрики, а также хорошо работает с ассиметричным распределением\n",
    "- Корректность теста: 5.40%. Что говорит о вероятности отвергнуть нулевую гипотезу без эффекта, которая составляет 5.40%"
   ]
  },
  {
   "cell_type": "code",
   "execution_count": null,
   "metadata": {
    "colab": {
     "background_save": true,
     "base_uri": "https://localhost:8080/"
    },
    "collapsed": true,
    "id": "pwrcYSbxLSLE",
    "jupyter": {
     "outputs_hidden": true
    },
    "outputId": "58bbccd3-a0f0-42ec-d114-0ca03e9031ad",
    "tags": []
   },
   "outputs": [
    {
     "name": "stderr",
     "output_type": "stream",
     "text": [
      "\n",
      "  0%|          | 0/1000 [00:00<?, ?it/s]\u001b[A\n",
      "  0%|          | 1/1000 [00:00<02:17,  7.28it/s]\u001b[A\n",
      "  0%|          | 2/1000 [00:00<01:58,  8.44it/s]\u001b[A\n",
      "  0%|          | 3/1000 [00:00<01:50,  9.05it/s]\u001b[A\n",
      "  0%|          | 5/1000 [00:00<01:23, 11.92it/s]\u001b[A\n",
      "  1%|          | 7/1000 [00:00<01:15, 13.13it/s]\u001b[A\n",
      "  1%|          | 9/1000 [00:00<01:10, 14.15it/s]\u001b[A\n",
      "  1%|          | 11/1000 [00:00<01:07, 14.69it/s]\u001b[A\n",
      "  1%|▏         | 13/1000 [00:00<01:05, 15.08it/s]\u001b[A\n",
      "  2%|▏         | 15/1000 [00:01<01:05, 14.97it/s]\u001b[A\n",
      "  2%|▏         | 17/1000 [00:01<01:04, 15.22it/s]\u001b[A\n",
      "  2%|▏         | 19/1000 [00:01<01:03, 15.47it/s]\u001b[A\n",
      "  2%|▏         | 21/1000 [00:01<01:02, 15.63it/s]\u001b[A\n",
      "  2%|▏         | 23/1000 [00:01<01:02, 15.61it/s]\u001b[A\n",
      "  2%|▎         | 25/1000 [00:01<01:01, 15.73it/s]\u001b[A\n",
      "  3%|▎         | 27/1000 [00:01<01:02, 15.61it/s]\u001b[A\n",
      "  3%|▎         | 29/1000 [00:02<01:01, 15.71it/s]\u001b[A\n",
      "  3%|▎         | 31/1000 [00:02<01:01, 15.75it/s]\u001b[A\n",
      "  3%|▎         | 33/1000 [00:02<01:01, 15.84it/s]\u001b[A\n",
      "  4%|▎         | 35/1000 [00:02<01:00, 15.92it/s]\u001b[A\n",
      "  4%|▎         | 37/1000 [00:02<01:00, 15.93it/s]\u001b[A\n",
      "  4%|▍         | 39/1000 [00:02<01:00, 15.77it/s]\u001b[A\n",
      "  4%|▍         | 41/1000 [00:02<01:01, 15.56it/s]\u001b[A\n",
      "  4%|▍         | 43/1000 [00:02<01:01, 15.60it/s]\u001b[A\n",
      "  4%|▍         | 45/1000 [00:03<01:01, 15.61it/s]\u001b[A\n",
      "  5%|▍         | 47/1000 [00:03<01:00, 15.66it/s]\u001b[A\n",
      "  5%|▍         | 49/1000 [00:03<01:00, 15.68it/s]\u001b[A\n",
      "  5%|▌         | 51/1000 [00:03<01:00, 15.76it/s]\u001b[A\n",
      "  5%|▌         | 53/1000 [00:03<01:00, 15.69it/s]\u001b[A\n",
      "  6%|▌         | 55/1000 [00:03<01:00, 15.52it/s]\u001b[A\n",
      "  6%|▌         | 57/1000 [00:03<01:02, 15.10it/s]\u001b[A\n",
      "  6%|▌         | 59/1000 [00:03<01:04, 14.68it/s]\u001b[A\n",
      "  6%|▌         | 61/1000 [00:04<01:05, 14.40it/s]\u001b[A\n",
      "  6%|▋         | 63/1000 [00:04<01:04, 14.42it/s]\u001b[A\n",
      "  6%|▋         | 65/1000 [00:04<01:04, 14.43it/s]\u001b[A\n",
      "  7%|▋         | 67/1000 [00:04<01:05, 14.24it/s]\u001b[A\n",
      "  7%|▋         | 69/1000 [00:04<01:06, 13.99it/s]\u001b[A\n",
      "  7%|▋         | 71/1000 [00:04<01:06, 13.95it/s]\u001b[A\n",
      "  7%|▋         | 73/1000 [00:04<01:05, 14.15it/s]\u001b[A\n",
      "  8%|▊         | 75/1000 [00:05<01:05, 14.11it/s]\u001b[A\n",
      "  8%|▊         | 77/1000 [00:05<01:06, 13.98it/s]\u001b[A\n",
      "  8%|▊         | 79/1000 [00:05<01:05, 14.02it/s]\u001b[A\n",
      "  8%|▊         | 81/1000 [00:05<01:07, 13.60it/s]\u001b[A\n",
      "  8%|▊         | 83/1000 [00:05<01:07, 13.51it/s]\u001b[A\n",
      "  8%|▊         | 85/1000 [00:05<01:06, 13.79it/s]\u001b[A\n",
      "  9%|▊         | 87/1000 [00:05<01:05, 13.90it/s]\u001b[A\n",
      "  9%|▉         | 89/1000 [00:06<01:05, 13.90it/s]\u001b[A\n",
      "  9%|▉         | 91/1000 [00:06<01:04, 14.04it/s]\u001b[A\n",
      "  9%|▉         | 93/1000 [00:06<01:03, 14.20it/s]\u001b[A\n",
      " 10%|▉         | 95/1000 [00:06<01:03, 14.24it/s]\u001b[A\n",
      " 10%|▉         | 97/1000 [00:06<01:03, 14.31it/s]\u001b[A\n",
      " 10%|▉         | 99/1000 [00:06<01:02, 14.43it/s]\u001b[A\n",
      " 10%|█         | 101/1000 [00:06<01:02, 14.42it/s]\u001b[A\n",
      " 10%|█         | 103/1000 [00:07<01:01, 14.47it/s]\u001b[A\n",
      " 10%|█         | 105/1000 [00:07<01:02, 14.37it/s]\u001b[A\n",
      " 11%|█         | 107/1000 [00:07<01:02, 14.40it/s]\u001b[A\n",
      " 11%|█         | 109/1000 [00:07<01:02, 14.32it/s]\u001b[A\n",
      " 11%|█         | 111/1000 [00:07<01:02, 14.13it/s]\u001b[A\n",
      " 11%|█▏        | 113/1000 [00:07<01:03, 14.00it/s]\u001b[A\n",
      " 12%|█▏        | 115/1000 [00:07<01:03, 14.00it/s]\u001b[A\n",
      " 12%|█▏        | 117/1000 [00:08<01:03, 13.99it/s]\u001b[A\n",
      " 12%|█▏        | 119/1000 [00:08<01:03, 13.82it/s]\u001b[A\n",
      " 12%|█▏        | 121/1000 [00:08<01:01, 14.39it/s]\u001b[A\n",
      " 12%|█▏        | 123/1000 [00:08<00:59, 14.77it/s]\u001b[A\n",
      " 12%|█▎        | 125/1000 [00:08<00:59, 14.82it/s]\u001b[A\n",
      " 13%|█▎        | 127/1000 [00:08<00:57, 15.13it/s]\u001b[A\n",
      " 13%|█▎        | 129/1000 [00:08<00:56, 15.34it/s]\u001b[A\n",
      " 13%|█▎        | 131/1000 [00:08<00:56, 15.36it/s]\u001b[A\n",
      " 13%|█▎        | 133/1000 [00:09<00:56, 15.34it/s]\u001b[A\n",
      " 14%|█▎        | 135/1000 [00:09<00:56, 15.26it/s]\u001b[A\n",
      " 14%|█▎        | 137/1000 [00:09<00:55, 15.44it/s]\u001b[A\n",
      " 14%|█▍        | 139/1000 [00:09<00:55, 15.58it/s]\u001b[A\n",
      " 14%|█▍        | 141/1000 [00:09<00:55, 15.58it/s]\u001b[A\n",
      " 14%|█▍        | 143/1000 [00:09<00:54, 15.73it/s]\u001b[A\n",
      " 14%|█▍        | 145/1000 [00:09<00:54, 15.80it/s]\u001b[A\n",
      " 15%|█▍        | 147/1000 [00:10<00:54, 15.77it/s]\u001b[A\n",
      " 15%|█▍        | 149/1000 [00:10<00:53, 15.84it/s]\u001b[A\n",
      " 15%|█▌        | 151/1000 [00:10<00:53, 15.75it/s]\u001b[A\n",
      " 15%|█▌        | 153/1000 [00:10<00:53, 15.83it/s]\u001b[A\n",
      " 16%|█▌        | 155/1000 [00:10<00:53, 15.71it/s]\u001b[A\n",
      " 16%|█▌        | 157/1000 [00:10<00:53, 15.63it/s]\u001b[A\n",
      " 16%|█▌        | 159/1000 [00:10<00:53, 15.64it/s]\u001b[A\n",
      " 16%|█▌        | 161/1000 [00:10<00:53, 15.58it/s]\u001b[A\n",
      " 16%|█▋        | 163/1000 [00:11<00:53, 15.68it/s]\u001b[A\n",
      " 16%|█▋        | 165/1000 [00:11<00:53, 15.68it/s]\u001b[A\n",
      " 17%|█▋        | 167/1000 [00:11<00:52, 15.76it/s]\u001b[A\n",
      " 17%|█▋        | 169/1000 [00:11<00:52, 15.85it/s]\u001b[A\n",
      " 17%|█▋        | 171/1000 [00:11<00:52, 15.66it/s]\u001b[A\n",
      " 17%|█▋        | 173/1000 [00:11<00:52, 15.62it/s]\u001b[A\n",
      " 18%|█▊        | 175/1000 [00:11<00:52, 15.70it/s]\u001b[A\n",
      " 18%|█▊        | 177/1000 [00:11<00:52, 15.65it/s]\u001b[A\n",
      " 18%|█▊        | 179/1000 [00:12<00:52, 15.72it/s]\u001b[A\n",
      " 18%|█▊        | 181/1000 [00:12<00:51, 15.75it/s]\u001b[A\n",
      " 18%|█▊        | 183/1000 [00:12<00:51, 15.74it/s]\u001b[A\n",
      " 18%|█▊        | 185/1000 [00:12<00:51, 15.88it/s]\u001b[A\n",
      " 19%|█▊        | 187/1000 [00:12<00:51, 15.74it/s]\u001b[A\n",
      " 19%|█▉        | 189/1000 [00:12<00:51, 15.84it/s]\u001b[A\n",
      " 19%|█▉        | 191/1000 [00:12<00:51, 15.79it/s]\u001b[A\n",
      " 19%|█▉        | 193/1000 [00:12<00:50, 15.83it/s]\u001b[A\n",
      " 20%|█▉        | 195/1000 [00:13<00:51, 15.78it/s]\u001b[A\n",
      " 20%|█▉        | 197/1000 [00:13<00:50, 15.84it/s]\u001b[A\n",
      " 20%|█▉        | 199/1000 [00:13<00:50, 15.84it/s]\u001b[A\n",
      " 20%|██        | 201/1000 [00:13<00:50, 15.88it/s]\u001b[A\n",
      " 20%|██        | 203/1000 [00:13<00:50, 15.74it/s]\u001b[A\n",
      " 20%|██        | 205/1000 [00:13<00:50, 15.64it/s]\u001b[A\n",
      " 21%|██        | 207/1000 [00:13<00:50, 15.62it/s]\u001b[A\n",
      " 21%|██        | 209/1000 [00:13<00:50, 15.64it/s]\u001b[A\n",
      " 21%|██        | 211/1000 [00:14<00:50, 15.71it/s]\u001b[A\n",
      " 21%|██▏       | 213/1000 [00:14<00:49, 15.76it/s]\u001b[A\n",
      " 22%|██▏       | 215/1000 [00:14<00:49, 15.75it/s]\u001b[A\n",
      " 22%|██▏       | 217/1000 [00:14<00:49, 15.77it/s]\u001b[A\n",
      " 22%|██▏       | 219/1000 [00:14<00:50, 15.48it/s]\u001b[A\n",
      " 22%|██▏       | 221/1000 [00:14<00:50, 15.50it/s]\u001b[A\n",
      " 22%|██▏       | 223/1000 [00:14<00:49, 15.63it/s]\u001b[A\n",
      " 22%|██▎       | 225/1000 [00:14<00:49, 15.60it/s]\u001b[A\n",
      " 23%|██▎       | 227/1000 [00:15<00:50, 15.36it/s]\u001b[A\n",
      " 23%|██▎       | 229/1000 [00:15<00:49, 15.42it/s]\u001b[A\n",
      " 23%|██▎       | 231/1000 [00:15<00:49, 15.56it/s]\u001b[A\n",
      " 23%|██▎       | 233/1000 [00:15<00:49, 15.59it/s]\u001b[A\n",
      " 24%|██▎       | 235/1000 [00:15<00:49, 15.50it/s]\u001b[A\n",
      " 24%|██▎       | 237/1000 [00:15<00:48, 15.63it/s]\u001b[A\n",
      " 24%|██▍       | 239/1000 [00:15<00:48, 15.66it/s]\u001b[A\n",
      " 24%|██▍       | 241/1000 [00:16<00:48, 15.51it/s]\u001b[A\n",
      " 24%|██▍       | 243/1000 [00:16<00:48, 15.55it/s]\u001b[A\n",
      " 24%|██▍       | 245/1000 [00:16<00:48, 15.59it/s]\u001b[A\n",
      " 25%|██▍       | 247/1000 [00:16<00:48, 15.58it/s]\u001b[A\n",
      " 25%|██▍       | 249/1000 [00:16<00:48, 15.57it/s]\u001b[A\n",
      " 25%|██▌       | 251/1000 [00:16<00:48, 15.51it/s]\u001b[A\n",
      " 25%|██▌       | 253/1000 [00:16<00:47, 15.63it/s]\u001b[A\n",
      " 26%|██▌       | 255/1000 [00:16<00:47, 15.73it/s]\u001b[A\n",
      " 26%|██▌       | 257/1000 [00:17<00:47, 15.69it/s]\u001b[A\n",
      " 26%|██▌       | 259/1000 [00:17<00:46, 15.78it/s]\u001b[A\n",
      " 26%|██▌       | 261/1000 [00:17<00:46, 15.75it/s]\u001b[A\n",
      " 26%|██▋       | 263/1000 [00:17<00:46, 15.77it/s]\u001b[A\n",
      " 26%|██▋       | 265/1000 [00:17<00:46, 15.67it/s]\u001b[A\n",
      " 27%|██▋       | 267/1000 [00:17<00:46, 15.67it/s]\u001b[A\n",
      " 27%|██▋       | 269/1000 [00:17<00:46, 15.78it/s]\u001b[A\n",
      " 27%|██▋       | 271/1000 [00:17<00:46, 15.74it/s]\u001b[A\n",
      " 27%|██▋       | 273/1000 [00:18<00:46, 15.79it/s]\u001b[A\n",
      " 28%|██▊       | 275/1000 [00:18<00:46, 15.67it/s]\u001b[A\n",
      " 28%|██▊       | 277/1000 [00:18<00:48, 14.89it/s]\u001b[A\n",
      " 28%|██▊       | 279/1000 [00:18<00:49, 14.59it/s]\u001b[A\n",
      " 28%|██▊       | 281/1000 [00:18<00:50, 14.31it/s]\u001b[A\n",
      " 28%|██▊       | 283/1000 [00:18<00:49, 14.42it/s]\u001b[A\n",
      " 28%|██▊       | 285/1000 [00:18<00:49, 14.45it/s]\u001b[A\n",
      " 29%|██▊       | 287/1000 [00:19<00:49, 14.45it/s]\u001b[A\n",
      " 29%|██▉       | 289/1000 [00:19<00:49, 14.43it/s]\u001b[A\n",
      " 29%|██▉       | 291/1000 [00:19<00:49, 14.42it/s]\u001b[A\n",
      " 29%|██▉       | 293/1000 [00:19<00:48, 14.44it/s]\u001b[A\n",
      " 30%|██▉       | 295/1000 [00:19<00:50, 14.07it/s]\u001b[A\n",
      " 30%|██▉       | 297/1000 [00:19<00:50, 14.01it/s]\u001b[A\n",
      " 30%|██▉       | 299/1000 [00:19<00:49, 14.03it/s]\u001b[A\n",
      " 30%|███       | 301/1000 [00:20<00:49, 14.18it/s]\u001b[A\n",
      " 30%|███       | 303/1000 [00:20<00:49, 14.20it/s]\u001b[A\n",
      " 30%|███       | 305/1000 [00:20<00:49, 14.15it/s]\u001b[A\n",
      " 31%|███       | 307/1000 [00:20<00:49, 13.92it/s]\u001b[A\n",
      " 31%|███       | 309/1000 [00:20<00:51, 13.51it/s]\u001b[A\n",
      " 31%|███       | 311/1000 [00:20<00:51, 13.47it/s]\u001b[A\n",
      " 31%|███▏      | 313/1000 [00:20<00:50, 13.57it/s]\u001b[A\n",
      " 32%|███▏      | 315/1000 [00:21<00:50, 13.62it/s]\u001b[A\n",
      " 32%|███▏      | 317/1000 [00:21<00:49, 13.84it/s]\u001b[A\n",
      " 32%|███▏      | 319/1000 [00:21<00:48, 13.91it/s]\u001b[A\n",
      " 32%|███▏      | 321/1000 [00:21<00:48, 13.99it/s]\u001b[A\n",
      " 32%|███▏      | 323/1000 [00:21<00:48, 13.95it/s]\u001b[A\n",
      " 32%|███▎      | 325/1000 [00:21<00:48, 14.00it/s]\u001b[A\n",
      " 33%|███▎      | 327/1000 [00:21<00:48, 13.95it/s]\u001b[A\n",
      " 33%|███▎      | 329/1000 [00:22<00:48, 13.85it/s]\u001b[A\n",
      " 33%|███▎      | 331/1000 [00:22<00:48, 13.71it/s]\u001b[A\n",
      " 33%|███▎      | 333/1000 [00:22<00:46, 14.22it/s]\u001b[A\n",
      " 34%|███▎      | 335/1000 [00:22<00:45, 14.67it/s]\u001b[A\n",
      " 34%|███▎      | 337/1000 [00:22<00:44, 14.79it/s]\u001b[A\n",
      " 34%|███▍      | 339/1000 [00:22<00:43, 15.03it/s]\u001b[A\n",
      " 34%|███▍      | 341/1000 [00:22<00:43, 15.16it/s]\u001b[A\n",
      " 34%|███▍      | 343/1000 [00:22<00:42, 15.35it/s]\u001b[A\n",
      " 34%|███▍      | 345/1000 [00:23<00:42, 15.46it/s]\u001b[A\n",
      " 35%|███▍      | 347/1000 [00:23<00:42, 15.45it/s]\u001b[A\n",
      " 35%|███▍      | 349/1000 [00:23<00:41, 15.54it/s]\u001b[A\n",
      " 35%|███▌      | 351/1000 [00:23<00:41, 15.53it/s]\u001b[A\n",
      " 35%|███▌      | 353/1000 [00:23<00:42, 15.35it/s]\u001b[A\n",
      " 36%|███▌      | 355/1000 [00:23<00:42, 15.29it/s]\u001b[A\n",
      " 36%|███▌      | 357/1000 [00:23<00:41, 15.35it/s]\u001b[A\n",
      " 36%|███▌      | 359/1000 [00:23<00:41, 15.54it/s]\u001b[A\n",
      " 36%|███▌      | 361/1000 [00:24<00:40, 15.61it/s]\u001b[A\n",
      " 36%|███▋      | 363/1000 [00:24<00:40, 15.66it/s]\u001b[A\n",
      " 36%|███▋      | 365/1000 [00:24<00:40, 15.75it/s]\u001b[A\n",
      " 37%|███▋      | 367/1000 [00:24<00:40, 15.78it/s]\u001b[A\n",
      " 37%|███▋      | 369/1000 [00:24<00:40, 15.66it/s]\u001b[A\n",
      " 37%|███▋      | 371/1000 [00:24<00:40, 15.49it/s]\u001b[A\n",
      " 37%|███▋      | 373/1000 [00:24<00:40, 15.60it/s]\u001b[A\n",
      " 38%|███▊      | 375/1000 [00:25<00:39, 15.72it/s]\u001b[A\n",
      " 38%|███▊      | 377/1000 [00:25<00:39, 15.80it/s]\u001b[A\n",
      " 38%|███▊      | 379/1000 [00:25<00:39, 15.82it/s]\u001b[A\n",
      " 38%|███▊      | 381/1000 [00:25<00:39, 15.79it/s]\u001b[A\n",
      " 38%|███▊      | 383/1000 [00:25<00:39, 15.64it/s]\u001b[A\n",
      " 38%|███▊      | 385/1000 [00:25<00:39, 15.57it/s]\u001b[A\n",
      " 39%|███▊      | 387/1000 [00:25<00:39, 15.56it/s]\u001b[A\n",
      " 39%|███▉      | 389/1000 [00:25<00:38, 15.68it/s]\u001b[A\n",
      " 39%|███▉      | 391/1000 [00:26<00:38, 15.64it/s]\u001b[A\n",
      " 39%|███▉      | 393/1000 [00:26<00:38, 15.64it/s]\u001b[A\n",
      " 40%|███▉      | 395/1000 [00:26<00:38, 15.67it/s]\u001b[A\n",
      " 40%|███▉      | 397/1000 [00:26<00:38, 15.74it/s]\u001b[A\n",
      " 40%|███▉      | 399/1000 [00:26<00:38, 15.53it/s]\u001b[A\n",
      " 40%|████      | 401/1000 [00:26<00:38, 15.50it/s]\u001b[A\n",
      " 40%|████      | 403/1000 [00:26<00:38, 15.42it/s]\u001b[A\n",
      " 40%|████      | 405/1000 [00:26<00:38, 15.54it/s]\u001b[A\n",
      " 41%|████      | 407/1000 [00:27<00:38, 15.56it/s]\u001b[A\n",
      " 41%|████      | 409/1000 [00:27<00:37, 15.65it/s]\u001b[A\n",
      " 41%|████      | 411/1000 [00:27<00:37, 15.65it/s]\u001b[A\n",
      " 41%|████▏     | 413/1000 [00:27<00:37, 15.67it/s]\u001b[A\n",
      " 42%|████▏     | 415/1000 [00:27<00:40, 14.38it/s]\u001b[A\n",
      " 42%|████▏     | 417/1000 [00:27<00:46, 12.61it/s]\u001b[A\n",
      " 42%|████▏     | 419/1000 [00:27<00:46, 12.57it/s]\u001b[A\n",
      " 42%|████▏     | 421/1000 [00:28<00:43, 13.40it/s]\u001b[A\n",
      " 42%|████▏     | 423/1000 [00:28<00:41, 14.02it/s]\u001b[A\n",
      " 42%|████▎     | 425/1000 [00:28<00:39, 14.50it/s]\u001b[A\n",
      " 43%|████▎     | 427/1000 [00:28<00:41, 13.86it/s]\u001b[A\n",
      " 43%|████▎     | 429/1000 [00:28<00:47, 11.97it/s]\u001b[A\n",
      " 43%|████▎     | 431/1000 [00:28<00:47, 11.97it/s]\u001b[A\n",
      " 43%|████▎     | 433/1000 [00:29<00:43, 12.92it/s]\u001b[A\n",
      " 44%|████▎     | 435/1000 [00:29<00:41, 13.68it/s]\u001b[A\n",
      " 44%|████▎     | 437/1000 [00:29<00:39, 14.26it/s]\u001b[A\n",
      " 44%|████▍     | 439/1000 [00:29<00:40, 13.68it/s]\u001b[A\n",
      " 44%|████▍     | 441/1000 [00:29<00:46, 12.14it/s]\u001b[A\n",
      " 44%|████▍     | 443/1000 [00:29<00:44, 12.39it/s]\u001b[A\n",
      " 44%|████▍     | 445/1000 [00:29<00:41, 13.22it/s]\u001b[A\n",
      " 45%|████▍     | 447/1000 [00:30<00:39, 13.94it/s]\u001b[A\n",
      " 45%|████▍     | 449/1000 [00:30<00:38, 14.46it/s]\u001b[A\n",
      " 45%|████▌     | 451/1000 [00:30<00:37, 14.82it/s]\u001b[A\n",
      " 45%|████▌     | 453/1000 [00:30<00:36, 15.14it/s]\u001b[A\n",
      " 46%|████▌     | 455/1000 [00:30<00:36, 15.09it/s]\u001b[A\n",
      " 46%|████▌     | 457/1000 [00:30<00:35, 15.34it/s]\u001b[A\n",
      " 46%|████▌     | 459/1000 [00:30<00:35, 15.45it/s]\u001b[A\n",
      " 46%|████▌     | 461/1000 [00:30<00:34, 15.57it/s]\u001b[A\n",
      " 46%|████▋     | 463/1000 [00:31<00:34, 15.53it/s]\u001b[A\n",
      " 46%|████▋     | 465/1000 [00:31<00:34, 15.42it/s]\u001b[A\n",
      " 47%|████▋     | 467/1000 [00:31<00:34, 15.52it/s]\u001b[A\n",
      " 47%|████▋     | 469/1000 [00:31<00:34, 15.54it/s]\u001b[A\n",
      " 47%|████▋     | 471/1000 [00:31<00:34, 15.30it/s]\u001b[A\n",
      " 47%|████▋     | 473/1000 [00:31<00:33, 15.52it/s]\u001b[A\n",
      " 48%|████▊     | 475/1000 [00:31<00:33, 15.61it/s]\u001b[A\n",
      " 48%|████▊     | 477/1000 [00:31<00:33, 15.62it/s]\u001b[A\n",
      " 48%|████▊     | 479/1000 [00:32<00:33, 15.56it/s]\u001b[A\n",
      " 48%|████▊     | 481/1000 [00:32<00:34, 15.25it/s]\u001b[A\n",
      " 48%|████▊     | 483/1000 [00:32<00:34, 14.82it/s]\u001b[A\n",
      " 48%|████▊     | 485/1000 [00:32<00:35, 14.40it/s]\u001b[A\n",
      " 49%|████▊     | 487/1000 [00:32<00:35, 14.29it/s]\u001b[A\n",
      " 49%|████▉     | 489/1000 [00:32<00:35, 14.37it/s]\u001b[A\n",
      " 49%|████▉     | 491/1000 [00:32<00:34, 14.55it/s]\u001b[A\n",
      " 49%|████▉     | 493/1000 [00:33<00:35, 14.48it/s]\u001b[A\n",
      " 50%|████▉     | 495/1000 [00:33<00:34, 14.53it/s]\u001b[A\n",
      " 50%|████▉     | 497/1000 [00:33<00:34, 14.50it/s]\u001b[A\n",
      " 50%|████▉     | 499/1000 [00:33<00:34, 14.43it/s]\u001b[A\n",
      " 50%|█████     | 501/1000 [00:33<00:34, 14.35it/s]\u001b[A\n",
      " 50%|█████     | 503/1000 [00:33<00:35, 14.17it/s]\u001b[A\n",
      " 50%|█████     | 505/1000 [00:33<00:34, 14.17it/s]\u001b[A\n",
      " 51%|█████     | 507/1000 [00:34<00:35, 13.80it/s]\u001b[A\n",
      " 51%|█████     | 509/1000 [00:34<00:35, 13.88it/s]\u001b[A\n",
      " 51%|█████     | 511/1000 [00:34<00:35, 13.86it/s]\u001b[A\n",
      " 51%|█████▏    | 513/1000 [00:34<00:35, 13.85it/s]\u001b[A\n",
      " 52%|█████▏    | 515/1000 [00:34<00:35, 13.68it/s]\u001b[A\n",
      " 52%|█████▏    | 517/1000 [00:34<00:35, 13.77it/s]\u001b[A\n",
      " 52%|█████▏    | 519/1000 [00:34<00:34, 13.89it/s]\u001b[A\n",
      " 52%|█████▏    | 521/1000 [00:35<00:34, 13.94it/s]\u001b[A\n",
      " 52%|█████▏    | 523/1000 [00:35<00:33, 14.04it/s]\u001b[A\n",
      " 52%|█████▎    | 525/1000 [00:35<00:33, 14.14it/s]\u001b[A\n",
      " 53%|█████▎    | 527/1000 [00:35<00:33, 14.01it/s]\u001b[A\n",
      " 53%|█████▎    | 529/1000 [00:35<00:33, 13.86it/s]\u001b[A\n",
      " 53%|█████▎    | 531/1000 [00:35<00:33, 13.82it/s]\u001b[A\n",
      " 53%|█████▎    | 533/1000 [00:35<00:33, 13.86it/s]\u001b[A\n",
      " 54%|█████▎    | 535/1000 [00:36<00:33, 13.94it/s]\u001b[A\n",
      " 54%|█████▎    | 537/1000 [00:36<00:33, 13.87it/s]\u001b[A\n",
      " 54%|█████▍    | 539/1000 [00:36<00:32, 13.99it/s]\u001b[A\n",
      " 54%|█████▍    | 541/1000 [00:36<00:31, 14.38it/s]\u001b[A\n",
      " 54%|█████▍    | 543/1000 [00:36<00:31, 14.69it/s]\u001b[A\n",
      " 55%|█████▍    | 545/1000 [00:36<00:30, 15.03it/s]\u001b[A\n",
      " 55%|█████▍    | 547/1000 [00:36<00:29, 15.30it/s]\u001b[A\n",
      " 55%|█████▍    | 549/1000 [00:37<00:29, 15.37it/s]\u001b[A\n",
      " 55%|█████▌    | 551/1000 [00:37<00:28, 15.49it/s]\u001b[A\n",
      " 55%|█████▌    | 553/1000 [00:37<00:28, 15.58it/s]\u001b[A\n",
      " 56%|█████▌    | 555/1000 [00:37<00:28, 15.60it/s]\u001b[A\n",
      " 56%|█████▌    | 557/1000 [00:37<00:28, 15.53it/s]\u001b[A\n",
      " 56%|█████▌    | 559/1000 [00:37<00:28, 15.51it/s]\u001b[A\n",
      " 56%|█████▌    | 561/1000 [00:37<00:28, 15.59it/s]\u001b[A\n",
      " 56%|█████▋    | 563/1000 [00:37<00:27, 15.62it/s]\u001b[A\n",
      " 56%|█████▋    | 565/1000 [00:38<00:27, 15.59it/s]\u001b[A\n",
      " 57%|█████▋    | 567/1000 [00:38<00:27, 15.63it/s]\u001b[A\n",
      " 57%|█████▋    | 569/1000 [00:38<00:27, 15.66it/s]\u001b[A\n",
      " 57%|█████▋    | 571/1000 [00:38<00:27, 15.71it/s]\u001b[A\n",
      " 57%|█████▋    | 573/1000 [00:38<00:27, 15.64it/s]\u001b[A\n",
      " 57%|█████▊    | 575/1000 [00:38<00:27, 15.63it/s]\u001b[A\n",
      " 58%|█████▊    | 577/1000 [00:38<00:27, 15.56it/s]\u001b[A\n",
      " 58%|█████▊    | 579/1000 [00:38<00:27, 15.54it/s]\u001b[A\n",
      " 58%|█████▊    | 581/1000 [00:39<00:26, 15.59it/s]\u001b[A\n",
      " 58%|█████▊    | 583/1000 [00:39<00:26, 15.63it/s]\u001b[A\n",
      " 58%|█████▊    | 585/1000 [00:39<00:26, 15.54it/s]\u001b[A\n",
      " 59%|█████▊    | 587/1000 [00:39<00:26, 15.66it/s]\u001b[A\n",
      " 59%|█████▉    | 589/1000 [00:39<00:26, 15.47it/s]\u001b[A\n",
      " 59%|█████▉    | 591/1000 [00:39<00:26, 15.63it/s]\u001b[A\n",
      " 59%|█████▉    | 593/1000 [00:39<00:25, 15.71it/s]\u001b[A\n",
      " 60%|█████▉    | 595/1000 [00:39<00:25, 15.62it/s]\u001b[A\n",
      " 60%|█████▉    | 597/1000 [00:40<00:25, 15.64it/s]\u001b[A\n",
      " 60%|█████▉    | 599/1000 [00:40<00:25, 15.61it/s]\u001b[A\n",
      " 60%|██████    | 601/1000 [00:40<00:25, 15.71it/s]\u001b[A\n",
      " 60%|██████    | 603/1000 [00:40<00:25, 15.72it/s]\u001b[A\n",
      " 60%|██████    | 605/1000 [00:40<00:25, 15.51it/s]\u001b[A\n",
      " 61%|██████    | 607/1000 [00:40<00:25, 15.60it/s]\u001b[A\n",
      " 61%|██████    | 609/1000 [00:40<00:25, 15.58it/s]\u001b[A\n",
      " 61%|██████    | 611/1000 [00:40<00:24, 15.69it/s]\u001b[A\n",
      " 61%|██████▏   | 613/1000 [00:41<00:24, 15.74it/s]\u001b[A\n",
      " 62%|██████▏   | 615/1000 [00:41<00:24, 15.71it/s]\u001b[A\n",
      " 62%|██████▏   | 617/1000 [00:41<00:24, 15.73it/s]\u001b[A\n",
      " 62%|██████▏   | 619/1000 [00:41<00:24, 15.81it/s]\u001b[A\n",
      " 62%|██████▏   | 621/1000 [00:41<00:24, 15.64it/s]\u001b[A\n",
      " 62%|██████▏   | 623/1000 [00:41<00:23, 15.73it/s]\u001b[A\n",
      " 62%|██████▎   | 625/1000 [00:41<00:23, 15.69it/s]\u001b[A\n",
      " 63%|██████▎   | 627/1000 [00:42<00:23, 15.70it/s]\u001b[A\n",
      " 63%|██████▎   | 629/1000 [00:42<00:23, 15.78it/s]\u001b[A\n",
      " 63%|██████▎   | 631/1000 [00:42<00:23, 15.76it/s]\u001b[A\n",
      " 63%|██████▎   | 633/1000 [00:42<00:23, 15.81it/s]\u001b[A\n",
      " 64%|██████▎   | 635/1000 [00:42<00:23, 15.69it/s]\u001b[A\n",
      " 64%|██████▎   | 637/1000 [00:42<00:23, 15.44it/s]\u001b[A\n",
      " 64%|██████▍   | 639/1000 [00:42<00:23, 15.46it/s]\u001b[A\n",
      " 64%|██████▍   | 641/1000 [00:42<00:23, 15.60it/s]\u001b[A\n",
      " 64%|██████▍   | 643/1000 [00:43<00:22, 15.66it/s]\u001b[A\n",
      " 64%|██████▍   | 645/1000 [00:43<00:22, 15.70it/s]\u001b[A\n",
      " 65%|██████▍   | 647/1000 [00:43<00:22, 15.69it/s]\u001b[A\n",
      " 65%|██████▍   | 649/1000 [00:43<00:22, 15.70it/s]\u001b[A\n",
      " 65%|██████▌   | 651/1000 [00:43<00:22, 15.59it/s]\u001b[A\n",
      " 65%|██████▌   | 653/1000 [00:43<00:22, 15.64it/s]\u001b[A\n",
      " 66%|██████▌   | 655/1000 [00:43<00:22, 15.68it/s]\u001b[A\n",
      " 66%|██████▌   | 657/1000 [00:43<00:21, 15.70it/s]\u001b[A\n",
      " 66%|██████▌   | 659/1000 [00:44<00:22, 15.49it/s]\u001b[A\n",
      " 66%|██████▌   | 661/1000 [00:44<00:21, 15.50it/s]\u001b[A\n",
      " 66%|██████▋   | 663/1000 [00:44<00:21, 15.52it/s]\u001b[A\n",
      " 66%|██████▋   | 665/1000 [00:44<00:21, 15.64it/s]\u001b[A\n",
      " 67%|██████▋   | 667/1000 [00:44<00:21, 15.54it/s]\u001b[A\n",
      " 67%|██████▋   | 669/1000 [00:44<00:21, 15.65it/s]\u001b[A\n",
      " 67%|██████▋   | 671/1000 [00:44<00:20, 15.75it/s]\u001b[A\n",
      " 67%|██████▋   | 673/1000 [00:44<00:20, 15.84it/s]\u001b[A\n",
      " 68%|██████▊   | 675/1000 [00:45<00:20, 15.75it/s]\u001b[A\n",
      " 68%|██████▊   | 677/1000 [00:45<00:20, 15.57it/s]\u001b[A\n",
      " 68%|██████▊   | 679/1000 [00:45<00:20, 15.52it/s]\u001b[A\n",
      " 68%|██████▊   | 681/1000 [00:45<00:20, 15.62it/s]\u001b[A\n",
      " 68%|██████▊   | 683/1000 [00:45<00:20, 15.37it/s]\u001b[A\n",
      " 68%|██████▊   | 685/1000 [00:45<00:20, 15.45it/s]\u001b[A\n",
      " 69%|██████▊   | 687/1000 [00:45<00:20, 15.58it/s]\u001b[A\n",
      " 69%|██████▉   | 689/1000 [00:45<00:19, 15.59it/s]\u001b[A\n",
      " 69%|██████▉   | 691/1000 [00:46<00:19, 15.69it/s]\u001b[A\n",
      " 69%|██████▉   | 693/1000 [00:46<00:19, 15.67it/s]\u001b[A\n",
      " 70%|██████▉   | 695/1000 [00:46<00:19, 15.59it/s]\u001b[A\n",
      " 70%|██████▉   | 697/1000 [00:46<00:20, 14.92it/s]\u001b[A\n",
      " 70%|██████▉   | 699/1000 [00:46<00:20, 14.35it/s]\u001b[A\n",
      " 70%|███████   | 701/1000 [00:46<00:20, 14.45it/s]\u001b[A\n",
      " 70%|███████   | 703/1000 [00:46<00:20, 14.27it/s]\u001b[A\n",
      " 70%|███████   | 705/1000 [00:47<00:20, 14.13it/s]\u001b[A\n",
      " 71%|███████   | 707/1000 [00:47<00:20, 14.15it/s]\u001b[A\n",
      " 71%|███████   | 709/1000 [00:47<00:20, 14.27it/s]\u001b[A\n",
      " 71%|███████   | 711/1000 [00:47<00:20, 14.27it/s]\u001b[A\n",
      " 71%|███████▏  | 713/1000 [00:47<00:20, 14.15it/s]\u001b[A\n",
      " 72%|███████▏  | 715/1000 [00:47<00:20, 14.13it/s]\u001b[A\n",
      " 72%|███████▏  | 717/1000 [00:47<00:20, 13.84it/s]\u001b[A\n",
      " 72%|███████▏  | 719/1000 [00:48<00:20, 14.04it/s]\u001b[A\n",
      " 72%|███████▏  | 721/1000 [00:48<00:19, 13.99it/s]\u001b[A\n",
      " 72%|███████▏  | 723/1000 [00:48<00:20, 13.84it/s]\u001b[A\n",
      " 72%|███████▎  | 725/1000 [00:48<00:20, 13.27it/s]\u001b[A\n",
      " 73%|███████▎  | 727/1000 [00:48<00:20, 13.30it/s]\u001b[A\n",
      " 73%|███████▎  | 729/1000 [00:48<00:20, 13.41it/s]\u001b[A\n",
      " 73%|███████▎  | 731/1000 [00:48<00:19, 13.56it/s]\u001b[A\n",
      " 73%|███████▎  | 733/1000 [00:49<00:19, 13.78it/s]\u001b[A\n",
      " 74%|███████▎  | 735/1000 [00:49<00:19, 13.90it/s]\u001b[A\n",
      " 74%|███████▎  | 737/1000 [00:49<00:19, 13.73it/s]\u001b[A\n",
      " 74%|███████▍  | 739/1000 [00:49<00:19, 13.47it/s]\u001b[A\n",
      " 74%|███████▍  | 741/1000 [00:49<00:19, 13.38it/s]\u001b[A\n",
      " 74%|███████▍  | 743/1000 [00:49<00:19, 13.39it/s]\u001b[A\n",
      " 74%|███████▍  | 745/1000 [00:50<00:18, 13.55it/s]\u001b[A\n",
      " 75%|███████▍  | 747/1000 [00:50<00:18, 13.61it/s]\u001b[A\n",
      " 75%|███████▍  | 749/1000 [00:50<00:18, 13.61it/s]\u001b[A\n",
      " 75%|███████▌  | 751/1000 [00:50<00:17, 13.90it/s]\u001b[A\n",
      " 75%|███████▌  | 753/1000 [00:50<00:17, 14.22it/s]\u001b[A\n",
      " 76%|███████▌  | 755/1000 [00:50<00:17, 14.30it/s]\u001b[A\n",
      " 76%|███████▌  | 757/1000 [00:50<00:16, 14.70it/s]\u001b[A\n",
      " 76%|███████▌  | 759/1000 [00:50<00:16, 14.92it/s]\u001b[A\n",
      " 76%|███████▌  | 761/1000 [00:51<00:15, 15.19it/s]\u001b[A\n",
      " 76%|███████▋  | 763/1000 [00:51<00:15, 15.29it/s]\u001b[A\n",
      " 76%|███████▋  | 765/1000 [00:51<00:15, 15.45it/s]\u001b[A\n",
      " 77%|███████▋  | 767/1000 [00:51<00:14, 15.58it/s]\u001b[A\n",
      " 77%|███████▋  | 769/1000 [00:51<00:15, 15.36it/s]\u001b[A\n",
      " 77%|███████▋  | 771/1000 [00:51<00:14, 15.28it/s]\u001b[A\n",
      " 77%|███████▋  | 773/1000 [00:51<00:14, 15.45it/s]\u001b[A\n",
      " 78%|███████▊  | 775/1000 [00:51<00:14, 15.46it/s]\u001b[A\n",
      " 78%|███████▊  | 777/1000 [00:52<00:14, 15.55it/s]\u001b[A\n",
      " 78%|███████▊  | 779/1000 [00:52<00:14, 15.62it/s]\u001b[A\n",
      " 78%|███████▊  | 781/1000 [00:52<00:13, 15.65it/s]\u001b[A\n",
      " 78%|███████▊  | 783/1000 [00:52<00:13, 15.67it/s]\u001b[A\n",
      " 78%|███████▊  | 785/1000 [00:52<00:13, 15.59it/s]\u001b[A\n",
      " 79%|███████▊  | 787/1000 [00:52<00:13, 15.28it/s]\u001b[A\n",
      " 79%|███████▉  | 789/1000 [00:52<00:13, 15.27it/s]\u001b[A\n",
      " 79%|███████▉  | 791/1000 [00:53<00:13, 15.43it/s]\u001b[A\n",
      " 79%|███████▉  | 793/1000 [00:53<00:13, 15.55it/s]\u001b[A\n",
      " 80%|███████▉  | 795/1000 [00:53<00:13, 15.58it/s]\u001b[A\n",
      " 80%|███████▉  | 797/1000 [00:53<00:12, 15.64it/s]\u001b[A\n",
      " 80%|███████▉  | 799/1000 [00:53<00:12, 15.53it/s]\u001b[A\n",
      " 80%|████████  | 801/1000 [00:53<00:12, 15.46it/s]\u001b[A\n",
      " 80%|████████  | 803/1000 [00:53<00:12, 15.44it/s]\u001b[A\n",
      " 80%|████████  | 805/1000 [00:53<00:12, 15.49it/s]\u001b[A\n",
      " 81%|████████  | 807/1000 [00:54<00:12, 15.59it/s]\u001b[A\n",
      " 81%|████████  | 809/1000 [00:54<00:12, 15.61it/s]\u001b[A\n",
      " 81%|████████  | 811/1000 [00:54<00:12, 15.57it/s]\u001b[A\n",
      " 81%|████████▏ | 813/1000 [00:54<00:12, 15.57it/s]\u001b[A\n",
      " 82%|████████▏ | 815/1000 [00:54<00:11, 15.46it/s]\u001b[A\n",
      " 82%|████████▏ | 817/1000 [00:54<00:11, 15.59it/s]\u001b[A\n",
      " 82%|████████▏ | 819/1000 [00:54<00:11, 15.32it/s]\u001b[A\n",
      " 82%|████████▏ | 821/1000 [00:54<00:11, 15.48it/s]\u001b[A\n",
      " 82%|████████▏ | 823/1000 [00:55<00:11, 15.53it/s]\u001b[A\n",
      " 82%|████████▎ | 825/1000 [00:55<00:14, 11.80it/s]\u001b[A\n",
      " 83%|████████▎ | 827/1000 [00:55<00:16, 10.73it/s]\u001b[A\n",
      " 83%|████████▎ | 829/1000 [00:55<00:15, 11.14it/s]\u001b[A\n",
      " 83%|████████▎ | 831/1000 [00:55<00:14, 12.05it/s]\u001b[A\n",
      " 83%|████████▎ | 833/1000 [00:56<00:12, 12.96it/s]\u001b[A\n",
      " 84%|████████▎ | 835/1000 [00:56<00:12, 13.68it/s]\u001b[A\n",
      " 84%|████████▎ | 837/1000 [00:56<00:11, 14.23it/s]\u001b[A\n",
      " 84%|████████▍ | 839/1000 [00:56<00:11, 14.64it/s]\u001b[A\n",
      " 84%|████████▍ | 841/1000 [00:56<00:10, 14.93it/s]\u001b[A\n",
      " 84%|████████▍ | 843/1000 [00:56<00:10, 15.07it/s]\u001b[A\n",
      " 84%|████████▍ | 845/1000 [00:56<00:10, 15.19it/s]\u001b[A\n",
      " 85%|████████▍ | 847/1000 [00:56<00:10, 15.14it/s]\u001b[A\n",
      " 85%|████████▍ | 849/1000 [00:57<00:09, 15.24it/s]\u001b[A\n",
      " 85%|████████▌ | 851/1000 [00:57<00:09, 15.35it/s]\u001b[A\n",
      " 85%|████████▌ | 853/1000 [00:57<00:09, 15.47it/s]\u001b[A\n",
      " 86%|████████▌ | 855/1000 [00:57<00:09, 15.52it/s]\u001b[A\n",
      " 86%|████████▌ | 857/1000 [00:57<00:09, 15.48it/s]\u001b[A\n",
      " 86%|████████▌ | 859/1000 [00:57<00:09, 15.56it/s]\u001b[A\n",
      " 86%|████████▌ | 861/1000 [00:57<00:08, 15.58it/s]\u001b[A\n",
      " 86%|████████▋ | 863/1000 [00:57<00:08, 15.25it/s]\u001b[A\n",
      " 86%|████████▋ | 865/1000 [00:58<00:08, 15.32it/s]\u001b[A\n",
      " 87%|████████▋ | 867/1000 [00:58<00:08, 15.48it/s]\u001b[A\n",
      " 87%|████████▋ | 869/1000 [00:58<00:08, 15.54it/s]\u001b[A\n",
      " 87%|████████▋ | 871/1000 [00:58<00:08, 15.65it/s]\u001b[A\n",
      " 87%|████████▋ | 873/1000 [00:58<00:08, 15.46it/s]\u001b[A\n",
      " 88%|████████▊ | 875/1000 [00:58<00:07, 15.63it/s]\u001b[A\n",
      " 88%|████████▊ | 877/1000 [00:58<00:07, 15.72it/s]\u001b[A\n",
      " 88%|████████▊ | 879/1000 [00:58<00:07, 15.41it/s]\u001b[A\n",
      " 88%|████████▊ | 881/1000 [00:59<00:07, 15.51it/s]\u001b[A\n",
      " 88%|████████▊ | 883/1000 [00:59<00:07, 15.60it/s]\u001b[A\n",
      " 88%|████████▊ | 885/1000 [00:59<00:07, 15.69it/s]\u001b[A\n",
      " 89%|████████▊ | 887/1000 [00:59<00:07, 15.73it/s]\u001b[A\n",
      " 89%|████████▉ | 889/1000 [00:59<00:07, 15.54it/s]\u001b[A\n",
      " 89%|████████▉ | 891/1000 [00:59<00:06, 15.62it/s]\u001b[A\n",
      " 89%|████████▉ | 893/1000 [00:59<00:06, 15.66it/s]\u001b[A\n",
      " 90%|████████▉ | 895/1000 [00:59<00:06, 15.42it/s]\u001b[A\n",
      " 90%|████████▉ | 897/1000 [01:00<00:06, 15.59it/s]\u001b[A\n",
      " 90%|████████▉ | 899/1000 [01:00<00:06, 15.70it/s]\u001b[A\n",
      " 90%|█████████ | 901/1000 [01:00<00:06, 15.71it/s]\u001b[A\n",
      " 90%|█████████ | 903/1000 [01:00<00:06, 14.80it/s]\u001b[A\n",
      " 90%|█████████ | 905/1000 [01:00<00:06, 14.37it/s]\u001b[A\n",
      " 91%|█████████ | 907/1000 [01:00<00:06, 14.24it/s]\u001b[A\n",
      " 91%|█████████ | 909/1000 [01:00<00:06, 14.21it/s]\u001b[A\n",
      " 91%|█████████ | 911/1000 [01:01<00:06, 14.43it/s]\u001b[A\n",
      " 91%|█████████▏| 913/1000 [01:01<00:05, 14.52it/s]\u001b[A\n",
      " 92%|█████████▏| 915/1000 [01:01<00:05, 14.63it/s]\u001b[A\n",
      " 92%|█████████▏| 917/1000 [01:01<00:05, 14.62it/s]\u001b[A\n",
      " 92%|█████████▏| 919/1000 [01:01<00:05, 14.20it/s]\u001b[A\n",
      " 92%|█████████▏| 921/1000 [01:01<00:05, 14.34it/s]\u001b[A\n",
      " 92%|█████████▏| 923/1000 [01:01<00:05, 13.96it/s]\u001b[A\n",
      " 92%|█████████▎| 925/1000 [01:02<00:05, 13.92it/s]\u001b[A\n",
      " 93%|█████████▎| 927/1000 [01:02<00:05, 13.71it/s]\u001b[A\n",
      " 93%|█████████▎| 929/1000 [01:02<00:05, 13.92it/s]\u001b[A\n",
      " 93%|█████████▎| 931/1000 [01:02<00:04, 13.96it/s]\u001b[A\n",
      " 93%|█████████▎| 933/1000 [01:02<00:04, 13.87it/s]\u001b[A\n",
      " 94%|█████████▎| 935/1000 [01:02<00:04, 14.05it/s]\u001b[A\n",
      " 94%|█████████▎| 937/1000 [01:02<00:04, 13.99it/s]\u001b[A\n",
      " 94%|█████████▍| 939/1000 [01:03<00:04, 13.96it/s]\u001b[A\n",
      " 94%|█████████▍| 941/1000 [01:03<00:04, 14.06it/s]\u001b[A\n",
      " 94%|█████████▍| 943/1000 [01:03<00:04, 14.08it/s]\u001b[A\n",
      " 94%|█████████▍| 945/1000 [01:03<00:03, 14.14it/s]\u001b[A\n",
      " 95%|█████████▍| 947/1000 [01:03<00:03, 14.09it/s]\u001b[A\n",
      " 95%|█████████▍| 949/1000 [01:03<00:03, 14.02it/s]\u001b[A\n",
      " 95%|█████████▌| 951/1000 [01:03<00:03, 13.99it/s]\u001b[A\n",
      " 95%|█████████▌| 953/1000 [01:04<00:03, 14.09it/s]\u001b[A\n",
      " 96%|█████████▌| 955/1000 [01:04<00:03, 14.05it/s]\u001b[A\n",
      " 96%|█████████▌| 957/1000 [01:04<00:03, 13.86it/s]\u001b[A\n",
      " 96%|█████████▌| 959/1000 [01:04<00:02, 14.34it/s]\u001b[A\n",
      " 96%|█████████▌| 961/1000 [01:04<00:02, 14.58it/s]\u001b[A\n",
      " 96%|█████████▋| 963/1000 [01:04<00:02, 14.85it/s]\u001b[A\n",
      " 96%|█████████▋| 965/1000 [01:04<00:02, 14.97it/s]\u001b[A\n",
      " 97%|█████████▋| 967/1000 [01:05<00:02, 15.20it/s]\u001b[A\n",
      " 97%|█████████▋| 969/1000 [01:05<00:02, 15.37it/s]\u001b[A\n",
      " 97%|█████████▋| 971/1000 [01:05<00:01, 15.50it/s]\u001b[A\n",
      " 97%|█████████▋| 973/1000 [01:05<00:01, 15.56it/s]\u001b[A\n",
      " 98%|█████████▊| 975/1000 [01:05<00:01, 15.45it/s]\u001b[A\n",
      " 98%|█████████▊| 977/1000 [01:05<00:01, 15.40it/s]\u001b[A\n",
      " 98%|█████████▊| 979/1000 [01:05<00:01, 15.35it/s]\u001b[A\n",
      " 98%|█████████▊| 981/1000 [01:05<00:01, 15.33it/s]\u001b[A\n",
      " 98%|█████████▊| 983/1000 [01:06<00:01, 15.42it/s]\u001b[A\n",
      " 98%|█████████▊| 985/1000 [01:06<00:00, 15.41it/s]\u001b[A\n",
      " 99%|█████████▊| 987/1000 [01:06<00:00, 15.46it/s]\u001b[A\n",
      " 99%|█████████▉| 989/1000 [01:06<00:00, 15.53it/s]\u001b[A\n",
      " 99%|█████████▉| 991/1000 [01:06<00:00, 15.44it/s]\u001b[A\n",
      " 99%|█████████▉| 993/1000 [01:06<00:00, 15.56it/s]\u001b[A\n",
      "100%|█████████▉| 995/1000 [01:06<00:00, 15.49it/s]\u001b[A\n",
      "100%|█████████▉| 997/1000 [01:06<00:00, 15.53it/s]\u001b[A\n",
      "100%|██████████| 1000/1000 [01:07<00:00, 14.89it/s]\n"
     ]
    }
   ],
   "source": [
    "correctness, p_values = bootstrapping_correctness(week_cudf, iterations=1000, size=1000, effect=0.01)"
   ]
  },
  {
   "cell_type": "code",
   "execution_count": null,
   "metadata": {
    "colab": {
     "background_save": true
    },
    "id": "z-ntR-4kLO72",
    "outputId": "5edf8228-53ca-41b3-c2db-0689adadd8b0"
   },
   "outputs": [
    {
     "name": "stdout",
     "output_type": "stream",
     "text": [
      "Correctness: 64.30%, significance: 35.70%\n"
     ]
    },
    {
     "data": {
      "image/png": "[encoded data removed]",
      "text/plain": [
       "<Figure size 640x480 with 1 Axes>"
      ]
     },
     "metadata": {},
     "output_type": "display_data"
    }
   ],
   "source": [
    "print(f'Correctness: {correctness:.2%}, significance: {1 - correctness:.2%}')\n",
    "plt.hist(p_values, bins=10)\n",
    "plt.show()"
   ]
  },
  {
   "cell_type": "code",
   "execution_count": null,
   "metadata": {
    "colab": {
     "background_save": true,
     "base_uri": "https://localhost:8080/"
    },
    "collapsed": true,
    "id": "4xDmU2PfLO45",
    "jupyter": {
     "outputs_hidden": true
    },
    "outputId": "2ec40b8c-caeb-4a75-e7cb-d8d3ead24f2b"
   },
   "outputs": [
    {
     "name": "stderr",
     "output_type": "stream",
     "text": [
      "\n",
      "  0%|          | 0/1000 [00:00<?, ?it/s]\u001b[A\n",
      "  0%|          | 1/1000 [00:00<02:39,  6.28it/s]\u001b[A\n",
      "  0%|          | 2/1000 [00:00<02:12,  7.51it/s]\u001b[A\n",
      "  0%|          | 3/1000 [00:00<02:03,  8.05it/s]\u001b[A\n",
      "  0%|          | 5/1000 [00:00<01:34, 10.49it/s]\u001b[A\n",
      "  1%|          | 7/1000 [00:00<01:23, 11.88it/s]\u001b[A\n",
      "  1%|          | 9/1000 [00:00<01:18, 12.64it/s]\u001b[A\n",
      "  1%|          | 11/1000 [00:00<01:15, 13.17it/s]\u001b[A\n",
      "  1%|▏         | 13/1000 [00:01<01:14, 13.28it/s]\u001b[A\n",
      "  2%|▏         | 15/1000 [00:01<01:13, 13.42it/s]\u001b[A\n",
      "  2%|▏         | 17/1000 [00:01<01:13, 13.35it/s]\u001b[A\n",
      "  2%|▏         | 19/1000 [00:01<01:12, 13.57it/s]\u001b[A\n",
      "  2%|▏         | 21/1000 [00:01<01:11, 13.65it/s]\u001b[A\n",
      "  2%|▏         | 23/1000 [00:01<01:10, 13.89it/s]\u001b[A\n",
      "  2%|▎         | 25/1000 [00:01<01:07, 14.45it/s]\u001b[A\n",
      "  3%|▎         | 27/1000 [00:02<01:06, 14.64it/s]\u001b[A\n",
      "  3%|▎         | 29/1000 [00:02<01:04, 15.01it/s]\u001b[A\n",
      "  3%|▎         | 31/1000 [00:02<01:03, 15.29it/s]\u001b[A\n",
      "  3%|▎         | 33/1000 [00:02<01:02, 15.37it/s]\u001b[A\n",
      "  4%|▎         | 35/1000 [00:02<01:02, 15.37it/s]\u001b[A\n",
      "  4%|▎         | 37/1000 [00:02<01:02, 15.52it/s]\u001b[A\n",
      "  4%|▍         | 39/1000 [00:02<01:01, 15.61it/s]\u001b[A\n",
      "  4%|▍         | 41/1000 [00:02<01:01, 15.62it/s]\u001b[A\n",
      "  4%|▍         | 43/1000 [00:03<01:04, 14.83it/s]\u001b[A\n",
      "  4%|▍         | 45/1000 [00:03<01:03, 15.05it/s]\u001b[A\n",
      "  5%|▍         | 47/1000 [00:03<01:02, 15.26it/s]\u001b[A\n",
      "  5%|▍         | 49/1000 [00:03<01:01, 15.44it/s]\u001b[A\n",
      "  5%|▌         | 51/1000 [00:03<01:00, 15.60it/s]\u001b[A\n",
      "  5%|▌         | 53/1000 [00:03<01:00, 15.69it/s]\u001b[A\n",
      "  6%|▌         | 55/1000 [00:03<01:00, 15.68it/s]\u001b[A\n",
      "  6%|▌         | 57/1000 [00:04<01:00, 15.67it/s]\u001b[A\n",
      "  6%|▌         | 59/1000 [00:04<01:00, 15.65it/s]\u001b[A\n",
      "  6%|▌         | 61/1000 [00:04<00:59, 15.71it/s]\u001b[A\n",
      "  6%|▋         | 63/1000 [00:04<00:59, 15.62it/s]\u001b[A\n",
      "  6%|▋         | 65/1000 [00:04<01:00, 15.45it/s]\u001b[A\n",
      "  7%|▋         | 67/1000 [00:04<01:00, 15.51it/s]\u001b[A\n",
      "  7%|▋         | 69/1000 [00:04<00:59, 15.53it/s]\u001b[A\n",
      "  7%|▋         | 71/1000 [00:04<00:59, 15.59it/s]\u001b[A\n",
      "  7%|▋         | 73/1000 [00:05<00:59, 15.48it/s]\u001b[A\n",
      "  8%|▊         | 75/1000 [00:05<00:59, 15.44it/s]\u001b[A\n",
      "  8%|▊         | 77/1000 [00:05<00:59, 15.59it/s]\u001b[A\n",
      "  8%|▊         | 79/1000 [00:05<00:59, 15.55it/s]\u001b[A\n",
      "  8%|▊         | 81/1000 [00:05<00:58, 15.58it/s]\u001b[A\n",
      "  8%|▊         | 83/1000 [00:05<00:58, 15.57it/s]\u001b[A\n",
      "  8%|▊         | 85/1000 [00:05<00:58, 15.60it/s]\u001b[A\n",
      "  9%|▊         | 87/1000 [00:05<00:58, 15.58it/s]\u001b[A\n",
      "  9%|▉         | 89/1000 [00:06<01:00, 15.13it/s]\u001b[A\n",
      "  9%|▉         | 91/1000 [00:06<00:59, 15.31it/s]\u001b[A\n",
      "  9%|▉         | 93/1000 [00:06<00:58, 15.38it/s]\u001b[A\n",
      " 10%|▉         | 95/1000 [00:06<00:58, 15.43it/s]\u001b[A\n",
      " 10%|▉         | 97/1000 [00:06<00:58, 15.46it/s]\u001b[A\n",
      " 10%|▉         | 99/1000 [00:06<00:57, 15.55it/s]\u001b[A\n",
      " 10%|█         | 101/1000 [00:06<00:57, 15.65it/s]\u001b[A\n",
      " 10%|█         | 103/1000 [00:06<00:57, 15.61it/s]\u001b[A\n",
      " 10%|█         | 105/1000 [00:07<00:58, 15.40it/s]\u001b[A\n",
      " 11%|█         | 107/1000 [00:07<00:57, 15.44it/s]\u001b[A\n",
      " 11%|█         | 109/1000 [00:07<00:57, 15.55it/s]\u001b[A\n",
      " 11%|█         | 111/1000 [00:07<00:56, 15.65it/s]\u001b[A\n",
      " 11%|█▏        | 113/1000 [00:07<00:56, 15.57it/s]\u001b[A\n",
      " 12%|█▏        | 115/1000 [00:07<00:56, 15.63it/s]\u001b[A\n",
      " 12%|█▏        | 117/1000 [00:07<00:56, 15.66it/s]\u001b[A\n",
      " 12%|█▏        | 119/1000 [00:08<00:56, 15.68it/s]\u001b[A\n",
      " 12%|█▏        | 121/1000 [00:08<00:56, 15.62it/s]\u001b[A\n",
      " 12%|█▏        | 123/1000 [00:08<00:56, 15.64it/s]\u001b[A\n",
      " 12%|█▎        | 125/1000 [00:08<00:55, 15.63it/s]\u001b[A\n",
      " 13%|█▎        | 127/1000 [00:08<00:55, 15.60it/s]\u001b[A\n",
      " 13%|█▎        | 129/1000 [00:08<00:56, 15.47it/s]\u001b[A\n",
      " 13%|█▎        | 131/1000 [00:08<00:55, 15.55it/s]\u001b[A\n",
      " 13%|█▎        | 133/1000 [00:08<00:55, 15.60it/s]\u001b[A\n",
      " 14%|█▎        | 135/1000 [00:09<00:55, 15.49it/s]\u001b[A\n",
      " 14%|█▎        | 137/1000 [00:09<00:56, 15.41it/s]\u001b[A\n",
      " 14%|█▍        | 139/1000 [00:09<00:55, 15.52it/s]\u001b[A\n",
      " 14%|█▍        | 141/1000 [00:09<00:55, 15.43it/s]\u001b[A\n",
      " 14%|█▍        | 143/1000 [00:09<00:55, 15.46it/s]\u001b[A\n",
      " 14%|█▍        | 145/1000 [00:09<00:56, 15.21it/s]\u001b[A\n",
      " 15%|█▍        | 147/1000 [00:09<00:55, 15.39it/s]\u001b[A\n",
      " 15%|█▍        | 149/1000 [00:09<00:54, 15.52it/s]\u001b[A\n",
      " 15%|█▌        | 151/1000 [00:10<00:54, 15.49it/s]\u001b[A\n",
      " 15%|█▌        | 153/1000 [00:10<00:54, 15.63it/s]\u001b[A\n",
      " 16%|█▌        | 155/1000 [00:10<00:54, 15.59it/s]\u001b[A\n",
      " 16%|█▌        | 157/1000 [00:10<00:54, 15.57it/s]\u001b[A\n",
      " 16%|█▌        | 159/1000 [00:10<00:53, 15.61it/s]\u001b[A\n",
      " 16%|█▌        | 161/1000 [00:10<00:54, 15.35it/s]\u001b[A\n",
      " 16%|█▋        | 163/1000 [00:10<00:54, 15.43it/s]\u001b[A\n",
      " 16%|█▋        | 165/1000 [00:10<00:53, 15.52it/s]\u001b[A\n",
      " 17%|█▋        | 167/1000 [00:11<00:54, 15.39it/s]\u001b[A\n",
      " 17%|█▋        | 169/1000 [00:11<00:53, 15.54it/s]\u001b[A\n",
      " 17%|█▋        | 171/1000 [00:11<00:53, 15.50it/s]\u001b[A\n",
      " 17%|█▋        | 173/1000 [00:11<00:53, 15.56it/s]\u001b[A\n",
      " 18%|█▊        | 175/1000 [00:11<00:53, 15.55it/s]\u001b[A\n",
      " 18%|█▊        | 177/1000 [00:11<00:53, 15.29it/s]\u001b[A\n",
      " 18%|█▊        | 179/1000 [00:11<00:53, 15.30it/s]\u001b[A\n",
      " 18%|█▊        | 181/1000 [00:12<00:56, 14.50it/s]\u001b[A\n",
      " 18%|█▊        | 183/1000 [00:12<00:57, 14.30it/s]\u001b[A\n",
      " 18%|█▊        | 185/1000 [00:12<00:56, 14.32it/s]\u001b[A\n",
      " 19%|█▊        | 187/1000 [00:12<00:56, 14.32it/s]\u001b[A\n",
      " 19%|█▉        | 189/1000 [00:12<00:56, 14.36it/s]\u001b[A\n",
      " 19%|█▉        | 191/1000 [00:12<00:57, 14.13it/s]\u001b[A\n",
      " 19%|█▉        | 193/1000 [00:12<00:56, 14.36it/s]\u001b[A\n",
      " 20%|█▉        | 195/1000 [00:13<00:55, 14.50it/s]\u001b[A\n",
      " 20%|█▉        | 197/1000 [00:13<00:55, 14.42it/s]\u001b[A\n",
      " 20%|█▉        | 199/1000 [00:13<00:56, 14.28it/s]\u001b[A\n",
      " 20%|██        | 201/1000 [00:13<00:56, 14.09it/s]\u001b[A\n",
      " 20%|██        | 203/1000 [00:13<00:56, 14.04it/s]\u001b[A\n",
      " 20%|██        | 205/1000 [00:13<00:56, 13.98it/s]\u001b[A\n",
      " 21%|██        | 207/1000 [00:13<00:57, 13.79it/s]\u001b[A\n",
      " 21%|██        | 209/1000 [00:14<00:56, 13.98it/s]\u001b[A\n",
      " 21%|██        | 211/1000 [00:14<00:55, 14.10it/s]\u001b[A\n",
      " 21%|██▏       | 213/1000 [00:14<00:55, 14.24it/s]\u001b[A\n",
      " 22%|██▏       | 215/1000 [00:14<00:54, 14.29it/s]\u001b[A\n",
      " 22%|██▏       | 217/1000 [00:14<00:54, 14.37it/s]\u001b[A\n",
      " 22%|██▏       | 219/1000 [00:14<00:54, 14.39it/s]\u001b[A\n",
      " 22%|██▏       | 221/1000 [00:14<00:54, 14.42it/s]\u001b[A\n",
      " 22%|██▏       | 223/1000 [00:14<00:54, 14.37it/s]\u001b[A\n",
      " 22%|██▎       | 225/1000 [00:15<00:54, 14.27it/s]\u001b[A\n",
      " 23%|██▎       | 227/1000 [00:15<00:54, 14.15it/s]\u001b[A\n",
      " 23%|██▎       | 229/1000 [00:15<00:55, 13.87it/s]\u001b[A\n",
      " 23%|██▎       | 231/1000 [00:15<00:55, 13.84it/s]\u001b[A\n",
      " 23%|██▎       | 233/1000 [00:15<00:55, 13.74it/s]\u001b[A\n",
      " 24%|██▎       | 235/1000 [00:15<00:56, 13.60it/s]\u001b[A\n",
      " 24%|██▎       | 237/1000 [00:16<00:56, 13.52it/s]\u001b[A\n",
      " 24%|██▍       | 239/1000 [00:16<00:56, 13.53it/s]\u001b[A\n",
      " 24%|██▍       | 241/1000 [00:16<00:55, 13.71it/s]\u001b[A\n",
      " 24%|██▍       | 243/1000 [00:16<00:53, 14.15it/s]\u001b[A\n",
      " 24%|██▍       | 245/1000 [00:16<00:51, 14.56it/s]\u001b[A\n",
      " 25%|██▍       | 247/1000 [00:16<00:50, 14.90it/s]\u001b[A\n",
      " 25%|██▍       | 249/1000 [00:16<00:49, 15.16it/s]\u001b[A\n",
      " 25%|██▌       | 251/1000 [00:16<00:48, 15.33it/s]\u001b[A\n",
      " 25%|██▌       | 253/1000 [00:17<00:49, 15.22it/s]\u001b[A\n",
      " 26%|██▌       | 255/1000 [00:17<00:48, 15.37it/s]\u001b[A\n",
      " 26%|██▌       | 257/1000 [00:17<00:48, 15.38it/s]\u001b[A\n",
      " 26%|██▌       | 259/1000 [00:17<00:47, 15.53it/s]\u001b[A\n",
      " 26%|██▌       | 261/1000 [00:17<00:47, 15.58it/s]\u001b[A\n",
      " 26%|██▋       | 263/1000 [00:17<00:47, 15.52it/s]\u001b[A\n",
      " 26%|██▋       | 265/1000 [00:17<00:47, 15.61it/s]\u001b[A\n",
      " 27%|██▋       | 267/1000 [00:17<00:46, 15.66it/s]\u001b[A\n",
      " 27%|██▋       | 269/1000 [00:18<00:47, 15.48it/s]\u001b[A\n",
      " 27%|██▋       | 271/1000 [00:18<00:46, 15.57it/s]\u001b[A\n",
      " 27%|██▋       | 273/1000 [00:18<00:46, 15.68it/s]\u001b[A\n",
      " 28%|██▊       | 275/1000 [00:18<00:46, 15.56it/s]\u001b[A\n",
      " 28%|██▊       | 277/1000 [00:18<00:46, 15.62it/s]\u001b[A\n",
      " 28%|██▊       | 279/1000 [00:18<00:46, 15.64it/s]\u001b[A\n",
      " 28%|██▊       | 281/1000 [00:18<00:45, 15.69it/s]\u001b[A\n",
      " 28%|██▊       | 283/1000 [00:19<00:45, 15.67it/s]\u001b[A\n",
      " 28%|██▊       | 285/1000 [00:19<00:46, 15.45it/s]\u001b[A\n",
      " 29%|██▊       | 287/1000 [00:19<00:45, 15.57it/s]\u001b[A\n",
      " 29%|██▉       | 289/1000 [00:19<00:45, 15.62it/s]\u001b[A\n",
      " 29%|██▉       | 291/1000 [00:19<00:45, 15.60it/s]\u001b[A\n",
      " 29%|██▉       | 293/1000 [00:19<00:45, 15.69it/s]\u001b[A\n",
      " 30%|██▉       | 295/1000 [00:19<00:44, 15.68it/s]\u001b[A\n",
      " 30%|██▉       | 297/1000 [00:19<00:44, 15.67it/s]\u001b[A\n",
      " 30%|██▉       | 299/1000 [00:20<00:45, 15.46it/s]\u001b[A\n",
      " 30%|███       | 301/1000 [00:20<00:45, 15.43it/s]\u001b[A\n",
      " 30%|███       | 303/1000 [00:20<00:44, 15.56it/s]\u001b[A\n",
      " 30%|███       | 305/1000 [00:20<00:44, 15.59it/s]\u001b[A\n",
      " 31%|███       | 307/1000 [00:20<00:44, 15.69it/s]\u001b[A\n",
      " 31%|███       | 309/1000 [00:20<00:43, 15.73it/s]\u001b[A\n",
      " 31%|███       | 311/1000 [00:20<00:43, 15.67it/s]\u001b[A\n",
      " 31%|███▏      | 313/1000 [00:20<00:43, 15.67it/s]\u001b[A\n",
      " 32%|███▏      | 315/1000 [00:21<00:44, 15.36it/s]\u001b[A\n",
      " 32%|███▏      | 317/1000 [00:21<00:44, 15.50it/s]\u001b[A\n",
      " 32%|███▏      | 319/1000 [00:21<00:43, 15.59it/s]\u001b[A\n",
      " 32%|███▏      | 321/1000 [00:21<00:43, 15.51it/s]\u001b[A\n",
      " 32%|███▏      | 323/1000 [00:21<00:43, 15.59it/s]\u001b[A\n",
      " 32%|███▎      | 325/1000 [00:21<00:43, 15.59it/s]\u001b[A\n",
      " 33%|███▎      | 327/1000 [00:21<00:43, 15.62it/s]\u001b[A\n",
      " 33%|███▎      | 329/1000 [00:21<00:42, 15.67it/s]\u001b[A\n",
      " 33%|███▎      | 331/1000 [00:22<00:43, 15.41it/s]\u001b[A\n",
      " 33%|███▎      | 333/1000 [00:22<00:42, 15.54it/s]\u001b[A\n",
      " 34%|███▎      | 335/1000 [00:22<00:42, 15.55it/s]\u001b[A\n",
      " 34%|███▎      | 337/1000 [00:22<00:42, 15.69it/s]\u001b[A\n",
      " 34%|███▍      | 339/1000 [00:22<00:41, 15.77it/s]\u001b[A\n",
      " 34%|███▍      | 341/1000 [00:22<00:41, 15.77it/s]\u001b[A\n",
      " 34%|███▍      | 343/1000 [00:22<00:41, 15.80it/s]\u001b[A\n",
      " 34%|███▍      | 345/1000 [00:22<00:41, 15.75it/s]\u001b[A\n",
      " 35%|███▍      | 347/1000 [00:23<00:42, 15.51it/s]\u001b[A\n",
      " 35%|███▍      | 349/1000 [00:23<00:41, 15.61it/s]\u001b[A\n",
      " 35%|███▌      | 351/1000 [00:23<00:41, 15.60it/s]\u001b[A\n",
      " 35%|███▌      | 353/1000 [00:23<00:41, 15.73it/s]\u001b[A\n",
      " 36%|███▌      | 355/1000 [00:23<00:40, 15.76it/s]\u001b[A\n",
      " 36%|███▌      | 357/1000 [00:23<00:40, 15.82it/s]\u001b[A\n",
      " 36%|███▌      | 359/1000 [00:23<00:40, 15.86it/s]\u001b[A\n",
      " 36%|███▌      | 361/1000 [00:23<00:40, 15.89it/s]\u001b[A\n",
      " 36%|███▋      | 363/1000 [00:24<00:40, 15.71it/s]\u001b[A\n",
      " 36%|███▋      | 365/1000 [00:24<00:40, 15.72it/s]\u001b[A\n",
      " 37%|███▋      | 367/1000 [00:24<00:40, 15.76it/s]\u001b[A\n",
      " 37%|███▋      | 369/1000 [00:24<00:39, 15.83it/s]\u001b[A\n",
      " 37%|███▋      | 371/1000 [00:24<00:39, 15.89it/s]\u001b[A\n",
      " 37%|███▋      | 373/1000 [00:24<00:39, 15.86it/s]\u001b[A\n",
      " 38%|███▊      | 375/1000 [00:24<00:39, 15.88it/s]\u001b[A\n",
      " 38%|███▊      | 377/1000 [00:25<00:39, 15.83it/s]\u001b[A\n",
      " 38%|███▊      | 379/1000 [00:25<00:40, 15.48it/s]\u001b[A\n",
      " 38%|███▊      | 381/1000 [00:25<00:39, 15.55it/s]\u001b[A\n",
      " 38%|███▊      | 383/1000 [00:25<00:39, 15.64it/s]\u001b[A\n",
      " 38%|███▊      | 385/1000 [00:25<00:39, 15.62it/s]\u001b[A\n",
      " 39%|███▊      | 387/1000 [00:25<00:39, 15.69it/s]\u001b[A\n",
      " 39%|███▉      | 389/1000 [00:25<00:38, 15.71it/s]\u001b[A\n",
      " 39%|███▉      | 391/1000 [00:25<00:38, 15.78it/s]\u001b[A\n",
      " 39%|███▉      | 393/1000 [00:26<00:38, 15.70it/s]\u001b[A\n",
      " 40%|███▉      | 395/1000 [00:26<00:39, 15.47it/s]\u001b[A\n",
      " 40%|███▉      | 397/1000 [00:26<00:39, 15.27it/s]\u001b[A\n",
      " 40%|███▉      | 399/1000 [00:26<00:40, 14.81it/s]\u001b[A\n",
      " 40%|████      | 401/1000 [00:26<00:40, 14.70it/s]\u001b[A\n",
      " 40%|████      | 403/1000 [00:26<00:40, 14.69it/s]\u001b[A\n",
      " 40%|████      | 405/1000 [00:26<00:40, 14.73it/s]\u001b[A\n",
      " 41%|████      | 407/1000 [00:26<00:40, 14.75it/s]\u001b[A\n",
      " 41%|████      | 409/1000 [00:27<00:40, 14.72it/s]\u001b[A\n",
      " 41%|████      | 411/1000 [00:27<00:40, 14.61it/s]\u001b[A\n",
      " 41%|████▏     | 413/1000 [00:27<00:40, 14.48it/s]\u001b[A\n",
      " 42%|████▏     | 415/1000 [00:27<00:40, 14.32it/s]\u001b[A\n",
      " 42%|████▏     | 417/1000 [00:27<00:40, 14.30it/s]\u001b[A\n",
      " 42%|████▏     | 419/1000 [00:27<00:40, 14.25it/s]\u001b[A\n",
      " 42%|████▏     | 421/1000 [00:27<00:40, 14.17it/s]\u001b[A\n",
      " 42%|████▏     | 423/1000 [00:28<00:41, 13.95it/s]\u001b[A\n",
      " 42%|████▎     | 425/1000 [00:28<00:41, 13.89it/s]\u001b[A\n",
      " 43%|████▎     | 427/1000 [00:28<00:41, 13.93it/s]\u001b[A\n",
      " 43%|████▎     | 429/1000 [00:28<00:40, 14.08it/s]\u001b[A\n",
      " 43%|████▎     | 431/1000 [00:28<00:40, 14.18it/s]\u001b[A\n",
      " 43%|████▎     | 433/1000 [00:28<00:39, 14.22it/s]\u001b[A\n",
      " 44%|████▎     | 435/1000 [00:28<00:39, 14.24it/s]\u001b[A\n",
      " 44%|████▎     | 437/1000 [00:29<00:40, 13.86it/s]\u001b[A\n",
      " 44%|████▍     | 439/1000 [00:29<00:40, 13.69it/s]\u001b[A\n",
      " 44%|████▍     | 441/1000 [00:29<00:40, 13.70it/s]\u001b[A\n",
      " 44%|████▍     | 443/1000 [00:29<00:40, 13.85it/s]\u001b[A\n",
      " 44%|████▍     | 445/1000 [00:29<00:40, 13.82it/s]\u001b[A\n",
      " 45%|████▍     | 447/1000 [00:29<00:39, 13.84it/s]\u001b[A\n",
      " 45%|████▍     | 449/1000 [00:29<00:39, 13.88it/s]\u001b[A\n",
      " 45%|████▌     | 451/1000 [00:30<00:40, 13.63it/s]\u001b[A\n",
      " 45%|████▌     | 453/1000 [00:30<00:40, 13.59it/s]\u001b[A\n",
      " 46%|████▌     | 455/1000 [00:30<00:40, 13.62it/s]\u001b[A\n",
      " 46%|████▌     | 457/1000 [00:30<00:39, 13.78it/s]\u001b[A\n",
      " 46%|████▌     | 459/1000 [00:30<00:37, 14.24it/s]\u001b[A\n",
      " 46%|████▌     | 461/1000 [00:30<00:36, 14.69it/s]\u001b[A\n",
      " 46%|████▋     | 463/1000 [00:30<00:35, 15.03it/s]\u001b[A\n",
      " 46%|████▋     | 465/1000 [00:31<00:35, 15.05it/s]\u001b[A\n",
      " 47%|████▋     | 467/1000 [00:31<00:34, 15.31it/s]\u001b[A\n",
      " 47%|████▋     | 469/1000 [00:31<00:34, 15.45it/s]\u001b[A\n",
      " 47%|████▋     | 471/1000 [00:31<00:34, 15.41it/s]\u001b[A\n",
      " 47%|████▋     | 473/1000 [00:31<00:34, 15.48it/s]\u001b[A\n",
      " 48%|████▊     | 475/1000 [00:31<00:33, 15.55it/s]\u001b[A\n",
      " 48%|████▊     | 477/1000 [00:31<00:33, 15.67it/s]\u001b[A\n",
      " 48%|████▊     | 479/1000 [00:31<00:33, 15.77it/s]\u001b[A\n",
      " 48%|████▊     | 481/1000 [00:32<00:33, 15.53it/s]\u001b[A\n",
      " 48%|████▊     | 483/1000 [00:32<00:33, 15.61it/s]\u001b[A\n",
      " 48%|████▊     | 485/1000 [00:32<00:33, 15.47it/s]\u001b[A\n",
      " 49%|████▊     | 487/1000 [00:32<00:33, 15.53it/s]\u001b[A\n",
      " 49%|████▉     | 489/1000 [00:32<00:32, 15.62it/s]\u001b[A\n",
      " 49%|████▉     | 491/1000 [00:32<00:32, 15.63it/s]\u001b[A\n",
      " 49%|████▉     | 493/1000 [00:32<00:32, 15.72it/s]\u001b[A\n",
      " 50%|████▉     | 495/1000 [00:33<00:32, 15.76it/s]\u001b[A\n",
      " 50%|████▉     | 497/1000 [00:33<00:32, 15.63it/s]\u001b[A\n",
      " 50%|████▉     | 499/1000 [00:33<00:31, 15.71it/s]\u001b[A\n",
      " 50%|█████     | 501/1000 [00:33<00:32, 15.31it/s]\u001b[A\n",
      " 50%|█████     | 503/1000 [00:33<00:32, 15.45it/s]\u001b[A\n",
      " 50%|█████     | 505/1000 [00:33<00:31, 15.56it/s]\u001b[A\n",
      " 51%|█████     | 507/1000 [00:33<00:31, 15.60it/s]\u001b[A\n",
      " 51%|█████     | 509/1000 [00:33<00:31, 15.65it/s]\u001b[A\n",
      " 51%|█████     | 511/1000 [00:34<00:31, 15.52it/s]\u001b[A\n",
      " 51%|█████▏    | 513/1000 [00:34<00:31, 15.43it/s]\u001b[A\n",
      " 52%|█████▏    | 515/1000 [00:34<00:31, 15.49it/s]\u001b[A\n",
      " 52%|█████▏    | 517/1000 [00:34<00:30, 15.61it/s]\u001b[A\n",
      " 52%|█████▏    | 519/1000 [00:34<00:30, 15.68it/s]\u001b[A\n",
      " 52%|█████▏    | 521/1000 [00:34<00:30, 15.71it/s]\u001b[A\n",
      " 52%|█████▏    | 523/1000 [00:34<00:30, 15.75it/s]\u001b[A\n",
      " 52%|█████▎    | 525/1000 [00:34<00:30, 15.76it/s]\u001b[A\n",
      " 53%|█████▎    | 527/1000 [00:35<00:30, 15.65it/s]\u001b[A\n",
      " 53%|█████▎    | 529/1000 [00:35<00:29, 15.73it/s]\u001b[A\n",
      " 53%|█████▎    | 531/1000 [00:35<00:29, 15.66it/s]\u001b[A\n",
      " 53%|█████▎    | 533/1000 [00:35<00:29, 15.71it/s]\u001b[A\n",
      " 54%|█████▎    | 535/1000 [00:35<00:29, 15.77it/s]\u001b[A\n",
      " 54%|█████▎    | 537/1000 [00:35<00:29, 15.76it/s]\u001b[A\n",
      " 54%|█████▍    | 539/1000 [00:35<00:29, 15.75it/s]\u001b[A\n",
      " 54%|█████▍    | 541/1000 [00:35<00:29, 15.83it/s]\u001b[A\n",
      " 54%|█████▍    | 543/1000 [00:36<00:29, 15.69it/s]\u001b[A\n",
      " 55%|█████▍    | 545/1000 [00:36<00:29, 15.68it/s]\u001b[A\n",
      " 55%|█████▍    | 547/1000 [00:36<00:28, 15.73it/s]\u001b[A\n",
      " 55%|█████▍    | 549/1000 [00:36<00:28, 15.72it/s]\u001b[A\n",
      " 55%|█████▌    | 551/1000 [00:36<00:28, 15.51it/s]\u001b[A\n",
      " 55%|█████▌    | 553/1000 [00:36<00:28, 15.55it/s]\u001b[A\n",
      " 56%|█████▌    | 555/1000 [00:36<00:28, 15.66it/s]\u001b[A\n",
      " 56%|█████▌    | 557/1000 [00:36<00:28, 15.64it/s]\u001b[A\n",
      " 56%|█████▌    | 559/1000 [00:37<00:28, 15.32it/s]\u001b[A\n",
      " 56%|█████▌    | 561/1000 [00:37<00:28, 15.49it/s]\u001b[A\n",
      " 56%|█████▋    | 563/1000 [00:37<00:28, 15.59it/s]\u001b[A\n",
      " 56%|█████▋    | 565/1000 [00:37<00:27, 15.56it/s]\u001b[A\n",
      " 57%|█████▋    | 567/1000 [00:37<00:27, 15.63it/s]\u001b[A\n",
      " 57%|█████▋    | 569/1000 [00:37<00:27, 15.61it/s]\u001b[A\n",
      " 57%|█████▋    | 571/1000 [00:37<00:27, 15.71it/s]\u001b[A\n",
      " 57%|█████▋    | 573/1000 [00:37<00:27, 15.79it/s]\u001b[A\n",
      " 57%|█████▊    | 575/1000 [00:38<00:27, 15.68it/s]\u001b[A\n",
      " 58%|█████▊    | 577/1000 [00:38<00:26, 15.75it/s]\u001b[A\n",
      " 58%|█████▊    | 579/1000 [00:38<00:26, 15.82it/s]\u001b[A\n",
      " 58%|█████▊    | 581/1000 [00:38<00:26, 15.70it/s]\u001b[A\n",
      " 58%|█████▊    | 583/1000 [00:38<00:26, 15.64it/s]\u001b[A\n",
      " 58%|█████▊    | 585/1000 [00:38<00:26, 15.66it/s]\u001b[A\n",
      " 59%|█████▊    | 587/1000 [00:38<00:26, 15.69it/s]\u001b[A\n",
      " 59%|█████▉    | 589/1000 [00:39<00:26, 15.64it/s]\u001b[A\n",
      " 59%|█████▉    | 591/1000 [00:39<00:26, 15.53it/s]\u001b[A\n",
      " 59%|█████▉    | 593/1000 [00:39<00:26, 15.55it/s]\u001b[A\n",
      " 60%|█████▉    | 595/1000 [00:39<00:26, 15.55it/s]\u001b[A\n",
      " 60%|█████▉    | 597/1000 [00:39<00:25, 15.52it/s]\u001b[A\n",
      " 60%|█████▉    | 599/1000 [00:39<00:25, 15.55it/s]\u001b[A\n",
      " 60%|██████    | 601/1000 [00:39<00:25, 15.57it/s]\u001b[A\n",
      " 60%|██████    | 603/1000 [00:39<00:25, 15.58it/s]\u001b[A\n",
      " 60%|██████    | 605/1000 [00:40<00:25, 15.51it/s]\u001b[A\n",
      " 61%|██████    | 607/1000 [00:40<00:25, 15.57it/s]\u001b[A\n",
      " 61%|██████    | 609/1000 [00:40<00:24, 15.66it/s]\u001b[A\n",
      " 61%|██████    | 611/1000 [00:40<00:24, 15.61it/s]\u001b[A\n",
      " 61%|██████▏   | 613/1000 [00:40<00:25, 15.48it/s]\u001b[A\n",
      " 62%|██████▏   | 615/1000 [00:40<00:26, 14.62it/s]\u001b[A\n",
      " 62%|██████▏   | 617/1000 [00:40<00:26, 14.29it/s]\u001b[A\n",
      " 62%|██████▏   | 619/1000 [00:41<00:27, 14.07it/s]\u001b[A\n",
      " 62%|██████▏   | 621/1000 [00:41<00:26, 14.09it/s]\u001b[A\n",
      " 62%|██████▏   | 623/1000 [00:41<00:26, 14.26it/s]\u001b[A\n",
      " 62%|██████▎   | 625/1000 [00:41<00:26, 14.28it/s]\u001b[A\n",
      " 63%|██████▎   | 627/1000 [00:41<00:25, 14.36it/s]\u001b[A\n",
      " 63%|██████▎   | 629/1000 [00:41<00:26, 14.19it/s]\u001b[A\n",
      " 63%|██████▎   | 631/1000 [00:41<00:25, 14.39it/s]\u001b[A\n",
      " 63%|██████▎   | 633/1000 [00:41<00:25, 14.32it/s]\u001b[A\n",
      " 64%|██████▎   | 635/1000 [00:42<00:25, 14.04it/s]\u001b[A\n",
      " 64%|██████▎   | 637/1000 [00:42<00:25, 14.06it/s]\u001b[A\n",
      " 64%|██████▍   | 639/1000 [00:42<00:25, 14.09it/s]\u001b[A\n",
      " 64%|██████▍   | 641/1000 [00:42<00:25, 14.15it/s]\u001b[A\n",
      " 64%|██████▍   | 643/1000 [00:42<00:25, 14.12it/s]\u001b[A\n",
      " 64%|██████▍   | 645/1000 [00:42<00:25, 14.11it/s]\u001b[A\n",
      " 65%|██████▍   | 647/1000 [00:42<00:24, 14.26it/s]\u001b[A\n",
      " 65%|██████▍   | 649/1000 [00:43<00:25, 13.77it/s]\u001b[A\n",
      " 65%|██████▌   | 651/1000 [00:43<00:24, 13.97it/s]\u001b[A\n",
      " 65%|██████▌   | 653/1000 [00:43<00:24, 14.04it/s]\u001b[A\n",
      " 66%|██████▌   | 655/1000 [00:43<00:24, 14.08it/s]\u001b[A\n",
      " 66%|██████▌   | 657/1000 [00:43<00:24, 14.08it/s]\u001b[A\n",
      " 66%|██████▌   | 659/1000 [00:43<00:24, 13.96it/s]\u001b[A\n",
      " 66%|██████▌   | 661/1000 [00:43<00:24, 13.94it/s]\u001b[A\n",
      " 66%|██████▋   | 663/1000 [00:44<00:24, 13.64it/s]\u001b[A\n",
      " 66%|██████▋   | 665/1000 [00:44<00:24, 13.76it/s]\u001b[A\n",
      " 67%|██████▋   | 667/1000 [00:44<00:24, 13.80it/s]\u001b[A\n",
      " 67%|██████▋   | 669/1000 [00:44<00:23, 13.82it/s]\u001b[A\n",
      " 67%|██████▋   | 671/1000 [00:44<00:23, 14.08it/s]\u001b[A\n",
      " 67%|██████▋   | 673/1000 [00:44<00:22, 14.47it/s]\u001b[A\n",
      " 68%|██████▊   | 675/1000 [00:44<00:21, 14.83it/s]\u001b[A\n",
      " 68%|██████▊   | 677/1000 [00:45<00:21, 14.94it/s]\u001b[A\n",
      " 68%|██████▊   | 679/1000 [00:45<00:21, 15.16it/s]\u001b[A\n",
      " 68%|██████▊   | 681/1000 [00:45<00:20, 15.20it/s]\u001b[A\n",
      " 68%|██████▊   | 683/1000 [00:45<00:20, 15.39it/s]\u001b[A\n",
      " 68%|██████▊   | 685/1000 [00:45<00:20, 15.47it/s]\u001b[A\n",
      " 69%|██████▊   | 687/1000 [00:45<00:20, 15.55it/s]\u001b[A\n",
      " 69%|██████▉   | 689/1000 [00:45<00:19, 15.60it/s]\u001b[A\n",
      " 69%|██████▉   | 691/1000 [00:45<00:19, 15.60it/s]\u001b[A\n",
      " 69%|██████▉   | 693/1000 [00:46<00:20, 15.33it/s]\u001b[A\n",
      " 70%|██████▉   | 695/1000 [00:46<00:19, 15.42it/s]\u001b[A\n",
      " 70%|██████▉   | 697/1000 [00:46<00:19, 15.54it/s]\u001b[A\n",
      " 70%|██████▉   | 699/1000 [00:46<00:19, 15.40it/s]\u001b[A\n",
      " 70%|███████   | 701/1000 [00:46<00:19, 15.53it/s]\u001b[A\n",
      " 70%|███████   | 703/1000 [00:46<00:19, 15.60it/s]\u001b[A\n",
      " 70%|███████   | 705/1000 [00:46<00:18, 15.68it/s]\u001b[A\n",
      " 71%|███████   | 707/1000 [00:47<00:18, 15.62it/s]\u001b[A\n",
      " 71%|███████   | 709/1000 [00:47<00:18, 15.51it/s]\u001b[A\n",
      " 71%|███████   | 711/1000 [00:47<00:18, 15.64it/s]\u001b[A\n",
      " 71%|███████▏  | 713/1000 [00:47<00:18, 15.73it/s]\u001b[A\n",
      " 72%|███████▏  | 715/1000 [00:47<00:18, 15.66it/s]\u001b[A\n",
      " 72%|███████▏  | 717/1000 [00:47<00:18, 15.71it/s]\u001b[A\n",
      " 72%|███████▏  | 719/1000 [00:47<00:17, 15.74it/s]\u001b[A\n",
      " 72%|███████▏  | 721/1000 [00:47<00:17, 15.70it/s]\u001b[A\n",
      " 72%|███████▏  | 723/1000 [00:48<00:17, 15.59it/s]\u001b[A\n",
      " 72%|███████▎  | 725/1000 [00:48<00:17, 15.48it/s]\u001b[A\n",
      " 73%|███████▎  | 727/1000 [00:48<00:17, 15.56it/s]\u001b[A\n",
      " 73%|███████▎  | 729/1000 [00:48<00:17, 15.46it/s]\u001b[A\n",
      " 73%|███████▎  | 731/1000 [00:48<00:17, 15.53it/s]\u001b[A\n",
      " 73%|███████▎  | 733/1000 [00:48<00:17, 15.65it/s]\u001b[A\n",
      " 74%|███████▎  | 735/1000 [00:48<00:16, 15.67it/s]\u001b[A\n",
      " 74%|███████▎  | 737/1000 [00:48<00:16, 15.68it/s]\u001b[A\n",
      " 74%|███████▍  | 739/1000 [00:49<00:16, 15.66it/s]\u001b[A\n",
      " 74%|███████▍  | 741/1000 [00:49<00:16, 15.68it/s]\u001b[A\n",
      " 74%|███████▍  | 743/1000 [00:49<00:16, 15.59it/s]\u001b[A\n",
      " 74%|███████▍  | 745/1000 [00:49<00:16, 15.56it/s]\u001b[A\n",
      " 75%|███████▍  | 747/1000 [00:49<00:16, 15.65it/s]\u001b[A\n",
      " 75%|███████▍  | 749/1000 [00:49<00:16, 15.61it/s]\u001b[A\n",
      " 75%|███████▌  | 751/1000 [00:49<00:15, 15.67it/s]\u001b[A\n",
      " 75%|███████▌  | 753/1000 [00:49<00:15, 15.66it/s]\u001b[A\n",
      " 76%|███████▌  | 755/1000 [00:50<00:15, 15.45it/s]\u001b[A\n",
      " 76%|███████▌  | 757/1000 [00:50<00:15, 15.55it/s]\u001b[A\n",
      " 76%|███████▌  | 759/1000 [00:50<00:15, 15.57it/s]\u001b[A\n",
      " 76%|███████▌  | 761/1000 [00:50<00:15, 15.66it/s]\u001b[A\n",
      " 76%|███████▋  | 763/1000 [00:50<00:15, 15.75it/s]\u001b[A\n",
      " 76%|███████▋  | 765/1000 [00:50<00:14, 15.76it/s]\u001b[A\n",
      " 77%|███████▋  | 767/1000 [00:50<00:14, 15.77it/s]\u001b[A\n",
      " 77%|███████▋  | 769/1000 [00:50<00:14, 15.74it/s]\u001b[A\n",
      " 77%|███████▋  | 771/1000 [00:51<00:14, 15.48it/s]\u001b[A\n",
      " 77%|███████▋  | 773/1000 [00:51<00:14, 15.62it/s]\u001b[A\n",
      " 78%|███████▊  | 775/1000 [00:51<00:14, 15.56it/s]\u001b[A\n",
      " 78%|███████▊  | 777/1000 [00:51<00:14, 15.57it/s]\u001b[A\n",
      " 78%|███████▊  | 779/1000 [00:51<00:14, 15.68it/s]\u001b[A\n",
      " 78%|███████▊  | 781/1000 [00:51<00:13, 15.72it/s]\u001b[A\n",
      " 78%|███████▊  | 783/1000 [00:51<00:13, 15.72it/s]\u001b[A\n",
      " 78%|███████▊  | 785/1000 [00:52<00:13, 15.66it/s]\u001b[A\n",
      " 79%|███████▊  | 787/1000 [00:52<00:13, 15.60it/s]\u001b[A\n",
      " 79%|███████▉  | 789/1000 [00:52<00:13, 15.62it/s]\u001b[A\n",
      " 79%|███████▉  | 791/1000 [00:52<00:13, 15.61it/s]\u001b[A\n",
      " 79%|███████▉  | 793/1000 [00:52<00:13, 15.68it/s]\u001b[A\n",
      " 80%|███████▉  | 795/1000 [00:52<00:13, 15.72it/s]\u001b[A\n",
      " 80%|███████▉  | 797/1000 [00:52<00:12, 15.64it/s]\u001b[A\n",
      " 80%|███████▉  | 799/1000 [00:52<00:12, 15.63it/s]\u001b[A\n",
      " 80%|████████  | 801/1000 [00:53<00:12, 15.52it/s]\u001b[A\n",
      " 80%|████████  | 803/1000 [00:53<00:12, 15.52it/s]\u001b[A\n",
      " 80%|████████  | 805/1000 [00:53<00:12, 15.64it/s]\u001b[A\n",
      " 81%|████████  | 807/1000 [00:53<00:12, 15.70it/s]\u001b[A\n",
      " 81%|████████  | 809/1000 [00:53<00:12, 15.63it/s]\u001b[A\n",
      " 81%|████████  | 811/1000 [00:53<00:12, 15.68it/s]\u001b[A\n",
      " 81%|████████▏ | 813/1000 [00:53<00:11, 15.63it/s]\u001b[A\n",
      " 82%|████████▏ | 815/1000 [00:53<00:11, 15.69it/s]\u001b[A\n",
      " 82%|████████▏ | 817/1000 [00:54<00:11, 15.56it/s]\u001b[A\n",
      " 82%|████████▏ | 819/1000 [00:54<00:11, 15.56it/s]\u001b[A\n",
      " 82%|████████▏ | 821/1000 [00:54<00:11, 15.58it/s]\u001b[A\n",
      " 82%|████████▏ | 823/1000 [00:54<00:11, 15.63it/s]\u001b[A\n",
      " 82%|████████▎ | 825/1000 [00:54<00:11, 15.57it/s]\u001b[A\n",
      " 83%|████████▎ | 827/1000 [00:54<00:11, 15.21it/s]\u001b[A\n",
      " 83%|████████▎ | 829/1000 [00:54<00:11, 14.74it/s]\u001b[A\n",
      " 83%|████████▎ | 831/1000 [00:55<00:11, 14.47it/s]\u001b[A\n",
      " 83%|████████▎ | 833/1000 [00:55<00:11, 13.99it/s]\u001b[A\n",
      " 84%|████████▎ | 835/1000 [00:55<00:11, 14.19it/s]\u001b[A\n",
      " 84%|████████▎ | 837/1000 [00:55<00:11, 14.32it/s]\u001b[A\n",
      " 84%|████████▍ | 839/1000 [00:55<00:11, 14.27it/s]\u001b[A\n",
      " 84%|████████▍ | 841/1000 [00:55<00:11, 14.35it/s]\u001b[A\n",
      " 84%|████████▍ | 843/1000 [00:55<00:11, 14.25it/s]\u001b[A\n",
      " 84%|████████▍ | 845/1000 [00:55<00:11, 14.08it/s]\u001b[A\n",
      " 85%|████████▍ | 847/1000 [00:56<00:11, 13.84it/s]\u001b[A\n",
      " 85%|████████▍ | 849/1000 [00:56<00:10, 13.97it/s]\u001b[A\n",
      " 85%|████████▌ | 851/1000 [00:56<00:10, 14.04it/s]\u001b[A\n",
      " 85%|████████▌ | 853/1000 [00:56<00:10, 14.02it/s]\u001b[A\n",
      " 86%|████████▌ | 855/1000 [00:56<00:10, 14.01it/s]\u001b[A\n",
      " 86%|████████▌ | 857/1000 [00:56<00:10, 14.14it/s]\u001b[A\n",
      " 86%|████████▌ | 859/1000 [00:56<00:09, 14.27it/s]\u001b[A\n",
      " 86%|████████▌ | 861/1000 [00:57<00:09, 14.28it/s]\u001b[A\n",
      " 86%|████████▋ | 863/1000 [00:57<00:09, 14.12it/s]\u001b[A\n",
      " 86%|████████▋ | 865/1000 [00:57<00:09, 14.02it/s]\u001b[A\n",
      " 87%|████████▋ | 867/1000 [00:57<00:09, 14.00it/s]\u001b[A\n",
      " 87%|████████▋ | 869/1000 [00:57<00:09, 14.13it/s]\u001b[A\n",
      " 87%|████████▋ | 871/1000 [00:57<00:09, 14.18it/s]\u001b[A\n",
      " 87%|████████▋ | 873/1000 [00:57<00:08, 14.23it/s]\u001b[A\n",
      " 88%|████████▊ | 875/1000 [00:58<00:08, 14.22it/s]\u001b[A\n",
      " 88%|████████▊ | 877/1000 [00:58<00:08, 14.08it/s]\u001b[A\n",
      " 88%|████████▊ | 879/1000 [00:58<00:08, 14.06it/s]\u001b[A\n",
      " 88%|████████▊ | 881/1000 [00:58<00:08, 14.08it/s]\u001b[A\n",
      " 88%|████████▊ | 883/1000 [00:58<00:08, 14.08it/s]\u001b[A\n",
      " 88%|████████▊ | 885/1000 [00:58<00:08, 14.01it/s]\u001b[A\n",
      " 89%|████████▊ | 887/1000 [00:58<00:08, 14.00it/s]\u001b[A\n",
      " 89%|████████▉ | 889/1000 [00:59<00:07, 13.99it/s]\u001b[A\n",
      " 89%|████████▉ | 891/1000 [00:59<00:07, 13.84it/s]\u001b[A\n",
      " 89%|████████▉ | 893/1000 [00:59<00:07, 14.38it/s]\u001b[A\n",
      " 90%|████████▉ | 895/1000 [00:59<00:07, 14.70it/s]\u001b[A\n",
      " 90%|████████▉ | 897/1000 [00:59<00:06, 14.94it/s]\u001b[A\n",
      " 90%|████████▉ | 899/1000 [00:59<00:06, 15.15it/s]\u001b[A\n",
      " 90%|█████████ | 901/1000 [00:59<00:06, 15.31it/s]\u001b[A\n",
      " 90%|█████████ | 903/1000 [01:00<00:06, 15.06it/s]\u001b[A\n",
      " 90%|█████████ | 905/1000 [01:00<00:06, 15.25it/s]\u001b[A\n",
      " 91%|█████████ | 907/1000 [01:00<00:06, 15.22it/s]\u001b[A\n",
      " 91%|█████████ | 909/1000 [01:00<00:05, 15.33it/s]\u001b[A\n",
      " 91%|█████████ | 911/1000 [01:00<00:05, 15.51it/s]\u001b[A\n",
      " 91%|█████████▏| 913/1000 [01:00<00:05, 15.56it/s]\u001b[A\n",
      " 92%|█████████▏| 915/1000 [01:00<00:05, 15.64it/s]\u001b[A\n",
      " 92%|█████████▏| 917/1000 [01:00<00:05, 15.69it/s]\u001b[A\n",
      " 92%|█████████▏| 919/1000 [01:01<00:05, 15.61it/s]\u001b[A\n",
      " 92%|█████████▏| 921/1000 [01:01<00:05, 15.72it/s]\u001b[A\n",
      " 92%|█████████▏| 923/1000 [01:01<00:04, 15.64it/s]\u001b[A\n",
      " 92%|█████████▎| 925/1000 [01:01<00:04, 15.58it/s]\u001b[A\n",
      " 93%|█████████▎| 927/1000 [01:01<00:04, 15.62it/s]\u001b[A\n",
      " 93%|█████████▎| 929/1000 [01:01<00:04, 15.60it/s]\u001b[A\n",
      " 93%|█████████▎| 931/1000 [01:01<00:04, 15.55it/s]\u001b[A\n",
      " 93%|█████████▎| 933/1000 [01:01<00:04, 15.62it/s]\u001b[A\n",
      " 94%|█████████▎| 935/1000 [01:02<00:04, 15.45it/s]\u001b[A\n",
      " 94%|█████████▎| 937/1000 [01:02<00:04, 15.56it/s]\u001b[A\n",
      " 94%|█████████▍| 939/1000 [01:02<00:03, 15.40it/s]\u001b[A\n",
      " 94%|█████████▍| 941/1000 [01:02<00:03, 15.51it/s]\u001b[A\n",
      " 94%|█████████▍| 943/1000 [01:02<00:03, 15.57it/s]\u001b[A\n",
      " 94%|█████████▍| 945/1000 [01:02<00:03, 15.52it/s]\u001b[A\n",
      " 95%|█████████▍| 947/1000 [01:02<00:03, 15.64it/s]\u001b[A\n",
      " 95%|█████████▍| 949/1000 [01:02<00:03, 15.67it/s]\u001b[A\n",
      " 95%|█████████▌| 951/1000 [01:03<00:03, 15.52it/s]\u001b[A\n",
      " 95%|█████████▌| 953/1000 [01:03<00:03, 15.59it/s]\u001b[A\n",
      " 96%|█████████▌| 955/1000 [01:03<00:02, 15.29it/s]\u001b[A\n",
      " 96%|█████████▌| 957/1000 [01:03<00:02, 15.36it/s]\u001b[A\n",
      " 96%|█████████▌| 959/1000 [01:03<00:02, 15.17it/s]\u001b[A\n",
      " 96%|█████████▌| 961/1000 [01:03<00:02, 15.32it/s]\u001b[A\n",
      " 96%|█████████▋| 963/1000 [01:03<00:02, 15.44it/s]\u001b[A\n",
      " 96%|█████████▋| 965/1000 [01:04<00:02, 15.40it/s]\u001b[A\n",
      " 97%|█████████▋| 967/1000 [01:04<00:02, 15.33it/s]\u001b[A\n",
      " 97%|█████████▋| 969/1000 [01:04<00:02, 15.33it/s]\u001b[A\n",
      " 97%|█████████▋| 971/1000 [01:04<00:01, 15.46it/s]\u001b[A\n",
      " 97%|█████████▋| 973/1000 [01:04<00:01, 15.49it/s]\u001b[A\n",
      " 98%|█████████▊| 975/1000 [01:04<00:01, 15.64it/s]\u001b[A\n",
      " 98%|█████████▊| 977/1000 [01:04<00:01, 15.64it/s]\u001b[A\n",
      " 98%|█████████▊| 979/1000 [01:04<00:01, 15.66it/s]\u001b[A\n",
      " 98%|█████████▊| 981/1000 [01:05<00:01, 15.57it/s]\u001b[A\n",
      " 98%|█████████▊| 983/1000 [01:05<00:01, 15.64it/s]\u001b[A\n",
      " 98%|█████████▊| 985/1000 [01:05<00:00, 15.56it/s]\u001b[A\n",
      " 99%|█████████▊| 987/1000 [01:05<00:00, 15.54it/s]\u001b[A\n",
      " 99%|█████████▉| 989/1000 [01:05<00:00, 15.59it/s]\u001b[A\n",
      " 99%|█████████▉| 991/1000 [01:05<00:00, 15.59it/s]\u001b[A\n",
      " 99%|█████████▉| 993/1000 [01:05<00:00, 15.61it/s]\u001b[A\n",
      "100%|█████████▉| 995/1000 [01:05<00:00, 15.72it/s]\u001b[A\n",
      "100%|█████████▉| 997/1000 [01:06<00:00, 15.39it/s]\u001b[A\n",
      "100%|██████████| 1000/1000 [01:06<00:00, 15.08it/s]\n"
     ]
    }
   ],
   "source": [
    "correctness, p_values = bootstrapping_correctness(week_cudf, iterations=1000, size=1000, effect=0.03)"
   ]
  },
  {
   "cell_type": "code",
   "execution_count": null,
   "metadata": {
    "colab": {
     "background_save": true
    },
    "id": "1_qes_1gLO1Q",
    "outputId": "3430cfdc-a129-4eca-cd9d-fb75bc32627f"
   },
   "outputs": [
    {
     "name": "stdout",
     "output_type": "stream",
     "text": [
      "Correctness: 0.90%, significance: 99.10%\n"
     ]
    },
    {
     "data": {
      "image/png": "[encoded data removed]",
      "text/plain": [
       "<Figure size 640x480 with 1 Axes>"
      ]
     },
     "metadata": {},
     "output_type": "display_data"
    }
   ],
   "source": [
    "print(f'Correctness: {correctness:.2%}, significance: {1 - correctness:.2%}')\n",
    "plt.hist(p_values, bins=10)\n",
    "plt.show()"
   ]
  },
  {
   "cell_type": "code",
   "execution_count": null,
   "metadata": {
    "colab": {
     "background_save": true,
     "base_uri": "https://localhost:8080/"
    },
    "collapsed": true,
    "id": "rTSUguQvLOme",
    "jupyter": {
     "outputs_hidden": true
    },
    "outputId": "d06f3a3a-9ac4-46e1-e87e-5d78befa19fe"
   },
   "outputs": [
    {
     "name": "stderr",
     "output_type": "stream",
     "text": [
      "\n",
      "  0%|          | 0/1000 [00:00<?, ?it/s]\u001b[A\n",
      "  0%|          | 1/1000 [00:00<03:02,  5.48it/s]\u001b[A\n",
      "  0%|          | 2/1000 [00:00<03:16,  5.08it/s]\u001b[A\n",
      "  0%|          | 3/1000 [00:00<03:23,  4.90it/s]\u001b[A\n",
      "  0%|          | 4/1000 [00:00<02:51,  5.80it/s]\u001b[A\n",
      "  0%|          | 5/1000 [00:00<02:34,  6.43it/s]\u001b[A\n",
      "  1%|          | 6/1000 [00:00<02:19,  7.11it/s]\u001b[A\n",
      "  1%|          | 7/1000 [00:01<02:15,  7.33it/s]\u001b[A\n",
      "  1%|          | 8/1000 [00:01<02:12,  7.49it/s]\u001b[A\n",
      "  1%|          | 9/1000 [00:01<02:23,  6.89it/s]\u001b[A\n",
      "  1%|          | 10/1000 [00:01<02:40,  6.17it/s]\u001b[A\n",
      "  1%|          | 11/1000 [00:01<02:52,  5.75it/s]\u001b[A\n",
      "  1%|          | 12/1000 [00:02<03:00,  5.47it/s]\u001b[A\n",
      "  1%|▏         | 13/1000 [00:02<03:14,  5.08it/s]\u001b[A\n",
      "  1%|▏         | 14/1000 [00:02<03:12,  5.12it/s]\u001b[A\n",
      "  2%|▏         | 15/1000 [00:02<03:00,  5.46it/s]\u001b[A\n",
      "  2%|▏         | 17/1000 [00:02<02:12,  7.39it/s]\u001b[A\n",
      "  2%|▏         | 19/1000 [00:02<01:47,  9.16it/s]\u001b[A\n",
      "  2%|▏         | 21/1000 [00:03<01:33, 10.44it/s]\u001b[A\n",
      "  2%|▏         | 23/1000 [00:03<01:26, 11.25it/s]\u001b[A\n",
      "  2%|▎         | 25/1000 [00:03<01:20, 12.04it/s]\u001b[A\n",
      "  3%|▎         | 27/1000 [00:03<01:16, 12.66it/s]\u001b[A\n",
      "  3%|▎         | 29/1000 [00:03<01:13, 13.14it/s]\u001b[A\n",
      "  3%|▎         | 31/1000 [00:03<01:12, 13.39it/s]\u001b[A\n",
      "  3%|▎         | 33/1000 [00:03<01:08, 14.08it/s]\u001b[A\n",
      "  4%|▎         | 35/1000 [00:03<01:07, 14.26it/s]\u001b[A\n",
      "  4%|▎         | 37/1000 [00:04<01:05, 14.69it/s]\u001b[A\n",
      "  4%|▍         | 39/1000 [00:04<01:03, 15.05it/s]\u001b[A\n",
      "  4%|▍         | 41/1000 [00:04<01:02, 15.26it/s]\u001b[A\n",
      "  4%|▍         | 43/1000 [00:04<01:01, 15.44it/s]\u001b[A\n",
      "  4%|▍         | 45/1000 [00:04<01:01, 15.47it/s]\u001b[A\n",
      "  5%|▍         | 47/1000 [00:04<01:01, 15.53it/s]\u001b[A\n",
      "  5%|▍         | 49/1000 [00:04<01:01, 15.55it/s]\u001b[A\n",
      "  5%|▌         | 51/1000 [00:05<01:01, 15.46it/s]\u001b[A\n",
      "  5%|▌         | 53/1000 [00:05<01:00, 15.64it/s]\u001b[A\n",
      "  6%|▌         | 55/1000 [00:05<00:59, 15.76it/s]\u001b[A\n",
      "  6%|▌         | 57/1000 [00:05<00:59, 15.78it/s]\u001b[A\n",
      "  6%|▌         | 59/1000 [00:05<00:59, 15.83it/s]\u001b[A\n",
      "  6%|▌         | 61/1000 [00:05<00:59, 15.71it/s]\u001b[A\n",
      "  6%|▋         | 63/1000 [00:05<01:00, 15.60it/s]\u001b[A\n",
      "  6%|▋         | 65/1000 [00:05<00:59, 15.71it/s]\u001b[A\n",
      "  7%|▋         | 67/1000 [00:06<00:59, 15.68it/s]\u001b[A\n",
      "  7%|▋         | 69/1000 [00:06<00:59, 15.65it/s]\u001b[A\n",
      "  7%|▋         | 71/1000 [00:06<00:58, 15.76it/s]\u001b[A\n",
      "  7%|▋         | 73/1000 [00:06<00:58, 15.79it/s]\u001b[A\n",
      "  8%|▊         | 75/1000 [00:06<00:58, 15.85it/s]\u001b[A\n",
      "  8%|▊         | 77/1000 [00:06<00:58, 15.66it/s]\u001b[A\n",
      "  8%|▊         | 79/1000 [00:06<00:58, 15.74it/s]\u001b[A\n",
      "  8%|▊         | 81/1000 [00:06<00:58, 15.76it/s]\u001b[A\n",
      "  8%|▊         | 83/1000 [00:07<00:58, 15.73it/s]\u001b[A\n",
      "  8%|▊         | 85/1000 [00:07<00:58, 15.71it/s]\u001b[A\n",
      "  9%|▊         | 87/1000 [00:07<00:57, 15.80it/s]\u001b[A\n",
      "  9%|▉         | 89/1000 [00:07<00:57, 15.83it/s]\u001b[A\n",
      "  9%|▉         | 91/1000 [00:07<00:57, 15.90it/s]\u001b[A\n",
      "  9%|▉         | 93/1000 [00:07<00:58, 15.42it/s]\u001b[A\n",
      " 10%|▉         | 95/1000 [00:07<00:58, 15.59it/s]\u001b[A\n",
      " 10%|▉         | 97/1000 [00:07<00:57, 15.69it/s]\u001b[A\n",
      " 10%|▉         | 99/1000 [00:08<00:57, 15.68it/s]\u001b[A\n",
      " 10%|█         | 101/1000 [00:08<00:57, 15.75it/s]\u001b[A\n",
      " 10%|█         | 103/1000 [00:08<00:56, 15.78it/s]\u001b[A\n",
      " 10%|█         | 105/1000 [00:08<00:56, 15.81it/s]\u001b[A\n",
      " 11%|█         | 107/1000 [00:08<00:56, 15.81it/s]\u001b[A\n",
      " 11%|█         | 109/1000 [00:08<00:57, 15.56it/s]\u001b[A\n",
      " 11%|█         | 111/1000 [00:08<00:56, 15.70it/s]\u001b[A\n",
      " 11%|█▏        | 113/1000 [00:08<00:56, 15.80it/s]\u001b[A\n",
      " 12%|█▏        | 115/1000 [00:09<00:56, 15.75it/s]\u001b[A\n",
      " 12%|█▏        | 117/1000 [00:09<00:55, 15.82it/s]\u001b[A\n",
      " 12%|█▏        | 119/1000 [00:09<00:55, 15.82it/s]\u001b[A\n",
      " 12%|█▏        | 121/1000 [00:09<00:55, 15.85it/s]\u001b[A\n",
      " 12%|█▏        | 123/1000 [00:09<00:55, 15.82it/s]\u001b[A\n",
      " 12%|█▎        | 125/1000 [00:09<00:56, 15.50it/s]\u001b[A\n",
      " 13%|█▎        | 127/1000 [00:09<00:55, 15.65it/s]\u001b[A\n",
      " 13%|█▎        | 129/1000 [00:09<00:55, 15.64it/s]\u001b[A\n",
      " 13%|█▎        | 131/1000 [00:10<00:56, 15.46it/s]\u001b[A\n",
      " 13%|█▎        | 133/1000 [00:10<00:55, 15.62it/s]\u001b[A\n",
      " 14%|█▎        | 135/1000 [00:10<00:55, 15.67it/s]\u001b[A\n",
      " 14%|█▎        | 137/1000 [00:10<00:55, 15.64it/s]\u001b[A\n",
      " 14%|█▍        | 139/1000 [00:10<00:55, 15.60it/s]\u001b[A\n",
      " 14%|█▍        | 141/1000 [00:10<00:55, 15.54it/s]\u001b[A\n",
      " 14%|█▍        | 143/1000 [00:10<00:54, 15.64it/s]\u001b[A\n",
      " 14%|█▍        | 145/1000 [00:10<00:54, 15.59it/s]\u001b[A\n",
      " 15%|█▍        | 147/1000 [00:11<00:54, 15.56it/s]\u001b[A\n",
      " 15%|█▍        | 149/1000 [00:11<00:54, 15.53it/s]\u001b[A\n",
      " 15%|█▌        | 151/1000 [00:11<00:54, 15.55it/s]\u001b[A\n",
      " 15%|█▌        | 153/1000 [00:11<00:54, 15.62it/s]\u001b[A\n",
      " 16%|█▌        | 155/1000 [00:11<00:54, 15.51it/s]\u001b[A\n",
      " 16%|█▌        | 157/1000 [00:11<00:54, 15.51it/s]\u001b[A\n",
      " 16%|█▌        | 159/1000 [00:11<00:54, 15.44it/s]\u001b[A\n",
      " 16%|█▌        | 161/1000 [00:12<00:54, 15.47it/s]\u001b[A\n",
      " 16%|█▋        | 163/1000 [00:12<00:54, 15.50it/s]\u001b[A\n",
      " 16%|█▋        | 165/1000 [00:12<00:53, 15.56it/s]\u001b[A\n",
      " 17%|█▋        | 167/1000 [00:12<00:53, 15.58it/s]\u001b[A\n",
      " 17%|█▋        | 169/1000 [00:12<00:52, 15.68it/s]\u001b[A\n",
      " 17%|█▋        | 171/1000 [00:12<00:53, 15.64it/s]\u001b[A\n",
      " 17%|█▋        | 173/1000 [00:12<00:52, 15.75it/s]\u001b[A\n",
      " 18%|█▊        | 175/1000 [00:12<00:52, 15.63it/s]\u001b[A\n",
      " 18%|█▊        | 177/1000 [00:13<00:52, 15.73it/s]\u001b[A\n",
      " 18%|█▊        | 179/1000 [00:13<00:51, 15.83it/s]\u001b[A\n",
      " 18%|█▊        | 181/1000 [00:13<00:51, 15.91it/s]\u001b[A\n",
      " 18%|█▊        | 183/1000 [00:13<00:51, 15.90it/s]\u001b[A\n",
      " 18%|█▊        | 185/1000 [00:13<00:51, 15.89it/s]\u001b[A\n",
      " 19%|█▊        | 187/1000 [00:13<00:51, 15.69it/s]\u001b[A\n",
      " 19%|█▉        | 189/1000 [00:13<00:52, 15.50it/s]\u001b[A\n",
      " 19%|█▉        | 191/1000 [00:13<00:53, 15.09it/s]\u001b[A\n",
      " 19%|█▉        | 193/1000 [00:14<00:54, 14.79it/s]\u001b[A\n",
      " 20%|█▉        | 195/1000 [00:14<00:54, 14.68it/s]\u001b[A\n",
      " 20%|█▉        | 197/1000 [00:14<00:54, 14.69it/s]\u001b[A\n",
      " 20%|█▉        | 199/1000 [00:14<00:54, 14.60it/s]\u001b[A\n",
      " 20%|██        | 201/1000 [00:14<00:55, 14.33it/s]\u001b[A\n",
      " 20%|██        | 203/1000 [00:14<00:55, 14.38it/s]\u001b[A\n",
      " 20%|██        | 205/1000 [00:14<00:54, 14.48it/s]\u001b[A\n",
      " 21%|██        | 207/1000 [00:15<00:54, 14.48it/s]\u001b[A\n",
      " 21%|██        | 209/1000 [00:15<00:55, 14.27it/s]\u001b[A\n",
      " 21%|██        | 211/1000 [00:15<00:55, 14.12it/s]\u001b[A\n",
      " 21%|██▏       | 213/1000 [00:15<00:55, 14.20it/s]\u001b[A\n",
      " 22%|██▏       | 215/1000 [00:15<00:55, 14.12it/s]\u001b[A\n",
      " 22%|██▏       | 217/1000 [00:15<00:55, 14.11it/s]\u001b[A\n",
      " 22%|██▏       | 219/1000 [00:15<00:55, 14.06it/s]\u001b[A\n",
      " 22%|██▏       | 221/1000 [00:16<00:56, 13.81it/s]\u001b[A\n",
      " 22%|██▏       | 223/1000 [00:16<00:56, 13.85it/s]\u001b[A\n",
      " 22%|██▎       | 225/1000 [00:16<00:56, 13.80it/s]\u001b[A\n",
      " 23%|██▎       | 227/1000 [00:16<00:55, 13.93it/s]\u001b[A\n",
      " 23%|██▎       | 229/1000 [00:16<00:55, 13.88it/s]\u001b[A\n",
      " 23%|██▎       | 231/1000 [00:16<00:56, 13.64it/s]\u001b[A\n",
      " 23%|██▎       | 233/1000 [00:16<00:56, 13.59it/s]\u001b[A\n",
      " 24%|██▎       | 235/1000 [00:17<00:56, 13.58it/s]\u001b[A\n",
      " 24%|██▎       | 237/1000 [00:17<00:56, 13.56it/s]\u001b[A\n",
      " 24%|██▍       | 239/1000 [00:17<00:55, 13.60it/s]\u001b[A\n",
      " 24%|██▍       | 241/1000 [00:17<00:53, 14.12it/s]\u001b[A\n",
      " 24%|██▍       | 243/1000 [00:17<00:52, 14.47it/s]\u001b[A\n",
      " 24%|██▍       | 245/1000 [00:17<00:50, 14.85it/s]\u001b[A\n",
      " 25%|██▍       | 247/1000 [00:17<00:49, 15.10it/s]\u001b[A\n",
      " 25%|██▍       | 249/1000 [00:18<00:48, 15.35it/s]\u001b[A\n",
      " 25%|██▌       | 251/1000 [00:18<00:48, 15.39it/s]\u001b[A\n",
      " 25%|██▌       | 253/1000 [00:18<00:47, 15.59it/s]\u001b[A\n",
      " 26%|██▌       | 255/1000 [00:18<00:47, 15.65it/s]\u001b[A\n",
      " 26%|██▌       | 257/1000 [00:18<00:47, 15.64it/s]\u001b[A\n",
      " 26%|██▌       | 259/1000 [00:18<00:47, 15.59it/s]\u001b[A\n",
      " 26%|██▌       | 261/1000 [00:18<00:47, 15.68it/s]\u001b[A\n",
      " 26%|██▋       | 263/1000 [00:18<00:46, 15.77it/s]\u001b[A\n",
      " 26%|██▋       | 265/1000 [00:19<00:46, 15.76it/s]\u001b[A\n",
      " 27%|██▋       | 267/1000 [00:19<00:46, 15.75it/s]\u001b[A\n",
      " 27%|██▋       | 269/1000 [00:19<00:46, 15.82it/s]\u001b[A\n",
      " 27%|██▋       | 271/1000 [00:19<00:46, 15.71it/s]\u001b[A\n",
      " 27%|██▋       | 273/1000 [00:19<00:46, 15.79it/s]\u001b[A\n",
      " 28%|██▊       | 275/1000 [00:19<00:46, 15.57it/s]\u001b[A\n",
      " 28%|██▊       | 277/1000 [00:19<00:46, 15.56it/s]\u001b[A\n",
      " 28%|██▊       | 279/1000 [00:19<00:46, 15.63it/s]\u001b[A\n",
      " 28%|██▊       | 281/1000 [00:20<00:46, 15.54it/s]\u001b[A\n",
      " 28%|██▊       | 283/1000 [00:20<00:45, 15.67it/s]\u001b[A\n",
      " 28%|██▊       | 285/1000 [00:20<00:45, 15.65it/s]\u001b[A\n",
      " 29%|██▊       | 287/1000 [00:20<00:45, 15.61it/s]\u001b[A\n",
      " 29%|██▉       | 289/1000 [00:20<00:45, 15.71it/s]\u001b[A\n",
      " 29%|██▉       | 291/1000 [00:20<00:45, 15.53it/s]\u001b[A\n",
      " 29%|██▉       | 293/1000 [00:20<00:45, 15.67it/s]\u001b[A\n",
      " 30%|██▉       | 295/1000 [00:20<00:44, 15.69it/s]\u001b[A\n",
      " 30%|██▉       | 297/1000 [00:21<00:44, 15.66it/s]\u001b[A\n",
      " 30%|██▉       | 299/1000 [00:21<00:44, 15.73it/s]\u001b[A\n",
      " 30%|███       | 301/1000 [00:21<00:44, 15.66it/s]\u001b[A\n",
      " 30%|███       | 303/1000 [00:21<00:44, 15.57it/s]\u001b[A\n",
      " 30%|███       | 305/1000 [00:21<00:44, 15.64it/s]\u001b[A\n",
      " 31%|███       | 307/1000 [00:21<00:44, 15.54it/s]\u001b[A\n",
      " 31%|███       | 309/1000 [00:21<00:44, 15.64it/s]\u001b[A\n",
      " 31%|███       | 311/1000 [00:21<00:44, 15.57it/s]\u001b[A\n",
      " 31%|███▏      | 313/1000 [00:22<00:43, 15.66it/s]\u001b[A\n",
      " 32%|███▏      | 315/1000 [00:22<00:43, 15.74it/s]\u001b[A\n",
      " 32%|███▏      | 317/1000 [00:22<00:43, 15.72it/s]\u001b[A\n",
      " 32%|███▏      | 319/1000 [00:22<00:43, 15.56it/s]\u001b[A\n",
      " 32%|███▏      | 321/1000 [00:22<00:44, 15.42it/s]\u001b[A\n",
      " 32%|███▏      | 323/1000 [00:22<00:44, 15.28it/s]\u001b[A\n",
      " 32%|███▎      | 325/1000 [00:22<00:44, 15.30it/s]\u001b[A\n",
      " 33%|███▎      | 327/1000 [00:23<00:43, 15.49it/s]\u001b[A\n",
      " 33%|███▎      | 329/1000 [00:23<00:43, 15.53it/s]\u001b[A\n",
      " 33%|███▎      | 331/1000 [00:23<00:42, 15.63it/s]\u001b[A\n",
      " 33%|███▎      | 333/1000 [00:23<00:42, 15.66it/s]\u001b[A\n",
      " 34%|███▎      | 335/1000 [00:23<00:42, 15.57it/s]\u001b[A\n",
      " 34%|███▎      | 337/1000 [00:23<00:43, 15.39it/s]\u001b[A\n",
      " 34%|███▍      | 339/1000 [00:23<00:42, 15.44it/s]\u001b[A\n",
      " 34%|███▍      | 341/1000 [00:23<00:42, 15.48it/s]\u001b[A\n",
      " 34%|███▍      | 343/1000 [00:24<00:42, 15.53it/s]\u001b[A\n",
      " 34%|███▍      | 345/1000 [00:24<00:42, 15.47it/s]\u001b[A\n",
      " 35%|███▍      | 347/1000 [00:24<00:42, 15.44it/s]\u001b[A\n",
      " 35%|███▍      | 349/1000 [00:24<00:42, 15.49it/s]\u001b[A\n",
      " 35%|███▌      | 351/1000 [00:24<00:41, 15.48it/s]\u001b[A\n",
      " 35%|███▌      | 353/1000 [00:24<00:42, 15.37it/s]\u001b[A\n",
      " 36%|███▌      | 355/1000 [00:24<00:41, 15.49it/s]\u001b[A\n",
      " 36%|███▌      | 357/1000 [00:24<00:41, 15.63it/s]\u001b[A\n",
      " 36%|███▌      | 359/1000 [00:25<00:40, 15.65it/s]\u001b[A\n",
      " 36%|███▌      | 361/1000 [00:25<00:40, 15.75it/s]\u001b[A\n",
      " 36%|███▋      | 363/1000 [00:25<00:40, 15.77it/s]\u001b[A\n",
      " 36%|███▋      | 365/1000 [00:25<00:40, 15.79it/s]\u001b[A\n",
      " 37%|███▋      | 367/1000 [00:25<00:40, 15.82it/s]\u001b[A\n",
      " 37%|███▋      | 369/1000 [00:25<00:40, 15.69it/s]\u001b[A\n",
      " 37%|███▋      | 371/1000 [00:25<00:39, 15.73it/s]\u001b[A\n",
      " 37%|███▋      | 373/1000 [00:25<00:39, 15.83it/s]\u001b[A\n",
      " 38%|███▊      | 375/1000 [00:26<00:39, 15.74it/s]\u001b[A\n",
      " 38%|███▊      | 377/1000 [00:26<00:39, 15.79it/s]\u001b[A\n",
      " 38%|███▊      | 379/1000 [00:26<00:39, 15.76it/s]\u001b[A\n",
      " 38%|███▊      | 381/1000 [00:26<00:39, 15.81it/s]\u001b[A\n",
      " 38%|███▊      | 383/1000 [00:26<00:39, 15.77it/s]\u001b[A\n",
      " 38%|███▊      | 385/1000 [00:26<00:39, 15.61it/s]\u001b[A\n",
      " 39%|███▊      | 387/1000 [00:26<00:38, 15.72it/s]\u001b[A\n",
      " 39%|███▉      | 389/1000 [00:26<00:38, 15.70it/s]\u001b[A\n",
      " 39%|███▉      | 391/1000 [00:27<00:38, 15.80it/s]\u001b[A\n",
      " 39%|███▉      | 393/1000 [00:27<00:38, 15.86it/s]\u001b[A\n",
      " 40%|███▉      | 395/1000 [00:27<00:38, 15.83it/s]\u001b[A\n",
      " 40%|███▉      | 397/1000 [00:27<00:38, 15.56it/s]\u001b[A\n",
      " 40%|███▉      | 399/1000 [00:27<00:40, 14.88it/s]\u001b[A\n",
      " 40%|████      | 401/1000 [00:27<00:41, 14.42it/s]\u001b[A\n",
      " 40%|████      | 403/1000 [00:27<00:41, 14.39it/s]\u001b[A\n",
      " 40%|████      | 405/1000 [00:28<00:41, 14.50it/s]\u001b[A\n",
      " 41%|████      | 407/1000 [00:28<00:40, 14.58it/s]\u001b[A\n",
      " 41%|████      | 409/1000 [00:28<00:40, 14.54it/s]\u001b[A\n",
      " 41%|████      | 411/1000 [00:28<00:40, 14.62it/s]\u001b[A\n",
      " 41%|████▏     | 413/1000 [00:28<00:40, 14.51it/s]\u001b[A\n",
      " 42%|████▏     | 415/1000 [00:28<00:40, 14.43it/s]\u001b[A\n",
      " 42%|████▏     | 417/1000 [00:28<00:40, 14.48it/s]\u001b[A\n",
      " 42%|████▏     | 419/1000 [00:29<00:40, 14.23it/s]\u001b[A\n",
      " 42%|████▏     | 421/1000 [00:29<00:40, 14.16it/s]\u001b[A\n",
      " 42%|████▏     | 423/1000 [00:29<00:41, 13.99it/s]\u001b[A\n",
      " 42%|████▎     | 425/1000 [00:29<00:40, 14.03it/s]\u001b[A\n",
      " 43%|████▎     | 427/1000 [00:29<00:40, 14.11it/s]\u001b[A\n",
      " 43%|████▎     | 429/1000 [00:29<00:40, 14.00it/s]\u001b[A\n",
      " 43%|████▎     | 431/1000 [00:29<00:41, 13.82it/s]\u001b[A\n",
      " 43%|████▎     | 433/1000 [00:30<00:40, 13.87it/s]\u001b[A\n",
      " 44%|████▎     | 435/1000 [00:30<00:40, 14.11it/s]\u001b[A\n",
      " 44%|████▎     | 437/1000 [00:30<00:39, 14.20it/s]\u001b[A\n",
      " 44%|████▍     | 439/1000 [00:30<00:39, 14.08it/s]\u001b[A\n",
      " 44%|████▍     | 441/1000 [00:30<00:39, 14.20it/s]\u001b[A\n",
      " 44%|████▍     | 443/1000 [00:30<00:39, 13.99it/s]\u001b[A\n",
      " 44%|████▍     | 445/1000 [00:30<00:39, 14.07it/s]\u001b[A\n",
      " 45%|████▍     | 447/1000 [00:31<00:39, 14.10it/s]\u001b[A\n",
      " 45%|████▍     | 449/1000 [00:31<00:40, 13.76it/s]\u001b[A\n",
      " 45%|████▌     | 451/1000 [00:31<00:40, 13.68it/s]\u001b[A\n",
      " 45%|████▌     | 453/1000 [00:31<00:39, 13.97it/s]\u001b[A\n",
      " 46%|████▌     | 455/1000 [00:31<00:37, 14.46it/s]\u001b[A\n",
      " 46%|████▌     | 457/1000 [00:31<00:36, 14.76it/s]\u001b[A\n",
      " 46%|████▌     | 459/1000 [00:31<00:36, 14.89it/s]\u001b[A\n",
      " 46%|████▌     | 461/1000 [00:31<00:35, 15.06it/s]\u001b[A\n",
      " 46%|████▋     | 463/1000 [00:32<00:35, 15.34it/s]\u001b[A\n",
      " 46%|████▋     | 465/1000 [00:32<00:34, 15.52it/s]\u001b[A\n",
      " 47%|████▋     | 467/1000 [00:32<00:34, 15.60it/s]\u001b[A\n",
      " 47%|████▋     | 469/1000 [00:32<00:33, 15.66it/s]\u001b[A\n",
      " 47%|████▋     | 471/1000 [00:32<00:33, 15.59it/s]\u001b[A\n",
      " 47%|████▋     | 473/1000 [00:32<00:33, 15.57it/s]\u001b[A\n",
      " 48%|████▊     | 475/1000 [00:32<00:33, 15.55it/s]\u001b[A\n",
      " 48%|████▊     | 477/1000 [00:33<00:33, 15.59it/s]\u001b[A\n",
      " 48%|████▊     | 479/1000 [00:33<00:33, 15.59it/s]\u001b[A\n",
      " 48%|████▊     | 481/1000 [00:33<00:33, 15.70it/s]\u001b[A\n",
      " 48%|████▊     | 483/1000 [00:33<00:32, 15.75it/s]\u001b[A\n",
      " 48%|████▊     | 485/1000 [00:33<00:33, 15.52it/s]\u001b[A\n",
      " 49%|████▊     | 487/1000 [00:33<00:33, 15.51it/s]\u001b[A\n",
      " 49%|████▉     | 489/1000 [00:33<00:33, 15.48it/s]\u001b[A\n",
      " 49%|████▉     | 491/1000 [00:33<00:33, 15.17it/s]\u001b[A\n",
      " 49%|████▉     | 493/1000 [00:34<00:32, 15.37it/s]\u001b[A\n",
      " 50%|████▉     | 495/1000 [00:34<00:32, 15.42it/s]\u001b[A\n",
      " 50%|████▉     | 497/1000 [00:34<00:32, 15.41it/s]\u001b[A\n",
      " 50%|████▉     | 499/1000 [00:34<00:32, 15.46it/s]\u001b[A\n",
      " 50%|█████     | 501/1000 [00:34<00:32, 15.50it/s]\u001b[A\n",
      " 50%|█████     | 503/1000 [00:34<00:32, 15.14it/s]\u001b[A\n",
      " 50%|█████     | 505/1000 [00:34<00:32, 15.27it/s]\u001b[A\n",
      " 51%|█████     | 507/1000 [00:34<00:32, 15.22it/s]\u001b[A\n",
      " 51%|█████     | 509/1000 [00:35<00:32, 15.22it/s]\u001b[A\n",
      " 51%|█████     | 511/1000 [00:35<00:32, 15.27it/s]\u001b[A\n",
      " 51%|█████▏    | 513/1000 [00:35<00:31, 15.35it/s]\u001b[A\n",
      " 52%|█████▏    | 515/1000 [00:35<00:31, 15.38it/s]\u001b[A\n",
      " 52%|█████▏    | 517/1000 [00:35<00:31, 15.47it/s]\u001b[A\n",
      " 52%|█████▏    | 519/1000 [00:35<00:31, 15.23it/s]\u001b[A\n",
      " 52%|█████▏    | 521/1000 [00:35<00:31, 15.33it/s]\u001b[A\n",
      " 52%|█████▏    | 523/1000 [00:35<00:30, 15.54it/s]\u001b[A\n",
      " 52%|█████▎    | 525/1000 [00:36<00:30, 15.55it/s]\u001b[A\n",
      " 53%|█████▎    | 527/1000 [00:36<00:30, 15.65it/s]\u001b[A\n",
      " 53%|█████▎    | 529/1000 [00:36<00:30, 15.70it/s]\u001b[A\n",
      " 53%|█████▎    | 531/1000 [00:36<00:29, 15.75it/s]\u001b[A\n",
      " 53%|█████▎    | 533/1000 [00:36<00:29, 15.59it/s]\u001b[A\n",
      " 54%|█████▎    | 535/1000 [00:36<00:29, 15.57it/s]\u001b[A\n",
      " 54%|█████▎    | 537/1000 [00:36<00:29, 15.67it/s]\u001b[A\n",
      " 54%|█████▍    | 539/1000 [00:37<00:29, 15.61it/s]\u001b[A\n",
      " 54%|█████▍    | 541/1000 [00:37<00:29, 15.70it/s]\u001b[A\n",
      " 54%|█████▍    | 543/1000 [00:37<00:29, 15.73it/s]\u001b[A\n",
      " 55%|█████▍    | 545/1000 [00:37<00:28, 15.75it/s]\u001b[A\n",
      " 55%|█████▍    | 547/1000 [00:37<00:28, 15.77it/s]\u001b[A\n",
      " 55%|█████▍    | 549/1000 [00:37<00:28, 15.60it/s]\u001b[A\n",
      " 55%|█████▌    | 551/1000 [00:37<00:28, 15.56it/s]\u001b[A\n",
      " 55%|█████▌    | 553/1000 [00:37<00:28, 15.58it/s]\u001b[A\n",
      " 56%|█████▌    | 555/1000 [00:38<00:28, 15.68it/s]\u001b[A\n",
      " 56%|█████▌    | 557/1000 [00:38<00:28, 15.69it/s]\u001b[A\n",
      " 56%|█████▌    | 559/1000 [00:38<00:27, 15.76it/s]\u001b[A\n",
      " 56%|█████▌    | 561/1000 [00:38<00:27, 15.69it/s]\u001b[A\n",
      " 56%|█████▋    | 563/1000 [00:38<00:27, 15.76it/s]\u001b[A\n",
      " 56%|█████▋    | 565/1000 [00:38<00:27, 15.63it/s]\u001b[A\n",
      " 57%|█████▋    | 567/1000 [00:38<00:27, 15.73it/s]\u001b[A\n",
      " 57%|█████▋    | 569/1000 [00:38<00:27, 15.55it/s]\u001b[A\n",
      " 57%|█████▋    | 571/1000 [00:39<00:27, 15.60it/s]\u001b[A\n",
      " 57%|█████▋    | 573/1000 [00:39<00:27, 15.39it/s]\u001b[A\n",
      " 57%|█████▊    | 575/1000 [00:39<00:27, 15.51it/s]\u001b[A\n",
      " 58%|█████▊    | 577/1000 [00:39<00:26, 15.67it/s]\u001b[A\n",
      " 58%|█████▊    | 579/1000 [00:39<00:26, 15.77it/s]\u001b[A\n",
      " 58%|█████▊    | 581/1000 [00:39<00:26, 15.60it/s]\u001b[A\n",
      " 58%|█████▊    | 583/1000 [00:39<00:26, 15.58it/s]\u001b[A\n",
      " 58%|█████▊    | 585/1000 [00:39<00:26, 15.63it/s]\u001b[A\n",
      " 59%|█████▊    | 587/1000 [00:40<00:26, 15.62it/s]\u001b[A\n",
      " 59%|█████▉    | 589/1000 [00:40<00:26, 15.71it/s]\u001b[A\n",
      " 59%|█████▉    | 591/1000 [00:40<00:26, 15.72it/s]\u001b[A\n",
      " 59%|█████▉    | 593/1000 [00:40<00:25, 15.75it/s]\u001b[A\n",
      " 60%|█████▉    | 595/1000 [00:40<00:25, 15.78it/s]\u001b[A\n",
      " 60%|█████▉    | 597/1000 [00:40<00:25, 15.56it/s]\u001b[A\n",
      " 60%|█████▉    | 599/1000 [00:40<00:25, 15.69it/s]\u001b[A\n",
      " 60%|██████    | 601/1000 [00:40<00:25, 15.71it/s]\u001b[A\n",
      " 60%|██████    | 603/1000 [00:41<00:25, 15.48it/s]\u001b[A\n",
      " 60%|██████    | 605/1000 [00:41<00:25, 15.58it/s]\u001b[A\n",
      " 61%|██████    | 607/1000 [00:41<00:25, 15.65it/s]\u001b[A\n",
      " 61%|██████    | 609/1000 [00:41<00:25, 15.44it/s]\u001b[A\n",
      " 61%|██████    | 611/1000 [00:41<00:26, 14.86it/s]\u001b[A\n",
      " 61%|██████▏   | 613/1000 [00:41<00:26, 14.55it/s]\u001b[A\n",
      " 62%|██████▏   | 615/1000 [00:41<00:26, 14.49it/s]\u001b[A\n",
      " 62%|██████▏   | 617/1000 [00:42<00:26, 14.25it/s]\u001b[A\n",
      " 62%|██████▏   | 619/1000 [00:42<00:26, 14.28it/s]\u001b[A\n",
      " 62%|██████▏   | 621/1000 [00:42<00:26, 14.33it/s]\u001b[A\n",
      " 62%|██████▏   | 623/1000 [00:42<00:26, 14.48it/s]\u001b[A\n",
      " 62%|██████▎   | 625/1000 [00:42<00:25, 14.50it/s]\u001b[A\n",
      " 63%|██████▎   | 627/1000 [00:42<00:25, 14.57it/s]\u001b[A\n",
      " 63%|██████▎   | 629/1000 [00:42<00:25, 14.47it/s]\u001b[A\n",
      " 63%|██████▎   | 631/1000 [00:43<00:26, 14.14it/s]\u001b[A\n",
      " 63%|██████▎   | 633/1000 [00:43<00:26, 14.07it/s]\u001b[A\n",
      " 64%|██████▎   | 635/1000 [00:43<00:26, 14.02it/s]\u001b[A\n",
      " 64%|██████▎   | 637/1000 [00:43<00:25, 14.11it/s]\u001b[A\n",
      " 64%|██████▍   | 639/1000 [00:43<00:25, 14.16it/s]\u001b[A\n",
      " 64%|██████▍   | 641/1000 [00:43<00:25, 14.28it/s]\u001b[A\n",
      " 64%|██████▍   | 643/1000 [00:43<00:25, 14.15it/s]\u001b[A\n",
      " 64%|██████▍   | 645/1000 [00:44<00:25, 14.14it/s]\u001b[A\n",
      " 65%|██████▍   | 647/1000 [00:44<00:24, 14.22it/s]\u001b[A\n",
      " 65%|██████▍   | 649/1000 [00:44<00:24, 14.16it/s]\u001b[A\n",
      " 65%|██████▌   | 651/1000 [00:44<00:24, 14.32it/s]\u001b[A\n",
      " 65%|██████▌   | 653/1000 [00:44<00:24, 14.45it/s]\u001b[A\n",
      " 66%|██████▌   | 655/1000 [00:44<00:23, 14.39it/s]\u001b[A\n",
      " 66%|██████▌   | 657/1000 [00:44<00:23, 14.30it/s]\u001b[A\n",
      " 66%|██████▌   | 659/1000 [00:45<00:23, 14.36it/s]\u001b[A\n",
      " 66%|██████▌   | 661/1000 [00:45<00:23, 14.26it/s]\u001b[A\n",
      " 66%|██████▋   | 663/1000 [00:45<00:24, 14.01it/s]\u001b[A\n",
      " 66%|██████▋   | 665/1000 [00:45<00:24, 13.86it/s]\u001b[A\n",
      " 67%|██████▋   | 667/1000 [00:45<00:23, 13.92it/s]\u001b[A\n",
      " 67%|██████▋   | 669/1000 [00:45<00:23, 13.88it/s]\u001b[A\n",
      " 67%|██████▋   | 671/1000 [00:45<00:24, 13.48it/s]\u001b[A\n",
      " 67%|██████▋   | 673/1000 [00:46<00:24, 13.44it/s]\u001b[A\n",
      " 68%|██████▊   | 675/1000 [00:46<00:23, 13.77it/s]\u001b[A\n",
      " 68%|██████▊   | 677/1000 [00:46<00:22, 14.23it/s]\u001b[A\n",
      " 68%|██████▊   | 679/1000 [00:46<00:21, 14.68it/s]\u001b[A\n",
      " 68%|██████▊   | 681/1000 [00:46<00:21, 14.99it/s]\u001b[A\n",
      " 68%|██████▊   | 683/1000 [00:46<00:21, 14.93it/s]\u001b[A\n",
      " 68%|██████▊   | 685/1000 [00:46<00:20, 15.13it/s]\u001b[A\n",
      " 69%|██████▊   | 687/1000 [00:46<00:20, 15.20it/s]\u001b[A\n",
      " 69%|██████▉   | 689/1000 [00:47<00:20, 15.37it/s]\u001b[A\n",
      " 69%|██████▉   | 691/1000 [00:47<00:19, 15.46it/s]\u001b[A\n",
      " 69%|██████▉   | 693/1000 [00:47<00:19, 15.49it/s]\u001b[A\n",
      " 70%|██████▉   | 695/1000 [00:47<00:19, 15.60it/s]\u001b[A\n",
      " 70%|██████▉   | 697/1000 [00:47<00:19, 15.68it/s]\u001b[A\n",
      " 70%|██████▉   | 699/1000 [00:47<00:19, 15.53it/s]\u001b[A\n",
      " 70%|███████   | 701/1000 [00:47<00:19, 15.53it/s]\u001b[A\n",
      " 70%|███████   | 703/1000 [00:47<00:19, 15.59it/s]\u001b[A\n",
      " 70%|███████   | 705/1000 [00:48<00:18, 15.67it/s]\u001b[A\n",
      " 71%|███████   | 707/1000 [00:48<00:18, 15.75it/s]\u001b[A\n",
      " 71%|███████   | 709/1000 [00:48<00:18, 15.72it/s]\u001b[A\n",
      " 71%|███████   | 711/1000 [00:48<00:18, 15.74it/s]\u001b[A\n",
      " 71%|███████▏  | 713/1000 [00:48<00:18, 15.73it/s]\u001b[A\n",
      " 72%|███████▏  | 715/1000 [00:48<00:18, 15.65it/s]\u001b[A\n",
      " 72%|███████▏  | 717/1000 [00:48<00:17, 15.75it/s]\u001b[A\n",
      " 72%|███████▏  | 719/1000 [00:48<00:17, 15.71it/s]\u001b[A\n",
      " 72%|███████▏  | 721/1000 [00:49<00:17, 15.66it/s]\u001b[A\n",
      " 72%|███████▏  | 723/1000 [00:49<00:17, 15.71it/s]\u001b[A\n",
      " 72%|███████▎  | 725/1000 [00:49<00:17, 15.71it/s]\u001b[A\n",
      " 73%|███████▎  | 727/1000 [00:49<00:17, 15.74it/s]\u001b[A\n",
      " 73%|███████▎  | 729/1000 [00:49<00:17, 15.65it/s]\u001b[A\n",
      " 73%|███████▎  | 731/1000 [00:49<00:17, 15.63it/s]\u001b[A\n",
      " 73%|███████▎  | 733/1000 [00:49<00:17, 15.70it/s]\u001b[A\n",
      " 74%|███████▎  | 735/1000 [00:50<00:16, 15.77it/s]\u001b[A\n",
      " 74%|███████▎  | 737/1000 [00:50<00:16, 15.64it/s]\u001b[A\n",
      " 74%|███████▍  | 739/1000 [00:50<00:16, 15.70it/s]\u001b[A\n",
      " 74%|███████▍  | 741/1000 [00:50<00:16, 15.72it/s]\u001b[A\n",
      " 74%|███████▍  | 743/1000 [00:50<00:16, 15.79it/s]\u001b[A\n",
      " 74%|███████▍  | 745/1000 [00:50<00:16, 15.61it/s]\u001b[A\n",
      " 75%|███████▍  | 747/1000 [00:50<00:16, 15.71it/s]\u001b[A\n",
      " 75%|███████▍  | 749/1000 [00:50<00:15, 15.78it/s]\u001b[A\n",
      " 75%|███████▌  | 751/1000 [00:51<00:15, 15.68it/s]\u001b[A\n",
      " 75%|███████▌  | 753/1000 [00:51<00:15, 15.69it/s]\u001b[A\n",
      " 76%|███████▌  | 755/1000 [00:51<00:15, 15.75it/s]\u001b[A\n",
      " 76%|███████▌  | 757/1000 [00:51<00:15, 15.73it/s]\u001b[A\n",
      " 76%|███████▌  | 759/1000 [00:51<00:15, 15.72it/s]\u001b[A\n",
      " 76%|███████▌  | 761/1000 [00:51<00:15, 15.58it/s]\u001b[A\n",
      " 76%|███████▋  | 763/1000 [00:51<00:15, 15.62it/s]\u001b[A\n",
      " 76%|███████▋  | 765/1000 [00:51<00:15, 15.62it/s]\u001b[A\n",
      " 77%|███████▋  | 767/1000 [00:52<00:14, 15.57it/s]\u001b[A\n",
      " 77%|███████▋  | 769/1000 [00:52<00:14, 15.64it/s]\u001b[A\n",
      " 77%|███████▋  | 771/1000 [00:52<00:14, 15.65it/s]\u001b[A\n",
      " 77%|███████▋  | 773/1000 [00:52<00:14, 15.63it/s]\u001b[A\n",
      " 78%|███████▊  | 775/1000 [00:52<00:14, 15.70it/s]\u001b[A\n",
      " 78%|███████▊  | 777/1000 [00:52<00:14, 15.14it/s]\u001b[A\n",
      " 78%|███████▊  | 779/1000 [00:52<00:14, 15.13it/s]\u001b[A\n",
      " 78%|███████▊  | 781/1000 [00:52<00:14, 15.20it/s]\u001b[A\n",
      " 78%|███████▊  | 783/1000 [00:53<00:14, 15.36it/s]\u001b[A\n",
      " 78%|███████▊  | 785/1000 [00:53<00:13, 15.45it/s]\u001b[A\n",
      " 79%|███████▊  | 787/1000 [00:53<00:13, 15.51it/s]\u001b[A\n",
      " 79%|███████▉  | 789/1000 [00:53<00:13, 15.62it/s]\u001b[A\n",
      " 79%|███████▉  | 791/1000 [00:53<00:13, 15.63it/s]\u001b[A\n",
      " 79%|███████▉  | 793/1000 [00:53<00:13, 15.52it/s]\u001b[A\n",
      " 80%|███████▉  | 795/1000 [00:53<00:13, 15.55it/s]\u001b[A\n",
      " 80%|███████▉  | 797/1000 [00:53<00:13, 15.57it/s]\u001b[A\n",
      " 80%|███████▉  | 799/1000 [00:54<00:12, 15.65it/s]\u001b[A\n",
      " 80%|████████  | 801/1000 [00:54<00:12, 15.65it/s]\u001b[A\n",
      " 80%|████████  | 803/1000 [00:54<00:12, 15.69it/s]\u001b[A\n",
      " 80%|████████  | 805/1000 [00:54<00:12, 15.75it/s]\u001b[A\n",
      " 81%|████████  | 807/1000 [00:54<00:12, 15.67it/s]\u001b[A\n",
      " 81%|████████  | 809/1000 [00:54<00:12, 15.58it/s]\u001b[A\n",
      " 81%|████████  | 811/1000 [00:54<00:12, 15.52it/s]\u001b[A\n",
      " 81%|████████▏ | 813/1000 [00:55<00:12, 15.57it/s]\u001b[A\n",
      " 82%|████████▏ | 815/1000 [00:55<00:11, 15.67it/s]\u001b[A\n",
      " 82%|████████▏ | 817/1000 [00:55<00:11, 15.71it/s]\u001b[A\n",
      " 82%|████████▏ | 819/1000 [00:55<00:11, 15.74it/s]\u001b[A\n",
      " 82%|████████▏ | 821/1000 [00:55<00:11, 15.73it/s]\u001b[A\n",
      " 82%|████████▏ | 823/1000 [00:55<00:11, 15.69it/s]\u001b[A\n",
      " 82%|████████▎ | 825/1000 [00:55<00:11, 15.70it/s]\u001b[A\n",
      " 83%|████████▎ | 827/1000 [00:55<00:11, 15.64it/s]\u001b[A\n",
      " 83%|████████▎ | 829/1000 [00:56<00:10, 15.72it/s]\u001b[A\n",
      " 83%|████████▎ | 831/1000 [00:56<00:11, 15.27it/s]\u001b[A\n",
      " 83%|████████▎ | 833/1000 [00:56<00:11, 14.87it/s]\u001b[A\n",
      " 84%|████████▎ | 835/1000 [00:56<00:11, 14.64it/s]\u001b[A\n",
      " 84%|████████▎ | 837/1000 [00:56<00:11, 14.54it/s]\u001b[A\n",
      " 84%|████████▍ | 839/1000 [00:56<00:11, 14.29it/s]\u001b[A\n",
      " 84%|████████▍ | 841/1000 [00:56<00:11, 14.45it/s]\u001b[A\n",
      " 84%|████████▍ | 843/1000 [00:57<00:10, 14.32it/s]\u001b[A\n",
      " 84%|████████▍ | 845/1000 [00:57<00:10, 14.19it/s]\u001b[A\n",
      " 85%|████████▍ | 847/1000 [00:57<00:10, 14.23it/s]\u001b[A\n",
      " 85%|████████▍ | 849/1000 [00:57<00:10, 14.31it/s]\u001b[A\n",
      " 85%|████████▌ | 851/1000 [00:57<00:10, 14.20it/s]\u001b[A\n",
      " 85%|████████▌ | 853/1000 [00:57<00:10, 14.05it/s]\u001b[A\n",
      " 86%|████████▌ | 855/1000 [00:57<00:10, 14.22it/s]\u001b[A\n",
      " 86%|████████▌ | 857/1000 [00:58<00:10, 13.91it/s]\u001b[A\n",
      " 86%|████████▌ | 859/1000 [00:58<00:10, 13.94it/s]\u001b[A\n",
      " 86%|████████▌ | 861/1000 [00:58<00:09, 13.95it/s]\u001b[A\n",
      " 86%|████████▋ | 863/1000 [00:58<00:09, 13.82it/s]\u001b[A\n",
      " 86%|████████▋ | 865/1000 [00:58<00:09, 13.91it/s]\u001b[A\n",
      " 87%|████████▋ | 867/1000 [00:58<00:09, 13.77it/s]\u001b[A\n",
      " 87%|████████▋ | 869/1000 [00:58<00:09, 13.77it/s]\u001b[A\n",
      " 87%|████████▋ | 871/1000 [00:59<00:09, 13.69it/s]\u001b[A\n",
      " 87%|████████▋ | 873/1000 [00:59<00:09, 13.72it/s]\u001b[A\n",
      " 88%|████████▊ | 875/1000 [00:59<00:09, 13.61it/s]\u001b[A\n",
      " 88%|████████▊ | 877/1000 [00:59<00:09, 13.65it/s]\u001b[A\n",
      " 88%|████████▊ | 879/1000 [00:59<00:08, 13.49it/s]\u001b[A\n",
      " 88%|████████▊ | 881/1000 [00:59<00:08, 13.51it/s]\u001b[A\n",
      " 88%|████████▊ | 883/1000 [00:59<00:08, 13.64it/s]\u001b[A\n",
      " 88%|████████▊ | 885/1000 [01:00<00:08, 13.71it/s]\u001b[A\n",
      " 89%|████████▊ | 887/1000 [01:00<00:07, 14.26it/s]\u001b[A\n",
      " 89%|████████▉ | 889/1000 [01:00<00:07, 14.65it/s]\u001b[A\n",
      " 89%|████████▉ | 891/1000 [01:00<00:07, 14.98it/s]\u001b[A\n",
      " 89%|████████▉ | 893/1000 [01:00<00:07, 15.16it/s]\u001b[A\n",
      " 90%|████████▉ | 895/1000 [01:00<00:06, 15.18it/s]\u001b[A\n",
      " 90%|████████▉ | 897/1000 [01:00<00:06, 15.38it/s]\u001b[A\n",
      " 90%|████████▉ | 899/1000 [01:00<00:06, 15.51it/s]\u001b[A\n",
      " 90%|█████████ | 901/1000 [01:01<00:06, 15.46it/s]\u001b[A\n",
      " 90%|█████████ | 903/1000 [01:01<00:06, 15.57it/s]\u001b[A\n",
      " 90%|█████████ | 905/1000 [01:01<00:06, 15.60it/s]\u001b[A\n",
      " 91%|█████████ | 907/1000 [01:01<00:05, 15.57it/s]\u001b[A\n",
      " 91%|█████████ | 909/1000 [01:01<00:05, 15.60it/s]\u001b[A\n",
      " 91%|█████████ | 911/1000 [01:01<00:05, 15.51it/s]\u001b[A\n",
      " 91%|█████████▏| 913/1000 [01:01<00:05, 15.56it/s]\u001b[A\n",
      " 92%|█████████▏| 915/1000 [01:01<00:05, 15.57it/s]\u001b[A\n",
      " 92%|█████████▏| 917/1000 [01:02<00:05, 15.63it/s]\u001b[A\n",
      " 92%|█████████▏| 919/1000 [01:02<00:05, 15.65it/s]\u001b[A\n",
      " 92%|█████████▏| 921/1000 [01:02<00:05, 15.65it/s]\u001b[A\n",
      " 92%|█████████▏| 923/1000 [01:02<00:04, 15.72it/s]\u001b[A\n",
      " 92%|█████████▎| 925/1000 [01:02<00:04, 15.59it/s]\u001b[A\n",
      " 93%|█████████▎| 927/1000 [01:02<00:04, 15.59it/s]\u001b[A\n",
      " 93%|█████████▎| 929/1000 [01:02<00:04, 15.68it/s]\u001b[A\n",
      " 93%|█████████▎| 931/1000 [01:03<00:04, 15.47it/s]\u001b[A\n",
      " 93%|█████████▎| 933/1000 [01:03<00:04, 15.58it/s]\u001b[A\n",
      " 94%|█████████▎| 935/1000 [01:03<00:04, 15.64it/s]\u001b[A\n",
      " 94%|█████████▎| 937/1000 [01:03<00:04, 15.68it/s]\u001b[A\n",
      " 94%|█████████▍| 939/1000 [01:03<00:03, 15.72it/s]\u001b[A\n",
      " 94%|█████████▍| 941/1000 [01:03<00:03, 15.63it/s]\u001b[A\n",
      " 94%|█████████▍| 943/1000 [01:03<00:03, 15.56it/s]\u001b[A\n",
      " 94%|█████████▍| 945/1000 [01:03<00:03, 15.57it/s]\u001b[A\n",
      " 95%|█████████▍| 947/1000 [01:04<00:03, 15.58it/s]\u001b[A\n",
      " 95%|█████████▍| 949/1000 [01:04<00:03, 15.70it/s]\u001b[A\n",
      " 95%|█████████▌| 951/1000 [01:04<00:03, 15.75it/s]\u001b[A\n",
      " 95%|█████████▌| 953/1000 [01:04<00:02, 15.72it/s]\u001b[A\n",
      " 96%|█████████▌| 955/1000 [01:04<00:02, 15.73it/s]\u001b[A\n",
      " 96%|█████████▌| 957/1000 [01:04<00:02, 15.58it/s]\u001b[A\n",
      " 96%|█████████▌| 959/1000 [01:04<00:02, 15.60it/s]\u001b[A\n",
      " 96%|█████████▌| 961/1000 [01:04<00:02, 15.54it/s]\u001b[A\n",
      " 96%|█████████▋| 963/1000 [01:05<00:02, 15.52it/s]\u001b[A\n",
      " 96%|█████████▋| 965/1000 [01:05<00:02, 15.59it/s]\u001b[A\n",
      " 97%|█████████▋| 967/1000 [01:05<00:02, 15.60it/s]\u001b[A\n",
      " 97%|█████████▋| 969/1000 [01:05<00:01, 15.67it/s]\u001b[A\n",
      " 97%|█████████▋| 971/1000 [01:05<00:01, 15.73it/s]\u001b[A\n",
      " 97%|█████████▋| 973/1000 [01:05<00:01, 15.49it/s]\u001b[A\n",
      " 98%|█████████▊| 975/1000 [01:05<00:01, 15.55it/s]\u001b[A\n",
      " 98%|█████████▊| 977/1000 [01:05<00:01, 15.56it/s]\u001b[A\n",
      " 98%|█████████▊| 979/1000 [01:06<00:01, 15.60it/s]\u001b[A\n",
      " 98%|█████████▊| 981/1000 [01:06<00:01, 15.67it/s]\u001b[A\n",
      " 98%|█████████▊| 983/1000 [01:06<00:01, 15.68it/s]\u001b[A\n",
      " 98%|█████████▊| 985/1000 [01:06<00:00, 15.71it/s]\u001b[A\n",
      " 99%|█████████▊| 987/1000 [01:06<00:00, 15.62it/s]\u001b[A\n",
      " 99%|█████████▉| 989/1000 [01:06<00:00, 15.56it/s]\u001b[A\n",
      " 99%|█████████▉| 991/1000 [01:06<00:00, 15.64it/s]\u001b[A\n",
      " 99%|█████████▉| 993/1000 [01:06<00:00, 15.64it/s]\u001b[A\n",
      "100%|█████████▉| 995/1000 [01:07<00:00, 15.61it/s]\u001b[A\n",
      "100%|█████████▉| 997/1000 [01:07<00:00, 15.70it/s]\u001b[A\n",
      "100%|██████████| 1000/1000 [01:07<00:00, 14.83it/s]\n"
     ]
    },
    {
     "name": "stdout",
     "output_type": "stream",
     "text": [
      "Counter({True: 999, False: 1})\n"
     ]
    }
   ],
   "source": [
    "correctness, p_values = bootstrapping_correctness(week_cudf, iterations=1000, size=1000, effect=0.05)"
   ]
  },
  {
   "cell_type": "code",
   "execution_count": null,
   "metadata": {
    "colab": {
     "background_save": true
    },
    "id": "o67eQ9afOTBZ",
    "outputId": "34be710d-0429-45c6-cd87-17d4f4bb33c7"
   },
   "outputs": [
    {
     "name": "stdout",
     "output_type": "stream",
     "text": [
      "Correctness: 0.10%, significance: 99.90%\n"
     ]
    },
    {
     "data": {
      "image/png": "[encoded data removed]",
      "text/plain": [
       "<Figure size 640x480 with 1 Axes>"
      ]
     },
     "metadata": {},
     "output_type": "display_data"
    }
   ],
   "source": [
    "print(f'Correctness: {correctness:.2%}, significance: {1 - correctness:.2%}')\n",
    "plt.hist(p_values, bins=10)\n",
    "plt.show()"
   ]
  },
  {
   "cell_type": "code",
   "execution_count": null,
   "metadata": {
    "id": "MBxvCtjj2q2q",
    "outputId": "7b7cbc9b-1b58-4dbd-ba2f-f14f8a244a93"
   },
   "outputs": [
    {
     "data": {
      "text/plain": [
       "[<matplotlib.lines.Line2D at 0x168a50f10>]"
      ]
     },
     "execution_count": 3,
     "metadata": {},
     "output_type": "execute_result"
    },
    {
     "data": {
      "image/png": "[encoded data removed]",
      "text/plain": [
       "<Figure size 640x480 with 1 Axes>"
      ]
     },
     "metadata": {},
     "output_type": "display_data"
    }
   ],
   "source": [
    "plt.plot([0.01, 0.03, 0.05], [35.7, 99.1, 99.9])"
   ]
  },
  {
   "cell_type": "markdown",
   "metadata": {
    "id": "DOpDFBhhUZwM"
   },
   "source": [
    "### Выводы о мощности:\n",
    "- Исходя из графика зависимости мощности теста от накидываемого эффекта мы видим: что чем больший эффект мы докидываем тем выше мощность:\n",
    "Мощность = 35.7% - эффект = 0.01\n",
    "Мощность = 99.1% - эффект = 0.03\n",
    "Мощность = 99.9% - эффект = 0.05\n",
    "- Это говорит о более лекой возможности поймать этот эффект при его увеличении\n",
    "- С вероятностью 80% мы поймаем эффект от 2.5%"
   ]
  },
  {
   "cell_type": "code",
   "execution_count": null,
   "metadata": {
    "id": "AOb46STKOS-R"
   },
   "outputs": [],
   "source": []
  },
  {
   "cell_type": "markdown",
   "metadata": {
    "id": "Dtj4UKcZn435",
    "tags": []
   },
   "source": [
    "## MDE"
   ]
  },
  {
   "cell_type": "code",
   "execution_count": 20,
   "metadata": {
    "id": "xSOTwVXqn3ml"
   },
   "outputs": [],
   "source": [
    "# Теперь можем написать функцию:\n",
    "def get_mde(metric_vec, alpha=0.05, beta=0.2):\n",
    "\n",
    "    metric_mean, metric_std, metric_n = metric_vec.mean(), metric_vec.std(), metric_vec.count()\n",
    "\n",
    "    z_alpha = norm.ppf(1 - (alpha / 2), loc=0, scale=1)\n",
    "    z_beta = norm.ppf(1 - beta, loc=0, scale=1)\n",
    "\n",
    "    mde = (z_alpha + z_beta)*metric_std / np.sqrt(metric_n)\n",
    "\n",
    "    return mde*100/metric_mean"
   ]
  },
  {
   "cell_type": "markdown",
   "metadata": {
    "id": "H8Bm9nx02q2s"
   },
   "source": [
    "Расчитаем теоретическо значение mde для α=0.05 и β=0.2"
   ]
  },
  {
   "cell_type": "code",
   "execution_count": 21,
   "metadata": {
    "colab": {
     "base_uri": "https://localhost:8080/"
    },
    "executionInfo": {
     "elapsed": 10,
     "status": "ok",
     "timestamp": 1734962596409,
     "user": {
      "displayName": "Алсу Курмакаева",
      "userId": "11275952572532953359"
     },
     "user_tz": -180
    },
    "id": "408gQnEWn3uh",
    "outputId": "1e595884-5c3a-4122-8520-2ba7b1316c22"
   },
   "outputs": [
    {
     "data": {
      "text/plain": [
       "0.9322734976306665"
      ]
     },
     "execution_count": 21,
     "metadata": {},
     "output_type": "execute_result"
    }
   ],
   "source": [
    "get_mde(week['total_dur'], alpha=0.05, beta=0.2)"
   ]
  },
  {
   "cell_type": "markdown",
   "metadata": {
    "id": "f5exmOQlUsyt",
    "tags": []
   },
   "source": [
    "## бутстрап + логарифмированная метрика длительности просмотров"
   ]
  },
  {
   "cell_type": "markdown",
   "metadata": {
    "id": "jqTJ29ZcU5Mb"
   },
   "source": [
    "Исходя из распределения 'total_dur' видно, что график не имеет ормальное распределение, а также имеет высокую дисперсию.\n",
    "\n",
    "В данном случае логорифирование поможет снизить дисперии - снизить разницу между группами. Также отметим, что логарифмирование снижает интерпретируемость теста"
   ]
  },
  {
   "cell_type": "code",
   "execution_count": 28,
   "metadata": {
    "executionInfo": {
     "elapsed": 457,
     "status": "ok",
     "timestamp": 1735064510877,
     "user": {
      "displayName": "Алсу Курмакаева",
      "userId": "11275952572532953359"
     },
     "user_tz": -180
    },
    "id": "jTm2D6sWrGUI"
   },
   "outputs": [],
   "source": [
    "week['total_dur_ln'] = np.log2(week['total_dur'])"
   ]
  },
  {
   "cell_type": "code",
   "execution_count": 29,
   "metadata": {
    "colab": {
     "base_uri": "https://localhost:8080/",
     "height": 620
    },
    "executionInfo": {
     "elapsed": 323,
     "status": "ok",
     "timestamp": 1735064511196,
     "user": {
      "displayName": "Алсу Курмакаева",
      "userId": "11275952572532953359"
     },
     "user_tz": -180
    },
    "id": "hQvhROoMU4sI",
    "outputId": "c61b63da-2760-46df-a425-da336411e1ae"
   },
   "outputs": [
    {
     "data": {
      "image/png": "[encoded data removed]",
      "text/plain": [
       "<Figure size 700x700 with 1 Axes>"
      ]
     },
     "metadata": {},
     "output_type": "display_data"
    }
   ],
   "source": [
    "week['total_dur_ln'].hist(bins=50, figsize=(7,7))\n",
    "plt.grid(False)"
   ]
  },
  {
   "cell_type": "code",
   "execution_count": 30,
   "metadata": {
    "executionInfo": {
     "elapsed": 611,
     "status": "ok",
     "timestamp": 1735064515481,
     "user": {
      "displayName": "Алсу Курмакаева",
      "userId": "11275952572532953359"
     },
     "user_tz": -180
    },
    "id": "tViQXAZRU4pf"
   },
   "outputs": [],
   "source": [
    "week_cudf_v2 = cudf.DataFrame(week)\n",
    "week_cudf_v2['total_dur'] = week_cudf_v2['total_dur_ln'].astype('int32')"
   ]
  },
  {
   "cell_type": "code",
   "execution_count": 31,
   "metadata": {
    "colab": {
     "base_uri": "https://localhost:8080/",
     "height": 1000,
     "referenced_widgets": [
      "89c86125f5164937a8d353b5bc3e13b2",
      "1cc2c243d6fa4f45827dfe2c16390a8a",
      "d7ec0c98b862405699a8f2a6a882b807",
      "064cff7d8e2845148ad3d43276044b29",
      "724c85c9fd6842b890fe1355b9c5e6d5",
      "776de1c89d784cfdadba5670e1ec7e87",
      "1dc58f1f8bbc4f9fabb33768153ec752",
      "e7e28a21b7284db7bf2a335650226f1d",
      "d67c0a47b95e4f718886251a06a4f463",
      "faf345a9a662455095f4b2fbfc4c096c",
      "bed4893ef0dc4b33b675024f13113259",
      "8b839cbfe39047549fbb1d904f07e3ec",
      "64d081f40a1747c9ac31ca74a51fbcb2",
      "5653c82d14a64016a9c60ca9d0f287f4",
      "13a59855fd8a4b6f8930aa854f80e15a",
      "637e3132b89a480195d380672633fed8",
      "8d43a444b1a8430c971f09701b0650ef",
      "5d10c767c35a4838a4c65cb62b19a824",
      "9610c44a90734910ac7b499743094707",
      "a7c0b9546b4d4c30a9f146bfd02bdadf",
      "d17877b2b25349de81cacc95834e685b",
      "a1df965f0f3c4ee2b3625018f484d4cc",
      "7b648a4b7e6b40b0bea09ddd9c82ba23",
      "a3b94c99f20042ad9fb154c67d8fe6bc",
      "8e00b0651c024726a01c54eb7e2c50a1",
      "9a15a3e767234b83badd260eb9580dbe",
      "403f5ad562aa44c48842c69d044ac9e6",
      "449a69d3da4e4bfeb08adedaf06dc342",
      "74a2c0523f4343e7bfb23b3c29ccb609",
      "8c76425a68f34381b8d2928c17a486ae",
      "eb9fc9d060ea4702b6091892e25514bb",
      "0924dfaaf51147e8854fa6ba1f790590",
      "de96f4d705d949819d2910461754f25f",
      "b83bf6901e1f42e2acf2d0eb352fb852",
      "b936eca3c30a4bd08f418f4988e9e878",
      "03065d6596874cc5b5a7dc9ed797425f",
      "ab5bcf791df049c0a7818a416dadbc20",
      "b86ddab711b1482ba291dbc0f0fe08a9",
      "8a24f26aee474886b326a45ffa0cf70a",
      "9fd1f8e2c8414f6283ead4efd988f68b",
      "3f94a12250f647e1bca44cfc6d739f39",
      "6c6d11839e1f40b2a05afa841f1b13f7",
      "0b2e8bf595da4990b56d4ed966261b6e",
      "fae451cd32ea49df860163291d527c05",
      "0974084bc1bf48ee8e111c242306b08f",
      "a5c2bac131014423a5fe130488faecfd",
      "ade378cfee5e475e874bd59d922c305e",
      "793d4180615148a7a90d308c90df4ce0",
      "e06c13563d0b4a35a0ace9374c1065de",
      "55a7596df82947c088c9a4d933329fac",
      "3f17533a15e9423f973536709f6b05f9",
      "3dec48abe00948d4b15a9c6e829e5bf2",
      "d9ac405836ee424fa04735c8c30616f9",
      "e7c4f7c95a814b0fa78e6bd930ef84fc",
      "eeea5818b2e346149967a22b580bd410"
     ]
    },
    "collapsed": true,
    "executionInfo": {
     "elapsed": 268996,
     "status": "ok",
     "timestamp": 1735064785426,
     "user": {
      "displayName": "Алсу Курмакаева",
      "userId": "11275952572532953359"
     },
     "user_tz": -180
    },
    "id": "QS7rxFNKWXRZ",
    "jupyter": {
     "outputs_hidden": true
    },
    "outputId": "4ddd0008-7940-4715-dffd-ccf2867aef67",
    "tags": []
   },
   "outputs": [
    {
     "data": {
      "application/vnd.jupyter.widget-view+json": {
       "model_id": "89c86125f5164937a8d353b5bc3e13b2",
       "version_major": 2,
       "version_minor": 0
      },
      "text/plain": [
       "  0%|          | 0/4 [00:00<?, ?it/s]"
      ]
     },
     "metadata": {},
     "output_type": "display_data"
    },
    {
     "data": {
      "application/vnd.jupyter.widget-view+json": {
       "model_id": "8b839cbfe39047549fbb1d904f07e3ec",
       "version_major": 2,
       "version_minor": 0
      },
      "text/plain": [
       "  0%|          | 0/1000 [00:00<?, ?it/s]"
      ]
     },
     "metadata": {},
     "output_type": "display_data"
    },
    {
     "data": {
      "image/png": "[encoded data removed]",
      "text/plain": [
       "<Figure size 500x500 with 1 Axes>"
      ]
     },
     "metadata": {},
     "output_type": "display_data"
    },
    {
     "name": "stdout",
     "output_type": "stream",
     "text": [
      "p_value = 0.6034104769550386 - p_values равномерное распределение for effect = 0\n",
      "/////////////////////////////////////////////\n"
     ]
    },
    {
     "data": {
      "application/vnd.jupyter.widget-view+json": {
       "model_id": "7b648a4b7e6b40b0bea09ddd9c82ba23",
       "version_major": 2,
       "version_minor": 0
      },
      "text/plain": [
       "  0%|          | 0/1000 [00:00<?, ?it/s]"
      ]
     },
     "metadata": {},
     "output_type": "display_data"
    },
    {
     "data": {
      "image/png": "[encoded data removed]",
      "text/plain": [
       "<Figure size 500x500 with 1 Axes>"
      ]
     },
     "metadata": {},
     "output_type": "display_data"
    },
    {
     "name": "stdout",
     "output_type": "stream",
     "text": [
      "p_value = 0.0 - p_values неравномерное распределение for effect = 0.01\n",
      "/////////////////////////////////////////////\n"
     ]
    },
    {
     "data": {
      "application/vnd.jupyter.widget-view+json": {
       "model_id": "b83bf6901e1f42e2acf2d0eb352fb852",
       "version_major": 2,
       "version_minor": 0
      },
      "text/plain": [
       "  0%|          | 0/1000 [00:00<?, ?it/s]"
      ]
     },
     "metadata": {},
     "output_type": "display_data"
    },
    {
     "data": {
      "image/png": "[encoded data removed]",
      "text/plain": [
       "<Figure size 500x500 with 1 Axes>"
      ]
     },
     "metadata": {},
     "output_type": "display_data"
    },
    {
     "name": "stdout",
     "output_type": "stream",
     "text": [
      "p_value = 0.0 - p_values неравномерное распределение for effect = 0.03\n",
      "/////////////////////////////////////////////\n"
     ]
    },
    {
     "data": {
      "application/vnd.jupyter.widget-view+json": {
       "model_id": "0974084bc1bf48ee8e111c242306b08f",
       "version_major": 2,
       "version_minor": 0
      },
      "text/plain": [
       "  0%|          | 0/1000 [00:00<?, ?it/s]"
      ]
     },
     "metadata": {},
     "output_type": "display_data"
    },
    {
     "data": {
      "image/png": "[encoded data removed]",
      "text/plain": [
       "<Figure size 500x500 with 1 Axes>"
      ]
     },
     "metadata": {},
     "output_type": "display_data"
    },
    {
     "name": "stdout",
     "output_type": "stream",
     "text": [
      "p_value = 0.0 - p_values неравномерное распределение for effect = 0.05\n",
      "/////////////////////////////////////////////\n"
     ]
    }
   ],
   "source": [
    "effects = [0, 0.01, 0.03, 0.05]\n",
    "\n",
    "result = pd.DataFrame(columns=['correctness', 'significance'], index=effects)\n",
    "\n",
    "for effect in tqdm(effects):\n",
    "    correctness, p_values = bootstrapping_correctness(week_cudf_v2, iterations=1000, size=1000, effect=effect)\n",
    "    result['correctness'][effect] = correctness\n",
    "\n",
    "    plt.figure(figsize=(5, 5))\n",
    "    plt.title(f'p_values hist for {effect} - effect')\n",
    "    plt.hist(p_values, bins=10)\n",
    "    plt.show()\n",
    "\n",
    "    stat, p_value = scipy.stats.kstest(p_values, scipy.stats.uniform(loc=0.0, scale=1.0).cdf)\n",
    "    if p_value < 0.05:\n",
    "        print(f'p_value = {p_value} - p_values неравномерное распределение for effect = {effect}')\n",
    "    else:\n",
    "        print(f'p_value = {p_value} - p_values равномерное распределение for effect = {effect}')\n",
    "\n",
    "    print('/////////////////////////////////////////////')\n"
   ]
  },
  {
   "cell_type": "code",
   "execution_count": 32,
   "metadata": {
    "executionInfo": {
     "elapsed": 8,
     "status": "ok",
     "timestamp": 1735064786114,
     "user": {
      "displayName": "Алсу Курмакаева",
      "userId": "11275952572532953359"
     },
     "user_tz": -180
    },
    "id": "xZA-5eFnW4SF"
   },
   "outputs": [],
   "source": [
    "result['significance'] = 1 - result['correctness']"
   ]
  },
  {
   "cell_type": "code",
   "execution_count": 33,
   "metadata": {
    "colab": {
     "base_uri": "https://localhost:8080/",
     "height": 191
    },
    "executionInfo": {
     "elapsed": 6,
     "status": "ok",
     "timestamp": 1735064786114,
     "user": {
      "displayName": "Алсу Курмакаева",
      "userId": "11275952572532953359"
     },
     "user_tz": -180
    },
    "id": "yY2yFzleU4mb",
    "outputId": "51fe88d9-b386-4b1d-b230-66a042e6970a"
   },
   "outputs": [
    {
     "data": {
      "application/vnd.google.colaboratory.intrinsic+json": {
       "summary": "{\n  \"name\": \"result\",\n  \"rows\": 4,\n  \"fields\": [\n    {\n      \"column\": \"correctness\",\n      \"properties\": {\n        \"dtype\": \"date\",\n        \"min\": 0.0,\n        \"max\": 0.953,\n        \"num_unique_values\": 3,\n        \"samples\": [\n          0.953,\n          0.001,\n          0.0\n        ],\n        \"semantic_type\": \"\",\n        \"description\": \"\"\n      }\n    },\n    {\n      \"column\": \"significance\",\n      \"properties\": {\n        \"dtype\": \"date\",\n        \"min\": 0.04700000000000004,\n        \"max\": 1.0,\n        \"num_unique_values\": 3,\n        \"samples\": [\n          0.04700000000000004,\n          0.999,\n          1.0\n        ],\n        \"semantic_type\": \"\",\n        \"description\": \"\"\n      }\n    }\n  ]\n}",
       "type": "dataframe",
       "variable_name": "result"
      },
      "text/html": [
       "\n",
       "  <div id=\"df-cfafdbb3-caff-4e25-b01f-472d0dc356db\" class=\"colab-df-container\">\n",
       "    <div>\n",
       "<style scoped>\n",
       "    .dataframe tbody tr th:only-of-type {\n",
       "        vertical-align: middle;\n",
       "    }\n",
       "\n",
       "    .dataframe tbody tr th {\n",
       "        vertical-align: top;\n",
       "    }\n",
       "\n",
       "    .dataframe thead th {\n",
       "        text-align: right;\n",
       "    }\n",
       "</style>\n",
       "<table border=\"1\" class=\"dataframe\">\n",
       "  <thead>\n",
       "    <tr style=\"text-align: right;\">\n",
       "      <th></th>\n",
       "      <th>correctness</th>\n",
       "      <th>significance</th>\n",
       "    </tr>\n",
       "  </thead>\n",
       "  <tbody>\n",
       "    <tr>\n",
       "      <th>0.00</th>\n",
       "      <td>0.953</td>\n",
       "      <td>0.047</td>\n",
       "    </tr>\n",
       "    <tr>\n",
       "      <th>0.01</th>\n",
       "      <td>0.001</td>\n",
       "      <td>0.999</td>\n",
       "    </tr>\n",
       "    <tr>\n",
       "      <th>0.03</th>\n",
       "      <td>0.0</td>\n",
       "      <td>1.0</td>\n",
       "    </tr>\n",
       "    <tr>\n",
       "      <th>0.05</th>\n",
       "      <td>0.001</td>\n",
       "      <td>0.999</td>\n",
       "    </tr>\n",
       "  </tbody>\n",
       "</table>\n",
       "</div>\n",
       "    <div class=\"colab-df-buttons\">\n",
       "\n",
       "  <div class=\"colab-df-container\">\n",
       "    <button class=\"colab-df-convert\" onclick=\"convertToInteractive('df-cfafdbb3-caff-4e25-b01f-472d0dc356db')\"\n",
       "            title=\"Convert this dataframe to an interactive table.\"\n",
       "            style=\"display:none;\">\n",
       "\n",
       "  <svg xmlns=\"http://www.w3.org/2000/svg\" height=\"24px\" viewBox=\"0 -960 960 960\">\n",
       "    <path d=\"M120-120v-720h720v720H120Zm60-500h600v-160H180v160Zm220 220h160v-160H400v160Zm0 220h160v-160H400v160ZM180-400h160v-160H180v160Zm440 0h160v-160H620v160ZM180-180h160v-160H180v160Zm440 0h160v-160H620v160Z\"/>\n",
       "  </svg>\n",
       "    </button>\n",
       "\n",
       "  <style>\n",
       "    .colab-df-container {\n",
       "      display:flex;\n",
       "      gap: 12px;\n",
       "    }\n",
       "\n",
       "    .colab-df-convert {\n",
       "      background-color: #E8F0FE;\n",
       "      border: none;\n",
       "      border-radius: 50%;\n",
       "      cursor: pointer;\n",
       "      display: none;\n",
       "      fill: #1967D2;\n",
       "      height: 32px;\n",
       "      padding: 0 0 0 0;\n",
       "      width: 32px;\n",
       "    }\n",
       "\n",
       "    .colab-df-convert:hover {\n",
       "      background-color: #E2EBFA;\n",
       "      box-shadow: 0px 1px 2px rgba(60, 64, 67, 0.3), 0px 1px 3px 1px rgba(60, 64, 67, 0.15);\n",
       "      fill: #174EA6;\n",
       "    }\n",
       "\n",
       "    .colab-df-buttons div {\n",
       "      margin-bottom: 4px;\n",
       "    }\n",
       "\n",
       "    [theme=dark] .colab-df-convert {\n",
       "      background-color: #3B4455;\n",
       "      fill: #D2E3FC;\n",
       "    }\n",
       "\n",
       "    [theme=dark] .colab-df-convert:hover {\n",
       "      background-color: #434B5C;\n",
       "      box-shadow: 0px 1px 3px 1px rgba(0, 0, 0, 0.15);\n",
       "      filter: drop-shadow(0px 1px 2px rgba(0, 0, 0, 0.3));\n",
       "      fill: #FFFFFF;\n",
       "    }\n",
       "  </style>\n",
       "\n",
       "    <script>\n",
       "      const buttonEl =\n",
       "        document.querySelector('#df-cfafdbb3-caff-4e25-b01f-472d0dc356db button.colab-df-convert');\n",
       "      buttonEl.style.display =\n",
       "        google.colab.kernel.accessAllowed ? 'block' : 'none';\n",
       "\n",
       "      async function convertToInteractive(key) {\n",
       "        const element = document.querySelector('#df-cfafdbb3-caff-4e25-b01f-472d0dc356db');\n",
       "        const dataTable =\n",
       "          await google.colab.kernel.invokeFunction('convertToInteractive',\n",
       "                                                    [key], {});\n",
       "        if (!dataTable) return;\n",
       "\n",
       "        const docLinkHtml = 'Like what you see? Visit the ' +\n",
       "          '<a target=\"_blank\" href=https://colab.research.google.com/notebooks/data_table.ipynb>data table notebook</a>'\n",
       "          + ' to learn more about interactive tables.';\n",
       "        element.innerHTML = '';\n",
       "        dataTable['output_type'] = 'display_data';\n",
       "        await google.colab.output.renderOutput(dataTable, element);\n",
       "        const docLink = document.createElement('div');\n",
       "        docLink.innerHTML = docLinkHtml;\n",
       "        element.appendChild(docLink);\n",
       "      }\n",
       "    </script>\n",
       "  </div>\n",
       "\n",
       "\n",
       "<div id=\"df-86a9c8ce-51d5-433c-8562-ad513f2e2676\">\n",
       "  <button class=\"colab-df-quickchart\" onclick=\"quickchart('df-86a9c8ce-51d5-433c-8562-ad513f2e2676')\"\n",
       "            title=\"Suggest charts\"\n",
       "            style=\"display:none;\">\n",
       "\n",
       "<svg xmlns=\"http://www.w3.org/2000/svg\" height=\"24px\"viewBox=\"0 0 24 24\"\n",
       "     width=\"24px\">\n",
       "    <g>\n",
       "        <path d=\"M19 3H5c-1.1 0-2 .9-2 2v14c0 1.1.9 2 2 2h14c1.1 0 2-.9 2-2V5c0-1.1-.9-2-2-2zM9 17H7v-7h2v7zm4 0h-2V7h2v10zm4 0h-2v-4h2v4z\"/>\n",
       "    </g>\n",
       "</svg>\n",
       "  </button>\n",
       "\n",
       "<style>\n",
       "  .colab-df-quickchart {\n",
       "      --bg-color: #E8F0FE;\n",
       "      --fill-color: #1967D2;\n",
       "      --hover-bg-color: #E2EBFA;\n",
       "      --hover-fill-color: #174EA6;\n",
       "      --disabled-fill-color: #AAA;\n",
       "      --disabled-bg-color: #DDD;\n",
       "  }\n",
       "\n",
       "  [theme=dark] .colab-df-quickchart {\n",
       "      --bg-color: #3B4455;\n",
       "      --fill-color: #D2E3FC;\n",
       "      --hover-bg-color: #434B5C;\n",
       "      --hover-fill-color: #FFFFFF;\n",
       "      --disabled-bg-color: #3B4455;\n",
       "      --disabled-fill-color: #666;\n",
       "  }\n",
       "\n",
       "  .colab-df-quickchart {\n",
       "    background-color: var(--bg-color);\n",
       "    border: none;\n",
       "    border-radius: 50%;\n",
       "    cursor: pointer;\n",
       "    display: none;\n",
       "    fill: var(--fill-color);\n",
       "    height: 32px;\n",
       "    padding: 0;\n",
       "    width: 32px;\n",
       "  }\n",
       "\n",
       "  .colab-df-quickchart:hover {\n",
       "    background-color: var(--hover-bg-color);\n",
       "    box-shadow: 0 1px 2px rgba(60, 64, 67, 0.3), 0 1px 3px 1px rgba(60, 64, 67, 0.15);\n",
       "    fill: var(--button-hover-fill-color);\n",
       "  }\n",
       "\n",
       "  .colab-df-quickchart-complete:disabled,\n",
       "  .colab-df-quickchart-complete:disabled:hover {\n",
       "    background-color: var(--disabled-bg-color);\n",
       "    fill: var(--disabled-fill-color);\n",
       "    box-shadow: none;\n",
       "  }\n",
       "\n",
       "  .colab-df-spinner {\n",
       "    border: 2px solid var(--fill-color);\n",
       "    border-color: transparent;\n",
       "    border-bottom-color: var(--fill-color);\n",
       "    animation:\n",
       "      spin 1s steps(1) infinite;\n",
       "  }\n",
       "\n",
       "  @keyframes spin {\n",
       "    0% {\n",
       "      border-color: transparent;\n",
       "      border-bottom-color: var(--fill-color);\n",
       "      border-left-color: var(--fill-color);\n",
       "    }\n",
       "    20% {\n",
       "      border-color: transparent;\n",
       "      border-left-color: var(--fill-color);\n",
       "      border-top-color: var(--fill-color);\n",
       "    }\n",
       "    30% {\n",
       "      border-color: transparent;\n",
       "      border-left-color: var(--fill-color);\n",
       "      border-top-color: var(--fill-color);\n",
       "      border-right-color: var(--fill-color);\n",
       "    }\n",
       "    40% {\n",
       "      border-color: transparent;\n",
       "      border-right-color: var(--fill-color);\n",
       "      border-top-color: var(--fill-color);\n",
       "    }\n",
       "    60% {\n",
       "      border-color: transparent;\n",
       "      border-right-color: var(--fill-color);\n",
       "    }\n",
       "    80% {\n",
       "      border-color: transparent;\n",
       "      border-right-color: var(--fill-color);\n",
       "      border-bottom-color: var(--fill-color);\n",
       "    }\n",
       "    90% {\n",
       "      border-color: transparent;\n",
       "      border-bottom-color: var(--fill-color);\n",
       "    }\n",
       "  }\n",
       "</style>\n",
       "\n",
       "  <script>\n",
       "    async function quickchart(key) {\n",
       "      const quickchartButtonEl =\n",
       "        document.querySelector('#' + key + ' button');\n",
       "      quickchartButtonEl.disabled = true;  // To prevent multiple clicks.\n",
       "      quickchartButtonEl.classList.add('colab-df-spinner');\n",
       "      try {\n",
       "        const charts = await google.colab.kernel.invokeFunction(\n",
       "            'suggestCharts', [key], {});\n",
       "      } catch (error) {\n",
       "        console.error('Error during call to suggestCharts:', error);\n",
       "      }\n",
       "      quickchartButtonEl.classList.remove('colab-df-spinner');\n",
       "      quickchartButtonEl.classList.add('colab-df-quickchart-complete');\n",
       "    }\n",
       "    (() => {\n",
       "      let quickchartButtonEl =\n",
       "        document.querySelector('#df-86a9c8ce-51d5-433c-8562-ad513f2e2676 button');\n",
       "      quickchartButtonEl.style.display =\n",
       "        google.colab.kernel.accessAllowed ? 'block' : 'none';\n",
       "    })();\n",
       "  </script>\n",
       "</div>\n",
       "    </div>\n",
       "  </div>\n"
      ],
      "text/plain": [
       "     correctness significance\n",
       "0.00       0.953        0.047\n",
       "0.01       0.001        0.999\n",
       "0.03         0.0          1.0\n",
       "0.05       0.001        0.999"
      ]
     },
     "execution_count": 33,
     "metadata": {},
     "output_type": "execute_result"
    }
   ],
   "source": [
    "result"
   ]
  },
  {
   "cell_type": "markdown",
   "metadata": {
    "id": "VJz3VLn42q2w"
   },
   "source": [
    "График изменения мощности в зависимости от эффекта."
   ]
  },
  {
   "cell_type": "code",
   "execution_count": 34,
   "metadata": {
    "colab": {
     "base_uri": "https://localhost:8080/",
     "height": 467
    },
    "executionInfo": {
     "elapsed": 380,
     "status": "ok",
     "timestamp": 1735064997525,
     "user": {
      "displayName": "Алсу Курмакаева",
      "userId": "11275952572532953359"
     },
     "user_tz": -180
    },
    "id": "OgYsdzyJ2q2w",
    "outputId": "300cea4f-65b3-4a03-a70e-5ab72e20a46c"
   },
   "outputs": [
    {
     "data": {
      "text/plain": [
       "[<matplotlib.lines.Line2D at 0x7c645c802170>]"
      ]
     },
     "execution_count": 34,
     "metadata": {},
     "output_type": "execute_result"
    },
    {
     "data": {
      "image/png": "[encoded data removed]",
      "text/plain": [
       "<Figure size 640x480 with 1 Axes>"
      ]
     },
     "metadata": {},
     "output_type": "display_data"
    }
   ],
   "source": [
    "plt.plot([0.01, 0.03, 0.05], [0.999, 1, 0.999])"
   ]
  },
  {
   "cell_type": "markdown",
   "metadata": {
    "id": "vXvGWX_4fuFa",
    "jp-MarkdownHeadingCollapsed": true,
    "tags": []
   },
   "source": [
    "## манна-уитни + метрика длительности просмотров"
   ]
  },
  {
   "cell_type": "markdown",
   "metadata": {
    "id": "pustshf72q2x"
   },
   "source": [
    "В данном случе этот тест также не требует нормальности распределения метрики при применении, однако у него есть свои ограничения за счет того, что этот метод является ранговым"
   ]
  },
  {
   "cell_type": "code",
   "execution_count": null,
   "metadata": {
    "id": "q4lHqu86gRqL"
   },
   "outputs": [],
   "source": [
    "# Делим на 2 равные группы\n",
    "def groups_splitter(df, columns, user_salt=None):\n",
    "\n",
    "    if user_salt == None:\n",
    "        salt = salt_generator()\n",
    "    else:\n",
    "        salt = user_salt\n",
    "\n",
    "    df['hash'] = ((df['user_id'].astype(str)) + '#' + salt).apply(lambda x: hashlib.sha256(x.encode('utf-8')).hexdigest())\n",
    "    df['group'] = ((df['hash'].str.slice(start=-6).apply(int, base=16) % 2).map(lambda x: 'A' if x == 0 else 'B'))\n",
    "\n",
    "    return df[columns].drop_duplicates()"
   ]
  },
  {
   "cell_type": "code",
   "execution_count": null,
   "metadata": {
    "colab": {
     "base_uri": "https://localhost:8080/",
     "height": 588,
     "referenced_widgets": [
      "639c5417af714305a043f3b47b7b22d5",
      "a8eb2967f4234702bb013e7dd23f2743",
      "5f30084d8680445390d5aa6f4f687228",
      "343060c648404a7b9e2d9ec9518ffee1",
      "79339cbc31b94c739abaa8dee39cb0b5"
     ]
    },
    "collapsed": true,
    "id": "O9fWMuNwhqbx",
    "jupyter": {
     "outputs_hidden": true
    },
    "outputId": "1981f4ff-fc92-4d43-8a09-c96c741e2579",
    "tags": []
   },
   "outputs": [
    {
     "data": {
      "application/vnd.jupyter.widget-view+json": {
       "model_id": "639c5417af714305a043f3b47b7b22d5",
       "version_major": 2,
       "version_minor": 0
      },
      "text/plain": [
       "  0%|          | 0/4 [00:00<?, ?it/s]"
      ]
     },
     "metadata": {},
     "output_type": "display_data"
    },
    {
     "name": "stdout",
     "output_type": "stream",
     "text": [
      "effect = 0\n"
     ]
    },
    {
     "data": {
      "application/vnd.jupyter.widget-view+json": {
       "model_id": "a8eb2967f4234702bb013e7dd23f2743",
       "version_major": 2,
       "version_minor": 0
      },
      "text/plain": [
       "  0%|          | 0/1000 [00:00<?, ?it/s]"
      ]
     },
     "metadata": {},
     "output_type": "display_data"
    },
    {
     "data": {
      "image/png": "[encoded data removed]",
      "text/plain": [
       "<Figure size 500x500 with 1 Axes>"
      ]
     },
     "metadata": {},
     "output_type": "display_data"
    },
    {
     "name": "stdout",
     "output_type": "stream",
     "text": [
      "p_value = 0.9203622772039993 - p_values равномерное распределение for effect = 0\n",
      "/////////////////////////////////////////////\n",
      "effect = 0.01\n"
     ]
    },
    {
     "data": {
      "application/vnd.jupyter.widget-view+json": {
       "model_id": "5f30084d8680445390d5aa6f4f687228",
       "version_major": 2,
       "version_minor": 0
      },
      "text/plain": [
       "  0%|          | 0/1000 [00:00<?, ?it/s]"
      ]
     },
     "metadata": {},
     "output_type": "display_data"
    },
    {
     "data": {
      "image/png": "[encoded data removed]",
      "text/plain": [
       "<Figure size 500x500 with 1 Axes>"
      ]
     },
     "metadata": {},
     "output_type": "display_data"
    },
    {
     "name": "stdout",
     "output_type": "stream",
     "text": [
      "p_value = 1.5279334691079636e-82 - p_values неравномерное распределение for effect = 0.01\n",
      "/////////////////////////////////////////////\n",
      "effect = 0.03\n"
     ]
    },
    {
     "data": {
      "application/vnd.jupyter.widget-view+json": {
       "model_id": "343060c648404a7b9e2d9ec9518ffee1",
       "version_major": 2,
       "version_minor": 0
      },
      "text/plain": [
       "  0%|          | 0/1000 [00:00<?, ?it/s]"
      ]
     },
     "metadata": {},
     "output_type": "display_data"
    },
    {
     "data": {
      "image/png": "[encoded data removed]",
      "text/plain": [
       "<Figure size 500x500 with 1 Axes>"
      ]
     },
     "metadata": {},
     "output_type": "display_data"
    },
    {
     "name": "stdout",
     "output_type": "stream",
     "text": [
      "p_value = 0.0 - p_values неравномерное распределение for effect = 0.03\n",
      "/////////////////////////////////////////////\n",
      "effect = 0.05\n"
     ]
    },
    {
     "data": {
      "application/vnd.jupyter.widget-view+json": {
       "model_id": "79339cbc31b94c739abaa8dee39cb0b5",
       "version_major": 2,
       "version_minor": 0
      },
      "text/plain": [
       "  0%|          | 0/1000 [00:00<?, ?it/s]"
      ]
     },
     "metadata": {},
     "output_type": "display_data"
    },
    {
     "data": {
      "image/png": "[encoded data removed]",
      "text/plain": [
       "<Figure size 500x500 with 1 Axes>"
      ]
     },
     "metadata": {},
     "output_type": "display_data"
    },
    {
     "name": "stdout",
     "output_type": "stream",
     "text": [
      "p_value = 0.0 - p_values неравномерное распределение for effect = 0.05\n",
      "/////////////////////////////////////////////\n"
     ]
    }
   ],
   "source": [
    "effects = [0, 0.01, 0.03, 0.05]\n",
    "pvalues_all = []\n",
    "\n",
    "for effect in tqdm(effects):\n",
    "    pvalues = []\n",
    "    print(f'effect = {effect}')\n",
    "\n",
    "    for i in tqdm(range(1000)):\n",
    "        week1_hash = groups_splitter(week, columns=['user_id', 'total_dur', 'group'])\n",
    "\n",
    "        u, p = mannwhitneyu(\n",
    "                week1_hash[week1_hash['group'] == 'A']['total_dur'].values,\n",
    "                week1_hash[week1_hash['group'] == 'B']['total_dur'].values * (1 + effect)\n",
    "            )\n",
    "\n",
    "\n",
    "        pvalues.append(p)\n",
    "    pvalues_all.append(pvalues)\n",
    "\n",
    "    plt.figure(figsize=(5, 5))\n",
    "    plt.title(f'p_values hist for {effect} - effect')\n",
    "    plt.hist(pvalues, bins=10, color='purple')\n",
    "    plt.show()\n",
    "\n",
    "    stat, p_value = scipy.stats.kstest(pvalues, scipy.stats.uniform(loc=0.0, scale=1.0).cdf)\n",
    "    if p_value < 0.05:\n",
    "        print(f'p_value = {p_value} - p_values неравномерное распределение for effect = {effect}')\n",
    "    else:\n",
    "        print(f'p_value = {p_value} - p_values равномерное распределение for effect = {effect}')\n",
    "\n",
    "    print('/////////////////////////////////////////////')"
   ]
  },
  {
   "cell_type": "code",
   "execution_count": null,
   "metadata": {
    "id": "4GMmlO6bW5bX"
   },
   "outputs": [],
   "source": [
    "week1_hash = groups_splitter(week, columns=['user_id', 'total_dur', 'group'])"
   ]
  },
  {
   "cell_type": "code",
   "execution_count": null,
   "metadata": {
    "id": "Q0ATorgNW5bX",
    "outputId": "5bcba155-89d6-4b4b-927c-b1b255e646e4"
   },
   "outputs": [
    {
     "name": "stdout",
     "output_type": "stream",
     "text": [
      "% уник. значений группы А = 31.33\n",
      "% уник. значений группы B = 31.39\n"
     ]
    }
   ],
   "source": [
    "print(f\"% уник. значений группы А = {round(week1_hash[week1_hash['group'] == 'A']['total_dur'].nunique() / week1_hash[week1_hash['group'] == 'A'].shape[0] * 100, 2)}\")\n",
    "print(f\"% уник. значений группы B = {round(week1_hash[week1_hash['group'] == 'B']['total_dur'].nunique() / week1_hash[week1_hash['group'] == 'B'].shape[0] * 100, 2)}\")"
   ]
  },
  {
   "cell_type": "code",
   "execution_count": null,
   "metadata": {
    "id": "b2m9kXw4W5bY"
   },
   "outputs": [],
   "source": [
    "p_values1 = np.array(pvalues_all[1])\n",
    "p_values2 = np.array(pvalues_all[2])\n",
    "p_values3 = np.array(pvalues_all[3])"
   ]
  },
  {
   "cell_type": "code",
   "execution_count": null,
   "metadata": {
    "id": "V-k4Lq91k6EN",
    "outputId": "498fa24e-20b2-4eba-e573-ec3651531088"
   },
   "outputs": [
    {
     "name": "stdout",
     "output_type": "stream",
     "text": [
      "Мощность = 0.221\n"
     ]
    }
   ],
   "source": [
    "print(f\"Мощность = {p_values1[p_values1 < 0.05].shape[0] / p_values1.shape[0]}\")"
   ]
  },
  {
   "cell_type": "code",
   "execution_count": null,
   "metadata": {
    "id": "xEhT5GdxWR3S",
    "outputId": "c620931e-2714-4a06-b108-874ebc160914"
   },
   "outputs": [
    {
     "name": "stdout",
     "output_type": "stream",
     "text": [
      "Мощность = 0.973\n"
     ]
    }
   ],
   "source": [
    "print(f\"Мощность = {p_values2[p_values2 < 0.05].shape[0] / p_values2.shape[0]}\")"
   ]
  },
  {
   "cell_type": "code",
   "execution_count": null,
   "metadata": {
    "id": "h5tu2YrbOS2f",
    "outputId": "9ef35478-fd8b-48bd-e11a-4bb11c6f2881"
   },
   "outputs": [
    {
     "name": "stdout",
     "output_type": "stream",
     "text": [
      "Мощность = 1.0\n"
     ]
    }
   ],
   "source": [
    "print(f\"Мощность = {p_values3[p_values3 < 0.05].shape[0] / p_values3.shape[0]}\")"
   ]
  },
  {
   "cell_type": "markdown",
   "metadata": {
    "id": "zs9-9g7TW5bY"
   },
   "source": [
    "График изменения мощности в зависимости от эффекта."
   ]
  },
  {
   "cell_type": "code",
   "execution_count": null,
   "metadata": {
    "colab": {
     "background_save": true
    },
    "id": "Pq3Xb5NhrlOA",
    "outputId": "7a646d6b-7290-47dc-a20b-24c302c625a8"
   },
   "outputs": [
    {
     "data": {
      "text/plain": [
       "[<matplotlib.lines.Line2D at 0x168d19e20>]"
      ]
     },
     "execution_count": 46,
     "metadata": {},
     "output_type": "execute_result"
    },
    {
     "data": {
      "image/png": "[encoded data removed]",
      "text/plain": [
       "<Figure size 640x480 with 1 Axes>"
      ]
     },
     "metadata": {},
     "output_type": "display_data"
    }
   ],
   "source": [
    "plt.plot([0.01, 0.03, 0.05], [0.221, 0.973, 1.])"
   ]
  },
  {
   "cell_type": "code",
   "execution_count": null,
   "metadata": {
    "id": "ROHma--B2q2z"
   },
   "outputs": [],
   "source": []
  },
  {
   "cell_type": "code",
   "execution_count": null,
   "metadata": {
    "id": "D1hGYLoJ2q2z"
   },
   "outputs": [],
   "source": [
    "def mann_whitney_correctness(df, metric_column, iterations=1000, alpha=0.05, effect=0):\n",
    "    correctness = []\n",
    "\n",
    "    for i in tqdm(range(iterations)):\n",
    "\n",
    "        week1_hash = groups_splitter(week, columns=['user_id', metric_column, 'group'])\n",
    "\n",
    "        u, p = mannwhitneyu(\n",
    "                week1_hash[week1_hash['group'] == 'A'][metric_column].values,\n",
    "                week1_hash[week1_hash['group'] == 'B'][metric_column].values * (1 + effect)\n",
    "            )\n",
    "\n",
    "\n",
    "        correctness.append(not (p >= alpha))\n",
    "\n",
    "    test_correctness = Counter(correctness)\n",
    "    significance = test_correctness[1] / (test_correctness[1] + test_correctness[0]) * 100\n",
    "\n",
    "    print(f'Корректность теста: {significance}%')\n",
    "\n",
    "    return significance"
   ]
  },
  {
   "cell_type": "code",
   "execution_count": null,
   "metadata": {
    "colab": {
     "referenced_widgets": [
      "3e73f7432d2d497d8ccacf47ec8c9479"
     ]
    },
    "id": "JvhJp_H42q2z",
    "outputId": "1a36a3b6-6601-4260-baf2-d7c90f35f5a2"
   },
   "outputs": [
    {
     "data": {
      "application/vnd.jupyter.widget-view+json": {
       "model_id": "3e73f7432d2d497d8ccacf47ec8c9479",
       "version_major": 2,
       "version_minor": 0
      },
      "text/plain": [
       "  0%|          | 0/1000 [00:00<?, ?it/s]"
      ]
     },
     "metadata": {},
     "output_type": "display_data"
    },
    {
     "name": "stdout",
     "output_type": "stream",
     "text": [
      "Корректность теста: 4.7%\n"
     ]
    }
   ],
   "source": [
    "significance = mann_whitney_correctness(\n",
    "    df=week,\n",
    "    metric_column='total_dur',\n",
    "    iterations=1000,\n",
    "    effect = 0\n",
    ")"
   ]
  },
  {
   "cell_type": "markdown",
   "metadata": {
    "id": "7YArxzo8W5bZ"
   },
   "source": [
    "#### Выводы:\n",
    "\n",
    "- исходя из графиков распределения p-value, мы видим, что распределение не очень похоже равномерное\n",
    "- корректность теста = 4.7%\n",
    "- проверка на нормальность с помощью критерия Колмогорова-Смирнова показала нормльное распределение. Тем не менее исходя из вида графика мы можем сказать, что критерий Манна-Уитни в данном случае подходит, тк не выполняется одно из условий применимости: большое кол-во повторяющихся объектов (процент уникальных кол-ва объектов ~30%)\n",
    "- также при условии применимости критерия и опираясь на график изменения мощности теста в зависимости от накидываемого эффекта, можно было бы предположить, что с вероятностью 80% мы бы отлавливали эффект в 2,5%\n"
   ]
  },
  {
   "cell_type": "code",
   "execution_count": null,
   "metadata": {
    "id": "VKg0f21eabZK"
   },
   "outputs": [],
   "source": []
  },
  {
   "cell_type": "markdown",
   "metadata": {
    "id": "A68GuUBRabU7",
    "jp-MarkdownHeadingCollapsed": true,
    "tags": []
   },
   "source": [
    "## манна-уитни + логарифмированная метрика длительности просмотров"
   ]
  },
  {
   "cell_type": "markdown",
   "metadata": {
    "id": "P9eKmrUf2q20"
   },
   "source": [
    "В данном случае логарифмирование не имеет особой необходимости. Также отмечу, что основные нюансы, которые мешают корректному проведению теста - большое кол-во повторяющихся объектов в выборке не меняются"
   ]
  },
  {
   "cell_type": "code",
   "execution_count": null,
   "metadata": {
    "id": "UxeFzGSoW5bZ",
    "outputId": "e3865c68-d85e-442c-f9d7-86a4f86298be"
   },
   "outputs": [
    {
     "data": {
      "text/html": [
       "<div>\n",
       "<style scoped>\n",
       "    .dataframe tbody tr th:only-of-type {\n",
       "        vertical-align: middle;\n",
       "    }\n",
       "\n",
       "    .dataframe tbody tr th {\n",
       "        vertical-align: top;\n",
       "    }\n",
       "\n",
       "    .dataframe thead th {\n",
       "        text-align: right;\n",
       "    }\n",
       "</style>\n",
       "<table border=\"1\" class=\"dataframe\">\n",
       "  <thead>\n",
       "    <tr style=\"text-align: right;\">\n",
       "      <th></th>\n",
       "      <th>user_id</th>\n",
       "      <th>total_dur</th>\n",
       "      <th>hash</th>\n",
       "      <th>group</th>\n",
       "    </tr>\n",
       "  </thead>\n",
       "  <tbody>\n",
       "    <tr>\n",
       "      <th>0</th>\n",
       "      <td>1</td>\n",
       "      <td>21172</td>\n",
       "      <td>261a4802e18eae8f5ee5d26fbbd448d8301b1449a86deb...</td>\n",
       "      <td>A</td>\n",
       "    </tr>\n",
       "    <tr>\n",
       "      <th>1</th>\n",
       "      <td>1000</td>\n",
       "      <td>10744</td>\n",
       "      <td>e0b333dcec2011fe56645011d0cb1e683e3be7e479940f...</td>\n",
       "      <td>A</td>\n",
       "    </tr>\n",
       "    <tr>\n",
       "      <th>2</th>\n",
       "      <td>1000000</td>\n",
       "      <td>33776</td>\n",
       "      <td>7a90d1df2bc83600112242c930668a7429e65aaa410324...</td>\n",
       "      <td>B</td>\n",
       "    </tr>\n",
       "    <tr>\n",
       "      <th>3</th>\n",
       "      <td>1000001</td>\n",
       "      <td>52</td>\n",
       "      <td>6111d916476c6f986690dac209724b3b2861a10a02a7fd...</td>\n",
       "      <td>B</td>\n",
       "    </tr>\n",
       "    <tr>\n",
       "      <th>4</th>\n",
       "      <td>1000003</td>\n",
       "      <td>625</td>\n",
       "      <td>c25b9d9a6347005b763b300a7657251d1477d3463ed27c...</td>\n",
       "      <td>B</td>\n",
       "    </tr>\n",
       "  </tbody>\n",
       "</table>\n",
       "</div>"
      ],
      "text/plain": [
       "   user_id  total_dur                                               hash group\n",
       "0        1      21172  261a4802e18eae8f5ee5d26fbbd448d8301b1449a86deb...     A\n",
       "1     1000      10744  e0b333dcec2011fe56645011d0cb1e683e3be7e479940f...     A\n",
       "2  1000000      33776  7a90d1df2bc83600112242c930668a7429e65aaa410324...     B\n",
       "3  1000001         52  6111d916476c6f986690dac209724b3b2861a10a02a7fd...     B\n",
       "4  1000003        625  c25b9d9a6347005b763b300a7657251d1477d3463ed27c...     B"
      ]
     },
     "execution_count": 48,
     "metadata": {},
     "output_type": "execute_result"
    }
   ],
   "source": [
    "week.head()"
   ]
  },
  {
   "cell_type": "code",
   "execution_count": null,
   "metadata": {
    "id": "dlU24I8IW5ba"
   },
   "outputs": [],
   "source": [
    "week['total_dur_ln'] = np.log2(week['total_dur'])"
   ]
  },
  {
   "cell_type": "code",
   "execution_count": null,
   "metadata": {
    "id": "OwFTWHFNW5ba",
    "outputId": "8c41d546-a4dd-48c7-f2e5-ef87ba917ae4"
   },
   "outputs": [
    {
     "data": {
      "image/png": "[encoded data removed]",
      "text/plain": [
       "<Figure size 700x700 with 1 Axes>"
      ]
     },
     "metadata": {},
     "output_type": "display_data"
    }
   ],
   "source": [
    "week['total_dur_ln'].hist(bins=50, figsize=(7,7))\n",
    "plt.grid(False)"
   ]
  },
  {
   "cell_type": "code",
   "execution_count": null,
   "metadata": {
    "colab": {
     "referenced_widgets": [
      "4f5ab74444bd4ef39e2a1a2bf1ffee03",
      "72b1650f2b4b46c5a17c5f6e96215f09",
      "47fa4432c6d047a88b19dcce24898f03",
      "61d13e1622484e2aacb846db090b9597",
      "d7a2eb04dc1f4b8380df181a6153d318"
     ]
    },
    "collapsed": true,
    "id": "3jdTywZRabSF",
    "jupyter": {
     "outputs_hidden": true
    },
    "outputId": "c4c3fc9c-9719-4183-8351-ce0dc33474db",
    "tags": []
   },
   "outputs": [
    {
     "data": {
      "application/vnd.jupyter.widget-view+json": {
       "model_id": "4f5ab74444bd4ef39e2a1a2bf1ffee03",
       "version_major": 2,
       "version_minor": 0
      },
      "text/plain": [
       "  0%|          | 0/4 [00:00<?, ?it/s]"
      ]
     },
     "metadata": {},
     "output_type": "display_data"
    },
    {
     "name": "stdout",
     "output_type": "stream",
     "text": [
      "effect = 0\n"
     ]
    },
    {
     "data": {
      "application/vnd.jupyter.widget-view+json": {
       "model_id": "72b1650f2b4b46c5a17c5f6e96215f09",
       "version_major": 2,
       "version_minor": 0
      },
      "text/plain": [
       "  0%|          | 0/1000 [00:00<?, ?it/s]"
      ]
     },
     "metadata": {},
     "output_type": "display_data"
    },
    {
     "data": {
      "image/png": "[encoded data removed]",
      "text/plain": [
       "<Figure size 500x500 with 1 Axes>"
      ]
     },
     "metadata": {},
     "output_type": "display_data"
    },
    {
     "name": "stdout",
     "output_type": "stream",
     "text": [
      "p_value = 0.46767072702517754 - p_values равномерное распределение for effect = 0\n",
      "/////////////////////////////////////////////\n",
      "effect = 0.01\n"
     ]
    },
    {
     "data": {
      "application/vnd.jupyter.widget-view+json": {
       "model_id": "47fa4432c6d047a88b19dcce24898f03",
       "version_major": 2,
       "version_minor": 0
      },
      "text/plain": [
       "  0%|          | 0/1000 [00:00<?, ?it/s]"
      ]
     },
     "metadata": {},
     "output_type": "display_data"
    },
    {
     "data": {
      "image/png": "[encoded data removed]",
      "text/plain": [
       "<Figure size 500x500 with 1 Axes>"
      ]
     },
     "metadata": {},
     "output_type": "display_data"
    },
    {
     "name": "stdout",
     "output_type": "stream",
     "text": [
      "p_value = 0.0 - p_values неравномерное распределение for effect = 0.01\n",
      "/////////////////////////////////////////////\n",
      "effect = 0.03\n"
     ]
    },
    {
     "data": {
      "application/vnd.jupyter.widget-view+json": {
       "model_id": "61d13e1622484e2aacb846db090b9597",
       "version_major": 2,
       "version_minor": 0
      },
      "text/plain": [
       "  0%|          | 0/1000 [00:00<?, ?it/s]"
      ]
     },
     "metadata": {},
     "output_type": "display_data"
    },
    {
     "data": {
      "image/png": "[encoded data removed]",
      "text/plain": [
       "<Figure size 500x500 with 1 Axes>"
      ]
     },
     "metadata": {},
     "output_type": "display_data"
    },
    {
     "name": "stdout",
     "output_type": "stream",
     "text": [
      "p_value = 0.0 - p_values неравномерное распределение for effect = 0.03\n",
      "/////////////////////////////////////////////\n",
      "effect = 0.05\n"
     ]
    },
    {
     "data": {
      "application/vnd.jupyter.widget-view+json": {
       "model_id": "d7a2eb04dc1f4b8380df181a6153d318",
       "version_major": 2,
       "version_minor": 0
      },
      "text/plain": [
       "  0%|          | 0/1000 [00:00<?, ?it/s]"
      ]
     },
     "metadata": {},
     "output_type": "display_data"
    },
    {
     "data": {
      "image/png": "[encoded data removed]",
      "text/plain": [
       "<Figure size 500x500 with 1 Axes>"
      ]
     },
     "metadata": {},
     "output_type": "display_data"
    },
    {
     "name": "stdout",
     "output_type": "stream",
     "text": [
      "p_value = 0.0 - p_values неравномерное распределение for effect = 0.05\n",
      "/////////////////////////////////////////////\n"
     ]
    }
   ],
   "source": [
    "effects = [0, 0.01, 0.03, 0.05]\n",
    "pvalues_all = []\n",
    "\n",
    "for effect in tqdm(effects):\n",
    "    pvalues = []\n",
    "    print(f'effect = {effect}')\n",
    "\n",
    "    for i in tqdm(range(1000)):\n",
    "        week1_hash = groups_splitter(week, columns=['user_id', 'total_dur_ln', 'group'])\n",
    "\n",
    "        u, p = mannwhitneyu(\n",
    "                week1_hash[week1_hash['group'] == 'A']['total_dur_ln'].values,\n",
    "                week1_hash[week1_hash['group'] == 'B']['total_dur_ln'].values * (1 + effect)\n",
    "            )\n",
    "\n",
    "        pvalues.append(p)\n",
    "    pvalues_all.append(pvalues)\n",
    "\n",
    "    plt.figure(figsize=(5, 5))\n",
    "    plt.title(f'p_values hist for {effect} - effect')\n",
    "    plt.hist(pvalues, bins=10, color='purple')\n",
    "    plt.show()\n",
    "\n",
    "    stat, p_value = scipy.stats.kstest(pvalues, scipy.stats.uniform(loc=0.0, scale=1.0).cdf)\n",
    "    if p_value < 0.05:\n",
    "        print(f'p_value = {p_value} - p_values неравномерное распределение for effect = {effect}')\n",
    "    else:\n",
    "        print(f'p_value = {p_value} - p_values равномерное распределение for effect = {effect}')\n",
    "\n",
    "    print('/////////////////////////////////////////////')"
   ]
  },
  {
   "cell_type": "code",
   "execution_count": null,
   "metadata": {
    "id": "Cqh8J9ciW5ba"
   },
   "outputs": [],
   "source": [
    "p_values1 = np.array(pvalues_all[1])\n",
    "p_values2 = np.array(pvalues_all[2])\n",
    "p_values3 = np.array(pvalues_all[3])"
   ]
  },
  {
   "cell_type": "code",
   "execution_count": null,
   "metadata": {
    "id": "qRJX66wEW5ba",
    "outputId": "77abccc7-1401-45d3-a036-d82587256f60"
   },
   "outputs": [
    {
     "name": "stdout",
     "output_type": "stream",
     "text": [
      "Мощность = 1.0\n",
      "Мощность = 1.0\n",
      "Мощность = 1.0\n"
     ]
    }
   ],
   "source": [
    "print(f\"Мощность = {p_values1[p_values1 < 0.05].shape[0] / p_values1.shape[0]}\")\n",
    "print(f\"Мощность = {p_values2[p_values2 < 0.05].shape[0] / p_values2.shape[0]}\")\n",
    "print(f\"Мощность = {p_values3[p_values3 < 0.05].shape[0] / p_values3.shape[0]}\")"
   ]
  },
  {
   "cell_type": "code",
   "execution_count": null,
   "metadata": {
    "id": "ycDDu00iW5ba",
    "outputId": "4e499005-618b-41f0-82a2-e99826123e13"
   },
   "outputs": [
    {
     "data": {
      "text/plain": [
       "[<matplotlib.lines.Line2D at 0x29f731f10>]"
      ]
     },
     "execution_count": 58,
     "metadata": {},
     "output_type": "execute_result"
    },
    {
     "data": {
      "image/png": "[encoded data removed]",
      "text/plain": [
       "<Figure size 640x480 with 1 Axes>"
      ]
     },
     "metadata": {},
     "output_type": "display_data"
    }
   ],
   "source": [
    "plt.plot([0.01, 0.03, 0.05], [1, 1, 1.])"
   ]
  },
  {
   "cell_type": "code",
   "execution_count": null,
   "metadata": {
    "id": "uRlCo4bM2q21",
    "outputId": "2e2c8bfd-e69d-4b7f-91a3-ab1d1ee9bb3c"
   },
   "outputs": [
    {
     "data": {
      "application/vnd.jupyter.widget-view+json": {
       "model_id": "e7cc408c24fd404095f94522e0d66b2e",
       "version_major": 2,
       "version_minor": 0
      },
      "text/plain": [
       "  0%|          | 0/1000 [00:00<?, ?it/s]"
      ]
     },
     "metadata": {},
     "output_type": "display_data"
    },
    {
     "name": "stdout",
     "output_type": "stream",
     "text": [
      "Корректность теста: 5.0%\n"
     ]
    }
   ],
   "source": [
    "significance = mann_whitney_correctness(\n",
    "    df=week,\n",
    "    metric_column='total_dur_ln',\n",
    "    iterations=1000,\n",
    "    effect = 0\n",
    ")"
   ]
  },
  {
   "cell_type": "markdown",
   "metadata": {
    "id": "zzcKl0P_W5bb"
   },
   "source": [
    "#### Выводы:\n",
    "\n",
    "- исходя из графиков распределения p-value, мы не может утвержать, что распределение равномерное\n",
    "- проверка на нормальность с помощью критерия Колмогорова-Смирнова показала нормльное распределение. Тем не менее исходя из вида графика мы можем сказать, что критерий Манна-Уитни в данном случае не подходит, тк не выполняется одно из условий применимости: низкое кол-во повторящихся объектов\n",
    "- корректность теста = 5%\n"
   ]
  },
  {
   "cell_type": "code",
   "execution_count": null,
   "metadata": {
    "id": "OwoZonfwW5bb"
   },
   "outputs": [],
   "source": []
  },
  {
   "cell_type": "markdown",
   "metadata": {
    "id": "QAy4BLHxW5bb"
   },
   "source": [
    "## t-test + метрика длительности просмотров"
   ]
  },
  {
   "cell_type": "markdown",
   "metadata": {
    "id": "dXGBpy8-2q21"
   },
   "source": [
    "t-test на обычной метрике не подойдет, тк не выполняется одног из требований о критерии применимости -нормальность распределения"
   ]
  },
  {
   "cell_type": "code",
   "execution_count": null,
   "metadata": {
    "colab": {
     "referenced_widgets": [
      "bfc94e811f564a3baf260244ccab119d",
      "ce4cd735136848b0b9a8866ae5f3198c",
      "1259135b86064526ae2633cf100b48c2",
      "39e5fbc914b940f093970a84ef8918a6",
      "9ebfa1a7ce6e45b5aa464381961a9955"
     ]
    },
    "collapsed": true,
    "id": "ram0oKvdW5bb",
    "jupyter": {
     "outputs_hidden": true
    },
    "outputId": "9a718c90-05ac-4e17-9590-a63004fc0480",
    "tags": []
   },
   "outputs": [
    {
     "data": {
      "application/vnd.jupyter.widget-view+json": {
       "model_id": "bfc94e811f564a3baf260244ccab119d",
       "version_major": 2,
       "version_minor": 0
      },
      "text/plain": [
       "  0%|          | 0/4 [00:00<?, ?it/s]"
      ]
     },
     "metadata": {},
     "output_type": "display_data"
    },
    {
     "name": "stdout",
     "output_type": "stream",
     "text": [
      "effect = 0\n"
     ]
    },
    {
     "data": {
      "application/vnd.jupyter.widget-view+json": {
       "model_id": "ce4cd735136848b0b9a8866ae5f3198c",
       "version_major": 2,
       "version_minor": 0
      },
      "text/plain": [
       "  0%|          | 0/1000 [00:00<?, ?it/s]"
      ]
     },
     "metadata": {},
     "output_type": "display_data"
    },
    {
     "data": {
      "image/png": "[encoded data removed]",
      "text/plain": [
       "<Figure size 500x500 with 1 Axes>"
      ]
     },
     "metadata": {},
     "output_type": "display_data"
    },
    {
     "name": "stdout",
     "output_type": "stream",
     "text": [
      "p_value = 0.05346405124911857 - p_values равномерное распределение for effect = 0\n",
      "/////////////////////////////////////////////\n",
      "effect = 0.01\n"
     ]
    },
    {
     "data": {
      "application/vnd.jupyter.widget-view+json": {
       "model_id": "1259135b86064526ae2633cf100b48c2",
       "version_major": 2,
       "version_minor": 0
      },
      "text/plain": [
       "  0%|          | 0/1000 [00:00<?, ?it/s]"
      ]
     },
     "metadata": {},
     "output_type": "display_data"
    },
    {
     "data": {
      "image/png": "[encoded data removed]",
      "text/plain": [
       "<Figure size 500x500 with 1 Axes>"
      ]
     },
     "metadata": {},
     "output_type": "display_data"
    },
    {
     "name": "stdout",
     "output_type": "stream",
     "text": [
      "p_value = 2.4914059184662486e-150 - p_values неравномерное распределение for effect = 0.01\n",
      "/////////////////////////////////////////////\n",
      "effect = 0.03\n"
     ]
    },
    {
     "data": {
      "application/vnd.jupyter.widget-view+json": {
       "model_id": "39e5fbc914b940f093970a84ef8918a6",
       "version_major": 2,
       "version_minor": 0
      },
      "text/plain": [
       "  0%|          | 0/1000 [00:00<?, ?it/s]"
      ]
     },
     "metadata": {},
     "output_type": "display_data"
    },
    {
     "data": {
      "image/png": "[encoded data removed]",
      "text/plain": [
       "<Figure size 500x500 with 1 Axes>"
      ]
     },
     "metadata": {},
     "output_type": "display_data"
    },
    {
     "name": "stdout",
     "output_type": "stream",
     "text": [
      "p_value = 0.0 - p_values неравномерное распределение for effect = 0.03\n",
      "/////////////////////////////////////////////\n",
      "effect = 0.05\n"
     ]
    },
    {
     "data": {
      "application/vnd.jupyter.widget-view+json": {
       "model_id": "9ebfa1a7ce6e45b5aa464381961a9955",
       "version_major": 2,
       "version_minor": 0
      },
      "text/plain": [
       "  0%|          | 0/1000 [00:00<?, ?it/s]"
      ]
     },
     "metadata": {},
     "output_type": "display_data"
    },
    {
     "data": {
      "image/png": "[encoded data removed]",
      "text/plain": [
       "<Figure size 500x500 with 1 Axes>"
      ]
     },
     "metadata": {},
     "output_type": "display_data"
    },
    {
     "name": "stdout",
     "output_type": "stream",
     "text": [
      "p_value = 0.0 - p_values неравномерное распределение for effect = 0.05\n",
      "/////////////////////////////////////////////\n"
     ]
    }
   ],
   "source": [
    "effects = [0, 0.01, 0.03, 0.05]\n",
    "pvalues_all = []\n",
    "\n",
    "for effect in tqdm(effects):\n",
    "    pvalues = []\n",
    "    print(f'effect = {effect}')\n",
    "\n",
    "    for i in tqdm(range(1000)):\n",
    "        week1_hash = groups_splitter(week, columns=['user_id', 'total_dur', 'group'])\n",
    "\n",
    "        u, p = stats.ttest_ind(\n",
    "                week1_hash[week1_hash['group'] == 'A']['total_dur'].values,\n",
    "                week1_hash[week1_hash['group'] == 'B']['total_dur'].values * (1 + effect)\n",
    "            )\n",
    "\n",
    "        pvalues.append(p)\n",
    "\n",
    "    pvalues_all.append(pvalues)\n",
    "\n",
    "    plt.figure(figsize=(5, 5))\n",
    "    plt.title(f'p_values hist for {effect} - effect')\n",
    "    plt.hist(pvalues, bins=10, color='purple')\n",
    "    plt.show()\n",
    "\n",
    "    stat, p_value = scipy.stats.kstest(pvalues, scipy.stats.uniform(loc=0.0, scale=1.0).cdf)\n",
    "    if p_value < 0.05:\n",
    "        print(f'p_value = {p_value} - p_values неравномерное распределение for effect = {effect}')\n",
    "    else:\n",
    "        print(f'p_value = {p_value} - p_values равномерное распределение for effect = {effect}')\n",
    "\n",
    "    print('/////////////////////////////////////////////')"
   ]
  },
  {
   "cell_type": "code",
   "execution_count": null,
   "metadata": {
    "id": "HmBy95ZQW5bc",
    "outputId": "032b548d-ea8c-4979-c395-f74200b1d6f5"
   },
   "outputs": [
    {
     "name": "stdout",
     "output_type": "stream",
     "text": [
      "Мощность = 0.317\n",
      "Мощность = 0.993\n",
      "Мощность = 1.0\n"
     ]
    }
   ],
   "source": [
    "p_values1 = np.array(pvalues_all[1])\n",
    "p_values2 = np.array(pvalues_all[2])\n",
    "p_values3 = np.array(pvalues_all[3])\n",
    "\n",
    "print(f\"Мощность = {p_values1[p_values1 < 0.05].shape[0] / p_values1.shape[0]}\")\n",
    "print(f\"Мощность = {p_values2[p_values2 < 0.05].shape[0] / p_values2.shape[0]}\")\n",
    "print(f\"Мощность = {p_values3[p_values3 < 0.05].shape[0] / p_values3.shape[0]}\")"
   ]
  },
  {
   "cell_type": "code",
   "execution_count": null,
   "metadata": {
    "id": "OoB1kQviW5bc",
    "outputId": "3b483d42-b8e2-468d-f5f0-1478b84c859f"
   },
   "outputs": [
    {
     "data": {
      "text/plain": [
       "[<matplotlib.lines.Line2D at 0x2ba1cd6d0>]"
      ]
     },
     "execution_count": 29,
     "metadata": {},
     "output_type": "execute_result"
    },
    {
     "data": {
      "image/png": "[encoded data removed]",
      "text/plain": [
       "<Figure size 640x480 with 1 Axes>"
      ]
     },
     "metadata": {},
     "output_type": "display_data"
    }
   ],
   "source": [
    "plt.title('График изменения мощности в зависимости от эффекта')\n",
    "plt.plot([0.01, 0.03, 0.05], [0.317, 0.993, 1.])"
   ]
  },
  {
   "cell_type": "code",
   "execution_count": null,
   "metadata": {
    "id": "Zn8PU9vZ2q22"
   },
   "outputs": [],
   "source": [
    "def t_test_correctness(df, metric_column, alpha=0.05, iterations=1000, effect=0):\n",
    "    correctness = []\n",
    "\n",
    "    for i in tqdm(range(iterations)):\n",
    "        week1_hash = groups_splitter(week, columns=['user_id', metric_column, 'group'])\n",
    "\n",
    "        u, p = stats.ttest_ind(\n",
    "                week1_hash[week1_hash['group'] == 'A'][metric_column].values,\n",
    "                week1_hash[week1_hash['group'] == 'B'][metric_column].values * (1 + effect)\n",
    "            )\n",
    "\n",
    "        correctness.append(p < alpha)\n",
    "\n",
    "\n",
    "    test_correctness = Counter(correctness)\n",
    "    significance = test_correctness[1] / (test_correctness[1] + test_correctness[0]) * 100\n",
    "\n",
    "    print(f'Корректность теста: {significance}%')\n",
    "\n",
    "    return significance"
   ]
  },
  {
   "cell_type": "code",
   "execution_count": null,
   "metadata": {
    "id": "lw9eBpjO2q22",
    "outputId": "f87483e2-ba54-4ece-da26-cc5fa26392b4"
   },
   "outputs": [
    {
     "data": {
      "application/vnd.jupyter.widget-view+json": {
       "model_id": "c1e5179cbedb4cdc9c08e59bec442cee",
       "version_major": 2,
       "version_minor": 0
      },
      "text/plain": [
       "  0%|          | 0/1000 [00:00<?, ?it/s]"
      ]
     },
     "metadata": {},
     "output_type": "display_data"
    },
    {
     "name": "stdout",
     "output_type": "stream",
     "text": [
      "Корректность теста: 4.3%\n"
     ]
    }
   ],
   "source": [
    "significance = t_test_correctness(\n",
    "    df=week,\n",
    "    metric_column='total_dur',\n",
    "    iterations=1000,\n",
    "    alpha=0.05,\n",
    ")"
   ]
  },
  {
   "cell_type": "markdown",
   "metadata": {
    "id": "8ytH9_4CW5bc"
   },
   "source": [
    "### Выводы\n",
    "\n",
    "- Значение мощности увеличивается с увлечинением накидываемого эффекта:\n",
    "Мощность = 0.317 - эффект = 0.01\n",
    "Мощность = 0.993 - эффект = 0.03\n",
    "Мощность = 1.0 - эффект = 0.05\n",
    "\n",
    "- График распредления p-value также не является равномерным несмотрч на выполнимомсть критерий Колмогорова-Смирнова. В данном случае распределение p-value говорит о некорректном применении теста\n",
    "\n",
    "- Корректнность = 4.3%"
   ]
  },
  {
   "cell_type": "code",
   "execution_count": null,
   "metadata": {
    "id": "z3Zt5XyLW5bc"
   },
   "outputs": [],
   "source": []
  },
  {
   "cell_type": "markdown",
   "metadata": {
    "id": "8VPA8dddW5bc"
   },
   "source": [
    "## t-test + логарифмированная метрика длительности просмотров"
   ]
  },
  {
   "cell_type": "code",
   "execution_count": null,
   "metadata": {
    "id": "LVdQ4P4m2q23"
   },
   "outputs": [],
   "source": [
    "week['total_dur_ln'].hist(bins=50, figsize=(7,7))\n",
    "plt.grid(False)"
   ]
  },
  {
   "cell_type": "markdown",
   "metadata": {
    "id": "h7cK75mw2q23"
   },
   "source": [
    "Логарифмирование может приводит распределение к похожему на нормальное, однако при применении оперерации логарифмирования на нашу выборку, можно сделать вывод о наличии двух пиков, что не дает сделать вывод о нормальности распределения. В жанном случае критерий применимости теста также не выполняется"
   ]
  },
  {
   "cell_type": "code",
   "execution_count": null,
   "metadata": {
    "colab": {
     "referenced_widgets": [
      "b11f7f7133a5482dbbb264593cc486fe",
      "4f44cb45a0284482a627ea0a40c0e307",
      "be410a7bd19043349a882bb6fe479545",
      "5d12e029c2f847c8887de43450c02202",
      "4c00d563f62b4ced9cb041e6beb097fa"
     ]
    },
    "id": "QE4SC67AW5bc",
    "outputId": "97a9acc7-d036-4071-87c8-7eaa8825896f",
    "tags": []
   },
   "outputs": [
    {
     "data": {
      "application/vnd.jupyter.widget-view+json": {
       "model_id": "b11f7f7133a5482dbbb264593cc486fe",
       "version_major": 2,
       "version_minor": 0
      },
      "text/plain": [
       "  0%|          | 0/4 [00:00<?, ?it/s]"
      ]
     },
     "metadata": {},
     "output_type": "display_data"
    },
    {
     "name": "stdout",
     "output_type": "stream",
     "text": [
      "effect = 0\n"
     ]
    },
    {
     "data": {
      "application/vnd.jupyter.widget-view+json": {
       "model_id": "4f44cb45a0284482a627ea0a40c0e307",
       "version_major": 2,
       "version_minor": 0
      },
      "text/plain": [
       "  0%|          | 0/1000 [00:00<?, ?it/s]"
      ]
     },
     "metadata": {},
     "output_type": "display_data"
    },
    {
     "data": {
      "image/png": "[encoded data removed]",
      "text/plain": [
       "<Figure size 500x500 with 1 Axes>"
      ]
     },
     "metadata": {},
     "output_type": "display_data"
    },
    {
     "name": "stdout",
     "output_type": "stream",
     "text": [
      "p_value = 0.3885690494888302 - p_values равномерное распределение for effect = 0\n",
      "/////////////////////////////////////////////\n",
      "effect = 0.01\n"
     ]
    },
    {
     "data": {
      "application/vnd.jupyter.widget-view+json": {
       "model_id": "be410a7bd19043349a882bb6fe479545",
       "version_major": 2,
       "version_minor": 0
      },
      "text/plain": [
       "  0%|          | 0/1000 [00:00<?, ?it/s]"
      ]
     },
     "metadata": {},
     "output_type": "display_data"
    },
    {
     "data": {
      "image/png": "[encoded data removed]",
      "text/plain": [
       "<Figure size 500x500 with 1 Axes>"
      ]
     },
     "metadata": {},
     "output_type": "display_data"
    },
    {
     "name": "stdout",
     "output_type": "stream",
     "text": [
      "p_value = 0.0 - p_values неравномерное распределение for effect = 0.01\n",
      "/////////////////////////////////////////////\n",
      "effect = 0.03\n"
     ]
    },
    {
     "data": {
      "application/vnd.jupyter.widget-view+json": {
       "model_id": "5d12e029c2f847c8887de43450c02202",
       "version_major": 2,
       "version_minor": 0
      },
      "text/plain": [
       "  0%|          | 0/1000 [00:00<?, ?it/s]"
      ]
     },
     "metadata": {},
     "output_type": "display_data"
    },
    {
     "data": {
      "image/png": "[encoded data removed]",
      "text/plain": [
       "<Figure size 500x500 with 1 Axes>"
      ]
     },
     "metadata": {},
     "output_type": "display_data"
    },
    {
     "name": "stdout",
     "output_type": "stream",
     "text": [
      "p_value = 0.0 - p_values неравномерное распределение for effect = 0.03\n",
      "/////////////////////////////////////////////\n",
      "effect = 0.05\n"
     ]
    },
    {
     "data": {
      "application/vnd.jupyter.widget-view+json": {
       "model_id": "4c00d563f62b4ced9cb041e6beb097fa",
       "version_major": 2,
       "version_minor": 0
      },
      "text/plain": [
       "  0%|          | 0/1000 [00:00<?, ?it/s]"
      ]
     },
     "metadata": {},
     "output_type": "display_data"
    },
    {
     "data": {
      "image/png": "[encoded data removed]",
      "text/plain": [
       "<Figure size 500x500 with 1 Axes>"
      ]
     },
     "metadata": {},
     "output_type": "display_data"
    },
    {
     "name": "stdout",
     "output_type": "stream",
     "text": [
      "p_value = 0.0 - p_values неравномерное распределение for effect = 0.05\n",
      "/////////////////////////////////////////////\n"
     ]
    }
   ],
   "source": [
    "effects = [0, 0.01, 0.03, 0.05]\n",
    "pvalues_all = []\n",
    "\n",
    "for effect in tqdm(effects):\n",
    "    pvalues = []\n",
    "    print(f'effect = {effect}')\n",
    "\n",
    "    for i in tqdm(range(1000)):\n",
    "        week1_hash = groups_splitter(week, columns=['user_id', 'total_dur_ln', 'group'])\n",
    "\n",
    "        u, p = stats.ttest_ind(\n",
    "                week1_hash[week1_hash['group'] == 'A']['total_dur_ln'].values,\n",
    "                week1_hash[week1_hash['group'] == 'B']['total_dur_ln'].values * (1 + effect)\n",
    "            )\n",
    "\n",
    "        pvalues.append(p)\n",
    "\n",
    "    pvalues_all.append(pvalues)\n",
    "\n",
    "    plt.figure(figsize=(5, 5))\n",
    "    plt.title(f'p_values hist for {effect} - effect')\n",
    "    plt.hist(pvalues, bins=10, color='purple')\n",
    "    plt.show()\n",
    "\n",
    "    stat, p_value = scipy.stats.kstest(pvalues, scipy.stats.uniform(loc=0.0, scale=1.0).cdf)\n",
    "    if p_value < 0.05:\n",
    "        print(f'p_value = {p_value} - p_values неравномерное распределение for effect = {effect}')\n",
    "    else:\n",
    "        print(f'p_value = {p_value} - p_values равномерное распределение for effect = {effect}')\n",
    "\n",
    "    print('/////////////////////////////////////////////')"
   ]
  },
  {
   "cell_type": "code",
   "execution_count": null,
   "metadata": {
    "id": "_9IF8tIDW5bc",
    "outputId": "b4ed646f-3840-40dc-9078-59871ffbb686"
   },
   "outputs": [
    {
     "name": "stdout",
     "output_type": "stream",
     "text": [
      "Мощность = 1.0\n",
      "Мощность = 1.0\n",
      "Мощность = 1.0\n"
     ]
    }
   ],
   "source": [
    "p_values1 = np.array(pvalues_all[1])\n",
    "p_values2 = np.array(pvalues_all[2])\n",
    "p_values3 = np.array(pvalues_all[3])\n",
    "\n",
    "print(f\"Мощность = {p_values1[p_values1 < 0.05].shape[0] / p_values1.shape[0]}\")\n",
    "print(f\"Мощность = {p_values2[p_values2 < 0.05].shape[0] / p_values2.shape[0]}\")\n",
    "print(f\"Мощность = {p_values3[p_values3 < 0.05].shape[0] / p_values3.shape[0]}\")"
   ]
  },
  {
   "cell_type": "code",
   "execution_count": null,
   "metadata": {
    "colab": {
     "referenced_widgets": [
      "1c31e9859faf438eae572ac7825788c5"
     ]
    },
    "id": "aNgVMmCVW5bd",
    "outputId": "63ed5aab-912a-4fca-bc71-9b6e96b6f766"
   },
   "outputs": [
    {
     "data": {
      "application/vnd.jupyter.widget-view+json": {
       "model_id": "1c31e9859faf438eae572ac7825788c5",
       "version_major": 2,
       "version_minor": 0
      },
      "text/plain": [
       "  0%|          | 0/1000 [00:00<?, ?it/s]"
      ]
     },
     "metadata": {},
     "output_type": "display_data"
    },
    {
     "name": "stdout",
     "output_type": "stream",
     "text": [
      "Корректность теста: 3.8%\n"
     ]
    }
   ],
   "source": [
    "significance = t_test_correctness(\n",
    "    df=week,\n",
    "    metric_column='total_dur_ln',\n",
    "    iterations=1000,\n",
    "    alpha=0.05,\n",
    ")"
   ]
  },
  {
   "cell_type": "markdown",
   "metadata": {
    "id": "sCyrN8aT2q24"
   },
   "source": [
    "### Выводы\n",
    "\n",
    "- Значение мощности увеличивается с увлечинением накидываемого эффекта:\n",
    "Мощность = 1.0 - эффект = 0.01\n",
    "Мощность = 1.0 - эффект = 0.03\n",
    "Мощность = 1.0 - эффект = 0.05\n",
    "\n",
    "- График распредления p-value также не является равномерным несмотря на выполнимомсть критерий Колмогорова-Смирнова. В данном случае распределение p-value говорит о некорректном применении теста\n",
    "\n",
    "- Корректнность = 3.8%"
   ]
  },
  {
   "cell_type": "code",
   "execution_count": null,
   "metadata": {
    "id": "-kIKIFhd2q24"
   },
   "outputs": [],
   "source": []
  },
  {
   "cell_type": "markdown",
   "metadata": {
    "id": "J3-BgGvAW5bd"
   },
   "source": [
    "# A/B тест"
   ]
  },
  {
   "cell_type": "markdown",
   "metadata": {
    "id": "ntzIJKht2q24"
   },
   "source": [
    "Для A/B теста выбран метод бутстрап. Для его использования выполнены все критерии применимости, он не требует нормальности распределения. В качестве метрики была выбрала исходная метрика 'total_dur', тк в данном случае логарифмирование не влияет на тест и излишне усложняет интепретируемость"
   ]
  },
  {
   "cell_type": "code",
   "execution_count": null,
   "metadata": {
    "id": "fxVcqxqlW5bd"
   },
   "outputs": [],
   "source": [
    "week = week.sort_values('total_dur', ascending=False)"
   ]
  },
  {
   "cell_type": "markdown",
   "metadata": {
    "id": "YLIvfagH2q24"
   },
   "source": [
    "Зануление для всех пользователей total_dur, у которых total_dur < 500"
   ]
  },
  {
   "cell_type": "code",
   "execution_count": null,
   "metadata": {
    "colab": {
     "base_uri": "https://localhost:8080/"
    },
    "executionInfo": {
     "elapsed": 14,
     "status": "ok",
     "timestamp": 1735056261186,
     "user": {
      "displayName": "Алсу Курмакаева",
      "userId": "11275952572532953359"
     },
     "user_tz": -180
    },
    "id": "PDXbcyDpW5bd",
    "outputId": "4a7e88f0-f6d7-409d-9201-25232978ce69"
   },
   "outputs": [
    {
     "data": {
      "text/plain": [
       "(53089, 2)"
      ]
     },
     "execution_count": 44,
     "metadata": {},
     "output_type": "execute_result"
    }
   ],
   "source": [
    "week[week['total_dur'] < 500].shape"
   ]
  },
  {
   "cell_type": "code",
   "execution_count": null,
   "metadata": {
    "id": "d7v9T-OjW5bd"
   },
   "outputs": [],
   "source": [
    "week[week['total_dur'] < 500]['total_dur'] = 0"
   ]
  },
  {
   "cell_type": "code",
   "execution_count": null,
   "metadata": {
    "id": "9Mn4K-OLatr3"
   },
   "outputs": [],
   "source": [
    "week_cudf = cudf.DataFrame(week)\n",
    "week_cudf['total_dur'] = week_cudf['total_dur'].astype('int32')"
   ]
  },
  {
   "cell_type": "markdown",
   "metadata": {
    "id": "G1gyc-m_2q25"
   },
   "source": [
    "Делим нашу выборку на две с заданной солью"
   ]
  },
  {
   "cell_type": "code",
   "execution_count": null,
   "metadata": {
    "id": "aw3v9lS2W5bd"
   },
   "outputs": [],
   "source": [
    "week1_hash = groups_splitter(week_cudf, columns=['user_id', 'total_dur', 'group'], user_salt='kiontestmodel20210805')"
   ]
  },
  {
   "cell_type": "code",
   "execution_count": null,
   "metadata": {
    "colab": {
     "base_uri": "https://localhost:8080/"
    },
    "executionInfo": {
     "elapsed": 7,
     "status": "ok",
     "timestamp": 1735056374972,
     "user": {
      "displayName": "Алсу Курмакаева",
      "userId": "11275952572532953359"
     },
     "user_tz": -180
    },
    "id": "WgF3sWFOW5be",
    "outputId": "e2a80a9b-545e-4834-88ec-08ea18f0848e"
   },
   "outputs": [
    {
     "data": {
      "text/plain": [
       "group\n",
       "1    138903\n",
       "0    140226\n",
       "Name: user_id, dtype: int64"
      ]
     },
     "execution_count": 51,
     "metadata": {},
     "output_type": "execute_result"
    }
   ],
   "source": [
    "week1_hash.groupby('group')['user_id'].count()"
   ]
  },
  {
   "cell_type": "code",
   "execution_count": null,
   "metadata": {
    "id": "xWjlyj08bDK4"
   },
   "outputs": [],
   "source": [
    "week_df = week1_hash.to_pandas()"
   ]
  },
  {
   "cell_type": "markdown",
   "metadata": {
    "id": "8RQX8Ov7W5be"
   },
   "source": [
    "Оказалось, что модель в группе В показала себя лучше, чем в группе А на 2.5%, причем эффект распространился неравномерно и преимущественно на 10% самых смотрящих пользователей, докиньте такой эффект самостоятельно. Нужно метрику total_dur увеличить на 2.5% для 10% пользователей с самым продолжительным смотрением.\n"
   ]
  },
  {
   "cell_type": "code",
   "execution_count": null,
   "metadata": {
    "id": "p_288iWpW5be"
   },
   "outputs": [],
   "source": [
    "# докидываем эффект в соответсвии с условием\n",
    "ten_percent = round(week_df[week_df['group'] == '1'].shape[0] * 0.1)\n",
    "top_10_index = week_df[week_df['group'] == '0'].sort_values(by='total_dur', ascending=False).head(ten_percent).index\n",
    "week_df.loc[top_10_index, 'total_dur'] = (week_df.loc[top_10_index, 'total_dur'] * (1 + 0.025)).astype(int)"
   ]
  },
  {
   "cell_type": "code",
   "execution_count": null,
   "metadata": {
    "id": "prh0Zt4sf_8E"
   },
   "outputs": [],
   "source": [
    "statistic, mean_diff = process_iteration_gpu(week_df, 1000)"
   ]
  },
  {
   "cell_type": "code",
   "execution_count": null,
   "metadata": {
    "colab": {
     "base_uri": "https://localhost:8080/"
    },
    "executionInfo": {
     "elapsed": 886,
     "status": "ok",
     "timestamp": 1735057882163,
     "user": {
      "displayName": "Алсу Курмакаева",
      "userId": "11275952572532953359"
     },
     "user_tz": -180
    },
    "id": "sj7fZSZXgfCa",
    "outputId": "07a3c588-ecec-46b6-a3d2-bbfc0a086aa6"
   },
   "outputs": [
    {
     "name": "stdout",
     "output_type": "stream",
     "text": [
      "(array(-43.28300781), array(129.20839844))\n",
      "H_0 отвергнута: False\n"
     ]
    }
   ],
   "source": [
    "alpha = 0.05\n",
    "left_side, right_side = np.percentile(mean_diff, [100 * alpha / 2., 100 * (1 - alpha / 2.)])\n",
    "print((left_side, right_side))\n",
    "print(\"H_0 отвергнута:\", not left_side < 0 < right_side)"
   ]
  },
  {
   "cell_type": "markdown",
   "metadata": {
    "id": "HwqRkQXwg8Kh"
   },
   "source": [
    "Исходя из полученных результатов можнно сделать следующий вывод: С вероятностью 95% математическое ожидание разностей средних групп A и B лежит правее нуля, поэтому мы отвергаем нулевую гипотезу H0 об отсутствии изменеий между группами и принимаем альтернитивную гипотезу H1: мы имеем стат значимое различие между группами A и B.\n"
   ]
  },
  {
   "cell_type": "markdown",
   "metadata": {
    "id": "AkTpzKSa2q26"
   },
   "source": [
    "При текущем размере выборки, α=0.05 и β=0.2 минимальный задетектированный эффект (MDE), рассчитанный по теоретической формуле = 0.93%\n"
   ]
  },
  {
   "cell_type": "code",
   "execution_count": null,
   "metadata": {
    "id": "iJ8sX85x2q26"
   },
   "outputs": [],
   "source": []
  }
 ],
 "metadata": {
  "accelerator": "GPU",
  "colab": {
   "collapsed_sections": [
    "Dtj4UKcZn435",
    "vXvGWX_4fuFa",
    "A68GuUBRabU7",
    "QAy4BLHxW5bb"
   ],
   "gpuType": "T4",
   "provenance": []
  },
  "kernelspec": {
   "display_name": "Python 3 (ipykernel)",
   "language": "python",
   "name": "python3"
  },
  "language_info": {
   "codemirror_mode": {
    "name": "ipython",
    "version": 3
   },
   "file_extension": ".py",
   "mimetype": "text/x-python",
   "name": "python",
   "nbconvert_exporter": "python",
   "pygments_lexer": "ipython3",
   "version": "3.9.13"
  },
  "widgets": {
   "application/vnd.jupyter.widget-state+json": {
    "00a3b878928240d5bfc8900ea01ddeca": {
     "model_module": "@jupyter-widgets/controls",
     "model_module_version": "1.5.0",
     "model_name": "ProgressStyleModel",
     "state": {
      "_model_module": "@jupyter-widgets/controls",
      "_model_module_version": "1.5.0",
      "_model_name": "ProgressStyleModel",
      "_view_count": null,
      "_view_module": "@jupyter-widgets/base",
      "_view_module_version": "1.2.0",
      "_view_name": "StyleView",
      "bar_color": null,
      "description_width": ""
     }
    },
    "03065d6596874cc5b5a7dc9ed797425f": {
     "model_module": "@jupyter-widgets/controls",
     "model_module_version": "1.5.0",
     "model_name": "FloatProgressModel",
     "state": {
      "_dom_classes": [],
      "_model_module": "@jupyter-widgets/controls",
      "_model_module_version": "1.5.0",
      "_model_name": "FloatProgressModel",
      "_view_count": null,
      "_view_module": "@jupyter-widgets/controls",
      "_view_module_version": "1.5.0",
      "_view_name": "ProgressView",
      "bar_style": "success",
      "description": "",
      "description_tooltip": null,
      "layout": "IPY_MODEL_3f94a12250f647e1bca44cfc6d739f39",
      "max": 1000,
      "min": 0,
      "orientation": "horizontal",
      "style": "IPY_MODEL_6c6d11839e1f40b2a05afa841f1b13f7",
      "value": 1000
     }
    },
    "038427e60d1245bdae0470abfc4750ce": {
     "model_module": "@jupyter-widgets/base",
     "model_module_version": "1.2.0",
     "model_name": "LayoutModel",
     "state": {
      "_model_module": "@jupyter-widgets/base",
      "_model_module_version": "1.2.0",
      "_model_name": "LayoutModel",
      "_view_count": null,
      "_view_module": "@jupyter-widgets/base",
      "_view_module_version": "1.2.0",
      "_view_name": "LayoutView",
      "align_content": null,
      "align_items": null,
      "align_self": null,
      "border": null,
      "bottom": null,
      "display": null,
      "flex": null,
      "flex_flow": null,
      "grid_area": null,
      "grid_auto_columns": null,
      "grid_auto_flow": null,
      "grid_auto_rows": null,
      "grid_column": null,
      "grid_gap": null,
      "grid_row": null,
      "grid_template_areas": null,
      "grid_template_columns": null,
      "grid_template_rows": null,
      "height": null,
      "justify_content": null,
      "justify_items": null,
      "left": null,
      "margin": null,
      "max_height": null,
      "max_width": null,
      "min_height": null,
      "min_width": null,
      "object_fit": null,
      "object_position": null,
      "order": null,
      "overflow": null,
      "overflow_x": null,
      "overflow_y": null,
      "padding": null,
      "right": null,
      "top": null,
      "visibility": null,
      "width": null
     }
    },
    "064cff7d8e2845148ad3d43276044b29": {
     "model_module": "@jupyter-widgets/controls",
     "model_module_version": "1.5.0",
     "model_name": "HTMLModel",
     "state": {
      "_dom_classes": [],
      "_model_module": "@jupyter-widgets/controls",
      "_model_module_version": "1.5.0",
      "_model_name": "HTMLModel",
      "_view_count": null,
      "_view_module": "@jupyter-widgets/controls",
      "_view_module_version": "1.5.0",
      "_view_name": "HTMLView",
      "description": "",
      "description_tooltip": null,
      "layout": "IPY_MODEL_faf345a9a662455095f4b2fbfc4c096c",
      "placeholder": "​",
      "style": "IPY_MODEL_bed4893ef0dc4b33b675024f13113259",
      "value": " 4/4 [04:28&lt;00:00, 67.39s/it]"
     }
    },
    "0924dfaaf51147e8854fa6ba1f790590": {
     "model_module": "@jupyter-widgets/base",
     "model_module_version": "1.2.0",
     "model_name": "LayoutModel",
     "state": {
      "_model_module": "@jupyter-widgets/base",
      "_model_module_version": "1.2.0",
      "_model_name": "LayoutModel",
      "_view_count": null,
      "_view_module": "@jupyter-widgets/base",
      "_view_module_version": "1.2.0",
      "_view_name": "LayoutView",
      "align_content": null,
      "align_items": null,
      "align_self": null,
      "border": null,
      "bottom": null,
      "display": null,
      "flex": null,
      "flex_flow": null,
      "grid_area": null,
      "grid_auto_columns": null,
      "grid_auto_flow": null,
      "grid_auto_rows": null,
      "grid_column": null,
      "grid_gap": null,
      "grid_row": null,
      "grid_template_areas": null,
      "grid_template_columns": null,
      "grid_template_rows": null,
      "height": null,
      "justify_content": null,
      "justify_items": null,
      "left": null,
      "margin": null,
      "max_height": null,
      "max_width": null,
      "min_height": null,
      "min_width": null,
      "object_fit": null,
      "object_position": null,
      "order": null,
      "overflow": null,
      "overflow_x": null,
      "overflow_y": null,
      "padding": null,
      "right": null,
      "top": null,
      "visibility": null,
      "width": null
     }
    },
    "0974084bc1bf48ee8e111c242306b08f": {
     "model_module": "@jupyter-widgets/controls",
     "model_module_version": "1.5.0",
     "model_name": "HBoxModel",
     "state": {
      "_dom_classes": [],
      "_model_module": "@jupyter-widgets/controls",
      "_model_module_version": "1.5.0",
      "_model_name": "HBoxModel",
      "_view_count": null,
      "_view_module": "@jupyter-widgets/controls",
      "_view_module_version": "1.5.0",
      "_view_name": "HBoxView",
      "box_style": "",
      "children": [
       "IPY_MODEL_a5c2bac131014423a5fe130488faecfd",
       "IPY_MODEL_ade378cfee5e475e874bd59d922c305e",
       "IPY_MODEL_793d4180615148a7a90d308c90df4ce0"
      ],
      "layout": "IPY_MODEL_e06c13563d0b4a35a0ace9374c1065de"
     }
    },
    "0b2e8bf595da4990b56d4ed966261b6e": {
     "model_module": "@jupyter-widgets/base",
     "model_module_version": "1.2.0",
     "model_name": "LayoutModel",
     "state": {
      "_model_module": "@jupyter-widgets/base",
      "_model_module_version": "1.2.0",
      "_model_name": "LayoutModel",
      "_view_count": null,
      "_view_module": "@jupyter-widgets/base",
      "_view_module_version": "1.2.0",
      "_view_name": "LayoutView",
      "align_content": null,
      "align_items": null,
      "align_self": null,
      "border": null,
      "bottom": null,
      "display": null,
      "flex": null,
      "flex_flow": null,
      "grid_area": null,
      "grid_auto_columns": null,
      "grid_auto_flow": null,
      "grid_auto_rows": null,
      "grid_column": null,
      "grid_gap": null,
      "grid_row": null,
      "grid_template_areas": null,
      "grid_template_columns": null,
      "grid_template_rows": null,
      "height": null,
      "justify_content": null,
      "justify_items": null,
      "left": null,
      "margin": null,
      "max_height": null,
      "max_width": null,
      "min_height": null,
      "min_width": null,
      "object_fit": null,
      "object_position": null,
      "order": null,
      "overflow": null,
      "overflow_x": null,
      "overflow_y": null,
      "padding": null,
      "right": null,
      "top": null,
      "visibility": null,
      "width": null
     }
    },
    "10a4d680f9c242e092657c7a306f6288": {
     "model_module": "@jupyter-widgets/controls",
     "model_module_version": "1.5.0",
     "model_name": "ProgressStyleModel",
     "state": {
      "_model_module": "@jupyter-widgets/controls",
      "_model_module_version": "1.5.0",
      "_model_name": "ProgressStyleModel",
      "_view_count": null,
      "_view_module": "@jupyter-widgets/base",
      "_view_module_version": "1.2.0",
      "_view_name": "StyleView",
      "bar_color": null,
      "description_width": ""
     }
    },
    "13a59855fd8a4b6f8930aa854f80e15a": {
     "model_module": "@jupyter-widgets/controls",
     "model_module_version": "1.5.0",
     "model_name": "HTMLModel",
     "state": {
      "_dom_classes": [],
      "_model_module": "@jupyter-widgets/controls",
      "_model_module_version": "1.5.0",
      "_model_name": "HTMLModel",
      "_view_count": null,
      "_view_module": "@jupyter-widgets/controls",
      "_view_module_version": "1.5.0",
      "_view_name": "HTMLView",
      "description": "",
      "description_tooltip": null,
      "layout": "IPY_MODEL_d17877b2b25349de81cacc95834e685b",
      "placeholder": "​",
      "style": "IPY_MODEL_a1df965f0f3c4ee2b3625018f484d4cc",
      "value": " 1000/1000 [01:05&lt;00:00, 14.72it/s]"
     }
    },
    "1cc2c243d6fa4f45827dfe2c16390a8a": {
     "model_module": "@jupyter-widgets/controls",
     "model_module_version": "1.5.0",
     "model_name": "HTMLModel",
     "state": {
      "_dom_classes": [],
      "_model_module": "@jupyter-widgets/controls",
      "_model_module_version": "1.5.0",
      "_model_name": "HTMLModel",
      "_view_count": null,
      "_view_module": "@jupyter-widgets/controls",
      "_view_module_version": "1.5.0",
      "_view_name": "HTMLView",
      "description": "",
      "description_tooltip": null,
      "layout": "IPY_MODEL_776de1c89d784cfdadba5670e1ec7e87",
      "placeholder": "​",
      "style": "IPY_MODEL_1dc58f1f8bbc4f9fabb33768153ec752",
      "value": "100%"
     }
    },
    "1dc58f1f8bbc4f9fabb33768153ec752": {
     "model_module": "@jupyter-widgets/controls",
     "model_module_version": "1.5.0",
     "model_name": "DescriptionStyleModel",
     "state": {
      "_model_module": "@jupyter-widgets/controls",
      "_model_module_version": "1.5.0",
      "_model_name": "DescriptionStyleModel",
      "_view_count": null,
      "_view_module": "@jupyter-widgets/base",
      "_view_module_version": "1.2.0",
      "_view_name": "StyleView",
      "description_width": ""
     }
    },
    "2a146b5ba82f4933ac5c46e64f56b65e": {
     "model_module": "@jupyter-widgets/controls",
     "model_module_version": "1.5.0",
     "model_name": "HTMLModel",
     "state": {
      "_dom_classes": [],
      "_model_module": "@jupyter-widgets/controls",
      "_model_module_version": "1.5.0",
      "_model_name": "HTMLModel",
      "_view_count": null,
      "_view_module": "@jupyter-widgets/controls",
      "_view_module_version": "1.5.0",
      "_view_name": "HTMLView",
      "description": "",
      "description_tooltip": null,
      "layout": "IPY_MODEL_a08c24f0461e4bcd9fb1e07ea798a3b2",
      "placeholder": "​",
      "style": "IPY_MODEL_d95d4508c86a4adf9bf80211aa045242",
      "value": "100%"
     }
    },
    "3d71de00fd5a4208b2b526211b3329d8": {
     "model_module": "@jupyter-widgets/controls",
     "model_module_version": "1.5.0",
     "model_name": "HTMLModel",
     "state": {
      "_dom_classes": [],
      "_model_module": "@jupyter-widgets/controls",
      "_model_module_version": "1.5.0",
      "_model_name": "HTMLModel",
      "_view_count": null,
      "_view_module": "@jupyter-widgets/controls",
      "_view_module_version": "1.5.0",
      "_view_name": "HTMLView",
      "description": "",
      "description_tooltip": null,
      "layout": "IPY_MODEL_e63f422d6c8841d5913d7d71dcc9af1e",
      "placeholder": "​",
      "style": "IPY_MODEL_7e7d7ebb9e95446dbf6c2f69a8e5e2f0",
      "value": " 1000/1000 [01:17&lt;00:00, 15.66it/s]"
     }
    },
    "3dec48abe00948d4b15a9c6e829e5bf2": {
     "model_module": "@jupyter-widgets/base",
     "model_module_version": "1.2.0",
     "model_name": "LayoutModel",
     "state": {
      "_model_module": "@jupyter-widgets/base",
      "_model_module_version": "1.2.0",
      "_model_name": "LayoutModel",
      "_view_count": null,
      "_view_module": "@jupyter-widgets/base",
      "_view_module_version": "1.2.0",
      "_view_name": "LayoutView",
      "align_content": null,
      "align_items": null,
      "align_self": null,
      "border": null,
      "bottom": null,
      "display": null,
      "flex": null,
      "flex_flow": null,
      "grid_area": null,
      "grid_auto_columns": null,
      "grid_auto_flow": null,
      "grid_auto_rows": null,
      "grid_column": null,
      "grid_gap": null,
      "grid_row": null,
      "grid_template_areas": null,
      "grid_template_columns": null,
      "grid_template_rows": null,
      "height": null,
      "justify_content": null,
      "justify_items": null,
      "left": null,
      "margin": null,
      "max_height": null,
      "max_width": null,
      "min_height": null,
      "min_width": null,
      "object_fit": null,
      "object_position": null,
      "order": null,
      "overflow": null,
      "overflow_x": null,
      "overflow_y": null,
      "padding": null,
      "right": null,
      "top": null,
      "visibility": null,
      "width": null
     }
    },
    "3f17533a15e9423f973536709f6b05f9": {
     "model_module": "@jupyter-widgets/controls",
     "model_module_version": "1.5.0",
     "model_name": "DescriptionStyleModel",
     "state": {
      "_model_module": "@jupyter-widgets/controls",
      "_model_module_version": "1.5.0",
      "_model_name": "DescriptionStyleModel",
      "_view_count": null,
      "_view_module": "@jupyter-widgets/base",
      "_view_module_version": "1.2.0",
      "_view_name": "StyleView",
      "description_width": ""
     }
    },
    "3f94a12250f647e1bca44cfc6d739f39": {
     "model_module": "@jupyter-widgets/base",
     "model_module_version": "1.2.0",
     "model_name": "LayoutModel",
     "state": {
      "_model_module": "@jupyter-widgets/base",
      "_model_module_version": "1.2.0",
      "_model_name": "LayoutModel",
      "_view_count": null,
      "_view_module": "@jupyter-widgets/base",
      "_view_module_version": "1.2.0",
      "_view_name": "LayoutView",
      "align_content": null,
      "align_items": null,
      "align_self": null,
      "border": null,
      "bottom": null,
      "display": null,
      "flex": null,
      "flex_flow": null,
      "grid_area": null,
      "grid_auto_columns": null,
      "grid_auto_flow": null,
      "grid_auto_rows": null,
      "grid_column": null,
      "grid_gap": null,
      "grid_row": null,
      "grid_template_areas": null,
      "grid_template_columns": null,
      "grid_template_rows": null,
      "height": null,
      "justify_content": null,
      "justify_items": null,
      "left": null,
      "margin": null,
      "max_height": null,
      "max_width": null,
      "min_height": null,
      "min_width": null,
      "object_fit": null,
      "object_position": null,
      "order": null,
      "overflow": null,
      "overflow_x": null,
      "overflow_y": null,
      "padding": null,
      "right": null,
      "top": null,
      "visibility": null,
      "width": null
     }
    },
    "403f5ad562aa44c48842c69d044ac9e6": {
     "model_module": "@jupyter-widgets/base",
     "model_module_version": "1.2.0",
     "model_name": "LayoutModel",
     "state": {
      "_model_module": "@jupyter-widgets/base",
      "_model_module_version": "1.2.0",
      "_model_name": "LayoutModel",
      "_view_count": null,
      "_view_module": "@jupyter-widgets/base",
      "_view_module_version": "1.2.0",
      "_view_name": "LayoutView",
      "align_content": null,
      "align_items": null,
      "align_self": null,
      "border": null,
      "bottom": null,
      "display": null,
      "flex": null,
      "flex_flow": null,
      "grid_area": null,
      "grid_auto_columns": null,
      "grid_auto_flow": null,
      "grid_auto_rows": null,
      "grid_column": null,
      "grid_gap": null,
      "grid_row": null,
      "grid_template_areas": null,
      "grid_template_columns": null,
      "grid_template_rows": null,
      "height": null,
      "justify_content": null,
      "justify_items": null,
      "left": null,
      "margin": null,
      "max_height": null,
      "max_width": null,
      "min_height": null,
      "min_width": null,
      "object_fit": null,
      "object_position": null,
      "order": null,
      "overflow": null,
      "overflow_x": null,
      "overflow_y": null,
      "padding": null,
      "right": null,
      "top": null,
      "visibility": null,
      "width": null
     }
    },
    "449a69d3da4e4bfeb08adedaf06dc342": {
     "model_module": "@jupyter-widgets/base",
     "model_module_version": "1.2.0",
     "model_name": "LayoutModel",
     "state": {
      "_model_module": "@jupyter-widgets/base",
      "_model_module_version": "1.2.0",
      "_model_name": "LayoutModel",
      "_view_count": null,
      "_view_module": "@jupyter-widgets/base",
      "_view_module_version": "1.2.0",
      "_view_name": "LayoutView",
      "align_content": null,
      "align_items": null,
      "align_self": null,
      "border": null,
      "bottom": null,
      "display": null,
      "flex": null,
      "flex_flow": null,
      "grid_area": null,
      "grid_auto_columns": null,
      "grid_auto_flow": null,
      "grid_auto_rows": null,
      "grid_column": null,
      "grid_gap": null,
      "grid_row": null,
      "grid_template_areas": null,
      "grid_template_columns": null,
      "grid_template_rows": null,
      "height": null,
      "justify_content": null,
      "justify_items": null,
      "left": null,
      "margin": null,
      "max_height": null,
      "max_width": null,
      "min_height": null,
      "min_width": null,
      "object_fit": null,
      "object_position": null,
      "order": null,
      "overflow": null,
      "overflow_x": null,
      "overflow_y": null,
      "padding": null,
      "right": null,
      "top": null,
      "visibility": null,
      "width": null
     }
    },
    "47240390476d4a3daa85859d5767354d": {
     "model_module": "@jupyter-widgets/controls",
     "model_module_version": "1.5.0",
     "model_name": "FloatProgressModel",
     "state": {
      "_dom_classes": [],
      "_model_module": "@jupyter-widgets/controls",
      "_model_module_version": "1.5.0",
      "_model_name": "FloatProgressModel",
      "_view_count": null,
      "_view_module": "@jupyter-widgets/controls",
      "_view_module_version": "1.5.0",
      "_view_name": "ProgressView",
      "bar_style": "success",
      "description": "",
      "description_tooltip": null,
      "layout": "IPY_MODEL_878e5fc512c04d92afad9937e6f54a21",
      "max": 1000,
      "min": 0,
      "orientation": "horizontal",
      "style": "IPY_MODEL_00a3b878928240d5bfc8900ea01ddeca",
      "value": 1000
     }
    },
    "55a7596df82947c088c9a4d933329fac": {
     "model_module": "@jupyter-widgets/base",
     "model_module_version": "1.2.0",
     "model_name": "LayoutModel",
     "state": {
      "_model_module": "@jupyter-widgets/base",
      "_model_module_version": "1.2.0",
      "_model_name": "LayoutModel",
      "_view_count": null,
      "_view_module": "@jupyter-widgets/base",
      "_view_module_version": "1.2.0",
      "_view_name": "LayoutView",
      "align_content": null,
      "align_items": null,
      "align_self": null,
      "border": null,
      "bottom": null,
      "display": null,
      "flex": null,
      "flex_flow": null,
      "grid_area": null,
      "grid_auto_columns": null,
      "grid_auto_flow": null,
      "grid_auto_rows": null,
      "grid_column": null,
      "grid_gap": null,
      "grid_row": null,
      "grid_template_areas": null,
      "grid_template_columns": null,
      "grid_template_rows": null,
      "height": null,
      "justify_content": null,
      "justify_items": null,
      "left": null,
      "margin": null,
      "max_height": null,
      "max_width": null,
      "min_height": null,
      "min_width": null,
      "object_fit": null,
      "object_position": null,
      "order": null,
      "overflow": null,
      "overflow_x": null,
      "overflow_y": null,
      "padding": null,
      "right": null,
      "top": null,
      "visibility": null,
      "width": null
     }
    },
    "5653c82d14a64016a9c60ca9d0f287f4": {
     "model_module": "@jupyter-widgets/controls",
     "model_module_version": "1.5.0",
     "model_name": "FloatProgressModel",
     "state": {
      "_dom_classes": [],
      "_model_module": "@jupyter-widgets/controls",
      "_model_module_version": "1.5.0",
      "_model_name": "FloatProgressModel",
      "_view_count": null,
      "_view_module": "@jupyter-widgets/controls",
      "_view_module_version": "1.5.0",
      "_view_name": "ProgressView",
      "bar_style": "success",
      "description": "",
      "description_tooltip": null,
      "layout": "IPY_MODEL_9610c44a90734910ac7b499743094707",
      "max": 1000,
      "min": 0,
      "orientation": "horizontal",
      "style": "IPY_MODEL_a7c0b9546b4d4c30a9f146bfd02bdadf",
      "value": 1000
     }
    },
    "57c01e512f6040cc91ca05706c913466": {
     "model_module": "@jupyter-widgets/controls",
     "model_module_version": "1.5.0",
     "model_name": "HTMLModel",
     "state": {
      "_dom_classes": [],
      "_model_module": "@jupyter-widgets/controls",
      "_model_module_version": "1.5.0",
      "_model_name": "HTMLModel",
      "_view_count": null,
      "_view_module": "@jupyter-widgets/controls",
      "_view_module_version": "1.5.0",
      "_view_name": "HTMLView",
      "description": "",
      "description_tooltip": null,
      "layout": "IPY_MODEL_7f47e29df53242b898763b65275e7b55",
      "placeholder": "​",
      "style": "IPY_MODEL_eeee9950e076451197295cbbbd78756d",
      "value": " 78.8M/78.8M [00:28&lt;00:00, 193MiB/s]"
     }
    },
    "5d10c767c35a4838a4c65cb62b19a824": {
     "model_module": "@jupyter-widgets/controls",
     "model_module_version": "1.5.0",
     "model_name": "DescriptionStyleModel",
     "state": {
      "_model_module": "@jupyter-widgets/controls",
      "_model_module_version": "1.5.0",
      "_model_name": "DescriptionStyleModel",
      "_view_count": null,
      "_view_module": "@jupyter-widgets/base",
      "_view_module_version": "1.2.0",
      "_view_name": "StyleView",
      "description_width": ""
     }
    },
    "5fda42b5633746758f1309a0cff7ee88": {
     "model_module": "@jupyter-widgets/base",
     "model_module_version": "1.2.0",
     "model_name": "LayoutModel",
     "state": {
      "_model_module": "@jupyter-widgets/base",
      "_model_module_version": "1.2.0",
      "_model_name": "LayoutModel",
      "_view_count": null,
      "_view_module": "@jupyter-widgets/base",
      "_view_module_version": "1.2.0",
      "_view_name": "LayoutView",
      "align_content": null,
      "align_items": null,
      "align_self": null,
      "border": null,
      "bottom": null,
      "display": null,
      "flex": null,
      "flex_flow": null,
      "grid_area": null,
      "grid_auto_columns": null,
      "grid_auto_flow": null,
      "grid_auto_rows": null,
      "grid_column": null,
      "grid_gap": null,
      "grid_row": null,
      "grid_template_areas": null,
      "grid_template_columns": null,
      "grid_template_rows": null,
      "height": null,
      "justify_content": null,
      "justify_items": null,
      "left": null,
      "margin": null,
      "max_height": null,
      "max_width": null,
      "min_height": null,
      "min_width": null,
      "object_fit": null,
      "object_position": null,
      "order": null,
      "overflow": null,
      "overflow_x": null,
      "overflow_y": null,
      "padding": null,
      "right": null,
      "top": null,
      "visibility": null,
      "width": null
     }
    },
    "637e3132b89a480195d380672633fed8": {
     "model_module": "@jupyter-widgets/base",
     "model_module_version": "1.2.0",
     "model_name": "LayoutModel",
     "state": {
      "_model_module": "@jupyter-widgets/base",
      "_model_module_version": "1.2.0",
      "_model_name": "LayoutModel",
      "_view_count": null,
      "_view_module": "@jupyter-widgets/base",
      "_view_module_version": "1.2.0",
      "_view_name": "LayoutView",
      "align_content": null,
      "align_items": null,
      "align_self": null,
      "border": null,
      "bottom": null,
      "display": null,
      "flex": null,
      "flex_flow": null,
      "grid_area": null,
      "grid_auto_columns": null,
      "grid_auto_flow": null,
      "grid_auto_rows": null,
      "grid_column": null,
      "grid_gap": null,
      "grid_row": null,
      "grid_template_areas": null,
      "grid_template_columns": null,
      "grid_template_rows": null,
      "height": null,
      "justify_content": null,
      "justify_items": null,
      "left": null,
      "margin": null,
      "max_height": null,
      "max_width": null,
      "min_height": null,
      "min_width": null,
      "object_fit": null,
      "object_position": null,
      "order": null,
      "overflow": null,
      "overflow_x": null,
      "overflow_y": null,
      "padding": null,
      "right": null,
      "top": null,
      "visibility": null,
      "width": null
     }
    },
    "64d081f40a1747c9ac31ca74a51fbcb2": {
     "model_module": "@jupyter-widgets/controls",
     "model_module_version": "1.5.0",
     "model_name": "HTMLModel",
     "state": {
      "_dom_classes": [],
      "_model_module": "@jupyter-widgets/controls",
      "_model_module_version": "1.5.0",
      "_model_name": "HTMLModel",
      "_view_count": null,
      "_view_module": "@jupyter-widgets/controls",
      "_view_module_version": "1.5.0",
      "_view_name": "HTMLView",
      "description": "",
      "description_tooltip": null,
      "layout": "IPY_MODEL_8d43a444b1a8430c971f09701b0650ef",
      "placeholder": "​",
      "style": "IPY_MODEL_5d10c767c35a4838a4c65cb62b19a824",
      "value": "100%"
     }
    },
    "6c6d11839e1f40b2a05afa841f1b13f7": {
     "model_module": "@jupyter-widgets/controls",
     "model_module_version": "1.5.0",
     "model_name": "ProgressStyleModel",
     "state": {
      "_model_module": "@jupyter-widgets/controls",
      "_model_module_version": "1.5.0",
      "_model_name": "ProgressStyleModel",
      "_view_count": null,
      "_view_module": "@jupyter-widgets/base",
      "_view_module_version": "1.2.0",
      "_view_name": "StyleView",
      "bar_color": null,
      "description_width": ""
     }
    },
    "724c85c9fd6842b890fe1355b9c5e6d5": {
     "model_module": "@jupyter-widgets/base",
     "model_module_version": "1.2.0",
     "model_name": "LayoutModel",
     "state": {
      "_model_module": "@jupyter-widgets/base",
      "_model_module_version": "1.2.0",
      "_model_name": "LayoutModel",
      "_view_count": null,
      "_view_module": "@jupyter-widgets/base",
      "_view_module_version": "1.2.0",
      "_view_name": "LayoutView",
      "align_content": null,
      "align_items": null,
      "align_self": null,
      "border": null,
      "bottom": null,
      "display": null,
      "flex": null,
      "flex_flow": null,
      "grid_area": null,
      "grid_auto_columns": null,
      "grid_auto_flow": null,
      "grid_auto_rows": null,
      "grid_column": null,
      "grid_gap": null,
      "grid_row": null,
      "grid_template_areas": null,
      "grid_template_columns": null,
      "grid_template_rows": null,
      "height": null,
      "justify_content": null,
      "justify_items": null,
      "left": null,
      "margin": null,
      "max_height": null,
      "max_width": null,
      "min_height": null,
      "min_width": null,
      "object_fit": null,
      "object_position": null,
      "order": null,
      "overflow": null,
      "overflow_x": null,
      "overflow_y": null,
      "padding": null,
      "right": null,
      "top": null,
      "visibility": null,
      "width": null
     }
    },
    "74a2c0523f4343e7bfb23b3c29ccb609": {
     "model_module": "@jupyter-widgets/controls",
     "model_module_version": "1.5.0",
     "model_name": "DescriptionStyleModel",
     "state": {
      "_model_module": "@jupyter-widgets/controls",
      "_model_module_version": "1.5.0",
      "_model_name": "DescriptionStyleModel",
      "_view_count": null,
      "_view_module": "@jupyter-widgets/base",
      "_view_module_version": "1.2.0",
      "_view_name": "StyleView",
      "description_width": ""
     }
    },
    "776de1c89d784cfdadba5670e1ec7e87": {
     "model_module": "@jupyter-widgets/base",
     "model_module_version": "1.2.0",
     "model_name": "LayoutModel",
     "state": {
      "_model_module": "@jupyter-widgets/base",
      "_model_module_version": "1.2.0",
      "_model_name": "LayoutModel",
      "_view_count": null,
      "_view_module": "@jupyter-widgets/base",
      "_view_module_version": "1.2.0",
      "_view_name": "LayoutView",
      "align_content": null,
      "align_items": null,
      "align_self": null,
      "border": null,
      "bottom": null,
      "display": null,
      "flex": null,
      "flex_flow": null,
      "grid_area": null,
      "grid_auto_columns": null,
      "grid_auto_flow": null,
      "grid_auto_rows": null,
      "grid_column": null,
      "grid_gap": null,
      "grid_row": null,
      "grid_template_areas": null,
      "grid_template_columns": null,
      "grid_template_rows": null,
      "height": null,
      "justify_content": null,
      "justify_items": null,
      "left": null,
      "margin": null,
      "max_height": null,
      "max_width": null,
      "min_height": null,
      "min_width": null,
      "object_fit": null,
      "object_position": null,
      "order": null,
      "overflow": null,
      "overflow_x": null,
      "overflow_y": null,
      "padding": null,
      "right": null,
      "top": null,
      "visibility": null,
      "width": null
     }
    },
    "793d4180615148a7a90d308c90df4ce0": {
     "model_module": "@jupyter-widgets/controls",
     "model_module_version": "1.5.0",
     "model_name": "HTMLModel",
     "state": {
      "_dom_classes": [],
      "_model_module": "@jupyter-widgets/controls",
      "_model_module_version": "1.5.0",
      "_model_name": "HTMLModel",
      "_view_count": null,
      "_view_module": "@jupyter-widgets/controls",
      "_view_module_version": "1.5.0",
      "_view_name": "HTMLView",
      "description": "",
      "description_tooltip": null,
      "layout": "IPY_MODEL_e7c4f7c95a814b0fa78e6bd930ef84fc",
      "placeholder": "​",
      "style": "IPY_MODEL_eeea5818b2e346149967a22b580bd410",
      "value": " 1000/1000 [01:07&lt;00:00, 14.19it/s]"
     }
    },
    "7b648a4b7e6b40b0bea09ddd9c82ba23": {
     "model_module": "@jupyter-widgets/controls",
     "model_module_version": "1.5.0",
     "model_name": "HBoxModel",
     "state": {
      "_dom_classes": [],
      "_model_module": "@jupyter-widgets/controls",
      "_model_module_version": "1.5.0",
      "_model_name": "HBoxModel",
      "_view_count": null,
      "_view_module": "@jupyter-widgets/controls",
      "_view_module_version": "1.5.0",
      "_view_name": "HBoxView",
      "box_style": "",
      "children": [
       "IPY_MODEL_a3b94c99f20042ad9fb154c67d8fe6bc",
       "IPY_MODEL_8e00b0651c024726a01c54eb7e2c50a1",
       "IPY_MODEL_9a15a3e767234b83badd260eb9580dbe"
      ],
      "layout": "IPY_MODEL_403f5ad562aa44c48842c69d044ac9e6"
     }
    },
    "7e7d7ebb9e95446dbf6c2f69a8e5e2f0": {
     "model_module": "@jupyter-widgets/controls",
     "model_module_version": "1.5.0",
     "model_name": "DescriptionStyleModel",
     "state": {
      "_model_module": "@jupyter-widgets/controls",
      "_model_module_version": "1.5.0",
      "_model_name": "DescriptionStyleModel",
      "_view_count": null,
      "_view_module": "@jupyter-widgets/base",
      "_view_module_version": "1.2.0",
      "_view_name": "StyleView",
      "description_width": ""
     }
    },
    "7f47e29df53242b898763b65275e7b55": {
     "model_module": "@jupyter-widgets/base",
     "model_module_version": "1.2.0",
     "model_name": "LayoutModel",
     "state": {
      "_model_module": "@jupyter-widgets/base",
      "_model_module_version": "1.2.0",
      "_model_name": "LayoutModel",
      "_view_count": null,
      "_view_module": "@jupyter-widgets/base",
      "_view_module_version": "1.2.0",
      "_view_name": "LayoutView",
      "align_content": null,
      "align_items": null,
      "align_self": null,
      "border": null,
      "bottom": null,
      "display": null,
      "flex": null,
      "flex_flow": null,
      "grid_area": null,
      "grid_auto_columns": null,
      "grid_auto_flow": null,
      "grid_auto_rows": null,
      "grid_column": null,
      "grid_gap": null,
      "grid_row": null,
      "grid_template_areas": null,
      "grid_template_columns": null,
      "grid_template_rows": null,
      "height": null,
      "justify_content": null,
      "justify_items": null,
      "left": null,
      "margin": null,
      "max_height": null,
      "max_width": null,
      "min_height": null,
      "min_width": null,
      "object_fit": null,
      "object_position": null,
      "order": null,
      "overflow": null,
      "overflow_x": null,
      "overflow_y": null,
      "padding": null,
      "right": null,
      "top": null,
      "visibility": null,
      "width": null
     }
    },
    "878e5fc512c04d92afad9937e6f54a21": {
     "model_module": "@jupyter-widgets/base",
     "model_module_version": "1.2.0",
     "model_name": "LayoutModel",
     "state": {
      "_model_module": "@jupyter-widgets/base",
      "_model_module_version": "1.2.0",
      "_model_name": "LayoutModel",
      "_view_count": null,
      "_view_module": "@jupyter-widgets/base",
      "_view_module_version": "1.2.0",
      "_view_name": "LayoutView",
      "align_content": null,
      "align_items": null,
      "align_self": null,
      "border": null,
      "bottom": null,
      "display": null,
      "flex": null,
      "flex_flow": null,
      "grid_area": null,
      "grid_auto_columns": null,
      "grid_auto_flow": null,
      "grid_auto_rows": null,
      "grid_column": null,
      "grid_gap": null,
      "grid_row": null,
      "grid_template_areas": null,
      "grid_template_columns": null,
      "grid_template_rows": null,
      "height": null,
      "justify_content": null,
      "justify_items": null,
      "left": null,
      "margin": null,
      "max_height": null,
      "max_width": null,
      "min_height": null,
      "min_width": null,
      "object_fit": null,
      "object_position": null,
      "order": null,
      "overflow": null,
      "overflow_x": null,
      "overflow_y": null,
      "padding": null,
      "right": null,
      "top": null,
      "visibility": null,
      "width": null
     }
    },
    "89c86125f5164937a8d353b5bc3e13b2": {
     "model_module": "@jupyter-widgets/controls",
     "model_module_version": "1.5.0",
     "model_name": "HBoxModel",
     "state": {
      "_dom_classes": [],
      "_model_module": "@jupyter-widgets/controls",
      "_model_module_version": "1.5.0",
      "_model_name": "HBoxModel",
      "_view_count": null,
      "_view_module": "@jupyter-widgets/controls",
      "_view_module_version": "1.5.0",
      "_view_name": "HBoxView",
      "box_style": "",
      "children": [
       "IPY_MODEL_1cc2c243d6fa4f45827dfe2c16390a8a",
       "IPY_MODEL_d7ec0c98b862405699a8f2a6a882b807",
       "IPY_MODEL_064cff7d8e2845148ad3d43276044b29"
      ],
      "layout": "IPY_MODEL_724c85c9fd6842b890fe1355b9c5e6d5"
     }
    },
    "8a24f26aee474886b326a45ffa0cf70a": {
     "model_module": "@jupyter-widgets/base",
     "model_module_version": "1.2.0",
     "model_name": "LayoutModel",
     "state": {
      "_model_module": "@jupyter-widgets/base",
      "_model_module_version": "1.2.0",
      "_model_name": "LayoutModel",
      "_view_count": null,
      "_view_module": "@jupyter-widgets/base",
      "_view_module_version": "1.2.0",
      "_view_name": "LayoutView",
      "align_content": null,
      "align_items": null,
      "align_self": null,
      "border": null,
      "bottom": null,
      "display": null,
      "flex": null,
      "flex_flow": null,
      "grid_area": null,
      "grid_auto_columns": null,
      "grid_auto_flow": null,
      "grid_auto_rows": null,
      "grid_column": null,
      "grid_gap": null,
      "grid_row": null,
      "grid_template_areas": null,
      "grid_template_columns": null,
      "grid_template_rows": null,
      "height": null,
      "justify_content": null,
      "justify_items": null,
      "left": null,
      "margin": null,
      "max_height": null,
      "max_width": null,
      "min_height": null,
      "min_width": null,
      "object_fit": null,
      "object_position": null,
      "order": null,
      "overflow": null,
      "overflow_x": null,
      "overflow_y": null,
      "padding": null,
      "right": null,
      "top": null,
      "visibility": null,
      "width": null
     }
    },
    "8b839cbfe39047549fbb1d904f07e3ec": {
     "model_module": "@jupyter-widgets/controls",
     "model_module_version": "1.5.0",
     "model_name": "HBoxModel",
     "state": {
      "_dom_classes": [],
      "_model_module": "@jupyter-widgets/controls",
      "_model_module_version": "1.5.0",
      "_model_name": "HBoxModel",
      "_view_count": null,
      "_view_module": "@jupyter-widgets/controls",
      "_view_module_version": "1.5.0",
      "_view_name": "HBoxView",
      "box_style": "",
      "children": [
       "IPY_MODEL_64d081f40a1747c9ac31ca74a51fbcb2",
       "IPY_MODEL_5653c82d14a64016a9c60ca9d0f287f4",
       "IPY_MODEL_13a59855fd8a4b6f8930aa854f80e15a"
      ],
      "layout": "IPY_MODEL_637e3132b89a480195d380672633fed8"
     }
    },
    "8c76425a68f34381b8d2928c17a486ae": {
     "model_module": "@jupyter-widgets/base",
     "model_module_version": "1.2.0",
     "model_name": "LayoutModel",
     "state": {
      "_model_module": "@jupyter-widgets/base",
      "_model_module_version": "1.2.0",
      "_model_name": "LayoutModel",
      "_view_count": null,
      "_view_module": "@jupyter-widgets/base",
      "_view_module_version": "1.2.0",
      "_view_name": "LayoutView",
      "align_content": null,
      "align_items": null,
      "align_self": null,
      "border": null,
      "bottom": null,
      "display": null,
      "flex": null,
      "flex_flow": null,
      "grid_area": null,
      "grid_auto_columns": null,
      "grid_auto_flow": null,
      "grid_auto_rows": null,
      "grid_column": null,
      "grid_gap": null,
      "grid_row": null,
      "grid_template_areas": null,
      "grid_template_columns": null,
      "grid_template_rows": null,
      "height": null,
      "justify_content": null,
      "justify_items": null,
      "left": null,
      "margin": null,
      "max_height": null,
      "max_width": null,
      "min_height": null,
      "min_width": null,
      "object_fit": null,
      "object_position": null,
      "order": null,
      "overflow": null,
      "overflow_x": null,
      "overflow_y": null,
      "padding": null,
      "right": null,
      "top": null,
      "visibility": null,
      "width": null
     }
    },
    "8d43a444b1a8430c971f09701b0650ef": {
     "model_module": "@jupyter-widgets/base",
     "model_module_version": "1.2.0",
     "model_name": "LayoutModel",
     "state": {
      "_model_module": "@jupyter-widgets/base",
      "_model_module_version": "1.2.0",
      "_model_name": "LayoutModel",
      "_view_count": null,
      "_view_module": "@jupyter-widgets/base",
      "_view_module_version": "1.2.0",
      "_view_name": "LayoutView",
      "align_content": null,
      "align_items": null,
      "align_self": null,
      "border": null,
      "bottom": null,
      "display": null,
      "flex": null,
      "flex_flow": null,
      "grid_area": null,
      "grid_auto_columns": null,
      "grid_auto_flow": null,
      "grid_auto_rows": null,
      "grid_column": null,
      "grid_gap": null,
      "grid_row": null,
      "grid_template_areas": null,
      "grid_template_columns": null,
      "grid_template_rows": null,
      "height": null,
      "justify_content": null,
      "justify_items": null,
      "left": null,
      "margin": null,
      "max_height": null,
      "max_width": null,
      "min_height": null,
      "min_width": null,
      "object_fit": null,
      "object_position": null,
      "order": null,
      "overflow": null,
      "overflow_x": null,
      "overflow_y": null,
      "padding": null,
      "right": null,
      "top": null,
      "visibility": null,
      "width": null
     }
    },
    "8e00b0651c024726a01c54eb7e2c50a1": {
     "model_module": "@jupyter-widgets/controls",
     "model_module_version": "1.5.0",
     "model_name": "FloatProgressModel",
     "state": {
      "_dom_classes": [],
      "_model_module": "@jupyter-widgets/controls",
      "_model_module_version": "1.5.0",
      "_model_name": "FloatProgressModel",
      "_view_count": null,
      "_view_module": "@jupyter-widgets/controls",
      "_view_module_version": "1.5.0",
      "_view_name": "ProgressView",
      "bar_style": "success",
      "description": "",
      "description_tooltip": null,
      "layout": "IPY_MODEL_8c76425a68f34381b8d2928c17a486ae",
      "max": 1000,
      "min": 0,
      "orientation": "horizontal",
      "style": "IPY_MODEL_eb9fc9d060ea4702b6091892e25514bb",
      "value": 1000
     }
    },
    "906176ae2a4943a1a45fbafd5e41be6f": {
     "model_module": "@jupyter-widgets/base",
     "model_module_version": "1.2.0",
     "model_name": "LayoutModel",
     "state": {
      "_model_module": "@jupyter-widgets/base",
      "_model_module_version": "1.2.0",
      "_model_name": "LayoutModel",
      "_view_count": null,
      "_view_module": "@jupyter-widgets/base",
      "_view_module_version": "1.2.0",
      "_view_name": "LayoutView",
      "align_content": null,
      "align_items": null,
      "align_self": null,
      "border": null,
      "bottom": null,
      "display": null,
      "flex": null,
      "flex_flow": null,
      "grid_area": null,
      "grid_auto_columns": null,
      "grid_auto_flow": null,
      "grid_auto_rows": null,
      "grid_column": null,
      "grid_gap": null,
      "grid_row": null,
      "grid_template_areas": null,
      "grid_template_columns": null,
      "grid_template_rows": null,
      "height": null,
      "justify_content": null,
      "justify_items": null,
      "left": null,
      "margin": null,
      "max_height": null,
      "max_width": null,
      "min_height": null,
      "min_width": null,
      "object_fit": null,
      "object_position": null,
      "order": null,
      "overflow": null,
      "overflow_x": null,
      "overflow_y": null,
      "padding": null,
      "right": null,
      "top": null,
      "visibility": null,
      "width": null
     }
    },
    "9610c44a90734910ac7b499743094707": {
     "model_module": "@jupyter-widgets/base",
     "model_module_version": "1.2.0",
     "model_name": "LayoutModel",
     "state": {
      "_model_module": "@jupyter-widgets/base",
      "_model_module_version": "1.2.0",
      "_model_name": "LayoutModel",
      "_view_count": null,
      "_view_module": "@jupyter-widgets/base",
      "_view_module_version": "1.2.0",
      "_view_name": "LayoutView",
      "align_content": null,
      "align_items": null,
      "align_self": null,
      "border": null,
      "bottom": null,
      "display": null,
      "flex": null,
      "flex_flow": null,
      "grid_area": null,
      "grid_auto_columns": null,
      "grid_auto_flow": null,
      "grid_auto_rows": null,
      "grid_column": null,
      "grid_gap": null,
      "grid_row": null,
      "grid_template_areas": null,
      "grid_template_columns": null,
      "grid_template_rows": null,
      "height": null,
      "justify_content": null,
      "justify_items": null,
      "left": null,
      "margin": null,
      "max_height": null,
      "max_width": null,
      "min_height": null,
      "min_width": null,
      "object_fit": null,
      "object_position": null,
      "order": null,
      "overflow": null,
      "overflow_x": null,
      "overflow_y": null,
      "padding": null,
      "right": null,
      "top": null,
      "visibility": null,
      "width": null
     }
    },
    "9a15a3e767234b83badd260eb9580dbe": {
     "model_module": "@jupyter-widgets/controls",
     "model_module_version": "1.5.0",
     "model_name": "HTMLModel",
     "state": {
      "_dom_classes": [],
      "_model_module": "@jupyter-widgets/controls",
      "_model_module_version": "1.5.0",
      "_model_name": "HTMLModel",
      "_view_count": null,
      "_view_module": "@jupyter-widgets/controls",
      "_view_module_version": "1.5.0",
      "_view_name": "HTMLView",
      "description": "",
      "description_tooltip": null,
      "layout": "IPY_MODEL_0924dfaaf51147e8854fa6ba1f790590",
      "placeholder": "​",
      "style": "IPY_MODEL_de96f4d705d949819d2910461754f25f",
      "value": " 1000/1000 [01:06&lt;00:00, 11.00it/s]"
     }
    },
    "9c9d3052536947fdbcc7cdd4a032d7ec": {
     "model_module": "@jupyter-widgets/controls",
     "model_module_version": "1.5.0",
     "model_name": "HTMLModel",
     "state": {
      "_dom_classes": [],
      "_model_module": "@jupyter-widgets/controls",
      "_model_module_version": "1.5.0",
      "_model_name": "HTMLModel",
      "_view_count": null,
      "_view_module": "@jupyter-widgets/controls",
      "_view_module_version": "1.5.0",
      "_view_name": "HTMLView",
      "description": "",
      "description_tooltip": null,
      "layout": "IPY_MODEL_906176ae2a4943a1a45fbafd5e41be6f",
      "placeholder": "​",
      "style": "IPY_MODEL_f475bba13d9540a7b0b6982795ded3b5",
      "value": "kion dataset download: 100%"
     }
    },
    "9fd1f8e2c8414f6283ead4efd988f68b": {
     "model_module": "@jupyter-widgets/controls",
     "model_module_version": "1.5.0",
     "model_name": "DescriptionStyleModel",
     "state": {
      "_model_module": "@jupyter-widgets/controls",
      "_model_module_version": "1.5.0",
      "_model_name": "DescriptionStyleModel",
      "_view_count": null,
      "_view_module": "@jupyter-widgets/base",
      "_view_module_version": "1.2.0",
      "_view_name": "StyleView",
      "description_width": ""
     }
    },
    "a08c24f0461e4bcd9fb1e07ea798a3b2": {
     "model_module": "@jupyter-widgets/base",
     "model_module_version": "1.2.0",
     "model_name": "LayoutModel",
     "state": {
      "_model_module": "@jupyter-widgets/base",
      "_model_module_version": "1.2.0",
      "_model_name": "LayoutModel",
      "_view_count": null,
      "_view_module": "@jupyter-widgets/base",
      "_view_module_version": "1.2.0",
      "_view_name": "LayoutView",
      "align_content": null,
      "align_items": null,
      "align_self": null,
      "border": null,
      "bottom": null,
      "display": null,
      "flex": null,
      "flex_flow": null,
      "grid_area": null,
      "grid_auto_columns": null,
      "grid_auto_flow": null,
      "grid_auto_rows": null,
      "grid_column": null,
      "grid_gap": null,
      "grid_row": null,
      "grid_template_areas": null,
      "grid_template_columns": null,
      "grid_template_rows": null,
      "height": null,
      "justify_content": null,
      "justify_items": null,
      "left": null,
      "margin": null,
      "max_height": null,
      "max_width": null,
      "min_height": null,
      "min_width": null,
      "object_fit": null,
      "object_position": null,
      "order": null,
      "overflow": null,
      "overflow_x": null,
      "overflow_y": null,
      "padding": null,
      "right": null,
      "top": null,
      "visibility": null,
      "width": null
     }
    },
    "a1df965f0f3c4ee2b3625018f484d4cc": {
     "model_module": "@jupyter-widgets/controls",
     "model_module_version": "1.5.0",
     "model_name": "DescriptionStyleModel",
     "state": {
      "_model_module": "@jupyter-widgets/controls",
      "_model_module_version": "1.5.0",
      "_model_name": "DescriptionStyleModel",
      "_view_count": null,
      "_view_module": "@jupyter-widgets/base",
      "_view_module_version": "1.2.0",
      "_view_name": "StyleView",
      "description_width": ""
     }
    },
    "a3b94c99f20042ad9fb154c67d8fe6bc": {
     "model_module": "@jupyter-widgets/controls",
     "model_module_version": "1.5.0",
     "model_name": "HTMLModel",
     "state": {
      "_dom_classes": [],
      "_model_module": "@jupyter-widgets/controls",
      "_model_module_version": "1.5.0",
      "_model_name": "HTMLModel",
      "_view_count": null,
      "_view_module": "@jupyter-widgets/controls",
      "_view_module_version": "1.5.0",
      "_view_name": "HTMLView",
      "description": "",
      "description_tooltip": null,
      "layout": "IPY_MODEL_449a69d3da4e4bfeb08adedaf06dc342",
      "placeholder": "​",
      "style": "IPY_MODEL_74a2c0523f4343e7bfb23b3c29ccb609",
      "value": "100%"
     }
    },
    "a5c2bac131014423a5fe130488faecfd": {
     "model_module": "@jupyter-widgets/controls",
     "model_module_version": "1.5.0",
     "model_name": "HTMLModel",
     "state": {
      "_dom_classes": [],
      "_model_module": "@jupyter-widgets/controls",
      "_model_module_version": "1.5.0",
      "_model_name": "HTMLModel",
      "_view_count": null,
      "_view_module": "@jupyter-widgets/controls",
      "_view_module_version": "1.5.0",
      "_view_name": "HTMLView",
      "description": "",
      "description_tooltip": null,
      "layout": "IPY_MODEL_55a7596df82947c088c9a4d933329fac",
      "placeholder": "​",
      "style": "IPY_MODEL_3f17533a15e9423f973536709f6b05f9",
      "value": "100%"
     }
    },
    "a7c0b9546b4d4c30a9f146bfd02bdadf": {
     "model_module": "@jupyter-widgets/controls",
     "model_module_version": "1.5.0",
     "model_name": "ProgressStyleModel",
     "state": {
      "_model_module": "@jupyter-widgets/controls",
      "_model_module_version": "1.5.0",
      "_model_name": "ProgressStyleModel",
      "_view_count": null,
      "_view_module": "@jupyter-widgets/base",
      "_view_module_version": "1.2.0",
      "_view_name": "StyleView",
      "bar_color": null,
      "description_width": ""
     }
    },
    "ab5bcf791df049c0a7818a416dadbc20": {
     "model_module": "@jupyter-widgets/controls",
     "model_module_version": "1.5.0",
     "model_name": "HTMLModel",
     "state": {
      "_dom_classes": [],
      "_model_module": "@jupyter-widgets/controls",
      "_model_module_version": "1.5.0",
      "_model_name": "HTMLModel",
      "_view_count": null,
      "_view_module": "@jupyter-widgets/controls",
      "_view_module_version": "1.5.0",
      "_view_name": "HTMLView",
      "description": "",
      "description_tooltip": null,
      "layout": "IPY_MODEL_0b2e8bf595da4990b56d4ed966261b6e",
      "placeholder": "​",
      "style": "IPY_MODEL_fae451cd32ea49df860163291d527c05",
      "value": " 1000/1000 [01:05&lt;00:00, 15.68it/s]"
     }
    },
    "ade378cfee5e475e874bd59d922c305e": {
     "model_module": "@jupyter-widgets/controls",
     "model_module_version": "1.5.0",
     "model_name": "FloatProgressModel",
     "state": {
      "_dom_classes": [],
      "_model_module": "@jupyter-widgets/controls",
      "_model_module_version": "1.5.0",
      "_model_name": "FloatProgressModel",
      "_view_count": null,
      "_view_module": "@jupyter-widgets/controls",
      "_view_module_version": "1.5.0",
      "_view_name": "ProgressView",
      "bar_style": "success",
      "description": "",
      "description_tooltip": null,
      "layout": "IPY_MODEL_3dec48abe00948d4b15a9c6e829e5bf2",
      "max": 1000,
      "min": 0,
      "orientation": "horizontal",
      "style": "IPY_MODEL_d9ac405836ee424fa04735c8c30616f9",
      "value": 1000
     }
    },
    "b83bf6901e1f42e2acf2d0eb352fb852": {
     "model_module": "@jupyter-widgets/controls",
     "model_module_version": "1.5.0",
     "model_name": "HBoxModel",
     "state": {
      "_dom_classes": [],
      "_model_module": "@jupyter-widgets/controls",
      "_model_module_version": "1.5.0",
      "_model_name": "HBoxModel",
      "_view_count": null,
      "_view_module": "@jupyter-widgets/controls",
      "_view_module_version": "1.5.0",
      "_view_name": "HBoxView",
      "box_style": "",
      "children": [
       "IPY_MODEL_b936eca3c30a4bd08f418f4988e9e878",
       "IPY_MODEL_03065d6596874cc5b5a7dc9ed797425f",
       "IPY_MODEL_ab5bcf791df049c0a7818a416dadbc20"
      ],
      "layout": "IPY_MODEL_b86ddab711b1482ba291dbc0f0fe08a9"
     }
    },
    "b86ddab711b1482ba291dbc0f0fe08a9": {
     "model_module": "@jupyter-widgets/base",
     "model_module_version": "1.2.0",
     "model_name": "LayoutModel",
     "state": {
      "_model_module": "@jupyter-widgets/base",
      "_model_module_version": "1.2.0",
      "_model_name": "LayoutModel",
      "_view_count": null,
      "_view_module": "@jupyter-widgets/base",
      "_view_module_version": "1.2.0",
      "_view_name": "LayoutView",
      "align_content": null,
      "align_items": null,
      "align_self": null,
      "border": null,
      "bottom": null,
      "display": null,
      "flex": null,
      "flex_flow": null,
      "grid_area": null,
      "grid_auto_columns": null,
      "grid_auto_flow": null,
      "grid_auto_rows": null,
      "grid_column": null,
      "grid_gap": null,
      "grid_row": null,
      "grid_template_areas": null,
      "grid_template_columns": null,
      "grid_template_rows": null,
      "height": null,
      "justify_content": null,
      "justify_items": null,
      "left": null,
      "margin": null,
      "max_height": null,
      "max_width": null,
      "min_height": null,
      "min_width": null,
      "object_fit": null,
      "object_position": null,
      "order": null,
      "overflow": null,
      "overflow_x": null,
      "overflow_y": null,
      "padding": null,
      "right": null,
      "top": null,
      "visibility": null,
      "width": null
     }
    },
    "b936eca3c30a4bd08f418f4988e9e878": {
     "model_module": "@jupyter-widgets/controls",
     "model_module_version": "1.5.0",
     "model_name": "HTMLModel",
     "state": {
      "_dom_classes": [],
      "_model_module": "@jupyter-widgets/controls",
      "_model_module_version": "1.5.0",
      "_model_name": "HTMLModel",
      "_view_count": null,
      "_view_module": "@jupyter-widgets/controls",
      "_view_module_version": "1.5.0",
      "_view_name": "HTMLView",
      "description": "",
      "description_tooltip": null,
      "layout": "IPY_MODEL_8a24f26aee474886b326a45ffa0cf70a",
      "placeholder": "​",
      "style": "IPY_MODEL_9fd1f8e2c8414f6283ead4efd988f68b",
      "value": "100%"
     }
    },
    "bed4893ef0dc4b33b675024f13113259": {
     "model_module": "@jupyter-widgets/controls",
     "model_module_version": "1.5.0",
     "model_name": "DescriptionStyleModel",
     "state": {
      "_model_module": "@jupyter-widgets/controls",
      "_model_module_version": "1.5.0",
      "_model_name": "DescriptionStyleModel",
      "_view_count": null,
      "_view_module": "@jupyter-widgets/base",
      "_view_module_version": "1.2.0",
      "_view_name": "StyleView",
      "description_width": ""
     }
    },
    "c9c9ed1fdc7943c5a4e5a30af117bc70": {
     "model_module": "@jupyter-widgets/controls",
     "model_module_version": "1.5.0",
     "model_name": "FloatProgressModel",
     "state": {
      "_dom_classes": [],
      "_model_module": "@jupyter-widgets/controls",
      "_model_module_version": "1.5.0",
      "_model_name": "FloatProgressModel",
      "_view_count": null,
      "_view_module": "@jupyter-widgets/controls",
      "_view_module_version": "1.5.0",
      "_view_name": "ProgressView",
      "bar_style": "",
      "description": "",
      "description_tooltip": null,
      "layout": "IPY_MODEL_5fda42b5633746758f1309a0cff7ee88",
      "max": 78795619,
      "min": 0,
      "orientation": "horizontal",
      "style": "IPY_MODEL_10a4d680f9c242e092657c7a306f6288",
      "value": 78795619
     }
    },
    "d17877b2b25349de81cacc95834e685b": {
     "model_module": "@jupyter-widgets/base",
     "model_module_version": "1.2.0",
     "model_name": "LayoutModel",
     "state": {
      "_model_module": "@jupyter-widgets/base",
      "_model_module_version": "1.2.0",
      "_model_name": "LayoutModel",
      "_view_count": null,
      "_view_module": "@jupyter-widgets/base",
      "_view_module_version": "1.2.0",
      "_view_name": "LayoutView",
      "align_content": null,
      "align_items": null,
      "align_self": null,
      "border": null,
      "bottom": null,
      "display": null,
      "flex": null,
      "flex_flow": null,
      "grid_area": null,
      "grid_auto_columns": null,
      "grid_auto_flow": null,
      "grid_auto_rows": null,
      "grid_column": null,
      "grid_gap": null,
      "grid_row": null,
      "grid_template_areas": null,
      "grid_template_columns": null,
      "grid_template_rows": null,
      "height": null,
      "justify_content": null,
      "justify_items": null,
      "left": null,
      "margin": null,
      "max_height": null,
      "max_width": null,
      "min_height": null,
      "min_width": null,
      "object_fit": null,
      "object_position": null,
      "order": null,
      "overflow": null,
      "overflow_x": null,
      "overflow_y": null,
      "padding": null,
      "right": null,
      "top": null,
      "visibility": null,
      "width": null
     }
    },
    "d67c0a47b95e4f718886251a06a4f463": {
     "model_module": "@jupyter-widgets/controls",
     "model_module_version": "1.5.0",
     "model_name": "ProgressStyleModel",
     "state": {
      "_model_module": "@jupyter-widgets/controls",
      "_model_module_version": "1.5.0",
      "_model_name": "ProgressStyleModel",
      "_view_count": null,
      "_view_module": "@jupyter-widgets/base",
      "_view_module_version": "1.2.0",
      "_view_name": "StyleView",
      "bar_color": null,
      "description_width": ""
     }
    },
    "d7ec0c98b862405699a8f2a6a882b807": {
     "model_module": "@jupyter-widgets/controls",
     "model_module_version": "1.5.0",
     "model_name": "FloatProgressModel",
     "state": {
      "_dom_classes": [],
      "_model_module": "@jupyter-widgets/controls",
      "_model_module_version": "1.5.0",
      "_model_name": "FloatProgressModel",
      "_view_count": null,
      "_view_module": "@jupyter-widgets/controls",
      "_view_module_version": "1.5.0",
      "_view_name": "ProgressView",
      "bar_style": "success",
      "description": "",
      "description_tooltip": null,
      "layout": "IPY_MODEL_e7e28a21b7284db7bf2a335650226f1d",
      "max": 4,
      "min": 0,
      "orientation": "horizontal",
      "style": "IPY_MODEL_d67c0a47b95e4f718886251a06a4f463",
      "value": 4
     }
    },
    "d95d4508c86a4adf9bf80211aa045242": {
     "model_module": "@jupyter-widgets/controls",
     "model_module_version": "1.5.0",
     "model_name": "DescriptionStyleModel",
     "state": {
      "_model_module": "@jupyter-widgets/controls",
      "_model_module_version": "1.5.0",
      "_model_name": "DescriptionStyleModel",
      "_view_count": null,
      "_view_module": "@jupyter-widgets/base",
      "_view_module_version": "1.2.0",
      "_view_name": "StyleView",
      "description_width": ""
     }
    },
    "d9ac405836ee424fa04735c8c30616f9": {
     "model_module": "@jupyter-widgets/controls",
     "model_module_version": "1.5.0",
     "model_name": "ProgressStyleModel",
     "state": {
      "_model_module": "@jupyter-widgets/controls",
      "_model_module_version": "1.5.0",
      "_model_name": "ProgressStyleModel",
      "_view_count": null,
      "_view_module": "@jupyter-widgets/base",
      "_view_module_version": "1.2.0",
      "_view_name": "StyleView",
      "bar_color": null,
      "description_width": ""
     }
    },
    "de96f4d705d949819d2910461754f25f": {
     "model_module": "@jupyter-widgets/controls",
     "model_module_version": "1.5.0",
     "model_name": "DescriptionStyleModel",
     "state": {
      "_model_module": "@jupyter-widgets/controls",
      "_model_module_version": "1.5.0",
      "_model_name": "DescriptionStyleModel",
      "_view_count": null,
      "_view_module": "@jupyter-widgets/base",
      "_view_module_version": "1.2.0",
      "_view_name": "StyleView",
      "description_width": ""
     }
    },
    "e06c13563d0b4a35a0ace9374c1065de": {
     "model_module": "@jupyter-widgets/base",
     "model_module_version": "1.2.0",
     "model_name": "LayoutModel",
     "state": {
      "_model_module": "@jupyter-widgets/base",
      "_model_module_version": "1.2.0",
      "_model_name": "LayoutModel",
      "_view_count": null,
      "_view_module": "@jupyter-widgets/base",
      "_view_module_version": "1.2.0",
      "_view_name": "LayoutView",
      "align_content": null,
      "align_items": null,
      "align_self": null,
      "border": null,
      "bottom": null,
      "display": null,
      "flex": null,
      "flex_flow": null,
      "grid_area": null,
      "grid_auto_columns": null,
      "grid_auto_flow": null,
      "grid_auto_rows": null,
      "grid_column": null,
      "grid_gap": null,
      "grid_row": null,
      "grid_template_areas": null,
      "grid_template_columns": null,
      "grid_template_rows": null,
      "height": null,
      "justify_content": null,
      "justify_items": null,
      "left": null,
      "margin": null,
      "max_height": null,
      "max_width": null,
      "min_height": null,
      "min_width": null,
      "object_fit": null,
      "object_position": null,
      "order": null,
      "overflow": null,
      "overflow_x": null,
      "overflow_y": null,
      "padding": null,
      "right": null,
      "top": null,
      "visibility": null,
      "width": null
     }
    },
    "e63f422d6c8841d5913d7d71dcc9af1e": {
     "model_module": "@jupyter-widgets/base",
     "model_module_version": "1.2.0",
     "model_name": "LayoutModel",
     "state": {
      "_model_module": "@jupyter-widgets/base",
      "_model_module_version": "1.2.0",
      "_model_name": "LayoutModel",
      "_view_count": null,
      "_view_module": "@jupyter-widgets/base",
      "_view_module_version": "1.2.0",
      "_view_name": "LayoutView",
      "align_content": null,
      "align_items": null,
      "align_self": null,
      "border": null,
      "bottom": null,
      "display": null,
      "flex": null,
      "flex_flow": null,
      "grid_area": null,
      "grid_auto_columns": null,
      "grid_auto_flow": null,
      "grid_auto_rows": null,
      "grid_column": null,
      "grid_gap": null,
      "grid_row": null,
      "grid_template_areas": null,
      "grid_template_columns": null,
      "grid_template_rows": null,
      "height": null,
      "justify_content": null,
      "justify_items": null,
      "left": null,
      "margin": null,
      "max_height": null,
      "max_width": null,
      "min_height": null,
      "min_width": null,
      "object_fit": null,
      "object_position": null,
      "order": null,
      "overflow": null,
      "overflow_x": null,
      "overflow_y": null,
      "padding": null,
      "right": null,
      "top": null,
      "visibility": null,
      "width": null
     }
    },
    "e7c4f7c95a814b0fa78e6bd930ef84fc": {
     "model_module": "@jupyter-widgets/base",
     "model_module_version": "1.2.0",
     "model_name": "LayoutModel",
     "state": {
      "_model_module": "@jupyter-widgets/base",
      "_model_module_version": "1.2.0",
      "_model_name": "LayoutModel",
      "_view_count": null,
      "_view_module": "@jupyter-widgets/base",
      "_view_module_version": "1.2.0",
      "_view_name": "LayoutView",
      "align_content": null,
      "align_items": null,
      "align_self": null,
      "border": null,
      "bottom": null,
      "display": null,
      "flex": null,
      "flex_flow": null,
      "grid_area": null,
      "grid_auto_columns": null,
      "grid_auto_flow": null,
      "grid_auto_rows": null,
      "grid_column": null,
      "grid_gap": null,
      "grid_row": null,
      "grid_template_areas": null,
      "grid_template_columns": null,
      "grid_template_rows": null,
      "height": null,
      "justify_content": null,
      "justify_items": null,
      "left": null,
      "margin": null,
      "max_height": null,
      "max_width": null,
      "min_height": null,
      "min_width": null,
      "object_fit": null,
      "object_position": null,
      "order": null,
      "overflow": null,
      "overflow_x": null,
      "overflow_y": null,
      "padding": null,
      "right": null,
      "top": null,
      "visibility": null,
      "width": null
     }
    },
    "e7e28a21b7284db7bf2a335650226f1d": {
     "model_module": "@jupyter-widgets/base",
     "model_module_version": "1.2.0",
     "model_name": "LayoutModel",
     "state": {
      "_model_module": "@jupyter-widgets/base",
      "_model_module_version": "1.2.0",
      "_model_name": "LayoutModel",
      "_view_count": null,
      "_view_module": "@jupyter-widgets/base",
      "_view_module_version": "1.2.0",
      "_view_name": "LayoutView",
      "align_content": null,
      "align_items": null,
      "align_self": null,
      "border": null,
      "bottom": null,
      "display": null,
      "flex": null,
      "flex_flow": null,
      "grid_area": null,
      "grid_auto_columns": null,
      "grid_auto_flow": null,
      "grid_auto_rows": null,
      "grid_column": null,
      "grid_gap": null,
      "grid_row": null,
      "grid_template_areas": null,
      "grid_template_columns": null,
      "grid_template_rows": null,
      "height": null,
      "justify_content": null,
      "justify_items": null,
      "left": null,
      "margin": null,
      "max_height": null,
      "max_width": null,
      "min_height": null,
      "min_width": null,
      "object_fit": null,
      "object_position": null,
      "order": null,
      "overflow": null,
      "overflow_x": null,
      "overflow_y": null,
      "padding": null,
      "right": null,
      "top": null,
      "visibility": null,
      "width": null
     }
    },
    "e92e302039be4633a027ba89d80eb2af": {
     "model_module": "@jupyter-widgets/controls",
     "model_module_version": "1.5.0",
     "model_name": "HBoxModel",
     "state": {
      "_dom_classes": [],
      "_model_module": "@jupyter-widgets/controls",
      "_model_module_version": "1.5.0",
      "_model_name": "HBoxModel",
      "_view_count": null,
      "_view_module": "@jupyter-widgets/controls",
      "_view_module_version": "1.5.0",
      "_view_name": "HBoxView",
      "box_style": "",
      "children": [
       "IPY_MODEL_2a146b5ba82f4933ac5c46e64f56b65e",
       "IPY_MODEL_47240390476d4a3daa85859d5767354d",
       "IPY_MODEL_3d71de00fd5a4208b2b526211b3329d8"
      ],
      "layout": "IPY_MODEL_f9899b003a7747ca9bb94443864f3091"
     }
    },
    "eb9fc9d060ea4702b6091892e25514bb": {
     "model_module": "@jupyter-widgets/controls",
     "model_module_version": "1.5.0",
     "model_name": "ProgressStyleModel",
     "state": {
      "_model_module": "@jupyter-widgets/controls",
      "_model_module_version": "1.5.0",
      "_model_name": "ProgressStyleModel",
      "_view_count": null,
      "_view_module": "@jupyter-widgets/base",
      "_view_module_version": "1.2.0",
      "_view_name": "StyleView",
      "bar_color": null,
      "description_width": ""
     }
    },
    "edbdedd3e19848b0b550a046f333bea6": {
     "model_module": "@jupyter-widgets/controls",
     "model_module_version": "1.5.0",
     "model_name": "HBoxModel",
     "state": {
      "_dom_classes": [],
      "_model_module": "@jupyter-widgets/controls",
      "_model_module_version": "1.5.0",
      "_model_name": "HBoxModel",
      "_view_count": null,
      "_view_module": "@jupyter-widgets/controls",
      "_view_module_version": "1.5.0",
      "_view_name": "HBoxView",
      "box_style": "",
      "children": [
       "IPY_MODEL_9c9d3052536947fdbcc7cdd4a032d7ec",
       "IPY_MODEL_c9c9ed1fdc7943c5a4e5a30af117bc70",
       "IPY_MODEL_57c01e512f6040cc91ca05706c913466"
      ],
      "layout": "IPY_MODEL_038427e60d1245bdae0470abfc4750ce"
     }
    },
    "eeea5818b2e346149967a22b580bd410": {
     "model_module": "@jupyter-widgets/controls",
     "model_module_version": "1.5.0",
     "model_name": "DescriptionStyleModel",
     "state": {
      "_model_module": "@jupyter-widgets/controls",
      "_model_module_version": "1.5.0",
      "_model_name": "DescriptionStyleModel",
      "_view_count": null,
      "_view_module": "@jupyter-widgets/base",
      "_view_module_version": "1.2.0",
      "_view_name": "StyleView",
      "description_width": ""
     }
    },
    "eeee9950e076451197295cbbbd78756d": {
     "model_module": "@jupyter-widgets/controls",
     "model_module_version": "1.5.0",
     "model_name": "DescriptionStyleModel",
     "state": {
      "_model_module": "@jupyter-widgets/controls",
      "_model_module_version": "1.5.0",
      "_model_name": "DescriptionStyleModel",
      "_view_count": null,
      "_view_module": "@jupyter-widgets/base",
      "_view_module_version": "1.2.0",
      "_view_name": "StyleView",
      "description_width": ""
     }
    },
    "f475bba13d9540a7b0b6982795ded3b5": {
     "model_module": "@jupyter-widgets/controls",
     "model_module_version": "1.5.0",
     "model_name": "DescriptionStyleModel",
     "state": {
      "_model_module": "@jupyter-widgets/controls",
      "_model_module_version": "1.5.0",
      "_model_name": "DescriptionStyleModel",
      "_view_count": null,
      "_view_module": "@jupyter-widgets/base",
      "_view_module_version": "1.2.0",
      "_view_name": "StyleView",
      "description_width": ""
     }
    },
    "f9899b003a7747ca9bb94443864f3091": {
     "model_module": "@jupyter-widgets/base",
     "model_module_version": "1.2.0",
     "model_name": "LayoutModel",
     "state": {
      "_model_module": "@jupyter-widgets/base",
      "_model_module_version": "1.2.0",
      "_model_name": "LayoutModel",
      "_view_count": null,
      "_view_module": "@jupyter-widgets/base",
      "_view_module_version": "1.2.0",
      "_view_name": "LayoutView",
      "align_content": null,
      "align_items": null,
      "align_self": null,
      "border": null,
      "bottom": null,
      "display": null,
      "flex": null,
      "flex_flow": null,
      "grid_area": null,
      "grid_auto_columns": null,
      "grid_auto_flow": null,
      "grid_auto_rows": null,
      "grid_column": null,
      "grid_gap": null,
      "grid_row": null,
      "grid_template_areas": null,
      "grid_template_columns": null,
      "grid_template_rows": null,
      "height": null,
      "justify_content": null,
      "justify_items": null,
      "left": null,
      "margin": null,
      "max_height": null,
      "max_width": null,
      "min_height": null,
      "min_width": null,
      "object_fit": null,
      "object_position": null,
      "order": null,
      "overflow": null,
      "overflow_x": null,
      "overflow_y": null,
      "padding": null,
      "right": null,
      "top": null,
      "visibility": null,
      "width": null
     }
    },
    "fae451cd32ea49df860163291d527c05": {
     "model_module": "@jupyter-widgets/controls",
     "model_module_version": "1.5.0",
     "model_name": "DescriptionStyleModel",
     "state": {
      "_model_module": "@jupyter-widgets/controls",
      "_model_module_version": "1.5.0",
      "_model_name": "DescriptionStyleModel",
      "_view_count": null,
      "_view_module": "@jupyter-widgets/base",
      "_view_module_version": "1.2.0",
      "_view_name": "StyleView",
      "description_width": ""
     }
    },
    "faf345a9a662455095f4b2fbfc4c096c": {
     "model_module": "@jupyter-widgets/base",
     "model_module_version": "1.2.0",
     "model_name": "LayoutModel",
     "state": {
      "_model_module": "@jupyter-widgets/base",
      "_model_module_version": "1.2.0",
      "_model_name": "LayoutModel",
      "_view_count": null,
      "_view_module": "@jupyter-widgets/base",
      "_view_module_version": "1.2.0",
      "_view_name": "LayoutView",
      "align_content": null,
      "align_items": null,
      "align_self": null,
      "border": null,
      "bottom": null,
      "display": null,
      "flex": null,
      "flex_flow": null,
      "grid_area": null,
      "grid_auto_columns": null,
      "grid_auto_flow": null,
      "grid_auto_rows": null,
      "grid_column": null,
      "grid_gap": null,
      "grid_row": null,
      "grid_template_areas": null,
      "grid_template_columns": null,
      "grid_template_rows": null,
      "height": null,
      "justify_content": null,
      "justify_items": null,
      "left": null,
      "margin": null,
      "max_height": null,
      "max_width": null,
      "min_height": null,
      "min_width": null,
      "object_fit": null,
      "object_position": null,
      "order": null,
      "overflow": null,
      "overflow_x": null,
      "overflow_y": null,
      "padding": null,
      "right": null,
      "top": null,
      "visibility": null,
      "width": null
     }
    }
   }
  }
 },
 "nbformat": 4,
 "nbformat_minor": 4
}
